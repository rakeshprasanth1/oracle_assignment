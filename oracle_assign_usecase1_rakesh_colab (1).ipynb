{
  "cells": [
    {
      "cell_type": "code",
      "execution_count": 116,
      "id": "773bde08",
      "metadata": {
        "papermill": {
          "duration": 0.021121,
          "end_time": "2023-03-06T14:36:00.617909",
          "exception": false,
          "start_time": "2023-03-06T14:36:00.596788",
          "status": "completed"
        },
        "tags": [],
        "id": "773bde08"
      },
      "outputs": [],
      "source": []
    },
    {
      "cell_type": "code",
      "execution_count": 117,
      "id": "8516be09",
      "metadata": {
        "_cell_guid": "b1076dfc-b9ad-4769-8c92-a6c4dae69d19",
        "_uuid": "8f2839f25d086af736a60e9eeb907d3b93b6e0e5",
        "papermill": {
          "duration": 0.025079,
          "end_time": "2023-03-06T14:36:00.667146",
          "exception": false,
          "start_time": "2023-03-06T14:36:00.642067",
          "status": "completed"
        },
        "tags": [],
        "id": "8516be09"
      },
      "outputs": [],
      "source": [
        "# from google.colab import drive\n",
        "# drive.mount('/content/drive')"
      ]
    },
    {
      "cell_type": "code",
      "execution_count": 118,
      "id": "68f91409",
      "metadata": {
        "execution": {
          "iopub.execute_input": "2023-03-06T14:36:00.709745Z",
          "iopub.status.busy": "2023-03-06T14:36:00.709076Z",
          "iopub.status.idle": "2023-03-06T14:36:02.567611Z",
          "shell.execute_reply": "2023-03-06T14:36:02.566423Z"
        },
        "papermill": {
          "duration": 1.88359,
          "end_time": "2023-03-06T14:36:02.570798",
          "exception": false,
          "start_time": "2023-03-06T14:36:00.687208",
          "status": "completed"
        },
        "tags": [],
        "id": "68f91409"
      },
      "outputs": [],
      "source": [
        "# Pandas and numpy for data manipulation\n",
        "import pandas as pd\n",
        "import numpy as np\n",
        "\n",
        "# No warnings about setting value on copy of slice\n",
        "pd.options.mode.chained_assignment = None\n",
        "\n",
        "# Matplotlib and seaborn for visualization\n",
        "import matplotlib.pyplot as plt\n",
        "%matplotlib inline\n",
        "\n",
        "from IPython.core.pylabtools import figsize\n",
        "\n",
        "import seaborn as sns\n",
        "\n",
        "pd.set_option('display.max_columns', 60)\n",
        "\n",
        "# Imputing missing values\n",
        "from sklearn.impute import SimpleImputer\n",
        "\n",
        "# Machine Learning Models\n",
        "from sklearn.linear_model import LinearRegression\n",
        "from sklearn.ensemble import RandomForestRegressor\n",
        "from sklearn.ensemble import RandomForestClassifier\n",
        "\n",
        "# Evaluating Models\n",
        "from sklearn.model_selection import train_test_split\n",
        "from sklearn.metrics import f1_score, confusion_matrix, mean_absolute_error\n",
        "\n",
        "import itertools"
      ]
    },
    {
      "cell_type": "code",
      "execution_count": 119,
      "id": "72903eaa",
      "metadata": {
        "execution": {
          "iopub.execute_input": "2023-03-06T14:36:02.612571Z",
          "iopub.status.busy": "2023-03-06T14:36:02.612157Z",
          "iopub.status.idle": "2023-03-06T14:36:02.616964Z",
          "shell.execute_reply": "2023-03-06T14:36:02.616019Z"
        },
        "papermill": {
          "duration": 0.029031,
          "end_time": "2023-03-06T14:36:02.619475",
          "exception": false,
          "start_time": "2023-03-06T14:36:02.590444",
          "status": "completed"
        },
        "tags": [],
        "id": "72903eaa"
      },
      "outputs": [],
      "source": [
        "# pd.set_option('display.max_rows', 500)\n",
        "# pd.set_option('display.max_columns', 500)"
      ]
    },
    {
      "cell_type": "code",
      "execution_count": 120,
      "id": "e81151fe",
      "metadata": {
        "execution": {
          "iopub.execute_input": "2023-03-06T14:36:02.662213Z",
          "iopub.status.busy": "2023-03-06T14:36:02.661564Z",
          "iopub.status.idle": "2023-03-06T14:36:02.759014Z",
          "shell.execute_reply": "2023-03-06T14:36:02.757712Z"
        },
        "papermill": {
          "duration": 0.121524,
          "end_time": "2023-03-06T14:36:02.761238",
          "exception": true,
          "start_time": "2023-03-06T14:36:02.639714",
          "status": "failed"
        },
        "tags": [],
        "id": "e81151fe"
      },
      "outputs": [],
      "source": [
        "data_df= pd.read_csv('/content/drive/MyDrive/Auto_positioning/Usecase1_Energy_Star_Score_Dataset.csv')"
      ]
    },
    {
      "cell_type": "code",
      "source": [],
      "metadata": {
        "id": "6OWqQlFZyJM-"
      },
      "id": "6OWqQlFZyJM-",
      "execution_count": 120,
      "outputs": []
    },
    {
      "cell_type": "code",
      "source": [],
      "metadata": {
        "id": "vgZQa_NAZmQi"
      },
      "id": "vgZQa_NAZmQi",
      "execution_count": 120,
      "outputs": []
    },
    {
      "cell_type": "code",
      "execution_count": 121,
      "id": "2dd5c973",
      "metadata": {
        "execution": {
          "iopub.execute_input": "2023-03-06T14:07:56.745644Z",
          "iopub.status.busy": "2023-03-06T14:07:56.744918Z",
          "iopub.status.idle": "2023-03-06T14:07:56.758165Z",
          "shell.execute_reply": "2023-03-06T14:07:56.756536Z",
          "shell.execute_reply.started": "2023-03-06T14:07:56.745579Z"
        },
        "papermill": {
          "duration": null,
          "end_time": null,
          "exception": null,
          "start_time": null,
          "status": "pending"
        },
        "tags": [],
        "id": "2dd5c973",
        "colab": {
          "base_uri": "https://localhost:8080/"
        },
        "outputId": "a11e81bf-5d01-48ba-eee7-e0403f8a3dff"
      },
      "outputs": [
        {
          "output_type": "execute_result",
          "data": {
            "text/plain": [
              "(11746, 60)"
            ]
          },
          "metadata": {},
          "execution_count": 121
        }
      ],
      "source": [
        "data_df.shape"
      ]
    },
    {
      "cell_type": "code",
      "execution_count": 121,
      "id": "0b23e19d",
      "metadata": {
        "papermill": {
          "duration": null,
          "end_time": null,
          "exception": null,
          "start_time": null,
          "status": "pending"
        },
        "tags": [],
        "id": "0b23e19d"
      },
      "outputs": [],
      "source": []
    },
    {
      "cell_type": "code",
      "execution_count": 122,
      "id": "a0887544",
      "metadata": {
        "execution": {
          "iopub.execute_input": "2023-03-06T14:07:56.760449Z",
          "iopub.status.busy": "2023-03-06T14:07:56.759692Z",
          "iopub.status.idle": "2023-03-06T14:07:56.826810Z",
          "shell.execute_reply": "2023-03-06T14:07:56.824864Z",
          "shell.execute_reply.started": "2023-03-06T14:07:56.760329Z"
        },
        "papermill": {
          "duration": null,
          "end_time": null,
          "exception": null,
          "start_time": null,
          "status": "pending"
        },
        "tags": [],
        "id": "a0887544",
        "colab": {
          "base_uri": "https://localhost:8080/",
          "height": 652
        },
        "outputId": "a0df2eb6-e00d-40e4-bb20-37dc320bd205"
      },
      "outputs": [
        {
          "output_type": "execute_result",
          "data": {
            "text/plain": [
              "   Order  Property Id                                 Property Name  \\\n",
              "0      1        13286                                       201/205   \n",
              "1      2        28400                    NYP Columbia (West Campus)   \n",
              "2      3      4778226                                 MSCHoNY North   \n",
              "3      4      4778267  Herbert Irving Pavilion & Millstein Hospital   \n",
              "4      5      4778288                               Neuro Institute   \n",
              "\n",
              "  Parent Property Id        Parent Property Name BBL - 10 digits  \\\n",
              "0              13286                     201/205      1013160001   \n",
              "1              28400  NYP Columbia (West Campus)      1021380040   \n",
              "2              28400  NYP Columbia (West Campus)      1021380030   \n",
              "3              28400  NYP Columbia (West Campus)      1021390001   \n",
              "4              28400  NYP Columbia (West Campus)      1021390085   \n",
              "\n",
              "  NYC Borough, Block and Lot (BBL) self-reported  \\\n",
              "0                                     1013160001   \n",
              "1                                   1-02138-0040   \n",
              "2                                   1-02138-0030   \n",
              "3                                   1-02139-0001   \n",
              "4                                   1-02139-0085   \n",
              "\n",
              "            NYC Building Identification Number (BIN)  \\\n",
              "0                                            1037549   \n",
              "1  1084198; 1084387;1084385; 1084386; 1084388; 10...   \n",
              "2                                            1063380   \n",
              "3                                   1087281; 1076746   \n",
              "4                                            1063403   \n",
              "\n",
              "  Address 1 (self-reported)                Address 2 Postal Code  \\\n",
              "0  201/205  East  42nd  st.            Not Available       10017   \n",
              "1          622 168th Street            Not Available       10032   \n",
              "2             3975 Broadway            Not Available       10032   \n",
              "3   161 Fort Washington Ave  177 Fort Washington Ave       10032   \n",
              "4     710 West 168th Street            Not Available       10032   \n",
              "\n",
              "  Street Number           Street Name    Borough  DOF Gross Floor Area  \\\n",
              "0           675              3 AVENUE  Manhattan              289356.0   \n",
              "1           180  FT WASHINGTON AVENUE  Manhattan             3693539.0   \n",
              "2          3975              BROADWAY  Manhattan              152765.0   \n",
              "3           161  FT WASHINGTON AVENUE  Manhattan              891040.0   \n",
              "4           193  FT WASHINGTON AVENUE  Manhattan              211400.0   \n",
              "\n",
              "   Primary Property Type - Self Selected  \\\n",
              "0                                 Office   \n",
              "1  Hospital (General Medical & Surgical)   \n",
              "2  Hospital (General Medical & Surgical)   \n",
              "3  Hospital (General Medical & Surgical)   \n",
              "4  Hospital (General Medical & Surgical)   \n",
              "\n",
              "  List of All Property Use Types at Property  \\\n",
              "0                                     Office   \n",
              "1      Hospital (General Medical & Surgical)   \n",
              "2      Hospital (General Medical & Surgical)   \n",
              "3      Hospital (General Medical & Surgical)   \n",
              "4      Hospital (General Medical & Surgical)   \n",
              "\n",
              "               Largest Property Use Type  \\\n",
              "0                                 Office   \n",
              "1  Hospital (General Medical & Surgical)   \n",
              "2  Hospital (General Medical & Surgical)   \n",
              "3  Hospital (General Medical & Surgical)   \n",
              "4  Hospital (General Medical & Surgical)   \n",
              "\n",
              "  Largest Property Use Type - Gross Floor Area (ft²)  \\\n",
              "0                                             293447   \n",
              "1                                            3889181   \n",
              "2                                             231342   \n",
              "3                                            1305748   \n",
              "4                                             179694   \n",
              "\n",
              "  2nd Largest Property Use Type  \\\n",
              "0                 Not Available   \n",
              "1                 Not Available   \n",
              "2                 Not Available   \n",
              "3                 Not Available   \n",
              "4                 Not Available   \n",
              "\n",
              "  2nd Largest Property Use - Gross Floor Area (ft²)  \\\n",
              "0                                     Not Available   \n",
              "1                                     Not Available   \n",
              "2                                     Not Available   \n",
              "3                                     Not Available   \n",
              "4                                     Not Available   \n",
              "\n",
              "  3rd Largest Property Use Type  \\\n",
              "0                 Not Available   \n",
              "1                 Not Available   \n",
              "2                 Not Available   \n",
              "3                 Not Available   \n",
              "4                 Not Available   \n",
              "\n",
              "  3rd Largest Property Use Type - Gross Floor Area (ft²)  Year Built  \\\n",
              "0                                      Not Available            1963   \n",
              "1                                      Not Available            1969   \n",
              "2                                      Not Available            1924   \n",
              "3                                      Not Available            1971   \n",
              "4                                      Not Available            1932   \n",
              "\n",
              "   Number of Buildings - Self-reported  Occupancy Metered Areas (Energy)  \\\n",
              "0                                    2        100         Whole Building   \n",
              "1                                   12        100         Whole Building   \n",
              "2                                    1        100          Not Available   \n",
              "3                                    1        100          Not Available   \n",
              "4                                    1        100          Not Available   \n",
              "\n",
              "  Metered Areas  (Water) ENERGY STAR Score Site EUI (kBtu/ft²)  \\\n",
              "0          Not Available     Not Available               305.6   \n",
              "1         Whole Building                55               229.8   \n",
              "2          Not Available     Not Available       Not Available   \n",
              "3          Not Available     Not Available       Not Available   \n",
              "4          Not Available     Not Available       Not Available   \n",
              "\n",
              "  Weather Normalized Site EUI (kBtu/ft²)  \\\n",
              "0                                  303.1   \n",
              "1                                  228.8   \n",
              "2                          Not Available   \n",
              "3                          Not Available   \n",
              "4                          Not Available   \n",
              "\n",
              "  Weather Normalized Site Electricity Intensity (kWh/ft²)  \\\n",
              "0                                               37.8        \n",
              "1                                               24.8        \n",
              "2                                      Not Available        \n",
              "3                                      Not Available        \n",
              "4                                      Not Available        \n",
              "\n",
              "  Weather Normalized Site Natural Gas Intensity (therms/ft²)  \\\n",
              "0                                      Not Available           \n",
              "1                                                2.4           \n",
              "2                                      Not Available           \n",
              "3                                      Not Available           \n",
              "4                                      Not Available           \n",
              "\n",
              "  Weather Normalized Source EUI (kBtu/ft²) Fuel Oil #1 Use (kBtu)  \\\n",
              "0                                    614.2          Not Available   \n",
              "1                                    401.1          Not Available   \n",
              "2                            Not Available          Not Available   \n",
              "3                            Not Available          Not Available   \n",
              "4                            Not Available          Not Available   \n",
              "\n",
              "  Fuel Oil #2 Use (kBtu) Fuel Oil #4 Use (kBtu) Fuel Oil #5 & 6 Use (kBtu)  \\\n",
              "0          Not Available          Not Available              Not Available   \n",
              "1           1.96248472E7          Not Available              Not Available   \n",
              "2          Not Available          Not Available              Not Available   \n",
              "3          Not Available          Not Available              Not Available   \n",
              "4          Not Available          Not Available              Not Available   \n",
              "\n",
              "  Diesel #2 Use (kBtu) District Steam Use (kBtu) Natural Gas Use (kBtu)  \\\n",
              "0        Not Available              5.15506751E7          Not Available   \n",
              "1        Not Available            -3.914148026E8              933073441   \n",
              "2        Not Available             Not Available          Not Available   \n",
              "3        Not Available             Not Available          Not Available   \n",
              "4        Not Available             Not Available          Not Available   \n",
              "\n",
              "  Weather Normalized Site Natural Gas Use (therms)  \\\n",
              "0                                    Not Available   \n",
              "1                                        9330734.4   \n",
              "2                                    Not Available   \n",
              "3                                    Not Available   \n",
              "4                                    Not Available   \n",
              "\n",
              "  Electricity Use - Grid Purchase (kBtu)  \\\n",
              "0                             38139374.2   \n",
              "1                              332365924   \n",
              "2                          Not Available   \n",
              "3                          Not Available   \n",
              "4                          Not Available   \n",
              "\n",
              "  Weather Normalized Site Electricity (kWh)  \\\n",
              "0                              1.10827705E7   \n",
              "1                              9.62613121E7   \n",
              "2                             Not Available   \n",
              "3                             Not Available   \n",
              "4                             Not Available   \n",
              "\n",
              "  Total GHG Emissions (Metric Tons CO2e)  \\\n",
              "0                                 6962.2   \n",
              "1                                55870.4   \n",
              "2                                      0   \n",
              "3                                      0   \n",
              "4                                      0   \n",
              "\n",
              "  Direct GHG Emissions (Metric Tons CO2e)  \\\n",
              "0                                       0   \n",
              "1                                 51016.4   \n",
              "2                                       0   \n",
              "3                                       0   \n",
              "4                                       0   \n",
              "\n",
              "  Indirect GHG Emissions (Metric Tons CO2e)  \\\n",
              "0                                    6962.2   \n",
              "1                                    4854.1   \n",
              "2                                         0   \n",
              "3                                         0   \n",
              "4                                         0   \n",
              "\n",
              "   Property GFA - Self-Reported (ft²) Water Use (All Water Sources) (kgal)  \\\n",
              "0                              762051                        Not Available   \n",
              "1                             3889181                        Not Available   \n",
              "2                              231342                        Not Available   \n",
              "3                             1305748                        Not Available   \n",
              "4                              179694                        Not Available   \n",
              "\n",
              "  Water Intensity (All Water Sources) (gal/ft²) Source EUI (kBtu/ft²)  \\\n",
              "0                                 Not Available                 619.4   \n",
              "1                                 Not Available                 404.3   \n",
              "2                                 Not Available         Not Available   \n",
              "3                                 Not Available         Not Available   \n",
              "4                                 Not Available         Not Available   \n",
              "\n",
              "             Release Date Water Required? DOF Benchmarking Submission Status  \\\n",
              "0  05/01/2017 05:32:03 PM              No                      In Compliance   \n",
              "1  04/27/2017 11:23:27 AM              No                      In Compliance   \n",
              "2  04/27/2017 11:23:27 AM              No                      In Compliance   \n",
              "3  04/27/2017 11:23:27 AM              No                      In Compliance   \n",
              "4  04/27/2017 11:23:27 AM              No                      In Compliance   \n",
              "\n",
              "    Latitude  Longitude  Community Board  Council District  Census Tract  \\\n",
              "0  40.750791 -73.973963              6.0               4.0          88.0   \n",
              "1  40.841402 -73.942568             12.0              10.0         251.0   \n",
              "2  40.840427 -73.940249             12.0              10.0         251.0   \n",
              "3  40.840746 -73.942854             12.0              10.0         255.0   \n",
              "4  40.841559 -73.942528             12.0              10.0         255.0   \n",
              "\n",
              "                                                 NTA  \n",
              "0  Turtle Bay-East Midtown                       ...  \n",
              "1  Washington Heights South                      ...  \n",
              "2  Washington Heights South                      ...  \n",
              "3  Washington Heights South                      ...  \n",
              "4  Washington Heights South                      ...  "
            ],
            "text/html": [
              "\n",
              "  <div id=\"df-6a7ecdf0-dbc5-49aa-af9d-f97c88f9e37e\">\n",
              "    <div class=\"colab-df-container\">\n",
              "      <div>\n",
              "<style scoped>\n",
              "    .dataframe tbody tr th:only-of-type {\n",
              "        vertical-align: middle;\n",
              "    }\n",
              "\n",
              "    .dataframe tbody tr th {\n",
              "        vertical-align: top;\n",
              "    }\n",
              "\n",
              "    .dataframe thead th {\n",
              "        text-align: right;\n",
              "    }\n",
              "</style>\n",
              "<table border=\"1\" class=\"dataframe\">\n",
              "  <thead>\n",
              "    <tr style=\"text-align: right;\">\n",
              "      <th></th>\n",
              "      <th>Order</th>\n",
              "      <th>Property Id</th>\n",
              "      <th>Property Name</th>\n",
              "      <th>Parent Property Id</th>\n",
              "      <th>Parent Property Name</th>\n",
              "      <th>BBL - 10 digits</th>\n",
              "      <th>NYC Borough, Block and Lot (BBL) self-reported</th>\n",
              "      <th>NYC Building Identification Number (BIN)</th>\n",
              "      <th>Address 1 (self-reported)</th>\n",
              "      <th>Address 2</th>\n",
              "      <th>Postal Code</th>\n",
              "      <th>Street Number</th>\n",
              "      <th>Street Name</th>\n",
              "      <th>Borough</th>\n",
              "      <th>DOF Gross Floor Area</th>\n",
              "      <th>Primary Property Type - Self Selected</th>\n",
              "      <th>List of All Property Use Types at Property</th>\n",
              "      <th>Largest Property Use Type</th>\n",
              "      <th>Largest Property Use Type - Gross Floor Area (ft²)</th>\n",
              "      <th>2nd Largest Property Use Type</th>\n",
              "      <th>2nd Largest Property Use - Gross Floor Area (ft²)</th>\n",
              "      <th>3rd Largest Property Use Type</th>\n",
              "      <th>3rd Largest Property Use Type - Gross Floor Area (ft²)</th>\n",
              "      <th>Year Built</th>\n",
              "      <th>Number of Buildings - Self-reported</th>\n",
              "      <th>Occupancy</th>\n",
              "      <th>Metered Areas (Energy)</th>\n",
              "      <th>Metered Areas  (Water)</th>\n",
              "      <th>ENERGY STAR Score</th>\n",
              "      <th>Site EUI (kBtu/ft²)</th>\n",
              "      <th>Weather Normalized Site EUI (kBtu/ft²)</th>\n",
              "      <th>Weather Normalized Site Electricity Intensity (kWh/ft²)</th>\n",
              "      <th>Weather Normalized Site Natural Gas Intensity (therms/ft²)</th>\n",
              "      <th>Weather Normalized Source EUI (kBtu/ft²)</th>\n",
              "      <th>Fuel Oil #1 Use (kBtu)</th>\n",
              "      <th>Fuel Oil #2 Use (kBtu)</th>\n",
              "      <th>Fuel Oil #4 Use (kBtu)</th>\n",
              "      <th>Fuel Oil #5 &amp; 6 Use (kBtu)</th>\n",
              "      <th>Diesel #2 Use (kBtu)</th>\n",
              "      <th>District Steam Use (kBtu)</th>\n",
              "      <th>Natural Gas Use (kBtu)</th>\n",
              "      <th>Weather Normalized Site Natural Gas Use (therms)</th>\n",
              "      <th>Electricity Use - Grid Purchase (kBtu)</th>\n",
              "      <th>Weather Normalized Site Electricity (kWh)</th>\n",
              "      <th>Total GHG Emissions (Metric Tons CO2e)</th>\n",
              "      <th>Direct GHG Emissions (Metric Tons CO2e)</th>\n",
              "      <th>Indirect GHG Emissions (Metric Tons CO2e)</th>\n",
              "      <th>Property GFA - Self-Reported (ft²)</th>\n",
              "      <th>Water Use (All Water Sources) (kgal)</th>\n",
              "      <th>Water Intensity (All Water Sources) (gal/ft²)</th>\n",
              "      <th>Source EUI (kBtu/ft²)</th>\n",
              "      <th>Release Date</th>\n",
              "      <th>Water Required?</th>\n",
              "      <th>DOF Benchmarking Submission Status</th>\n",
              "      <th>Latitude</th>\n",
              "      <th>Longitude</th>\n",
              "      <th>Community Board</th>\n",
              "      <th>Council District</th>\n",
              "      <th>Census Tract</th>\n",
              "      <th>NTA</th>\n",
              "    </tr>\n",
              "  </thead>\n",
              "  <tbody>\n",
              "    <tr>\n",
              "      <th>0</th>\n",
              "      <td>1</td>\n",
              "      <td>13286</td>\n",
              "      <td>201/205</td>\n",
              "      <td>13286</td>\n",
              "      <td>201/205</td>\n",
              "      <td>1013160001</td>\n",
              "      <td>1013160001</td>\n",
              "      <td>1037549</td>\n",
              "      <td>201/205  East  42nd  st.</td>\n",
              "      <td>Not Available</td>\n",
              "      <td>10017</td>\n",
              "      <td>675</td>\n",
              "      <td>3 AVENUE</td>\n",
              "      <td>Manhattan</td>\n",
              "      <td>289356.0</td>\n",
              "      <td>Office</td>\n",
              "      <td>Office</td>\n",
              "      <td>Office</td>\n",
              "      <td>293447</td>\n",
              "      <td>Not Available</td>\n",
              "      <td>Not Available</td>\n",
              "      <td>Not Available</td>\n",
              "      <td>Not Available</td>\n",
              "      <td>1963</td>\n",
              "      <td>2</td>\n",
              "      <td>100</td>\n",
              "      <td>Whole Building</td>\n",
              "      <td>Not Available</td>\n",
              "      <td>Not Available</td>\n",
              "      <td>305.6</td>\n",
              "      <td>303.1</td>\n",
              "      <td>37.8</td>\n",
              "      <td>Not Available</td>\n",
              "      <td>614.2</td>\n",
              "      <td>Not Available</td>\n",
              "      <td>Not Available</td>\n",
              "      <td>Not Available</td>\n",
              "      <td>Not Available</td>\n",
              "      <td>Not Available</td>\n",
              "      <td>5.15506751E7</td>\n",
              "      <td>Not Available</td>\n",
              "      <td>Not Available</td>\n",
              "      <td>38139374.2</td>\n",
              "      <td>1.10827705E7</td>\n",
              "      <td>6962.2</td>\n",
              "      <td>0</td>\n",
              "      <td>6962.2</td>\n",
              "      <td>762051</td>\n",
              "      <td>Not Available</td>\n",
              "      <td>Not Available</td>\n",
              "      <td>619.4</td>\n",
              "      <td>05/01/2017 05:32:03 PM</td>\n",
              "      <td>No</td>\n",
              "      <td>In Compliance</td>\n",
              "      <td>40.750791</td>\n",
              "      <td>-73.973963</td>\n",
              "      <td>6.0</td>\n",
              "      <td>4.0</td>\n",
              "      <td>88.0</td>\n",
              "      <td>Turtle Bay-East Midtown                       ...</td>\n",
              "    </tr>\n",
              "    <tr>\n",
              "      <th>1</th>\n",
              "      <td>2</td>\n",
              "      <td>28400</td>\n",
              "      <td>NYP Columbia (West Campus)</td>\n",
              "      <td>28400</td>\n",
              "      <td>NYP Columbia (West Campus)</td>\n",
              "      <td>1021380040</td>\n",
              "      <td>1-02138-0040</td>\n",
              "      <td>1084198; 1084387;1084385; 1084386; 1084388; 10...</td>\n",
              "      <td>622 168th Street</td>\n",
              "      <td>Not Available</td>\n",
              "      <td>10032</td>\n",
              "      <td>180</td>\n",
              "      <td>FT WASHINGTON AVENUE</td>\n",
              "      <td>Manhattan</td>\n",
              "      <td>3693539.0</td>\n",
              "      <td>Hospital (General Medical &amp; Surgical)</td>\n",
              "      <td>Hospital (General Medical &amp; Surgical)</td>\n",
              "      <td>Hospital (General Medical &amp; Surgical)</td>\n",
              "      <td>3889181</td>\n",
              "      <td>Not Available</td>\n",
              "      <td>Not Available</td>\n",
              "      <td>Not Available</td>\n",
              "      <td>Not Available</td>\n",
              "      <td>1969</td>\n",
              "      <td>12</td>\n",
              "      <td>100</td>\n",
              "      <td>Whole Building</td>\n",
              "      <td>Whole Building</td>\n",
              "      <td>55</td>\n",
              "      <td>229.8</td>\n",
              "      <td>228.8</td>\n",
              "      <td>24.8</td>\n",
              "      <td>2.4</td>\n",
              "      <td>401.1</td>\n",
              "      <td>Not Available</td>\n",
              "      <td>1.96248472E7</td>\n",
              "      <td>Not Available</td>\n",
              "      <td>Not Available</td>\n",
              "      <td>Not Available</td>\n",
              "      <td>-3.914148026E8</td>\n",
              "      <td>933073441</td>\n",
              "      <td>9330734.4</td>\n",
              "      <td>332365924</td>\n",
              "      <td>9.62613121E7</td>\n",
              "      <td>55870.4</td>\n",
              "      <td>51016.4</td>\n",
              "      <td>4854.1</td>\n",
              "      <td>3889181</td>\n",
              "      <td>Not Available</td>\n",
              "      <td>Not Available</td>\n",
              "      <td>404.3</td>\n",
              "      <td>04/27/2017 11:23:27 AM</td>\n",
              "      <td>No</td>\n",
              "      <td>In Compliance</td>\n",
              "      <td>40.841402</td>\n",
              "      <td>-73.942568</td>\n",
              "      <td>12.0</td>\n",
              "      <td>10.0</td>\n",
              "      <td>251.0</td>\n",
              "      <td>Washington Heights South                      ...</td>\n",
              "    </tr>\n",
              "    <tr>\n",
              "      <th>2</th>\n",
              "      <td>3</td>\n",
              "      <td>4778226</td>\n",
              "      <td>MSCHoNY North</td>\n",
              "      <td>28400</td>\n",
              "      <td>NYP Columbia (West Campus)</td>\n",
              "      <td>1021380030</td>\n",
              "      <td>1-02138-0030</td>\n",
              "      <td>1063380</td>\n",
              "      <td>3975 Broadway</td>\n",
              "      <td>Not Available</td>\n",
              "      <td>10032</td>\n",
              "      <td>3975</td>\n",
              "      <td>BROADWAY</td>\n",
              "      <td>Manhattan</td>\n",
              "      <td>152765.0</td>\n",
              "      <td>Hospital (General Medical &amp; Surgical)</td>\n",
              "      <td>Hospital (General Medical &amp; Surgical)</td>\n",
              "      <td>Hospital (General Medical &amp; Surgical)</td>\n",
              "      <td>231342</td>\n",
              "      <td>Not Available</td>\n",
              "      <td>Not Available</td>\n",
              "      <td>Not Available</td>\n",
              "      <td>Not Available</td>\n",
              "      <td>1924</td>\n",
              "      <td>1</td>\n",
              "      <td>100</td>\n",
              "      <td>Not Available</td>\n",
              "      <td>Not Available</td>\n",
              "      <td>Not Available</td>\n",
              "      <td>Not Available</td>\n",
              "      <td>Not Available</td>\n",
              "      <td>Not Available</td>\n",
              "      <td>Not Available</td>\n",
              "      <td>Not Available</td>\n",
              "      <td>Not Available</td>\n",
              "      <td>Not Available</td>\n",
              "      <td>Not Available</td>\n",
              "      <td>Not Available</td>\n",
              "      <td>Not Available</td>\n",
              "      <td>Not Available</td>\n",
              "      <td>Not Available</td>\n",
              "      <td>Not Available</td>\n",
              "      <td>Not Available</td>\n",
              "      <td>Not Available</td>\n",
              "      <td>0</td>\n",
              "      <td>0</td>\n",
              "      <td>0</td>\n",
              "      <td>231342</td>\n",
              "      <td>Not Available</td>\n",
              "      <td>Not Available</td>\n",
              "      <td>Not Available</td>\n",
              "      <td>04/27/2017 11:23:27 AM</td>\n",
              "      <td>No</td>\n",
              "      <td>In Compliance</td>\n",
              "      <td>40.840427</td>\n",
              "      <td>-73.940249</td>\n",
              "      <td>12.0</td>\n",
              "      <td>10.0</td>\n",
              "      <td>251.0</td>\n",
              "      <td>Washington Heights South                      ...</td>\n",
              "    </tr>\n",
              "    <tr>\n",
              "      <th>3</th>\n",
              "      <td>4</td>\n",
              "      <td>4778267</td>\n",
              "      <td>Herbert Irving Pavilion &amp; Millstein Hospital</td>\n",
              "      <td>28400</td>\n",
              "      <td>NYP Columbia (West Campus)</td>\n",
              "      <td>1021390001</td>\n",
              "      <td>1-02139-0001</td>\n",
              "      <td>1087281; 1076746</td>\n",
              "      <td>161 Fort Washington Ave</td>\n",
              "      <td>177 Fort Washington Ave</td>\n",
              "      <td>10032</td>\n",
              "      <td>161</td>\n",
              "      <td>FT WASHINGTON AVENUE</td>\n",
              "      <td>Manhattan</td>\n",
              "      <td>891040.0</td>\n",
              "      <td>Hospital (General Medical &amp; Surgical)</td>\n",
              "      <td>Hospital (General Medical &amp; Surgical)</td>\n",
              "      <td>Hospital (General Medical &amp; Surgical)</td>\n",
              "      <td>1305748</td>\n",
              "      <td>Not Available</td>\n",
              "      <td>Not Available</td>\n",
              "      <td>Not Available</td>\n",
              "      <td>Not Available</td>\n",
              "      <td>1971</td>\n",
              "      <td>1</td>\n",
              "      <td>100</td>\n",
              "      <td>Not Available</td>\n",
              "      <td>Not Available</td>\n",
              "      <td>Not Available</td>\n",
              "      <td>Not Available</td>\n",
              "      <td>Not Available</td>\n",
              "      <td>Not Available</td>\n",
              "      <td>Not Available</td>\n",
              "      <td>Not Available</td>\n",
              "      <td>Not Available</td>\n",
              "      <td>Not Available</td>\n",
              "      <td>Not Available</td>\n",
              "      <td>Not Available</td>\n",
              "      <td>Not Available</td>\n",
              "      <td>Not Available</td>\n",
              "      <td>Not Available</td>\n",
              "      <td>Not Available</td>\n",
              "      <td>Not Available</td>\n",
              "      <td>Not Available</td>\n",
              "      <td>0</td>\n",
              "      <td>0</td>\n",
              "      <td>0</td>\n",
              "      <td>1305748</td>\n",
              "      <td>Not Available</td>\n",
              "      <td>Not Available</td>\n",
              "      <td>Not Available</td>\n",
              "      <td>04/27/2017 11:23:27 AM</td>\n",
              "      <td>No</td>\n",
              "      <td>In Compliance</td>\n",
              "      <td>40.840746</td>\n",
              "      <td>-73.942854</td>\n",
              "      <td>12.0</td>\n",
              "      <td>10.0</td>\n",
              "      <td>255.0</td>\n",
              "      <td>Washington Heights South                      ...</td>\n",
              "    </tr>\n",
              "    <tr>\n",
              "      <th>4</th>\n",
              "      <td>5</td>\n",
              "      <td>4778288</td>\n",
              "      <td>Neuro Institute</td>\n",
              "      <td>28400</td>\n",
              "      <td>NYP Columbia (West Campus)</td>\n",
              "      <td>1021390085</td>\n",
              "      <td>1-02139-0085</td>\n",
              "      <td>1063403</td>\n",
              "      <td>710 West 168th Street</td>\n",
              "      <td>Not Available</td>\n",
              "      <td>10032</td>\n",
              "      <td>193</td>\n",
              "      <td>FT WASHINGTON AVENUE</td>\n",
              "      <td>Manhattan</td>\n",
              "      <td>211400.0</td>\n",
              "      <td>Hospital (General Medical &amp; Surgical)</td>\n",
              "      <td>Hospital (General Medical &amp; Surgical)</td>\n",
              "      <td>Hospital (General Medical &amp; Surgical)</td>\n",
              "      <td>179694</td>\n",
              "      <td>Not Available</td>\n",
              "      <td>Not Available</td>\n",
              "      <td>Not Available</td>\n",
              "      <td>Not Available</td>\n",
              "      <td>1932</td>\n",
              "      <td>1</td>\n",
              "      <td>100</td>\n",
              "      <td>Not Available</td>\n",
              "      <td>Not Available</td>\n",
              "      <td>Not Available</td>\n",
              "      <td>Not Available</td>\n",
              "      <td>Not Available</td>\n",
              "      <td>Not Available</td>\n",
              "      <td>Not Available</td>\n",
              "      <td>Not Available</td>\n",
              "      <td>Not Available</td>\n",
              "      <td>Not Available</td>\n",
              "      <td>Not Available</td>\n",
              "      <td>Not Available</td>\n",
              "      <td>Not Available</td>\n",
              "      <td>Not Available</td>\n",
              "      <td>Not Available</td>\n",
              "      <td>Not Available</td>\n",
              "      <td>Not Available</td>\n",
              "      <td>Not Available</td>\n",
              "      <td>0</td>\n",
              "      <td>0</td>\n",
              "      <td>0</td>\n",
              "      <td>179694</td>\n",
              "      <td>Not Available</td>\n",
              "      <td>Not Available</td>\n",
              "      <td>Not Available</td>\n",
              "      <td>04/27/2017 11:23:27 AM</td>\n",
              "      <td>No</td>\n",
              "      <td>In Compliance</td>\n",
              "      <td>40.841559</td>\n",
              "      <td>-73.942528</td>\n",
              "      <td>12.0</td>\n",
              "      <td>10.0</td>\n",
              "      <td>255.0</td>\n",
              "      <td>Washington Heights South                      ...</td>\n",
              "    </tr>\n",
              "  </tbody>\n",
              "</table>\n",
              "</div>\n",
              "      <button class=\"colab-df-convert\" onclick=\"convertToInteractive('df-6a7ecdf0-dbc5-49aa-af9d-f97c88f9e37e')\"\n",
              "              title=\"Convert this dataframe to an interactive table.\"\n",
              "              style=\"display:none;\">\n",
              "        \n",
              "  <svg xmlns=\"http://www.w3.org/2000/svg\" height=\"24px\"viewBox=\"0 0 24 24\"\n",
              "       width=\"24px\">\n",
              "    <path d=\"M0 0h24v24H0V0z\" fill=\"none\"/>\n",
              "    <path d=\"M18.56 5.44l.94 2.06.94-2.06 2.06-.94-2.06-.94-.94-2.06-.94 2.06-2.06.94zm-11 1L8.5 8.5l.94-2.06 2.06-.94-2.06-.94L8.5 2.5l-.94 2.06-2.06.94zm10 10l.94 2.06.94-2.06 2.06-.94-2.06-.94-.94-2.06-.94 2.06-2.06.94z\"/><path d=\"M17.41 7.96l-1.37-1.37c-.4-.4-.92-.59-1.43-.59-.52 0-1.04.2-1.43.59L10.3 9.45l-7.72 7.72c-.78.78-.78 2.05 0 2.83L4 21.41c.39.39.9.59 1.41.59.51 0 1.02-.2 1.41-.59l7.78-7.78 2.81-2.81c.8-.78.8-2.07 0-2.86zM5.41 20L4 18.59l7.72-7.72 1.47 1.35L5.41 20z\"/>\n",
              "  </svg>\n",
              "      </button>\n",
              "      \n",
              "  <style>\n",
              "    .colab-df-container {\n",
              "      display:flex;\n",
              "      flex-wrap:wrap;\n",
              "      gap: 12px;\n",
              "    }\n",
              "\n",
              "    .colab-df-convert {\n",
              "      background-color: #E8F0FE;\n",
              "      border: none;\n",
              "      border-radius: 50%;\n",
              "      cursor: pointer;\n",
              "      display: none;\n",
              "      fill: #1967D2;\n",
              "      height: 32px;\n",
              "      padding: 0 0 0 0;\n",
              "      width: 32px;\n",
              "    }\n",
              "\n",
              "    .colab-df-convert:hover {\n",
              "      background-color: #E2EBFA;\n",
              "      box-shadow: 0px 1px 2px rgba(60, 64, 67, 0.3), 0px 1px 3px 1px rgba(60, 64, 67, 0.15);\n",
              "      fill: #174EA6;\n",
              "    }\n",
              "\n",
              "    [theme=dark] .colab-df-convert {\n",
              "      background-color: #3B4455;\n",
              "      fill: #D2E3FC;\n",
              "    }\n",
              "\n",
              "    [theme=dark] .colab-df-convert:hover {\n",
              "      background-color: #434B5C;\n",
              "      box-shadow: 0px 1px 3px 1px rgba(0, 0, 0, 0.15);\n",
              "      filter: drop-shadow(0px 1px 2px rgba(0, 0, 0, 0.3));\n",
              "      fill: #FFFFFF;\n",
              "    }\n",
              "  </style>\n",
              "\n",
              "      <script>\n",
              "        const buttonEl =\n",
              "          document.querySelector('#df-6a7ecdf0-dbc5-49aa-af9d-f97c88f9e37e button.colab-df-convert');\n",
              "        buttonEl.style.display =\n",
              "          google.colab.kernel.accessAllowed ? 'block' : 'none';\n",
              "\n",
              "        async function convertToInteractive(key) {\n",
              "          const element = document.querySelector('#df-6a7ecdf0-dbc5-49aa-af9d-f97c88f9e37e');\n",
              "          const dataTable =\n",
              "            await google.colab.kernel.invokeFunction('convertToInteractive',\n",
              "                                                     [key], {});\n",
              "          if (!dataTable) return;\n",
              "\n",
              "          const docLinkHtml = 'Like what you see? Visit the ' +\n",
              "            '<a target=\"_blank\" href=https://colab.research.google.com/notebooks/data_table.ipynb>data table notebook</a>'\n",
              "            + ' to learn more about interactive tables.';\n",
              "          element.innerHTML = '';\n",
              "          dataTable['output_type'] = 'display_data';\n",
              "          await google.colab.output.renderOutput(dataTable, element);\n",
              "          const docLink = document.createElement('div');\n",
              "          docLink.innerHTML = docLinkHtml;\n",
              "          element.appendChild(docLink);\n",
              "        }\n",
              "      </script>\n",
              "    </div>\n",
              "  </div>\n",
              "  "
            ]
          },
          "metadata": {},
          "execution_count": 122
        }
      ],
      "source": [
        "data_df.head(5)"
      ]
    },
    {
      "cell_type": "code",
      "execution_count": 123,
      "id": "ef28e58a",
      "metadata": {
        "execution": {
          "iopub.execute_input": "2023-03-06T14:07:56.830767Z",
          "iopub.status.busy": "2023-03-06T14:07:56.830170Z",
          "iopub.status.idle": "2023-03-06T14:07:56.900982Z",
          "shell.execute_reply": "2023-03-06T14:07:56.898939Z",
          "shell.execute_reply.started": "2023-03-06T14:07:56.830726Z"
        },
        "papermill": {
          "duration": null,
          "end_time": null,
          "exception": null,
          "start_time": null,
          "status": "pending"
        },
        "tags": [],
        "id": "ef28e58a",
        "colab": {
          "base_uri": "https://localhost:8080/",
          "height": 396
        },
        "outputId": "10b03cff-e49c-49c3-e78c-aacf9f15c372"
      },
      "outputs": [
        {
          "output_type": "execute_result",
          "data": {
            "text/plain": [
              "              Order   Property Id  DOF Gross Floor Area    Year Built  \\\n",
              "count  11746.000000  1.174600e+04          1.162800e+04  11746.000000   \n",
              "mean    7185.759578  3.642958e+06          1.732695e+05   1948.738379   \n",
              "std     4323.859984  1.049070e+06          3.367055e+05     30.576386   \n",
              "min        1.000000  7.365000e+03          5.002800e+04   1600.000000   \n",
              "25%     3428.250000  2.747222e+06          6.524000e+04   1927.000000   \n",
              "50%     6986.500000  3.236404e+06          9.313850e+04   1941.000000   \n",
              "75%    11054.500000  4.409092e+06          1.596140e+05   1966.000000   \n",
              "max    14993.000000  5.991312e+06          1.354011e+07   2019.000000   \n",
              "\n",
              "       Number of Buildings - Self-reported     Occupancy  \\\n",
              "count                         11746.000000  11746.000000   \n",
              "mean                              1.289971     98.762557   \n",
              "std                               4.017484      7.501603   \n",
              "min                               0.000000      0.000000   \n",
              "25%                               1.000000    100.000000   \n",
              "50%                               1.000000    100.000000   \n",
              "75%                               1.000000    100.000000   \n",
              "max                             161.000000    100.000000   \n",
              "\n",
              "       Property GFA - Self-Reported (ft²)     Latitude    Longitude  \\\n",
              "count                        1.174600e+04  9483.000000  9483.000000   \n",
              "mean                         1.673739e+05    40.754379   -73.957057   \n",
              "std                          3.189238e+05     0.080120     0.046337   \n",
              "min                          0.000000e+00    40.516065   -74.243582   \n",
              "25%                          6.699400e+04    40.707226   -73.984662   \n",
              "50%                          9.408000e+04    40.759130   -73.962810   \n",
              "75%                          1.584140e+05    40.817623   -73.932443   \n",
              "max                          1.421712e+07    40.912869   -73.715543   \n",
              "\n",
              "       Community Board  Council District   Census Tract  \n",
              "count      9483.000000       9483.000000    9483.000000  \n",
              "mean          7.140673         15.771275    4977.596647  \n",
              "std           3.954129         15.674375   13520.422990  \n",
              "min           1.000000          1.000000       1.000000  \n",
              "25%           4.000000          4.000000     100.000000  \n",
              "50%           7.000000          9.000000     201.000000  \n",
              "75%           9.000000         33.000000     531.500000  \n",
              "max          56.000000         51.000000  155101.000000  "
            ],
            "text/html": [
              "\n",
              "  <div id=\"df-7a322c3f-d272-4d07-912f-ddbeb3578814\">\n",
              "    <div class=\"colab-df-container\">\n",
              "      <div>\n",
              "<style scoped>\n",
              "    .dataframe tbody tr th:only-of-type {\n",
              "        vertical-align: middle;\n",
              "    }\n",
              "\n",
              "    .dataframe tbody tr th {\n",
              "        vertical-align: top;\n",
              "    }\n",
              "\n",
              "    .dataframe thead th {\n",
              "        text-align: right;\n",
              "    }\n",
              "</style>\n",
              "<table border=\"1\" class=\"dataframe\">\n",
              "  <thead>\n",
              "    <tr style=\"text-align: right;\">\n",
              "      <th></th>\n",
              "      <th>Order</th>\n",
              "      <th>Property Id</th>\n",
              "      <th>DOF Gross Floor Area</th>\n",
              "      <th>Year Built</th>\n",
              "      <th>Number of Buildings - Self-reported</th>\n",
              "      <th>Occupancy</th>\n",
              "      <th>Property GFA - Self-Reported (ft²)</th>\n",
              "      <th>Latitude</th>\n",
              "      <th>Longitude</th>\n",
              "      <th>Community Board</th>\n",
              "      <th>Council District</th>\n",
              "      <th>Census Tract</th>\n",
              "    </tr>\n",
              "  </thead>\n",
              "  <tbody>\n",
              "    <tr>\n",
              "      <th>count</th>\n",
              "      <td>11746.000000</td>\n",
              "      <td>1.174600e+04</td>\n",
              "      <td>1.162800e+04</td>\n",
              "      <td>11746.000000</td>\n",
              "      <td>11746.000000</td>\n",
              "      <td>11746.000000</td>\n",
              "      <td>1.174600e+04</td>\n",
              "      <td>9483.000000</td>\n",
              "      <td>9483.000000</td>\n",
              "      <td>9483.000000</td>\n",
              "      <td>9483.000000</td>\n",
              "      <td>9483.000000</td>\n",
              "    </tr>\n",
              "    <tr>\n",
              "      <th>mean</th>\n",
              "      <td>7185.759578</td>\n",
              "      <td>3.642958e+06</td>\n",
              "      <td>1.732695e+05</td>\n",
              "      <td>1948.738379</td>\n",
              "      <td>1.289971</td>\n",
              "      <td>98.762557</td>\n",
              "      <td>1.673739e+05</td>\n",
              "      <td>40.754379</td>\n",
              "      <td>-73.957057</td>\n",
              "      <td>7.140673</td>\n",
              "      <td>15.771275</td>\n",
              "      <td>4977.596647</td>\n",
              "    </tr>\n",
              "    <tr>\n",
              "      <th>std</th>\n",
              "      <td>4323.859984</td>\n",
              "      <td>1.049070e+06</td>\n",
              "      <td>3.367055e+05</td>\n",
              "      <td>30.576386</td>\n",
              "      <td>4.017484</td>\n",
              "      <td>7.501603</td>\n",
              "      <td>3.189238e+05</td>\n",
              "      <td>0.080120</td>\n",
              "      <td>0.046337</td>\n",
              "      <td>3.954129</td>\n",
              "      <td>15.674375</td>\n",
              "      <td>13520.422990</td>\n",
              "    </tr>\n",
              "    <tr>\n",
              "      <th>min</th>\n",
              "      <td>1.000000</td>\n",
              "      <td>7.365000e+03</td>\n",
              "      <td>5.002800e+04</td>\n",
              "      <td>1600.000000</td>\n",
              "      <td>0.000000</td>\n",
              "      <td>0.000000</td>\n",
              "      <td>0.000000e+00</td>\n",
              "      <td>40.516065</td>\n",
              "      <td>-74.243582</td>\n",
              "      <td>1.000000</td>\n",
              "      <td>1.000000</td>\n",
              "      <td>1.000000</td>\n",
              "    </tr>\n",
              "    <tr>\n",
              "      <th>25%</th>\n",
              "      <td>3428.250000</td>\n",
              "      <td>2.747222e+06</td>\n",
              "      <td>6.524000e+04</td>\n",
              "      <td>1927.000000</td>\n",
              "      <td>1.000000</td>\n",
              "      <td>100.000000</td>\n",
              "      <td>6.699400e+04</td>\n",
              "      <td>40.707226</td>\n",
              "      <td>-73.984662</td>\n",
              "      <td>4.000000</td>\n",
              "      <td>4.000000</td>\n",
              "      <td>100.000000</td>\n",
              "    </tr>\n",
              "    <tr>\n",
              "      <th>50%</th>\n",
              "      <td>6986.500000</td>\n",
              "      <td>3.236404e+06</td>\n",
              "      <td>9.313850e+04</td>\n",
              "      <td>1941.000000</td>\n",
              "      <td>1.000000</td>\n",
              "      <td>100.000000</td>\n",
              "      <td>9.408000e+04</td>\n",
              "      <td>40.759130</td>\n",
              "      <td>-73.962810</td>\n",
              "      <td>7.000000</td>\n",
              "      <td>9.000000</td>\n",
              "      <td>201.000000</td>\n",
              "    </tr>\n",
              "    <tr>\n",
              "      <th>75%</th>\n",
              "      <td>11054.500000</td>\n",
              "      <td>4.409092e+06</td>\n",
              "      <td>1.596140e+05</td>\n",
              "      <td>1966.000000</td>\n",
              "      <td>1.000000</td>\n",
              "      <td>100.000000</td>\n",
              "      <td>1.584140e+05</td>\n",
              "      <td>40.817623</td>\n",
              "      <td>-73.932443</td>\n",
              "      <td>9.000000</td>\n",
              "      <td>33.000000</td>\n",
              "      <td>531.500000</td>\n",
              "    </tr>\n",
              "    <tr>\n",
              "      <th>max</th>\n",
              "      <td>14993.000000</td>\n",
              "      <td>5.991312e+06</td>\n",
              "      <td>1.354011e+07</td>\n",
              "      <td>2019.000000</td>\n",
              "      <td>161.000000</td>\n",
              "      <td>100.000000</td>\n",
              "      <td>1.421712e+07</td>\n",
              "      <td>40.912869</td>\n",
              "      <td>-73.715543</td>\n",
              "      <td>56.000000</td>\n",
              "      <td>51.000000</td>\n",
              "      <td>155101.000000</td>\n",
              "    </tr>\n",
              "  </tbody>\n",
              "</table>\n",
              "</div>\n",
              "      <button class=\"colab-df-convert\" onclick=\"convertToInteractive('df-7a322c3f-d272-4d07-912f-ddbeb3578814')\"\n",
              "              title=\"Convert this dataframe to an interactive table.\"\n",
              "              style=\"display:none;\">\n",
              "        \n",
              "  <svg xmlns=\"http://www.w3.org/2000/svg\" height=\"24px\"viewBox=\"0 0 24 24\"\n",
              "       width=\"24px\">\n",
              "    <path d=\"M0 0h24v24H0V0z\" fill=\"none\"/>\n",
              "    <path d=\"M18.56 5.44l.94 2.06.94-2.06 2.06-.94-2.06-.94-.94-2.06-.94 2.06-2.06.94zm-11 1L8.5 8.5l.94-2.06 2.06-.94-2.06-.94L8.5 2.5l-.94 2.06-2.06.94zm10 10l.94 2.06.94-2.06 2.06-.94-2.06-.94-.94-2.06-.94 2.06-2.06.94z\"/><path d=\"M17.41 7.96l-1.37-1.37c-.4-.4-.92-.59-1.43-.59-.52 0-1.04.2-1.43.59L10.3 9.45l-7.72 7.72c-.78.78-.78 2.05 0 2.83L4 21.41c.39.39.9.59 1.41.59.51 0 1.02-.2 1.41-.59l7.78-7.78 2.81-2.81c.8-.78.8-2.07 0-2.86zM5.41 20L4 18.59l7.72-7.72 1.47 1.35L5.41 20z\"/>\n",
              "  </svg>\n",
              "      </button>\n",
              "      \n",
              "  <style>\n",
              "    .colab-df-container {\n",
              "      display:flex;\n",
              "      flex-wrap:wrap;\n",
              "      gap: 12px;\n",
              "    }\n",
              "\n",
              "    .colab-df-convert {\n",
              "      background-color: #E8F0FE;\n",
              "      border: none;\n",
              "      border-radius: 50%;\n",
              "      cursor: pointer;\n",
              "      display: none;\n",
              "      fill: #1967D2;\n",
              "      height: 32px;\n",
              "      padding: 0 0 0 0;\n",
              "      width: 32px;\n",
              "    }\n",
              "\n",
              "    .colab-df-convert:hover {\n",
              "      background-color: #E2EBFA;\n",
              "      box-shadow: 0px 1px 2px rgba(60, 64, 67, 0.3), 0px 1px 3px 1px rgba(60, 64, 67, 0.15);\n",
              "      fill: #174EA6;\n",
              "    }\n",
              "\n",
              "    [theme=dark] .colab-df-convert {\n",
              "      background-color: #3B4455;\n",
              "      fill: #D2E3FC;\n",
              "    }\n",
              "\n",
              "    [theme=dark] .colab-df-convert:hover {\n",
              "      background-color: #434B5C;\n",
              "      box-shadow: 0px 1px 3px 1px rgba(0, 0, 0, 0.15);\n",
              "      filter: drop-shadow(0px 1px 2px rgba(0, 0, 0, 0.3));\n",
              "      fill: #FFFFFF;\n",
              "    }\n",
              "  </style>\n",
              "\n",
              "      <script>\n",
              "        const buttonEl =\n",
              "          document.querySelector('#df-7a322c3f-d272-4d07-912f-ddbeb3578814 button.colab-df-convert');\n",
              "        buttonEl.style.display =\n",
              "          google.colab.kernel.accessAllowed ? 'block' : 'none';\n",
              "\n",
              "        async function convertToInteractive(key) {\n",
              "          const element = document.querySelector('#df-7a322c3f-d272-4d07-912f-ddbeb3578814');\n",
              "          const dataTable =\n",
              "            await google.colab.kernel.invokeFunction('convertToInteractive',\n",
              "                                                     [key], {});\n",
              "          if (!dataTable) return;\n",
              "\n",
              "          const docLinkHtml = 'Like what you see? Visit the ' +\n",
              "            '<a target=\"_blank\" href=https://colab.research.google.com/notebooks/data_table.ipynb>data table notebook</a>'\n",
              "            + ' to learn more about interactive tables.';\n",
              "          element.innerHTML = '';\n",
              "          dataTable['output_type'] = 'display_data';\n",
              "          await google.colab.output.renderOutput(dataTable, element);\n",
              "          const docLink = document.createElement('div');\n",
              "          docLink.innerHTML = docLinkHtml;\n",
              "          element.appendChild(docLink);\n",
              "        }\n",
              "      </script>\n",
              "    </div>\n",
              "  </div>\n",
              "  "
            ]
          },
          "metadata": {},
          "execution_count": 123
        }
      ],
      "source": [
        "data_df.describe()"
      ]
    },
    {
      "cell_type": "code",
      "execution_count": 124,
      "id": "f867e382",
      "metadata": {
        "execution": {
          "iopub.execute_input": "2023-03-06T14:07:56.903903Z",
          "iopub.status.busy": "2023-03-06T14:07:56.903248Z",
          "iopub.status.idle": "2023-03-06T14:07:56.961772Z",
          "shell.execute_reply": "2023-03-06T14:07:56.959542Z",
          "shell.execute_reply.started": "2023-03-06T14:07:56.903851Z"
        },
        "papermill": {
          "duration": null,
          "end_time": null,
          "exception": null,
          "start_time": null,
          "status": "pending"
        },
        "tags": [],
        "id": "f867e382",
        "colab": {
          "base_uri": "https://localhost:8080/"
        },
        "outputId": "56434dd3-f483-41ab-bf21-c18e7d593649"
      },
      "outputs": [
        {
          "output_type": "stream",
          "name": "stdout",
          "text": [
            "<class 'pandas.core.frame.DataFrame'>\n",
            "RangeIndex: 11746 entries, 0 to 11745\n",
            "Data columns (total 60 columns):\n",
            " #   Column                                                      Non-Null Count  Dtype  \n",
            "---  ------                                                      --------------  -----  \n",
            " 0   Order                                                       11746 non-null  int64  \n",
            " 1   Property Id                                                 11746 non-null  int64  \n",
            " 2   Property Name                                               11746 non-null  object \n",
            " 3   Parent Property Id                                          11746 non-null  object \n",
            " 4   Parent Property Name                                        11746 non-null  object \n",
            " 5   BBL - 10 digits                                             11735 non-null  object \n",
            " 6   NYC Borough, Block and Lot (BBL) self-reported              11746 non-null  object \n",
            " 7   NYC Building Identification Number (BIN)                    11746 non-null  object \n",
            " 8   Address 1 (self-reported)                                   11746 non-null  object \n",
            " 9   Address 2                                                   11746 non-null  object \n",
            " 10  Postal Code                                                 11746 non-null  object \n",
            " 11  Street Number                                               11622 non-null  object \n",
            " 12  Street Name                                                 11624 non-null  object \n",
            " 13  Borough                                                     11628 non-null  object \n",
            " 14  DOF Gross Floor Area                                        11628 non-null  float64\n",
            " 15  Primary Property Type - Self Selected                       11746 non-null  object \n",
            " 16  List of All Property Use Types at Property                  11746 non-null  object \n",
            " 17  Largest Property Use Type                                   11746 non-null  object \n",
            " 18  Largest Property Use Type - Gross Floor Area (ft²)          11746 non-null  object \n",
            " 19  2nd Largest Property Use Type                               11746 non-null  object \n",
            " 20  2nd Largest Property Use - Gross Floor Area (ft²)           11746 non-null  object \n",
            " 21  3rd Largest Property Use Type                               11746 non-null  object \n",
            " 22  3rd Largest Property Use Type - Gross Floor Area (ft²)      11746 non-null  object \n",
            " 23  Year Built                                                  11746 non-null  int64  \n",
            " 24  Number of Buildings - Self-reported                         11746 non-null  int64  \n",
            " 25  Occupancy                                                   11746 non-null  int64  \n",
            " 26  Metered Areas (Energy)                                      11746 non-null  object \n",
            " 27  Metered Areas  (Water)                                      11746 non-null  object \n",
            " 28  ENERGY STAR Score                                           11746 non-null  object \n",
            " 29  Site EUI (kBtu/ft²)                                         11746 non-null  object \n",
            " 30  Weather Normalized Site EUI (kBtu/ft²)                      11746 non-null  object \n",
            " 31  Weather Normalized Site Electricity Intensity (kWh/ft²)     11746 non-null  object \n",
            " 32  Weather Normalized Site Natural Gas Intensity (therms/ft²)  11746 non-null  object \n",
            " 33  Weather Normalized Source EUI (kBtu/ft²)                    11746 non-null  object \n",
            " 34  Fuel Oil #1 Use (kBtu)                                      11746 non-null  object \n",
            " 35  Fuel Oil #2 Use (kBtu)                                      11746 non-null  object \n",
            " 36  Fuel Oil #4 Use (kBtu)                                      11746 non-null  object \n",
            " 37  Fuel Oil #5 & 6 Use (kBtu)                                  11746 non-null  object \n",
            " 38  Diesel #2 Use (kBtu)                                        11746 non-null  object \n",
            " 39  District Steam Use (kBtu)                                   11746 non-null  object \n",
            " 40  Natural Gas Use (kBtu)                                      11746 non-null  object \n",
            " 41  Weather Normalized Site Natural Gas Use (therms)            11746 non-null  object \n",
            " 42  Electricity Use - Grid Purchase (kBtu)                      11746 non-null  object \n",
            " 43  Weather Normalized Site Electricity (kWh)                   11746 non-null  object \n",
            " 44  Total GHG Emissions (Metric Tons CO2e)                      11746 non-null  object \n",
            " 45  Direct GHG Emissions (Metric Tons CO2e)                     11746 non-null  object \n",
            " 46  Indirect GHG Emissions (Metric Tons CO2e)                   11746 non-null  object \n",
            " 47  Property GFA - Self-Reported (ft²)                          11746 non-null  int64  \n",
            " 48  Water Use (All Water Sources) (kgal)                        11746 non-null  object \n",
            " 49  Water Intensity (All Water Sources) (gal/ft²)               11746 non-null  object \n",
            " 50  Source EUI (kBtu/ft²)                                       11746 non-null  object \n",
            " 51  Release Date                                                11746 non-null  object \n",
            " 52  Water Required?                                             11628 non-null  object \n",
            " 53  DOF Benchmarking Submission Status                          11716 non-null  object \n",
            " 54  Latitude                                                    9483 non-null   float64\n",
            " 55  Longitude                                                   9483 non-null   float64\n",
            " 56  Community Board                                             9483 non-null   float64\n",
            " 57  Council District                                            9483 non-null   float64\n",
            " 58  Census Tract                                                9483 non-null   float64\n",
            " 59  NTA                                                         9483 non-null   object \n",
            "dtypes: float64(6), int64(6), object(48)\n",
            "memory usage: 5.4+ MB\n"
          ]
        }
      ],
      "source": [
        "data_df.info()"
      ]
    },
    {
      "cell_type": "code",
      "execution_count": 125,
      "id": "3227b723",
      "metadata": {
        "execution": {
          "iopub.execute_input": "2023-03-06T14:07:56.963994Z",
          "iopub.status.busy": "2023-03-06T14:07:56.963568Z",
          "iopub.status.idle": "2023-03-06T14:07:56.978142Z",
          "shell.execute_reply": "2023-03-06T14:07:56.976541Z",
          "shell.execute_reply.started": "2023-03-06T14:07:56.963955Z"
        },
        "papermill": {
          "duration": null,
          "end_time": null,
          "exception": null,
          "start_time": null,
          "status": "pending"
        },
        "tags": [],
        "id": "3227b723",
        "colab": {
          "base_uri": "https://localhost:8080/"
        },
        "outputId": "a8e1aeee-be11-4d11-8032-b2f91286ec91"
      },
      "outputs": [
        {
          "output_type": "execute_result",
          "data": {
            "text/plain": [
              "Not Available    2104\n",
              "100               649\n",
              "1                 299\n",
              "99                162\n",
              "80                144\n",
              "84                142\n",
              "83                138\n",
              "86                138\n",
              "88                136\n",
              "73                128\n",
              "87                128\n",
              "82                128\n",
              "89                127\n",
              "79                126\n",
              "85                126\n",
              "81                126\n",
              "93                125\n",
              "92                124\n",
              "74                124\n",
              "77                123\n",
              "98                122\n",
              "90                120\n",
              "78                119\n",
              "95                119\n",
              "67                119\n",
              "76                118\n",
              "68                118\n",
              "69                114\n",
              "65                112\n",
              "91                112\n",
              "64                110\n",
              "71                110\n",
              "70                110\n",
              "97                109\n",
              "75                108\n",
              "94                108\n",
              "59                108\n",
              "55                103\n",
              "66                102\n",
              "60                102\n",
              "96                102\n",
              "63                102\n",
              "57                101\n",
              "72                101\n",
              "58                 94\n",
              "50                 93\n",
              "61                 92\n",
              "49                 91\n",
              "2                  91\n",
              "48                 91\n",
              "52                 89\n",
              "54                 87\n",
              "62                 85\n",
              "56                 83\n",
              "41                 80\n",
              "53                 79\n",
              "35                 78\n",
              "51                 77\n",
              "44                 75\n",
              "43                 74\n",
              "37                 73\n",
              "36                 73\n",
              "33                 73\n",
              "9                  72\n",
              "34                 71\n",
              "29                 70\n",
              "4                  70\n",
              "32                 70\n",
              "3                  69\n",
              "38                 69\n",
              "28                 68\n",
              "20                 67\n",
              "46                 66\n",
              "39                 66\n",
              "45                 66\n",
              "30                 64\n",
              "13                 64\n",
              "47                 61\n",
              "19                 60\n",
              "26                 60\n",
              "6                  59\n",
              "16                 59\n",
              "23                 58\n",
              "24                 58\n",
              "5                  57\n",
              "8                  57\n",
              "40                 54\n",
              "7                  54\n",
              "25                 52\n",
              "18                 52\n",
              "14                 51\n",
              "27                 51\n",
              "31                 50\n",
              "22                 49\n",
              "17                 48\n",
              "10                 48\n",
              "15                 48\n",
              "12                 47\n",
              "42                 47\n",
              "21                 46\n",
              "11                 44\n",
              "Name: ENERGY STAR Score, dtype: int64"
            ]
          },
          "metadata": {},
          "execution_count": 125
        }
      ],
      "source": [
        "data_df['ENERGY STAR Score'].value_counts()"
      ]
    },
    {
      "cell_type": "code",
      "execution_count": 125,
      "id": "8e9862be",
      "metadata": {
        "papermill": {
          "duration": null,
          "end_time": null,
          "exception": null,
          "start_time": null,
          "status": "pending"
        },
        "tags": [],
        "id": "8e9862be"
      },
      "outputs": [],
      "source": []
    },
    {
      "cell_type": "markdown",
      "id": "1732cfe5",
      "metadata": {
        "papermill": {
          "duration": null,
          "end_time": null,
          "exception": null,
          "start_time": null,
          "status": "pending"
        },
        "tags": [],
        "id": "1732cfe5"
      },
      "source": [
        "## Looks like missing data is filled as 'Not Available', replace them with nan."
      ]
    },
    {
      "cell_type": "code",
      "execution_count": 126,
      "id": "7cd6da68",
      "metadata": {
        "execution": {
          "iopub.execute_input": "2023-03-06T14:07:56.980991Z",
          "iopub.status.busy": "2023-03-06T14:07:56.980046Z",
          "iopub.status.idle": "2023-03-06T14:07:57.075130Z",
          "shell.execute_reply": "2023-03-06T14:07:57.073365Z",
          "shell.execute_reply.started": "2023-03-06T14:07:56.980942Z"
        },
        "papermill": {
          "duration": null,
          "end_time": null,
          "exception": null,
          "start_time": null,
          "status": "pending"
        },
        "tags": [],
        "id": "7cd6da68"
      },
      "outputs": [],
      "source": [
        "data_df = data_df.replace({'Not Available': np.nan})\n"
      ]
    },
    {
      "cell_type": "code",
      "execution_count": 127,
      "id": "14a039e6",
      "metadata": {
        "execution": {
          "iopub.execute_input": "2023-03-06T14:07:57.077739Z",
          "iopub.status.busy": "2023-03-06T14:07:57.077276Z",
          "iopub.status.idle": "2023-03-06T14:07:57.266537Z",
          "shell.execute_reply": "2023-03-06T14:07:57.264493Z",
          "shell.execute_reply.started": "2023-03-06T14:07:57.077697Z"
        },
        "papermill": {
          "duration": null,
          "end_time": null,
          "exception": null,
          "start_time": null,
          "status": "pending"
        },
        "tags": [],
        "id": "14a039e6"
      },
      "outputs": [],
      "source": [
        "# Iterate through the columns\n",
        "for col in list(data_df.columns):\n",
        "    # Select columns that should be numeric\n",
        "    if ('ft²' in col or 'kBtu' in col or 'Metric Tons CO2e' in col or 'kWh' in \n",
        "        col or 'therms' in col or 'gal' in col or 'Score' in col):\n",
        "        # Convert the data type to float\n",
        "        data_df[col] = data_df[col].astype(float)"
      ]
    },
    {
      "cell_type": "code",
      "execution_count": 128,
      "id": "35748f84",
      "metadata": {
        "execution": {
          "iopub.execute_input": "2023-03-06T14:07:57.268107Z",
          "iopub.status.busy": "2023-03-06T14:07:57.267737Z",
          "iopub.status.idle": "2023-03-06T14:07:57.282873Z",
          "shell.execute_reply": "2023-03-06T14:07:57.280570Z",
          "shell.execute_reply.started": "2023-03-06T14:07:57.268072Z"
        },
        "papermill": {
          "duration": null,
          "end_time": null,
          "exception": null,
          "start_time": null,
          "status": "pending"
        },
        "tags": [],
        "id": "35748f84",
        "colab": {
          "base_uri": "https://localhost:8080/"
        },
        "outputId": "c4cfb953-c899-4f13-9af2-72a3d89f98b1"
      },
      "outputs": [
        {
          "output_type": "execute_result",
          "data": {
            "text/plain": [
              "Order                                                           int64\n",
              "Property Id                                                     int64\n",
              "Property Name                                                  object\n",
              "Parent Property Id                                             object\n",
              "Parent Property Name                                           object\n",
              "BBL - 10 digits                                                object\n",
              "NYC Borough, Block and Lot (BBL) self-reported                 object\n",
              "NYC Building Identification Number (BIN)                       object\n",
              "Address 1 (self-reported)                                      object\n",
              "Address 2                                                      object\n",
              "Postal Code                                                    object\n",
              "Street Number                                                  object\n",
              "Street Name                                                    object\n",
              "Borough                                                        object\n",
              "DOF Gross Floor Area                                          float64\n",
              "Primary Property Type - Self Selected                          object\n",
              "List of All Property Use Types at Property                     object\n",
              "Largest Property Use Type                                      object\n",
              "Largest Property Use Type - Gross Floor Area (ft²)            float64\n",
              "2nd Largest Property Use Type                                  object\n",
              "2nd Largest Property Use - Gross Floor Area (ft²)             float64\n",
              "3rd Largest Property Use Type                                  object\n",
              "3rd Largest Property Use Type - Gross Floor Area (ft²)        float64\n",
              "Year Built                                                      int64\n",
              "Number of Buildings - Self-reported                             int64\n",
              "Occupancy                                                       int64\n",
              "Metered Areas (Energy)                                         object\n",
              "Metered Areas  (Water)                                         object\n",
              "ENERGY STAR Score                                             float64\n",
              "Site EUI (kBtu/ft²)                                           float64\n",
              "Weather Normalized Site EUI (kBtu/ft²)                        float64\n",
              "Weather Normalized Site Electricity Intensity (kWh/ft²)       float64\n",
              "Weather Normalized Site Natural Gas Intensity (therms/ft²)    float64\n",
              "Weather Normalized Source EUI (kBtu/ft²)                      float64\n",
              "Fuel Oil #1 Use (kBtu)                                        float64\n",
              "Fuel Oil #2 Use (kBtu)                                        float64\n",
              "Fuel Oil #4 Use (kBtu)                                        float64\n",
              "Fuel Oil #5 & 6 Use (kBtu)                                    float64\n",
              "Diesel #2 Use (kBtu)                                          float64\n",
              "District Steam Use (kBtu)                                     float64\n",
              "Natural Gas Use (kBtu)                                        float64\n",
              "Weather Normalized Site Natural Gas Use (therms)              float64\n",
              "Electricity Use - Grid Purchase (kBtu)                        float64\n",
              "Weather Normalized Site Electricity (kWh)                     float64\n",
              "Total GHG Emissions (Metric Tons CO2e)                        float64\n",
              "Direct GHG Emissions (Metric Tons CO2e)                       float64\n",
              "Indirect GHG Emissions (Metric Tons CO2e)                     float64\n",
              "Property GFA - Self-Reported (ft²)                            float64\n",
              "Water Use (All Water Sources) (kgal)                          float64\n",
              "Water Intensity (All Water Sources) (gal/ft²)                 float64\n",
              "Source EUI (kBtu/ft²)                                         float64\n",
              "Release Date                                                   object\n",
              "Water Required?                                                object\n",
              "DOF Benchmarking Submission Status                             object\n",
              "Latitude                                                      float64\n",
              "Longitude                                                     float64\n",
              "Community Board                                               float64\n",
              "Council District                                              float64\n",
              "Census Tract                                                  float64\n",
              "NTA                                                            object\n",
              "dtype: object"
            ]
          },
          "metadata": {},
          "execution_count": 128
        }
      ],
      "source": [
        "# Look at converted data types\n",
        "data_df.dtypes"
      ]
    },
    {
      "cell_type": "code",
      "execution_count": 128,
      "id": "761bf7dc",
      "metadata": {
        "papermill": {
          "duration": null,
          "end_time": null,
          "exception": null,
          "start_time": null,
          "status": "pending"
        },
        "tags": [],
        "id": "761bf7dc"
      },
      "outputs": [],
      "source": []
    },
    {
      "cell_type": "markdown",
      "id": "5576d966",
      "metadata": {
        "papermill": {
          "duration": null,
          "end_time": null,
          "exception": null,
          "start_time": null,
          "status": "pending"
        },
        "tags": [],
        "id": "5576d966"
      },
      "source": [
        "## Look at Percentage of Missing Values in Each Column"
      ]
    },
    {
      "cell_type": "code",
      "execution_count": 129,
      "id": "f25e85e1",
      "metadata": {
        "execution": {
          "iopub.execute_input": "2023-03-06T14:07:57.289926Z",
          "iopub.status.busy": "2023-03-06T14:07:57.289294Z",
          "iopub.status.idle": "2023-03-06T14:07:57.301798Z",
          "shell.execute_reply": "2023-03-06T14:07:57.300106Z",
          "shell.execute_reply.started": "2023-03-06T14:07:57.289877Z"
        },
        "papermill": {
          "duration": null,
          "end_time": null,
          "exception": null,
          "start_time": null,
          "status": "pending"
        },
        "tags": [],
        "id": "f25e85e1"
      },
      "outputs": [],
      "source": [
        "def missing_values_table(df):\n",
        "        mis_val = df.isnull().sum()\n",
        "        mis_val_percent = 100 * df.isnull().sum() / len(df)\n",
        "        mis_val_table = pd.concat([mis_val, mis_val_percent], axis=1)\n",
        "        mis_val_table_ren_columns = mis_val_table.rename(\n",
        "        columns = {0 : 'Missing Values', 1 : '% of Total Values'})\n",
        "        mis_val_table_ren_columns = mis_val_table_ren_columns[\n",
        "            mis_val_table_ren_columns.iloc[:,1] != 0].sort_values(\n",
        "        '% of Total Values', ascending=False).round(1)\n",
        "        print (\"Your selected dataframe has \" + str(df.shape[1]) + \" columns.\\n\"      \n",
        "            \"There are \" + str(mis_val_table_ren_columns.shape[0]) +\n",
        "              \" columns that have missing values.\")\n",
        "        return mis_val_table_ren_columns"
      ]
    },
    {
      "cell_type": "code",
      "execution_count": 130,
      "id": "d2ffdef0",
      "metadata": {
        "execution": {
          "iopub.execute_input": "2023-03-06T14:07:57.305240Z",
          "iopub.status.busy": "2023-03-06T14:07:57.304499Z",
          "iopub.status.idle": "2023-03-06T14:07:57.379530Z",
          "shell.execute_reply": "2023-03-06T14:07:57.377475Z",
          "shell.execute_reply.started": "2023-03-06T14:07:57.305175Z"
        },
        "papermill": {
          "duration": null,
          "end_time": null,
          "exception": null,
          "start_time": null,
          "status": "pending"
        },
        "tags": [],
        "id": "d2ffdef0",
        "colab": {
          "base_uri": "https://localhost:8080/",
          "height": 1000
        },
        "outputId": "3fb21167-7ab9-427c-a38f-548256ff0694"
      },
      "outputs": [
        {
          "output_type": "stream",
          "name": "stdout",
          "text": [
            "Your selected dataframe has 60 columns.\n",
            "There are 46 columns that have missing values.\n"
          ]
        },
        {
          "output_type": "execute_result",
          "data": {
            "text/plain": [
              "                                                    Missing Values  \\\n",
              "Fuel Oil #1 Use (kBtu)                                       11737   \n",
              "Diesel #2 Use (kBtu)                                         11730   \n",
              "Address 2                                                    11539   \n",
              "Fuel Oil #5 & 6 Use (kBtu)                                   11152   \n",
              "District Steam Use (kBtu)                                    10810   \n",
              "Fuel Oil #4 Use (kBtu)                                       10425   \n",
              "3rd Largest Property Use Type - Gross Floor Are...           10262   \n",
              "3rd Largest Property Use Type                                10262   \n",
              "Fuel Oil #2 Use (kBtu)                                        9165   \n",
              "2nd Largest Property Use Type                                 8005   \n",
              "2nd Largest Property Use - Gross Floor Area (ft²)             8005   \n",
              "Metered Areas  (Water)                                        4609   \n",
              "Water Intensity (All Water Sources) (gal/ft²)                 3984   \n",
              "Water Use (All Water Sources) (kgal)                          3984   \n",
              "Latitude                                                      2263   \n",
              "Longitude                                                     2263   \n",
              "Community Board                                               2263   \n",
              "Council District                                              2263   \n",
              "Census Tract                                                  2263   \n",
              "NTA                                                           2263   \n",
              "ENERGY STAR Score                                             2104   \n",
              "Weather Normalized Site Natural Gas Intensity (...            1963   \n",
              "Weather Normalized Site Natural Gas Use (therms)              1962   \n",
              "Weather Normalized Source EUI (kBtu/ft²)                      1465   \n",
              "Weather Normalized Site EUI (kBtu/ft²)                        1465   \n",
              "Natural Gas Use (kBtu)                                        1442   \n",
              "Weather Normalized Site Electricity Intensity (...             787   \n",
              "Weather Normalized Site Electricity (kWh)                      786   \n",
              "Electricity Use - Grid Purchase (kBtu)                         244   \n",
              "Site EUI (kBtu/ft²)                                            163   \n",
              "Source EUI (kBtu/ft²)                                          163   \n",
              "NYC Building Identification Number (BIN)                       162   \n",
              "Street Number                                                  124   \n",
              "Street Name                                                    122   \n",
              "Borough                                                        118   \n",
              "DOF Gross Floor Area                                           118   \n",
              "Water Required?                                                118   \n",
              "Direct GHG Emissions (Metric Tons CO2e)                         83   \n",
              "Total GHG Emissions (Metric Tons CO2e)                          74   \n",
              "Indirect GHG Emissions (Metric Tons CO2e)                       65   \n",
              "Metered Areas (Energy)                                          57   \n",
              "DOF Benchmarking Submission Status                              30   \n",
              "NYC Borough, Block and Lot (BBL) self-reported                  11   \n",
              "BBL - 10 digits                                                 11   \n",
              "Largest Property Use Type                                        2   \n",
              "Largest Property Use Type - Gross Floor Area (ft²)               2   \n",
              "\n",
              "                                                    % of Total Values  \n",
              "Fuel Oil #1 Use (kBtu)                                           99.9  \n",
              "Diesel #2 Use (kBtu)                                             99.9  \n",
              "Address 2                                                        98.2  \n",
              "Fuel Oil #5 & 6 Use (kBtu)                                       94.9  \n",
              "District Steam Use (kBtu)                                        92.0  \n",
              "Fuel Oil #4 Use (kBtu)                                           88.8  \n",
              "3rd Largest Property Use Type - Gross Floor Are...               87.4  \n",
              "3rd Largest Property Use Type                                    87.4  \n",
              "Fuel Oil #2 Use (kBtu)                                           78.0  \n",
              "2nd Largest Property Use Type                                    68.2  \n",
              "2nd Largest Property Use - Gross Floor Area (ft²)                68.2  \n",
              "Metered Areas  (Water)                                           39.2  \n",
              "Water Intensity (All Water Sources) (gal/ft²)                    33.9  \n",
              "Water Use (All Water Sources) (kgal)                             33.9  \n",
              "Latitude                                                         19.3  \n",
              "Longitude                                                        19.3  \n",
              "Community Board                                                  19.3  \n",
              "Council District                                                 19.3  \n",
              "Census Tract                                                     19.3  \n",
              "NTA                                                              19.3  \n",
              "ENERGY STAR Score                                                17.9  \n",
              "Weather Normalized Site Natural Gas Intensity (...               16.7  \n",
              "Weather Normalized Site Natural Gas Use (therms)                 16.7  \n",
              "Weather Normalized Source EUI (kBtu/ft²)                         12.5  \n",
              "Weather Normalized Site EUI (kBtu/ft²)                           12.5  \n",
              "Natural Gas Use (kBtu)                                           12.3  \n",
              "Weather Normalized Site Electricity Intensity (...                6.7  \n",
              "Weather Normalized Site Electricity (kWh)                         6.7  \n",
              "Electricity Use - Grid Purchase (kBtu)                            2.1  \n",
              "Site EUI (kBtu/ft²)                                               1.4  \n",
              "Source EUI (kBtu/ft²)                                             1.4  \n",
              "NYC Building Identification Number (BIN)                          1.4  \n",
              "Street Number                                                     1.1  \n",
              "Street Name                                                       1.0  \n",
              "Borough                                                           1.0  \n",
              "DOF Gross Floor Area                                              1.0  \n",
              "Water Required?                                                   1.0  \n",
              "Direct GHG Emissions (Metric Tons CO2e)                           0.7  \n",
              "Total GHG Emissions (Metric Tons CO2e)                            0.6  \n",
              "Indirect GHG Emissions (Metric Tons CO2e)                         0.6  \n",
              "Metered Areas (Energy)                                            0.5  \n",
              "DOF Benchmarking Submission Status                                0.3  \n",
              "NYC Borough, Block and Lot (BBL) self-reported                    0.1  \n",
              "BBL - 10 digits                                                   0.1  \n",
              "Largest Property Use Type                                         0.0  \n",
              "Largest Property Use Type - Gross Floor Area (ft²)                0.0  "
            ],
            "text/html": [
              "\n",
              "  <div id=\"df-e841e4b3-7491-461a-823d-dd5d979b8b81\">\n",
              "    <div class=\"colab-df-container\">\n",
              "      <div>\n",
              "<style scoped>\n",
              "    .dataframe tbody tr th:only-of-type {\n",
              "        vertical-align: middle;\n",
              "    }\n",
              "\n",
              "    .dataframe tbody tr th {\n",
              "        vertical-align: top;\n",
              "    }\n",
              "\n",
              "    .dataframe thead th {\n",
              "        text-align: right;\n",
              "    }\n",
              "</style>\n",
              "<table border=\"1\" class=\"dataframe\">\n",
              "  <thead>\n",
              "    <tr style=\"text-align: right;\">\n",
              "      <th></th>\n",
              "      <th>Missing Values</th>\n",
              "      <th>% of Total Values</th>\n",
              "    </tr>\n",
              "  </thead>\n",
              "  <tbody>\n",
              "    <tr>\n",
              "      <th>Fuel Oil #1 Use (kBtu)</th>\n",
              "      <td>11737</td>\n",
              "      <td>99.9</td>\n",
              "    </tr>\n",
              "    <tr>\n",
              "      <th>Diesel #2 Use (kBtu)</th>\n",
              "      <td>11730</td>\n",
              "      <td>99.9</td>\n",
              "    </tr>\n",
              "    <tr>\n",
              "      <th>Address 2</th>\n",
              "      <td>11539</td>\n",
              "      <td>98.2</td>\n",
              "    </tr>\n",
              "    <tr>\n",
              "      <th>Fuel Oil #5 &amp; 6 Use (kBtu)</th>\n",
              "      <td>11152</td>\n",
              "      <td>94.9</td>\n",
              "    </tr>\n",
              "    <tr>\n",
              "      <th>District Steam Use (kBtu)</th>\n",
              "      <td>10810</td>\n",
              "      <td>92.0</td>\n",
              "    </tr>\n",
              "    <tr>\n",
              "      <th>Fuel Oil #4 Use (kBtu)</th>\n",
              "      <td>10425</td>\n",
              "      <td>88.8</td>\n",
              "    </tr>\n",
              "    <tr>\n",
              "      <th>3rd Largest Property Use Type - Gross Floor Area (ft²)</th>\n",
              "      <td>10262</td>\n",
              "      <td>87.4</td>\n",
              "    </tr>\n",
              "    <tr>\n",
              "      <th>3rd Largest Property Use Type</th>\n",
              "      <td>10262</td>\n",
              "      <td>87.4</td>\n",
              "    </tr>\n",
              "    <tr>\n",
              "      <th>Fuel Oil #2 Use (kBtu)</th>\n",
              "      <td>9165</td>\n",
              "      <td>78.0</td>\n",
              "    </tr>\n",
              "    <tr>\n",
              "      <th>2nd Largest Property Use Type</th>\n",
              "      <td>8005</td>\n",
              "      <td>68.2</td>\n",
              "    </tr>\n",
              "    <tr>\n",
              "      <th>2nd Largest Property Use - Gross Floor Area (ft²)</th>\n",
              "      <td>8005</td>\n",
              "      <td>68.2</td>\n",
              "    </tr>\n",
              "    <tr>\n",
              "      <th>Metered Areas  (Water)</th>\n",
              "      <td>4609</td>\n",
              "      <td>39.2</td>\n",
              "    </tr>\n",
              "    <tr>\n",
              "      <th>Water Intensity (All Water Sources) (gal/ft²)</th>\n",
              "      <td>3984</td>\n",
              "      <td>33.9</td>\n",
              "    </tr>\n",
              "    <tr>\n",
              "      <th>Water Use (All Water Sources) (kgal)</th>\n",
              "      <td>3984</td>\n",
              "      <td>33.9</td>\n",
              "    </tr>\n",
              "    <tr>\n",
              "      <th>Latitude</th>\n",
              "      <td>2263</td>\n",
              "      <td>19.3</td>\n",
              "    </tr>\n",
              "    <tr>\n",
              "      <th>Longitude</th>\n",
              "      <td>2263</td>\n",
              "      <td>19.3</td>\n",
              "    </tr>\n",
              "    <tr>\n",
              "      <th>Community Board</th>\n",
              "      <td>2263</td>\n",
              "      <td>19.3</td>\n",
              "    </tr>\n",
              "    <tr>\n",
              "      <th>Council District</th>\n",
              "      <td>2263</td>\n",
              "      <td>19.3</td>\n",
              "    </tr>\n",
              "    <tr>\n",
              "      <th>Census Tract</th>\n",
              "      <td>2263</td>\n",
              "      <td>19.3</td>\n",
              "    </tr>\n",
              "    <tr>\n",
              "      <th>NTA</th>\n",
              "      <td>2263</td>\n",
              "      <td>19.3</td>\n",
              "    </tr>\n",
              "    <tr>\n",
              "      <th>ENERGY STAR Score</th>\n",
              "      <td>2104</td>\n",
              "      <td>17.9</td>\n",
              "    </tr>\n",
              "    <tr>\n",
              "      <th>Weather Normalized Site Natural Gas Intensity (therms/ft²)</th>\n",
              "      <td>1963</td>\n",
              "      <td>16.7</td>\n",
              "    </tr>\n",
              "    <tr>\n",
              "      <th>Weather Normalized Site Natural Gas Use (therms)</th>\n",
              "      <td>1962</td>\n",
              "      <td>16.7</td>\n",
              "    </tr>\n",
              "    <tr>\n",
              "      <th>Weather Normalized Source EUI (kBtu/ft²)</th>\n",
              "      <td>1465</td>\n",
              "      <td>12.5</td>\n",
              "    </tr>\n",
              "    <tr>\n",
              "      <th>Weather Normalized Site EUI (kBtu/ft²)</th>\n",
              "      <td>1465</td>\n",
              "      <td>12.5</td>\n",
              "    </tr>\n",
              "    <tr>\n",
              "      <th>Natural Gas Use (kBtu)</th>\n",
              "      <td>1442</td>\n",
              "      <td>12.3</td>\n",
              "    </tr>\n",
              "    <tr>\n",
              "      <th>Weather Normalized Site Electricity Intensity (kWh/ft²)</th>\n",
              "      <td>787</td>\n",
              "      <td>6.7</td>\n",
              "    </tr>\n",
              "    <tr>\n",
              "      <th>Weather Normalized Site Electricity (kWh)</th>\n",
              "      <td>786</td>\n",
              "      <td>6.7</td>\n",
              "    </tr>\n",
              "    <tr>\n",
              "      <th>Electricity Use - Grid Purchase (kBtu)</th>\n",
              "      <td>244</td>\n",
              "      <td>2.1</td>\n",
              "    </tr>\n",
              "    <tr>\n",
              "      <th>Site EUI (kBtu/ft²)</th>\n",
              "      <td>163</td>\n",
              "      <td>1.4</td>\n",
              "    </tr>\n",
              "    <tr>\n",
              "      <th>Source EUI (kBtu/ft²)</th>\n",
              "      <td>163</td>\n",
              "      <td>1.4</td>\n",
              "    </tr>\n",
              "    <tr>\n",
              "      <th>NYC Building Identification Number (BIN)</th>\n",
              "      <td>162</td>\n",
              "      <td>1.4</td>\n",
              "    </tr>\n",
              "    <tr>\n",
              "      <th>Street Number</th>\n",
              "      <td>124</td>\n",
              "      <td>1.1</td>\n",
              "    </tr>\n",
              "    <tr>\n",
              "      <th>Street Name</th>\n",
              "      <td>122</td>\n",
              "      <td>1.0</td>\n",
              "    </tr>\n",
              "    <tr>\n",
              "      <th>Borough</th>\n",
              "      <td>118</td>\n",
              "      <td>1.0</td>\n",
              "    </tr>\n",
              "    <tr>\n",
              "      <th>DOF Gross Floor Area</th>\n",
              "      <td>118</td>\n",
              "      <td>1.0</td>\n",
              "    </tr>\n",
              "    <tr>\n",
              "      <th>Water Required?</th>\n",
              "      <td>118</td>\n",
              "      <td>1.0</td>\n",
              "    </tr>\n",
              "    <tr>\n",
              "      <th>Direct GHG Emissions (Metric Tons CO2e)</th>\n",
              "      <td>83</td>\n",
              "      <td>0.7</td>\n",
              "    </tr>\n",
              "    <tr>\n",
              "      <th>Total GHG Emissions (Metric Tons CO2e)</th>\n",
              "      <td>74</td>\n",
              "      <td>0.6</td>\n",
              "    </tr>\n",
              "    <tr>\n",
              "      <th>Indirect GHG Emissions (Metric Tons CO2e)</th>\n",
              "      <td>65</td>\n",
              "      <td>0.6</td>\n",
              "    </tr>\n",
              "    <tr>\n",
              "      <th>Metered Areas (Energy)</th>\n",
              "      <td>57</td>\n",
              "      <td>0.5</td>\n",
              "    </tr>\n",
              "    <tr>\n",
              "      <th>DOF Benchmarking Submission Status</th>\n",
              "      <td>30</td>\n",
              "      <td>0.3</td>\n",
              "    </tr>\n",
              "    <tr>\n",
              "      <th>NYC Borough, Block and Lot (BBL) self-reported</th>\n",
              "      <td>11</td>\n",
              "      <td>0.1</td>\n",
              "    </tr>\n",
              "    <tr>\n",
              "      <th>BBL - 10 digits</th>\n",
              "      <td>11</td>\n",
              "      <td>0.1</td>\n",
              "    </tr>\n",
              "    <tr>\n",
              "      <th>Largest Property Use Type</th>\n",
              "      <td>2</td>\n",
              "      <td>0.0</td>\n",
              "    </tr>\n",
              "    <tr>\n",
              "      <th>Largest Property Use Type - Gross Floor Area (ft²)</th>\n",
              "      <td>2</td>\n",
              "      <td>0.0</td>\n",
              "    </tr>\n",
              "  </tbody>\n",
              "</table>\n",
              "</div>\n",
              "      <button class=\"colab-df-convert\" onclick=\"convertToInteractive('df-e841e4b3-7491-461a-823d-dd5d979b8b81')\"\n",
              "              title=\"Convert this dataframe to an interactive table.\"\n",
              "              style=\"display:none;\">\n",
              "        \n",
              "  <svg xmlns=\"http://www.w3.org/2000/svg\" height=\"24px\"viewBox=\"0 0 24 24\"\n",
              "       width=\"24px\">\n",
              "    <path d=\"M0 0h24v24H0V0z\" fill=\"none\"/>\n",
              "    <path d=\"M18.56 5.44l.94 2.06.94-2.06 2.06-.94-2.06-.94-.94-2.06-.94 2.06-2.06.94zm-11 1L8.5 8.5l.94-2.06 2.06-.94-2.06-.94L8.5 2.5l-.94 2.06-2.06.94zm10 10l.94 2.06.94-2.06 2.06-.94-2.06-.94-.94-2.06-.94 2.06-2.06.94z\"/><path d=\"M17.41 7.96l-1.37-1.37c-.4-.4-.92-.59-1.43-.59-.52 0-1.04.2-1.43.59L10.3 9.45l-7.72 7.72c-.78.78-.78 2.05 0 2.83L4 21.41c.39.39.9.59 1.41.59.51 0 1.02-.2 1.41-.59l7.78-7.78 2.81-2.81c.8-.78.8-2.07 0-2.86zM5.41 20L4 18.59l7.72-7.72 1.47 1.35L5.41 20z\"/>\n",
              "  </svg>\n",
              "      </button>\n",
              "      \n",
              "  <style>\n",
              "    .colab-df-container {\n",
              "      display:flex;\n",
              "      flex-wrap:wrap;\n",
              "      gap: 12px;\n",
              "    }\n",
              "\n",
              "    .colab-df-convert {\n",
              "      background-color: #E8F0FE;\n",
              "      border: none;\n",
              "      border-radius: 50%;\n",
              "      cursor: pointer;\n",
              "      display: none;\n",
              "      fill: #1967D2;\n",
              "      height: 32px;\n",
              "      padding: 0 0 0 0;\n",
              "      width: 32px;\n",
              "    }\n",
              "\n",
              "    .colab-df-convert:hover {\n",
              "      background-color: #E2EBFA;\n",
              "      box-shadow: 0px 1px 2px rgba(60, 64, 67, 0.3), 0px 1px 3px 1px rgba(60, 64, 67, 0.15);\n",
              "      fill: #174EA6;\n",
              "    }\n",
              "\n",
              "    [theme=dark] .colab-df-convert {\n",
              "      background-color: #3B4455;\n",
              "      fill: #D2E3FC;\n",
              "    }\n",
              "\n",
              "    [theme=dark] .colab-df-convert:hover {\n",
              "      background-color: #434B5C;\n",
              "      box-shadow: 0px 1px 3px 1px rgba(0, 0, 0, 0.15);\n",
              "      filter: drop-shadow(0px 1px 2px rgba(0, 0, 0, 0.3));\n",
              "      fill: #FFFFFF;\n",
              "    }\n",
              "  </style>\n",
              "\n",
              "      <script>\n",
              "        const buttonEl =\n",
              "          document.querySelector('#df-e841e4b3-7491-461a-823d-dd5d979b8b81 button.colab-df-convert');\n",
              "        buttonEl.style.display =\n",
              "          google.colab.kernel.accessAllowed ? 'block' : 'none';\n",
              "\n",
              "        async function convertToInteractive(key) {\n",
              "          const element = document.querySelector('#df-e841e4b3-7491-461a-823d-dd5d979b8b81');\n",
              "          const dataTable =\n",
              "            await google.colab.kernel.invokeFunction('convertToInteractive',\n",
              "                                                     [key], {});\n",
              "          if (!dataTable) return;\n",
              "\n",
              "          const docLinkHtml = 'Like what you see? Visit the ' +\n",
              "            '<a target=\"_blank\" href=https://colab.research.google.com/notebooks/data_table.ipynb>data table notebook</a>'\n",
              "            + ' to learn more about interactive tables.';\n",
              "          element.innerHTML = '';\n",
              "          dataTable['output_type'] = 'display_data';\n",
              "          await google.colab.output.renderOutput(dataTable, element);\n",
              "          const docLink = document.createElement('div');\n",
              "          docLink.innerHTML = docLinkHtml;\n",
              "          element.appendChild(docLink);\n",
              "        }\n",
              "      </script>\n",
              "    </div>\n",
              "  </div>\n",
              "  "
            ]
          },
          "metadata": {},
          "execution_count": 130
        }
      ],
      "source": [
        "missing_values_table(data_df)\n"
      ]
    },
    {
      "cell_type": "code",
      "execution_count": 130,
      "id": "977bd105",
      "metadata": {
        "papermill": {
          "duration": null,
          "end_time": null,
          "exception": null,
          "start_time": null,
          "status": "pending"
        },
        "tags": [],
        "id": "977bd105"
      },
      "outputs": [],
      "source": []
    },
    {
      "cell_type": "markdown",
      "id": "c2f022e9",
      "metadata": {
        "papermill": {
          "duration": null,
          "end_time": null,
          "exception": null,
          "start_time": null,
          "status": "pending"
        },
        "tags": [],
        "id": "c2f022e9"
      },
      "source": [
        "## EDA"
      ]
    },
    {
      "cell_type": "code",
      "execution_count": 131,
      "id": "056460f7",
      "metadata": {
        "execution": {
          "iopub.execute_input": "2023-03-06T14:07:57.382303Z",
          "iopub.status.busy": "2023-03-06T14:07:57.381329Z",
          "iopub.status.idle": "2023-03-06T14:07:57.867912Z",
          "shell.execute_reply": "2023-03-06T14:07:57.866516Z",
          "shell.execute_reply.started": "2023-03-06T14:07:57.382252Z"
        },
        "papermill": {
          "duration": null,
          "end_time": null,
          "exception": null,
          "start_time": null,
          "status": "pending"
        },
        "tags": [],
        "id": "056460f7",
        "colab": {
          "base_uri": "https://localhost:8080/",
          "height": 513
        },
        "outputId": "d8d96bef-6e41-4470-81b7-655f70eef42e"
      },
      "outputs": [
        {
          "output_type": "display_data",
          "data": {
            "text/plain": [
              "<Figure size 576x576 with 1 Axes>"
            ],
            "image/png": "[encoded data removed]"
          },
          "metadata": {
            "needs_background": "light"
          }
        }
      ],
      "source": [
        "figsize(8, 8)\n",
        "plt.hist(data_df['ENERGY STAR Score'].dropna(), bins = 100);\n",
        "plt.xlabel('Score'); plt.ylabel('Count'); plt.title('ENERGY Star Score Distribution');"
      ]
    },
    {
      "cell_type": "code",
      "execution_count": 132,
      "id": "1fb60a13",
      "metadata": {
        "execution": {
          "iopub.execute_input": "2023-03-06T14:07:57.870871Z",
          "iopub.status.busy": "2023-03-06T14:07:57.869696Z",
          "iopub.status.idle": "2023-03-06T14:07:57.889695Z",
          "shell.execute_reply": "2023-03-06T14:07:57.888045Z",
          "shell.execute_reply.started": "2023-03-06T14:07:57.870810Z"
        },
        "papermill": {
          "duration": null,
          "end_time": null,
          "exception": null,
          "start_time": null,
          "status": "pending"
        },
        "tags": [],
        "id": "1fb60a13",
        "colab": {
          "base_uri": "https://localhost:8080/"
        },
        "outputId": "1c3599ed-8c63-4d3a-f115-5a5a0228966f"
      },
      "outputs": [
        {
          "output_type": "execute_result",
          "data": {
            "text/plain": [
              "100.0    649\n",
              "1.0      299\n",
              "99.0     162\n",
              "80.0     144\n",
              "84.0     142\n",
              "83.0     138\n",
              "86.0     138\n",
              "88.0     136\n",
              "82.0     128\n",
              "87.0     128\n",
              "73.0     128\n",
              "89.0     127\n",
              "81.0     126\n",
              "79.0     126\n",
              "85.0     126\n",
              "93.0     125\n",
              "74.0     124\n",
              "92.0     124\n",
              "77.0     123\n",
              "98.0     122\n",
              "90.0     120\n",
              "67.0     119\n",
              "78.0     119\n",
              "95.0     119\n",
              "68.0     118\n",
              "76.0     118\n",
              "69.0     114\n",
              "65.0     112\n",
              "91.0     112\n",
              "70.0     110\n",
              "71.0     110\n",
              "64.0     110\n",
              "97.0     109\n",
              "59.0     108\n",
              "75.0     108\n",
              "94.0     108\n",
              "55.0     103\n",
              "60.0     102\n",
              "63.0     102\n",
              "96.0     102\n",
              "66.0     102\n",
              "57.0     101\n",
              "72.0     101\n",
              "58.0      94\n",
              "50.0      93\n",
              "61.0      92\n",
              "49.0      91\n",
              "48.0      91\n",
              "2.0       91\n",
              "52.0      89\n",
              "54.0      87\n",
              "62.0      85\n",
              "56.0      83\n",
              "41.0      80\n",
              "53.0      79\n",
              "35.0      78\n",
              "51.0      77\n",
              "44.0      75\n",
              "43.0      74\n",
              "37.0      73\n",
              "33.0      73\n",
              "36.0      73\n",
              "9.0       72\n",
              "34.0      71\n",
              "4.0       70\n",
              "29.0      70\n",
              "32.0      70\n",
              "3.0       69\n",
              "38.0      69\n",
              "28.0      68\n",
              "20.0      67\n",
              "39.0      66\n",
              "46.0      66\n",
              "45.0      66\n",
              "30.0      64\n",
              "13.0      64\n",
              "47.0      61\n",
              "26.0      60\n",
              "19.0      60\n",
              "6.0       59\n",
              "16.0      59\n",
              "24.0      58\n",
              "23.0      58\n",
              "8.0       57\n",
              "5.0       57\n",
              "40.0      54\n",
              "7.0       54\n",
              "25.0      52\n",
              "18.0      52\n",
              "14.0      51\n",
              "27.0      51\n",
              "31.0      50\n",
              "22.0      49\n",
              "15.0      48\n",
              "10.0      48\n",
              "17.0      48\n",
              "12.0      47\n",
              "42.0      47\n",
              "21.0      46\n",
              "11.0      44\n",
              "Name: ENERGY STAR Score, dtype: int64"
            ]
          },
          "metadata": {},
          "execution_count": 132
        }
      ],
      "source": [
        "data_df['ENERGY STAR Score'].value_counts().sort_values(ascending=False)\n"
      ]
    },
    {
      "cell_type": "markdown",
      "id": "15719bfa",
      "metadata": {
        "papermill": {
          "duration": null,
          "end_time": null,
          "exception": null,
          "start_time": null,
          "status": "pending"
        },
        "tags": [],
        "id": "15719bfa"
      },
      "source": [
        "There are two modes in the data, one at 1 and another at 100. This seems like something to follow up on. Is there some shared characteristic among buildings that have a 1 or 100? The ENERGY STAR Score is a percentile score, so it seems unreasonable that so many buildings are clustered at the two extremes. Given that Energy Star Score is based on self-reported energy usage, it might not be that good of a measure. Let's take a look at another value often used for characterizing the efficiency of a building, the Energy Use Intensity which attempts to normalize the energy usage of a building by the size of a building."
      ]
    },
    {
      "cell_type": "code",
      "execution_count": 133,
      "id": "84a5f32e",
      "metadata": {
        "execution": {
          "iopub.execute_input": "2023-03-06T14:07:57.891850Z",
          "iopub.status.busy": "2023-03-06T14:07:57.891420Z",
          "iopub.status.idle": "2023-03-06T14:07:58.531353Z",
          "shell.execute_reply": "2023-03-06T14:07:58.529949Z",
          "shell.execute_reply.started": "2023-03-06T14:07:57.891811Z"
        },
        "papermill": {
          "duration": null,
          "end_time": null,
          "exception": null,
          "start_time": null,
          "status": "pending"
        },
        "tags": [],
        "id": "84a5f32e",
        "colab": {
          "base_uri": "https://localhost:8080/",
          "height": 513
        },
        "outputId": "593588a3-183c-4d93-901e-bf1db40fa1af"
      },
      "outputs": [
        {
          "output_type": "display_data",
          "data": {
            "text/plain": [
              "<Figure size 576x576 with 1 Axes>"
            ],
            "image/png": "[encoded data removed]"
          },
          "metadata": {
            "needs_background": "light"
          }
        }
      ],
      "source": [
        "plt.hist(data_df['Site EUI (kBtu/ft²)'].dropna(), range = (0, 400), bins = 20);\n",
        "plt.xlabel('Site EUI'); plt.ylabel('Count'); plt.title('Site EUI Distribution');"
      ]
    },
    {
      "cell_type": "markdown",
      "id": "fb00f73a",
      "metadata": {
        "papermill": {
          "duration": null,
          "end_time": null,
          "exception": null,
          "start_time": null,
          "status": "pending"
        },
        "tags": [],
        "id": "fb00f73a"
      },
      "source": [
        "This plot is more normally distributed with no obvious skew. The Site EUI is probably a better measure of individual building energy performance than the Energy Star Score."
      ]
    },
    {
      "cell_type": "markdown",
      "id": "55b18634",
      "metadata": {
        "papermill": {
          "duration": null,
          "end_time": null,
          "exception": null,
          "start_time": null,
          "status": "pending"
        },
        "tags": [],
        "id": "55b18634"
      },
      "source": [
        "## Correlations with Energy Star Score\n"
      ]
    },
    {
      "cell_type": "code",
      "execution_count": 134,
      "id": "851d5b08",
      "metadata": {
        "execution": {
          "iopub.execute_input": "2023-03-06T14:07:58.533742Z",
          "iopub.status.busy": "2023-03-06T14:07:58.532854Z",
          "iopub.status.idle": "2023-03-06T14:07:58.595561Z",
          "shell.execute_reply": "2023-03-06T14:07:58.594050Z",
          "shell.execute_reply.started": "2023-03-06T14:07:58.533670Z"
        },
        "papermill": {
          "duration": null,
          "end_time": null,
          "exception": null,
          "start_time": null,
          "status": "pending"
        },
        "tags": [],
        "id": "851d5b08",
        "colab": {
          "base_uri": "https://localhost:8080/"
        },
        "outputId": "cd62c8ff-1721-4287-b189-b129be3724d3"
      },
      "outputs": [
        {
          "output_type": "execute_result",
          "data": {
            "text/plain": [
              "Fuel Oil #1 Use (kBtu)                                       -0.793589\n",
              "Fuel Oil #4 Use (kBtu)                                       -0.217676\n",
              "Fuel Oil #5 & 6 Use (kBtu)                                   -0.192863\n",
              "Diesel #2 Use (kBtu)                                         -0.171081\n",
              "Fuel Oil #2 Use (kBtu)                                       -0.144715\n",
              "Year Built                                                   -0.118181\n",
              "District Steam Use (kBtu)                                    -0.116806\n",
              "Weather Normalized Site Electricity Intensity (kWh/ft²)      -0.067762\n",
              "Electricity Use - Grid Purchase (kBtu)                       -0.066330\n",
              "Weather Normalized Site Electricity (kWh)                    -0.065789\n",
              "Total GHG Emissions (Metric Tons CO2e)                       -0.047934\n",
              "Property Id                                                  -0.047020\n",
              "Latitude                                                     -0.044262\n",
              "Source EUI (kBtu/ft²)                                        -0.042873\n",
              "Weather Normalized Source EUI (kBtu/ft²)                     -0.040913\n",
              "Indirect GHG Emissions (Metric Tons CO2e)                    -0.040326\n",
              "Site EUI (kBtu/ft²)                                          -0.036123\n",
              "Weather Normalized Site EUI (kBtu/ft²)                       -0.035227\n",
              "Occupancy                                                    -0.031116\n",
              "Longitude                                                    -0.029670\n",
              "Direct GHG Emissions (Metric Tons CO2e)                      -0.026355\n",
              "Weather Normalized Site Natural Gas Use (therms)             -0.026215\n",
              "Natural Gas Use (kBtu)                                       -0.026170\n",
              "Water Use (All Water Sources) (kgal)                         -0.024555\n",
              "Weather Normalized Site Natural Gas Intensity (therms/ft²)   -0.023008\n",
              "Water Intensity (All Water Sources) (gal/ft²)                -0.022396\n",
              "Number of Buildings - Self-reported                          -0.020564\n",
              "Census Tract                                                 -0.001607\n",
              "3rd Largest Property Use Type - Gross Floor Area (ft²)        0.006367\n",
              "DOF Gross Floor Area                                          0.006877\n",
              "2nd Largest Property Use - Gross Floor Area (ft²)             0.011300\n",
              "Property GFA - Self-Reported (ft²)                            0.016800\n",
              "Largest Property Use Type - Gross Floor Area (ft²)            0.017734\n",
              "Order                                                         0.039524\n",
              "Council District                                              0.063185\n",
              "Community Board                                               0.064054\n",
              "ENERGY STAR Score                                             1.000000\n",
              "Name: ENERGY STAR Score, dtype: float64"
            ]
          },
          "metadata": {},
          "execution_count": 134
        }
      ],
      "source": [
        "data_df.corr()['ENERGY STAR Score'].sort_values()"
      ]
    },
    {
      "cell_type": "markdown",
      "id": "45d4a810",
      "metadata": {
        "papermill": {
          "duration": null,
          "end_time": null,
          "exception": null,
          "start_time": null,
          "status": "pending"
        },
        "tags": [],
        "id": "45d4a810"
      },
      "source": [
        "The most significant correlations (in absolute magnitude) are between Fuel Oil Use and Energy Star Score. This makes sense: the more fuel oil a building uses, the lower the Energy Star Score. There are no significant positive linear correlations.\n",
        "\n",
        "The issue with using Fuel Oil Use is that this column contains 99.9% missing values. Therefore, it will not be very useful in training a model because of the limited information."
      ]
    },
    {
      "cell_type": "markdown",
      "id": "716963e4",
      "metadata": {
        "papermill": {
          "duration": null,
          "end_time": null,
          "exception": null,
          "start_time": null,
          "status": "pending"
        },
        "tags": [],
        "id": "716963e4"
      },
      "source": [
        "## Correlations with Site EUI\n"
      ]
    },
    {
      "cell_type": "code",
      "execution_count": 135,
      "id": "faaf24a8",
      "metadata": {
        "execution": {
          "iopub.execute_input": "2023-03-06T14:07:58.598432Z",
          "iopub.status.busy": "2023-03-06T14:07:58.597429Z",
          "iopub.status.idle": "2023-03-06T14:07:58.658769Z",
          "shell.execute_reply": "2023-03-06T14:07:58.657301Z",
          "shell.execute_reply.started": "2023-03-06T14:07:58.598350Z"
        },
        "papermill": {
          "duration": null,
          "end_time": null,
          "exception": null,
          "start_time": null,
          "status": "pending"
        },
        "tags": [],
        "id": "faaf24a8",
        "colab": {
          "base_uri": "https://localhost:8080/"
        },
        "outputId": "27a7d404-f0f4-4de9-db72-07cd29f5b793"
      },
      "outputs": [
        {
          "output_type": "execute_result",
          "data": {
            "text/plain": [
              "ENERGY STAR Score                                            -0.035227\n",
              "Occupancy                                                    -0.013070\n",
              "Latitude                                                     -0.009111\n",
              "Community Board                                              -0.009037\n",
              "Order                                                        -0.000599\n",
              "Number of Buildings - Self-reported                          -0.000455\n",
              "Water Use (All Water Sources) (kgal)                         -0.000248\n",
              "Water Intensity (All Water Sources) (gal/ft²)                 0.000304\n",
              "Largest Property Use Type - Gross Floor Area (ft²)            0.009192\n",
              "Property Id                                                   0.009993\n",
              "Property GFA - Self-Reported (ft²)                            0.010757\n",
              "Longitude                                                     0.011825\n",
              "Council District                                              0.011931\n",
              "Census Tract                                                  0.012966\n",
              "DOF Gross Floor Area                                          0.017061\n",
              "Year Built                                                    0.020774\n",
              "Weather Normalized Site Electricity (kWh)                     0.032481\n",
              "Electricity Use - Grid Purchase (kBtu)                        0.032499\n",
              "Fuel Oil #2 Use (kBtu)                                        0.051886\n",
              "Indirect GHG Emissions (Metric Tons CO2e)                     0.122923\n",
              "Weather Normalized Site Electricity Intensity (kWh/ft²)       0.146811\n",
              "Fuel Oil #5 & 6 Use (kBtu)                                    0.155955\n",
              "Fuel Oil #4 Use (kBtu)                                        0.238023\n",
              "2nd Largest Property Use - Gross Floor Area (ft²)             0.250059\n",
              "Direct GHG Emissions (Metric Tons CO2e)                       0.261562\n",
              "3rd Largest Property Use Type - Gross Floor Area (ft²)        0.263930\n",
              "Natural Gas Use (kBtu)                                        0.264158\n",
              "Weather Normalized Site Natural Gas Use (therms)              0.273392\n",
              "Total GHG Emissions (Metric Tons CO2e)                        0.286014\n",
              "District Steam Use (kBtu)                                     0.543735\n",
              "Diesel #2 Use (kBtu)                                          0.859258\n",
              "Fuel Oil #1 Use (kBtu)                                        0.951781\n",
              "Weather Normalized Site Natural Gas Intensity (therms/ft²)    0.983178\n",
              "Source EUI (kBtu/ft²)                                         0.993345\n",
              "Weather Normalized Source EUI (kBtu/ft²)                      0.995697\n",
              "Site EUI (kBtu/ft²)                                           0.999645\n",
              "Weather Normalized Site EUI (kBtu/ft²)                        1.000000\n",
              "Name: Weather Normalized Site EUI (kBtu/ft²), dtype: float64"
            ]
          },
          "metadata": {},
          "execution_count": 135
        }
      ],
      "source": [
        "data_df.corr()['Weather Normalized Site EUI (kBtu/ft²)'].sort_values()\n"
      ]
    },
    {
      "cell_type": "markdown",
      "id": "f7491ffe",
      "metadata": {
        "papermill": {
          "duration": null,
          "end_time": null,
          "exception": null,
          "start_time": null,
          "status": "pending"
        },
        "tags": [],
        "id": "f7491ffe"
      },
      "source": [
        "The highest correlations here are pretty obvious: Site EUI is kBtu/ft^2, so we would expect any measure of electricity usage to be linearly positively correlated with Site EUI. We could use Gas Use or Fuel Oil use to predict EUI, but by definition these should be correlated."
      ]
    },
    {
      "cell_type": "markdown",
      "id": "ba4b45c8",
      "metadata": {
        "papermill": {
          "duration": null,
          "end_time": null,
          "exception": null,
          "start_time": null,
          "status": "pending"
        },
        "tags": [],
        "id": "ba4b45c8"
      },
      "source": [
        "## Analyzing what Buildings with 1 or 100 Energy Star Score have in common\n"
      ]
    },
    {
      "cell_type": "code",
      "execution_count": 136,
      "id": "0f39d1c5",
      "metadata": {
        "execution": {
          "iopub.execute_input": "2023-03-06T14:07:58.661858Z",
          "iopub.status.busy": "2023-03-06T14:07:58.660894Z",
          "iopub.status.idle": "2023-03-06T14:07:58.677672Z",
          "shell.execute_reply": "2023-03-06T14:07:58.676027Z",
          "shell.execute_reply.started": "2023-03-06T14:07:58.661688Z"
        },
        "papermill": {
          "duration": null,
          "end_time": null,
          "exception": null,
          "start_time": null,
          "status": "pending"
        },
        "tags": [],
        "id": "0f39d1c5"
      },
      "outputs": [],
      "source": [
        "suspect = data_df[(data_df['ENERGY STAR Score'] == 1.0) | (data_df['ENERGY STAR Score'] == 100.0)]\n"
      ]
    },
    {
      "cell_type": "code",
      "execution_count": 137,
      "id": "759d8970",
      "metadata": {
        "execution": {
          "iopub.execute_input": "2023-03-06T14:07:58.679453Z",
          "iopub.status.busy": "2023-03-06T14:07:58.679057Z",
          "iopub.status.idle": "2023-03-06T14:07:58.750370Z",
          "shell.execute_reply": "2023-03-06T14:07:58.748519Z",
          "shell.execute_reply.started": "2023-03-06T14:07:58.679417Z"
        },
        "papermill": {
          "duration": null,
          "end_time": null,
          "exception": null,
          "start_time": null,
          "status": "pending"
        },
        "tags": [],
        "id": "759d8970",
        "colab": {
          "base_uri": "https://localhost:8080/",
          "height": 669
        },
        "outputId": "c0319a17-9475-4cce-afd5-deaafdc258aa"
      },
      "outputs": [
        {
          "output_type": "execute_result",
          "data": {
            "text/plain": [
              "    Order  Property Id           Property Name Parent Property Id  \\\n",
              "13     16      5871253  Cadman - 10 Clinton St            2637863   \n",
              "21     24      2806486   Park 76th Street Inc.            2806486   \n",
              "22     25      4988686  - 830 Park Avenue bldg            2806486   \n",
              "23     26      4988688  - 840 Park Avenue bldg            2806486   \n",
              "36     39      2658438            Business Law            3612678   \n",
              "\n",
              "                 Parent Property Name        BBL - 10 digits  \\\n",
              "13                      Cadman Towers             3002380035   \n",
              "21              Park 76th Street Inc.  1013900037;1013910034   \n",
              "22              Park 76th Street Inc.             1013900037   \n",
              "23              Park 76th Street Inc.             1013910034   \n",
              "36  Columbia University (morningside)             1018670042   \n",
              "\n",
              "   NYC Borough, Block and Lot (BBL) self-reported  \\\n",
              "13                                     3002380035   \n",
              "21                          1013900037;1013910034   \n",
              "22                                     1013900037   \n",
              "23                                     1013910034   \n",
              "36                                     1018670042   \n",
              "\n",
              "   NYC Building Identification Number (BIN) Address 1 (self-reported)  \\\n",
              "13                                  3319420              101 Clark St   \n",
              "21                         1041702; 1041800       830-840 Park Avenue   \n",
              "22                                  1041702           830 Park Avenue   \n",
              "23                                  1041800           840 Park Avenue   \n",
              "36                                  1085710     1125 Amsterdam Avenue   \n",
              "\n",
              "            Address 2 Postal Code Street Number     Street Name    Borough  \\\n",
              "13  aka 10 Clinton St       11201            10  CLINTON STREET   Brooklyn   \n",
              "21                NaN       10021           NaN             NaN        NaN   \n",
              "22                NaN       10021           830     PARK AVENUE  Manhattan   \n",
              "23                NaN       10021           840     PARK AVENUE  Manhattan   \n",
              "36                NaN       10027           NaN             NaN        NaN   \n",
              "\n",
              "    DOF Gross Floor Area Primary Property Type - Self Selected  \\\n",
              "13              212656.0                   Multifamily Housing   \n",
              "21                   NaN                   Multifamily Housing   \n",
              "22              151666.0                   Multifamily Housing   \n",
              "23               64827.0                   Multifamily Housing   \n",
              "36                   NaN                                Office   \n",
              "\n",
              "    List of All Property Use Types at Property Largest Property Use Type  \\\n",
              "13  Multifamily Housing, Parking, Retail Store       Multifamily Housing   \n",
              "21                         Multifamily Housing       Multifamily Housing   \n",
              "22                         Multifamily Housing       Multifamily Housing   \n",
              "23                         Multifamily Housing       Multifamily Housing   \n",
              "36                                      Office                    Office   \n",
              "\n",
              "    Largest Property Use Type - Gross Floor Area (ft²)  \\\n",
              "13                                           162656.0    \n",
              "21                                           189766.0    \n",
              "22                                           130629.0    \n",
              "23                                            54913.0    \n",
              "36                                            83131.0    \n",
              "\n",
              "   2nd Largest Property Use Type  \\\n",
              "13                       Parking   \n",
              "21                           NaN   \n",
              "22                           NaN   \n",
              "23                           NaN   \n",
              "36                           NaN   \n",
              "\n",
              "    2nd Largest Property Use - Gross Floor Area (ft²)  \\\n",
              "13                                            40000.0   \n",
              "21                                                NaN   \n",
              "22                                                NaN   \n",
              "23                                                NaN   \n",
              "36                                                NaN   \n",
              "\n",
              "   3rd Largest Property Use Type  \\\n",
              "13                  Retail Store   \n",
              "21                           NaN   \n",
              "22                           NaN   \n",
              "23                           NaN   \n",
              "36                           NaN   \n",
              "\n",
              "    3rd Largest Property Use Type - Gross Floor Area (ft²)  Year Built  \\\n",
              "13                                            10000.0             1903   \n",
              "21                                                NaN             1911   \n",
              "22                                                NaN             1911   \n",
              "23                                                NaN             1911   \n",
              "36                                                NaN             1996   \n",
              "\n",
              "    Number of Buildings - Self-reported  Occupancy Metered Areas (Energy)  \\\n",
              "13                                    1        100         Whole Building   \n",
              "21                                    2        100         Whole Building   \n",
              "22                                    1        100  Another configuration   \n",
              "23                                    1        100  Another configuration   \n",
              "36                                    1        100         Whole Building   \n",
              "\n",
              "   Metered Areas  (Water)  ENERGY STAR Score  Site EUI (kBtu/ft²)  \\\n",
              "13                    NaN                1.0                295.4   \n",
              "21         Whole Building              100.0                 68.0   \n",
              "22                    NaN              100.0                 23.7   \n",
              "23                    NaN              100.0                 17.9   \n",
              "36         Whole Building              100.0                  0.0   \n",
              "\n",
              "    Weather Normalized Site EUI (kBtu/ft²)  \\\n",
              "13                                   316.8   \n",
              "21                                     NaN   \n",
              "22                                    23.4   \n",
              "23                                    17.4   \n",
              "36                                     0.0   \n",
              "\n",
              "    Weather Normalized Site Electricity Intensity (kWh/ft²)  \\\n",
              "13                                                5.8         \n",
              "21                                                6.1         \n",
              "22                                                6.8         \n",
              "23                                                4.8         \n",
              "36                                                0.0         \n",
              "\n",
              "    Weather Normalized Site Natural Gas Intensity (therms/ft²)  \\\n",
              "13                                                3.0            \n",
              "21                                                0.5            \n",
              "22                                                NaN            \n",
              "23                                                0.0            \n",
              "36                                                0.0            \n",
              "\n",
              "    Weather Normalized Source EUI (kBtu/ft²)  Fuel Oil #1 Use (kBtu)  \\\n",
              "13                                     374.2                     NaN   \n",
              "21                                       NaN                     NaN   \n",
              "22                                      73.3                     NaN   \n",
              "23                                      52.3                     NaN   \n",
              "36                                       0.0                     NaN   \n",
              "\n",
              "    Fuel Oil #2 Use (kBtu)  Fuel Oil #4 Use (kBtu)  \\\n",
              "13                     NaN                     NaN   \n",
              "21                112138.8                     NaN   \n",
              "22                     NaN                     NaN   \n",
              "23                     NaN                     NaN   \n",
              "36                     NaN                     NaN   \n",
              "\n",
              "    Fuel Oil #5 & 6 Use (kBtu)  Diesel #2 Use (kBtu)  \\\n",
              "13                         NaN                   NaN   \n",
              "21                         NaN                   NaN   \n",
              "22                         NaN                   NaN   \n",
              "23                         NaN                   NaN   \n",
              "36                         NaN                   NaN   \n",
              "\n",
              "    District Steam Use (kBtu)  Natural Gas Use (kBtu)  \\\n",
              "13                        NaN              47522901.2   \n",
              "21                        NaN               8786386.9   \n",
              "22                        NaN                     NaN   \n",
              "23                        NaN                 59412.9   \n",
              "36                        NaN                     0.0   \n",
              "\n",
              "    Weather Normalized Site Natural Gas Use (therms)  \\\n",
              "13                                          512710.7   \n",
              "21                                           98264.5   \n",
              "22                                               NaN   \n",
              "23                                             601.0   \n",
              "36                                               0.0   \n",
              "\n",
              "    Electricity Use - Grid Purchase (kBtu)  \\\n",
              "13                               3477064.5   \n",
              "21                               4013954.9   \n",
              "22                               3090622.7   \n",
              "23                                923332.2   \n",
              "36                                     0.0   \n",
              "\n",
              "    Weather Normalized Site Electricity (kWh)  \\\n",
              "13                                  1004824.0   \n",
              "21                                  1156269.9   \n",
              "22                                   894049.0   \n",
              "23                                   262377.2   \n",
              "36                                        0.0   \n",
              "\n",
              "    Total GHG Emissions (Metric Tons CO2e)  \\\n",
              "13                                  2846.8   \n",
              "21                                   847.5   \n",
              "22                                   286.8   \n",
              "23                                    88.8   \n",
              "36                                     0.0   \n",
              "\n",
              "    Direct GHG Emissions (Metric Tons CO2e)  \\\n",
              "13                                   2524.2   \n",
              "21                                    475.0   \n",
              "22                                      0.0   \n",
              "23                                      3.2   \n",
              "36                                      0.0   \n",
              "\n",
              "    Indirect GHG Emissions (Metric Tons CO2e)  \\\n",
              "13                                      322.7   \n",
              "21                                      372.5   \n",
              "22                                      286.8   \n",
              "23                                       85.7   \n",
              "36                                        0.0   \n",
              "\n",
              "    Property GFA - Self-Reported (ft²)  Water Use (All Water Sources) (kgal)  \\\n",
              "13                            172656.0                                   NaN   \n",
              "21                            189766.0                                   NaN   \n",
              "22                            130629.0                                   NaN   \n",
              "23                             54913.0                                 231.9   \n",
              "36                             83131.0                                 975.6   \n",
              "\n",
              "    Water Intensity (All Water Sources) (gal/ft²)  Source EUI (kBtu/ft²)  \\\n",
              "13                                            NaN                  352.2   \n",
              "21                                            NaN                  115.6   \n",
              "22                                            NaN                   74.3   \n",
              "23                                           4.22                   53.9   \n",
              "36                                          11.74                    0.0   \n",
              "\n",
              "              Release Date Water Required? DOF Benchmarking Submission Status  \\\n",
              "13  04/28/2017 04:07:55 PM             NaN                      In Compliance   \n",
              "21  05/01/2017 10:09:31 PM             Yes                      In Compliance   \n",
              "22  05/01/2017 10:09:31 PM             NaN                      In Compliance   \n",
              "23  05/01/2017 10:09:31 PM             Yes                      In Compliance   \n",
              "36  04/24/2017 06:52:20 PM             NaN                      In Compliance   \n",
              "\n",
              "     Latitude  Longitude  Community Board  Council District  Census Tract  \\\n",
              "13  40.695835 -73.991673              2.0              33.0         502.0   \n",
              "21        NaN        NaN              NaN               NaN           NaN   \n",
              "22  40.773465 -73.962116              8.0               4.0         130.0   \n",
              "23  40.773843 -73.961838              8.0               4.0         130.0   \n",
              "36        NaN        NaN              NaN               NaN           NaN   \n",
              "\n",
              "                                                  NTA  \n",
              "13  Brooklyn Heights-Cobble Hill                  ...  \n",
              "21                                                NaN  \n",
              "22  Upper East Side-Carnegie Hill                 ...  \n",
              "23  Upper East Side-Carnegie Hill                 ...  \n",
              "36                                                NaN  "
            ],
            "text/html": [
              "\n",
              "  <div id=\"df-863c542b-2b75-467f-970c-8f4b7a8c3751\">\n",
              "    <div class=\"colab-df-container\">\n",
              "      <div>\n",
              "<style scoped>\n",
              "    .dataframe tbody tr th:only-of-type {\n",
              "        vertical-align: middle;\n",
              "    }\n",
              "\n",
              "    .dataframe tbody tr th {\n",
              "        vertical-align: top;\n",
              "    }\n",
              "\n",
              "    .dataframe thead th {\n",
              "        text-align: right;\n",
              "    }\n",
              "</style>\n",
              "<table border=\"1\" class=\"dataframe\">\n",
              "  <thead>\n",
              "    <tr style=\"text-align: right;\">\n",
              "      <th></th>\n",
              "      <th>Order</th>\n",
              "      <th>Property Id</th>\n",
              "      <th>Property Name</th>\n",
              "      <th>Parent Property Id</th>\n",
              "      <th>Parent Property Name</th>\n",
              "      <th>BBL - 10 digits</th>\n",
              "      <th>NYC Borough, Block and Lot (BBL) self-reported</th>\n",
              "      <th>NYC Building Identification Number (BIN)</th>\n",
              "      <th>Address 1 (self-reported)</th>\n",
              "      <th>Address 2</th>\n",
              "      <th>Postal Code</th>\n",
              "      <th>Street Number</th>\n",
              "      <th>Street Name</th>\n",
              "      <th>Borough</th>\n",
              "      <th>DOF Gross Floor Area</th>\n",
              "      <th>Primary Property Type - Self Selected</th>\n",
              "      <th>List of All Property Use Types at Property</th>\n",
              "      <th>Largest Property Use Type</th>\n",
              "      <th>Largest Property Use Type - Gross Floor Area (ft²)</th>\n",
              "      <th>2nd Largest Property Use Type</th>\n",
              "      <th>2nd Largest Property Use - Gross Floor Area (ft²)</th>\n",
              "      <th>3rd Largest Property Use Type</th>\n",
              "      <th>3rd Largest Property Use Type - Gross Floor Area (ft²)</th>\n",
              "      <th>Year Built</th>\n",
              "      <th>Number of Buildings - Self-reported</th>\n",
              "      <th>Occupancy</th>\n",
              "      <th>Metered Areas (Energy)</th>\n",
              "      <th>Metered Areas  (Water)</th>\n",
              "      <th>ENERGY STAR Score</th>\n",
              "      <th>Site EUI (kBtu/ft²)</th>\n",
              "      <th>Weather Normalized Site EUI (kBtu/ft²)</th>\n",
              "      <th>Weather Normalized Site Electricity Intensity (kWh/ft²)</th>\n",
              "      <th>Weather Normalized Site Natural Gas Intensity (therms/ft²)</th>\n",
              "      <th>Weather Normalized Source EUI (kBtu/ft²)</th>\n",
              "      <th>Fuel Oil #1 Use (kBtu)</th>\n",
              "      <th>Fuel Oil #2 Use (kBtu)</th>\n",
              "      <th>Fuel Oil #4 Use (kBtu)</th>\n",
              "      <th>Fuel Oil #5 &amp; 6 Use (kBtu)</th>\n",
              "      <th>Diesel #2 Use (kBtu)</th>\n",
              "      <th>District Steam Use (kBtu)</th>\n",
              "      <th>Natural Gas Use (kBtu)</th>\n",
              "      <th>Weather Normalized Site Natural Gas Use (therms)</th>\n",
              "      <th>Electricity Use - Grid Purchase (kBtu)</th>\n",
              "      <th>Weather Normalized Site Electricity (kWh)</th>\n",
              "      <th>Total GHG Emissions (Metric Tons CO2e)</th>\n",
              "      <th>Direct GHG Emissions (Metric Tons CO2e)</th>\n",
              "      <th>Indirect GHG Emissions (Metric Tons CO2e)</th>\n",
              "      <th>Property GFA - Self-Reported (ft²)</th>\n",
              "      <th>Water Use (All Water Sources) (kgal)</th>\n",
              "      <th>Water Intensity (All Water Sources) (gal/ft²)</th>\n",
              "      <th>Source EUI (kBtu/ft²)</th>\n",
              "      <th>Release Date</th>\n",
              "      <th>Water Required?</th>\n",
              "      <th>DOF Benchmarking Submission Status</th>\n",
              "      <th>Latitude</th>\n",
              "      <th>Longitude</th>\n",
              "      <th>Community Board</th>\n",
              "      <th>Council District</th>\n",
              "      <th>Census Tract</th>\n",
              "      <th>NTA</th>\n",
              "    </tr>\n",
              "  </thead>\n",
              "  <tbody>\n",
              "    <tr>\n",
              "      <th>13</th>\n",
              "      <td>16</td>\n",
              "      <td>5871253</td>\n",
              "      <td>Cadman - 10 Clinton St</td>\n",
              "      <td>2637863</td>\n",
              "      <td>Cadman Towers</td>\n",
              "      <td>3002380035</td>\n",
              "      <td>3002380035</td>\n",
              "      <td>3319420</td>\n",
              "      <td>101 Clark St</td>\n",
              "      <td>aka 10 Clinton St</td>\n",
              "      <td>11201</td>\n",
              "      <td>10</td>\n",
              "      <td>CLINTON STREET</td>\n",
              "      <td>Brooklyn</td>\n",
              "      <td>212656.0</td>\n",
              "      <td>Multifamily Housing</td>\n",
              "      <td>Multifamily Housing, Parking, Retail Store</td>\n",
              "      <td>Multifamily Housing</td>\n",
              "      <td>162656.0</td>\n",
              "      <td>Parking</td>\n",
              "      <td>40000.0</td>\n",
              "      <td>Retail Store</td>\n",
              "      <td>10000.0</td>\n",
              "      <td>1903</td>\n",
              "      <td>1</td>\n",
              "      <td>100</td>\n",
              "      <td>Whole Building</td>\n",
              "      <td>NaN</td>\n",
              "      <td>1.0</td>\n",
              "      <td>295.4</td>\n",
              "      <td>316.8</td>\n",
              "      <td>5.8</td>\n",
              "      <td>3.0</td>\n",
              "      <td>374.2</td>\n",
              "      <td>NaN</td>\n",
              "      <td>NaN</td>\n",
              "      <td>NaN</td>\n",
              "      <td>NaN</td>\n",
              "      <td>NaN</td>\n",
              "      <td>NaN</td>\n",
              "      <td>47522901.2</td>\n",
              "      <td>512710.7</td>\n",
              "      <td>3477064.5</td>\n",
              "      <td>1004824.0</td>\n",
              "      <td>2846.8</td>\n",
              "      <td>2524.2</td>\n",
              "      <td>322.7</td>\n",
              "      <td>172656.0</td>\n",
              "      <td>NaN</td>\n",
              "      <td>NaN</td>\n",
              "      <td>352.2</td>\n",
              "      <td>04/28/2017 04:07:55 PM</td>\n",
              "      <td>NaN</td>\n",
              "      <td>In Compliance</td>\n",
              "      <td>40.695835</td>\n",
              "      <td>-73.991673</td>\n",
              "      <td>2.0</td>\n",
              "      <td>33.0</td>\n",
              "      <td>502.0</td>\n",
              "      <td>Brooklyn Heights-Cobble Hill                  ...</td>\n",
              "    </tr>\n",
              "    <tr>\n",
              "      <th>21</th>\n",
              "      <td>24</td>\n",
              "      <td>2806486</td>\n",
              "      <td>Park 76th Street Inc.</td>\n",
              "      <td>2806486</td>\n",
              "      <td>Park 76th Street Inc.</td>\n",
              "      <td>1013900037;1013910034</td>\n",
              "      <td>1013900037;1013910034</td>\n",
              "      <td>1041702; 1041800</td>\n",
              "      <td>830-840 Park Avenue</td>\n",
              "      <td>NaN</td>\n",
              "      <td>10021</td>\n",
              "      <td>NaN</td>\n",
              "      <td>NaN</td>\n",
              "      <td>NaN</td>\n",
              "      <td>NaN</td>\n",
              "      <td>Multifamily Housing</td>\n",
              "      <td>Multifamily Housing</td>\n",
              "      <td>Multifamily Housing</td>\n",
              "      <td>189766.0</td>\n",
              "      <td>NaN</td>\n",
              "      <td>NaN</td>\n",
              "      <td>NaN</td>\n",
              "      <td>NaN</td>\n",
              "      <td>1911</td>\n",
              "      <td>2</td>\n",
              "      <td>100</td>\n",
              "      <td>Whole Building</td>\n",
              "      <td>Whole Building</td>\n",
              "      <td>100.0</td>\n",
              "      <td>68.0</td>\n",
              "      <td>NaN</td>\n",
              "      <td>6.1</td>\n",
              "      <td>0.5</td>\n",
              "      <td>NaN</td>\n",
              "      <td>NaN</td>\n",
              "      <td>112138.8</td>\n",
              "      <td>NaN</td>\n",
              "      <td>NaN</td>\n",
              "      <td>NaN</td>\n",
              "      <td>NaN</td>\n",
              "      <td>8786386.9</td>\n",
              "      <td>98264.5</td>\n",
              "      <td>4013954.9</td>\n",
              "      <td>1156269.9</td>\n",
              "      <td>847.5</td>\n",
              "      <td>475.0</td>\n",
              "      <td>372.5</td>\n",
              "      <td>189766.0</td>\n",
              "      <td>NaN</td>\n",
              "      <td>NaN</td>\n",
              "      <td>115.6</td>\n",
              "      <td>05/01/2017 10:09:31 PM</td>\n",
              "      <td>Yes</td>\n",
              "      <td>In Compliance</td>\n",
              "      <td>NaN</td>\n",
              "      <td>NaN</td>\n",
              "      <td>NaN</td>\n",
              "      <td>NaN</td>\n",
              "      <td>NaN</td>\n",
              "      <td>NaN</td>\n",
              "    </tr>\n",
              "    <tr>\n",
              "      <th>22</th>\n",
              "      <td>25</td>\n",
              "      <td>4988686</td>\n",
              "      <td>- 830 Park Avenue bldg</td>\n",
              "      <td>2806486</td>\n",
              "      <td>Park 76th Street Inc.</td>\n",
              "      <td>1013900037</td>\n",
              "      <td>1013900037</td>\n",
              "      <td>1041702</td>\n",
              "      <td>830 Park Avenue</td>\n",
              "      <td>NaN</td>\n",
              "      <td>10021</td>\n",
              "      <td>830</td>\n",
              "      <td>PARK AVENUE</td>\n",
              "      <td>Manhattan</td>\n",
              "      <td>151666.0</td>\n",
              "      <td>Multifamily Housing</td>\n",
              "      <td>Multifamily Housing</td>\n",
              "      <td>Multifamily Housing</td>\n",
              "      <td>130629.0</td>\n",
              "      <td>NaN</td>\n",
              "      <td>NaN</td>\n",
              "      <td>NaN</td>\n",
              "      <td>NaN</td>\n",
              "      <td>1911</td>\n",
              "      <td>1</td>\n",
              "      <td>100</td>\n",
              "      <td>Another configuration</td>\n",
              "      <td>NaN</td>\n",
              "      <td>100.0</td>\n",
              "      <td>23.7</td>\n",
              "      <td>23.4</td>\n",
              "      <td>6.8</td>\n",
              "      <td>NaN</td>\n",
              "      <td>73.3</td>\n",
              "      <td>NaN</td>\n",
              "      <td>NaN</td>\n",
              "      <td>NaN</td>\n",
              "      <td>NaN</td>\n",
              "      <td>NaN</td>\n",
              "      <td>NaN</td>\n",
              "      <td>NaN</td>\n",
              "      <td>NaN</td>\n",
              "      <td>3090622.7</td>\n",
              "      <td>894049.0</td>\n",
              "      <td>286.8</td>\n",
              "      <td>0.0</td>\n",
              "      <td>286.8</td>\n",
              "      <td>130629.0</td>\n",
              "      <td>NaN</td>\n",
              "      <td>NaN</td>\n",
              "      <td>74.3</td>\n",
              "      <td>05/01/2017 10:09:31 PM</td>\n",
              "      <td>NaN</td>\n",
              "      <td>In Compliance</td>\n",
              "      <td>40.773465</td>\n",
              "      <td>-73.962116</td>\n",
              "      <td>8.0</td>\n",
              "      <td>4.0</td>\n",
              "      <td>130.0</td>\n",
              "      <td>Upper East Side-Carnegie Hill                 ...</td>\n",
              "    </tr>\n",
              "    <tr>\n",
              "      <th>23</th>\n",
              "      <td>26</td>\n",
              "      <td>4988688</td>\n",
              "      <td>- 840 Park Avenue bldg</td>\n",
              "      <td>2806486</td>\n",
              "      <td>Park 76th Street Inc.</td>\n",
              "      <td>1013910034</td>\n",
              "      <td>1013910034</td>\n",
              "      <td>1041800</td>\n",
              "      <td>840 Park Avenue</td>\n",
              "      <td>NaN</td>\n",
              "      <td>10021</td>\n",
              "      <td>840</td>\n",
              "      <td>PARK AVENUE</td>\n",
              "      <td>Manhattan</td>\n",
              "      <td>64827.0</td>\n",
              "      <td>Multifamily Housing</td>\n",
              "      <td>Multifamily Housing</td>\n",
              "      <td>Multifamily Housing</td>\n",
              "      <td>54913.0</td>\n",
              "      <td>NaN</td>\n",
              "      <td>NaN</td>\n",
              "      <td>NaN</td>\n",
              "      <td>NaN</td>\n",
              "      <td>1911</td>\n",
              "      <td>1</td>\n",
              "      <td>100</td>\n",
              "      <td>Another configuration</td>\n",
              "      <td>NaN</td>\n",
              "      <td>100.0</td>\n",
              "      <td>17.9</td>\n",
              "      <td>17.4</td>\n",
              "      <td>4.8</td>\n",
              "      <td>0.0</td>\n",
              "      <td>52.3</td>\n",
              "      <td>NaN</td>\n",
              "      <td>NaN</td>\n",
              "      <td>NaN</td>\n",
              "      <td>NaN</td>\n",
              "      <td>NaN</td>\n",
              "      <td>NaN</td>\n",
              "      <td>59412.9</td>\n",
              "      <td>601.0</td>\n",
              "      <td>923332.2</td>\n",
              "      <td>262377.2</td>\n",
              "      <td>88.8</td>\n",
              "      <td>3.2</td>\n",
              "      <td>85.7</td>\n",
              "      <td>54913.0</td>\n",
              "      <td>231.9</td>\n",
              "      <td>4.22</td>\n",
              "      <td>53.9</td>\n",
              "      <td>05/01/2017 10:09:31 PM</td>\n",
              "      <td>Yes</td>\n",
              "      <td>In Compliance</td>\n",
              "      <td>40.773843</td>\n",
              "      <td>-73.961838</td>\n",
              "      <td>8.0</td>\n",
              "      <td>4.0</td>\n",
              "      <td>130.0</td>\n",
              "      <td>Upper East Side-Carnegie Hill                 ...</td>\n",
              "    </tr>\n",
              "    <tr>\n",
              "      <th>36</th>\n",
              "      <td>39</td>\n",
              "      <td>2658438</td>\n",
              "      <td>Business Law</td>\n",
              "      <td>3612678</td>\n",
              "      <td>Columbia University (morningside)</td>\n",
              "      <td>1018670042</td>\n",
              "      <td>1018670042</td>\n",
              "      <td>1085710</td>\n",
              "      <td>1125 Amsterdam Avenue</td>\n",
              "      <td>NaN</td>\n",
              "      <td>10027</td>\n",
              "      <td>NaN</td>\n",
              "      <td>NaN</td>\n",
              "      <td>NaN</td>\n",
              "      <td>NaN</td>\n",
              "      <td>Office</td>\n",
              "      <td>Office</td>\n",
              "      <td>Office</td>\n",
              "      <td>83131.0</td>\n",
              "      <td>NaN</td>\n",
              "      <td>NaN</td>\n",
              "      <td>NaN</td>\n",
              "      <td>NaN</td>\n",
              "      <td>1996</td>\n",
              "      <td>1</td>\n",
              "      <td>100</td>\n",
              "      <td>Whole Building</td>\n",
              "      <td>Whole Building</td>\n",
              "      <td>100.0</td>\n",
              "      <td>0.0</td>\n",
              "      <td>0.0</td>\n",
              "      <td>0.0</td>\n",
              "      <td>0.0</td>\n",
              "      <td>0.0</td>\n",
              "      <td>NaN</td>\n",
              "      <td>NaN</td>\n",
              "      <td>NaN</td>\n",
              "      <td>NaN</td>\n",
              "      <td>NaN</td>\n",
              "      <td>NaN</td>\n",
              "      <td>0.0</td>\n",
              "      <td>0.0</td>\n",
              "      <td>0.0</td>\n",
              "      <td>0.0</td>\n",
              "      <td>0.0</td>\n",
              "      <td>0.0</td>\n",
              "      <td>0.0</td>\n",
              "      <td>83131.0</td>\n",
              "      <td>975.6</td>\n",
              "      <td>11.74</td>\n",
              "      <td>0.0</td>\n",
              "      <td>04/24/2017 06:52:20 PM</td>\n",
              "      <td>NaN</td>\n",
              "      <td>In Compliance</td>\n",
              "      <td>NaN</td>\n",
              "      <td>NaN</td>\n",
              "      <td>NaN</td>\n",
              "      <td>NaN</td>\n",
              "      <td>NaN</td>\n",
              "      <td>NaN</td>\n",
              "    </tr>\n",
              "  </tbody>\n",
              "</table>\n",
              "</div>\n",
              "      <button class=\"colab-df-convert\" onclick=\"convertToInteractive('df-863c542b-2b75-467f-970c-8f4b7a8c3751')\"\n",
              "              title=\"Convert this dataframe to an interactive table.\"\n",
              "              style=\"display:none;\">\n",
              "        \n",
              "  <svg xmlns=\"http://www.w3.org/2000/svg\" height=\"24px\"viewBox=\"0 0 24 24\"\n",
              "       width=\"24px\">\n",
              "    <path d=\"M0 0h24v24H0V0z\" fill=\"none\"/>\n",
              "    <path d=\"M18.56 5.44l.94 2.06.94-2.06 2.06-.94-2.06-.94-.94-2.06-.94 2.06-2.06.94zm-11 1L8.5 8.5l.94-2.06 2.06-.94-2.06-.94L8.5 2.5l-.94 2.06-2.06.94zm10 10l.94 2.06.94-2.06 2.06-.94-2.06-.94-.94-2.06-.94 2.06-2.06.94z\"/><path d=\"M17.41 7.96l-1.37-1.37c-.4-.4-.92-.59-1.43-.59-.52 0-1.04.2-1.43.59L10.3 9.45l-7.72 7.72c-.78.78-.78 2.05 0 2.83L4 21.41c.39.39.9.59 1.41.59.51 0 1.02-.2 1.41-.59l7.78-7.78 2.81-2.81c.8-.78.8-2.07 0-2.86zM5.41 20L4 18.59l7.72-7.72 1.47 1.35L5.41 20z\"/>\n",
              "  </svg>\n",
              "      </button>\n",
              "      \n",
              "  <style>\n",
              "    .colab-df-container {\n",
              "      display:flex;\n",
              "      flex-wrap:wrap;\n",
              "      gap: 12px;\n",
              "    }\n",
              "\n",
              "    .colab-df-convert {\n",
              "      background-color: #E8F0FE;\n",
              "      border: none;\n",
              "      border-radius: 50%;\n",
              "      cursor: pointer;\n",
              "      display: none;\n",
              "      fill: #1967D2;\n",
              "      height: 32px;\n",
              "      padding: 0 0 0 0;\n",
              "      width: 32px;\n",
              "    }\n",
              "\n",
              "    .colab-df-convert:hover {\n",
              "      background-color: #E2EBFA;\n",
              "      box-shadow: 0px 1px 2px rgba(60, 64, 67, 0.3), 0px 1px 3px 1px rgba(60, 64, 67, 0.15);\n",
              "      fill: #174EA6;\n",
              "    }\n",
              "\n",
              "    [theme=dark] .colab-df-convert {\n",
              "      background-color: #3B4455;\n",
              "      fill: #D2E3FC;\n",
              "    }\n",
              "\n",
              "    [theme=dark] .colab-df-convert:hover {\n",
              "      background-color: #434B5C;\n",
              "      box-shadow: 0px 1px 3px 1px rgba(0, 0, 0, 0.15);\n",
              "      filter: drop-shadow(0px 1px 2px rgba(0, 0, 0, 0.3));\n",
              "      fill: #FFFFFF;\n",
              "    }\n",
              "  </style>\n",
              "\n",
              "      <script>\n",
              "        const buttonEl =\n",
              "          document.querySelector('#df-863c542b-2b75-467f-970c-8f4b7a8c3751 button.colab-df-convert');\n",
              "        buttonEl.style.display =\n",
              "          google.colab.kernel.accessAllowed ? 'block' : 'none';\n",
              "\n",
              "        async function convertToInteractive(key) {\n",
              "          const element = document.querySelector('#df-863c542b-2b75-467f-970c-8f4b7a8c3751');\n",
              "          const dataTable =\n",
              "            await google.colab.kernel.invokeFunction('convertToInteractive',\n",
              "                                                     [key], {});\n",
              "          if (!dataTable) return;\n",
              "\n",
              "          const docLinkHtml = 'Like what you see? Visit the ' +\n",
              "            '<a target=\"_blank\" href=https://colab.research.google.com/notebooks/data_table.ipynb>data table notebook</a>'\n",
              "            + ' to learn more about interactive tables.';\n",
              "          element.innerHTML = '';\n",
              "          dataTable['output_type'] = 'display_data';\n",
              "          await google.colab.output.renderOutput(dataTable, element);\n",
              "          const docLink = document.createElement('div');\n",
              "          docLink.innerHTML = docLinkHtml;\n",
              "          element.appendChild(docLink);\n",
              "        }\n",
              "      </script>\n",
              "    </div>\n",
              "  </div>\n",
              "  "
            ]
          },
          "metadata": {},
          "execution_count": 137
        }
      ],
      "source": [
        "suspect.head(5)\n"
      ]
    },
    {
      "cell_type": "code",
      "execution_count": 138,
      "id": "018032fa",
      "metadata": {
        "execution": {
          "iopub.execute_input": "2023-03-06T14:07:58.753261Z",
          "iopub.status.busy": "2023-03-06T14:07:58.752729Z",
          "iopub.status.idle": "2023-03-06T14:07:59.052051Z",
          "shell.execute_reply": "2023-03-06T14:07:59.049619Z",
          "shell.execute_reply.started": "2023-03-06T14:07:58.753202Z"
        },
        "papermill": {
          "duration": null,
          "end_time": null,
          "exception": null,
          "start_time": null,
          "status": "pending"
        },
        "tags": [],
        "id": "018032fa",
        "colab": {
          "base_uri": "https://localhost:8080/",
          "height": 483
        },
        "outputId": "8c18da3e-3ed9-4ac1-9378-e4c3d6e0e860"
      },
      "outputs": [
        {
          "output_type": "display_data",
          "data": {
            "text/plain": [
              "<Figure size 576x576 with 1 Axes>"
            ],
            "image/png": "[encoded data removed]"
          },
          "metadata": {
            "needs_background": "light"
          }
        }
      ],
      "source": [
        "plt.hist(suspect[suspect['ENERGY STAR Score'] == 1.0]['Weather Normalized Site EUI (kBtu/ft²)'].dropna(), range = (0, 400));\n"
      ]
    },
    {
      "cell_type": "code",
      "execution_count": 139,
      "id": "7270313d",
      "metadata": {
        "execution": {
          "iopub.execute_input": "2023-03-06T14:07:59.056023Z",
          "iopub.status.busy": "2023-03-06T14:07:59.055371Z",
          "iopub.status.idle": "2023-03-06T14:07:59.377184Z",
          "shell.execute_reply": "2023-03-06T14:07:59.375114Z",
          "shell.execute_reply.started": "2023-03-06T14:07:59.055962Z"
        },
        "papermill": {
          "duration": null,
          "end_time": null,
          "exception": null,
          "start_time": null,
          "status": "pending"
        },
        "tags": [],
        "id": "7270313d",
        "colab": {
          "base_uri": "https://localhost:8080/",
          "height": 483
        },
        "outputId": "37cbf3dc-1c65-4d16-8df0-cd16ce735283"
      },
      "outputs": [
        {
          "output_type": "display_data",
          "data": {
            "text/plain": [
              "<Figure size 576x576 with 1 Axes>"
            ],
            "image/png": "[encoded data removed]"
          },
          "metadata": {
            "needs_background": "light"
          }
        }
      ],
      "source": [
        "plt.hist(suspect[suspect['ENERGY STAR Score'] == 100.0]['Weather Normalized Site EUI (kBtu/ft²)'].dropna(), range = (0, 400));\n"
      ]
    },
    {
      "cell_type": "markdown",
      "id": "0cbab2d0",
      "metadata": {
        "papermill": {
          "duration": null,
          "end_time": null,
          "exception": null,
          "start_time": null,
          "status": "pending"
        },
        "tags": [],
        "id": "0cbab2d0"
      },
      "source": [
        "It does look like buildings with Energy Star Scores of 100 have lower Site EUI than buildings with Energy Star Scores of 1.\n",
        "\n"
      ]
    },
    {
      "cell_type": "markdown",
      "id": "a4476c15",
      "metadata": {
        "papermill": {
          "duration": null,
          "end_time": null,
          "exception": null,
          "start_time": null,
          "status": "pending"
        },
        "tags": [],
        "id": "a4476c15"
      },
      "source": [
        "## Energy Star by Building Type\n"
      ]
    },
    {
      "cell_type": "code",
      "execution_count": 140,
      "id": "6eb74ece",
      "metadata": {
        "execution": {
          "iopub.execute_input": "2023-03-06T14:07:59.379807Z",
          "iopub.status.busy": "2023-03-06T14:07:59.379320Z",
          "iopub.status.idle": "2023-03-06T14:07:59.907784Z",
          "shell.execute_reply": "2023-03-06T14:07:59.905883Z",
          "shell.execute_reply.started": "2023-03-06T14:07:59.379767Z"
        },
        "papermill": {
          "duration": null,
          "end_time": null,
          "exception": null,
          "start_time": null,
          "status": "pending"
        },
        "tags": [],
        "id": "6eb74ece",
        "colab": {
          "base_uri": "https://localhost:8080/",
          "height": 639
        },
        "outputId": "fa83a8ce-8ecd-4d00-a2f7-df6ac7b6b19a"
      },
      "outputs": [
        {
          "output_type": "execute_result",
          "data": {
            "text/plain": [
              "<matplotlib.legend.Legend at 0x7f972e11c940>"
            ]
          },
          "metadata": {},
          "execution_count": 140
        },
        {
          "output_type": "display_data",
          "data": {
            "text/plain": [
              "<Figure size 1008x720 with 1 Axes>"
            ],
            "image/png": "[encoded data removed]"
          },
          "metadata": {
            "needs_background": "light"
          }
        }
      ],
      "source": [
        "# Create a list of buildings with more than 80 measurements\n",
        "types = data_df.dropna(subset=['ENERGY STAR Score'])\n",
        "types = types['Primary Property Type - Self Selected'].value_counts()\n",
        "types = list(types[types.values > 80].index)\n",
        "\n",
        "figsize(14, 10)\n",
        "\n",
        "# Plot each building\n",
        "for b_type in types:\n",
        "    # Select the building type\n",
        "    subset = data_df[data_df['Primary Property Type - Self Selected'] == b_type]\n",
        "    \n",
        "    # Density plot of Energy Star scores\n",
        "    sns.kdeplot(subset['ENERGY STAR Score'].dropna(),\n",
        "               label = b_type);\n",
        "    \n",
        "plt.xlabel('Energy Star Score'); plt.ylabel('Density'); \n",
        "plt.title('Density Plot of Energy Star Scores');\n",
        "plt.legend(loc=\"upper right\")"
      ]
    },
    {
      "cell_type": "markdown",
      "id": "8772ce81",
      "metadata": {
        "papermill": {
          "duration": null,
          "end_time": null,
          "exception": null,
          "start_time": null,
          "status": "pending"
        },
        "tags": [],
        "id": "8772ce81"
      },
      "source": [
        "Office buildings tend to have much higher Energy Star Scores than hotels and senior care communities. Residence halls and non-refrigerated warehouses also have higher scores while multifamily housing has a bi-modal distribution of scores similar to the overall distribution. It would be useful to see if this holds across a larger sample size, and to get more data to figure out why some building types tend to do better."
      ]
    },
    {
      "cell_type": "markdown",
      "id": "bb085503",
      "metadata": {
        "papermill": {
          "duration": null,
          "end_time": null,
          "exception": null,
          "start_time": null,
          "status": "pending"
        },
        "tags": [],
        "id": "bb085503"
      },
      "source": [
        "## Site EUI by Building Type"
      ]
    },
    {
      "cell_type": "markdown",
      "id": "69fabda0",
      "metadata": {
        "papermill": {
          "duration": null,
          "end_time": null,
          "exception": null,
          "start_time": null,
          "status": "pending"
        },
        "tags": [],
        "id": "69fabda0"
      },
      "source": [
        "I identified that there was a negative correlation between the Site EUI and the Energy Star Score. We can plot the Site EUI by building type to see if there is also a difference in Site EUI between building types."
      ]
    },
    {
      "cell_type": "code",
      "execution_count": 141,
      "id": "112bdc62",
      "metadata": {
        "execution": {
          "iopub.execute_input": "2023-03-06T14:07:59.910070Z",
          "iopub.status.busy": "2023-03-06T14:07:59.909691Z",
          "iopub.status.idle": "2023-03-06T14:08:00.459391Z",
          "shell.execute_reply": "2023-03-06T14:08:00.457360Z",
          "shell.execute_reply.started": "2023-03-06T14:07:59.910035Z"
        },
        "papermill": {
          "duration": null,
          "end_time": null,
          "exception": null,
          "start_time": null,
          "status": "pending"
        },
        "tags": [],
        "id": "112bdc62",
        "colab": {
          "base_uri": "https://localhost:8080/",
          "height": 639
        },
        "outputId": "0a4de949-49b2-4aba-d242-0ffb9f59ddd2"
      },
      "outputs": [
        {
          "output_type": "execute_result",
          "data": {
            "text/plain": [
              "<matplotlib.legend.Legend at 0x7f972e0a0f70>"
            ]
          },
          "metadata": {},
          "execution_count": 141
        },
        {
          "output_type": "display_data",
          "data": {
            "text/plain": [
              "<Figure size 1008x720 with 1 Axes>"
            ],
            "image/png": "[encoded data removed]"
          },
          "metadata": {
            "needs_background": "light"
          }
        }
      ],
      "source": [
        "figsize(14, 10)\n",
        "\n",
        "# Plot the site EUI density plot for each building type\n",
        "for b_type in types:\n",
        "    # Remove outliers before plotting\n",
        "    subset = data_df[(data_df['Weather Normalized Site EUI (kBtu/ft²)'] < 300) & \n",
        "                     (data_df['Primary Property Type - Self Selected'] == b_type)]\n",
        "    \n",
        "    # Plot the site EUI on a density plot\n",
        "    sns.kdeplot(subset['Weather Normalized Site EUI (kBtu/ft²)'].dropna(), \n",
        "                label = b_type);\n",
        "    \n",
        "plt.xlabel('Site EUI (kBtu/ft^2)'); plt.ylabel('Density'); \n",
        "plt.title('Density Plot of Site EUI');\n",
        "plt.legend(loc=\"upper right\")"
      ]
    },
    {
      "cell_type": "markdown",
      "id": "a4d8496a",
      "metadata": {
        "papermill": {
          "duration": null,
          "end_time": null,
          "exception": null,
          "start_time": null,
          "status": "pending"
        },
        "tags": [],
        "id": "a4d8496a"
      },
      "source": [
        "This plot provides us with another conclusion: there appears to be a negative correlation between the Site EUI and the Energy Star Score based on comparing the two distributions between building types. Building types with lower Site EUI's tend to have higher Energy Star Scores. The higher the energy use intensity (which is energy use / area), the \"worse\" the building's energy efficiency performance. We can visualize the relationship between the Energy Star Score and the Site EUI in a scatterplot."
      ]
    },
    {
      "cell_type": "markdown",
      "id": "06065010",
      "metadata": {
        "papermill": {
          "duration": null,
          "end_time": null,
          "exception": null,
          "start_time": null,
          "status": "pending"
        },
        "tags": [],
        "id": "06065010"
      },
      "source": [
        "## Energy Star Score vs Site EUI"
      ]
    },
    {
      "cell_type": "code",
      "execution_count": 142,
      "id": "c6fe0a2d",
      "metadata": {
        "execution": {
          "iopub.execute_input": "2023-03-06T14:08:00.464003Z",
          "iopub.status.busy": "2023-03-06T14:08:00.462318Z",
          "iopub.status.idle": "2023-03-06T14:08:01.588183Z",
          "shell.execute_reply": "2023-03-06T14:08:01.586517Z",
          "shell.execute_reply.started": "2023-03-06T14:08:00.463937Z"
        },
        "papermill": {
          "duration": null,
          "end_time": null,
          "exception": null,
          "start_time": null,
          "status": "pending"
        },
        "tags": [],
        "id": "c6fe0a2d",
        "colab": {
          "base_uri": "https://localhost:8080/",
          "height": 754
        },
        "outputId": "bb404dca-c374-4e22-dce5-5711af02538b"
      },
      "outputs": [
        {
          "output_type": "display_data",
          "data": {
            "text/plain": [
              "<Figure size 1044.38x720 with 1 Axes>"
            ],
            "image/png": "[encoded data removed]"
          },
          "metadata": {
            "needs_background": "light"
          }
        }
      ],
      "source": [
        "figsize(14, 10)\n",
        "\n",
        "# Subset to the buildings with most measurements and remove outliers\n",
        "subset = data_df[(data_df['Weather Normalized Site EUI (kBtu/ft²)'] < 300) & \n",
        "             (data_df['Primary Property Type - Self Selected'].isin(types))]\n",
        "\n",
        "# Drop the buildings without a value\n",
        "subset = subset.dropna(subset=['ENERGY STAR Score', \n",
        "                               'Weather Normalized Site EUI (kBtu/ft²)'])\n",
        "\n",
        "subset = subset.rename(columns={'Primary Property Type - Self Selected': 'Property Type'})\n",
        "\n",
        "\n",
        "# Linear Plot of Energy Star Score vs EUI\n",
        "sns.lmplot(x='Weather Normalized Site EUI (kBtu/ft²)', y='ENERGY STAR Score', \n",
        "           data = subset, hue = 'Property Type', \n",
        "           scatter_kws={'alpha': 0.8, 's': 32}, fit_reg=False,height= 10, \n",
        "            aspect = 1.2);\n",
        "\n",
        "plt.title('Energy Star Score vs Site EUI', size = 24);"
      ]
    },
    {
      "cell_type": "markdown",
      "id": "d7342816",
      "metadata": {
        "papermill": {
          "duration": null,
          "end_time": null,
          "exception": null,
          "start_time": null,
          "status": "pending"
        },
        "tags": [],
        "id": "d7342816"
      },
      "source": [
        "The plot shows the expected negative relationship between Energy Star Score and Site EUI. This relationship looks like it holds across building types. To quantify the relationship, we can calculate the Pearson Correlation Coeffiecient between the two variables. This is a measure of linear correlation which shows both the strength and the direction of the relationship. We will look at the correlation coefficient between Energy Star Scores and several measures."
      ]
    },
    {
      "cell_type": "code",
      "execution_count": 142,
      "id": "25bff6e1",
      "metadata": {
        "papermill": {
          "duration": null,
          "end_time": null,
          "exception": null,
          "start_time": null,
          "status": "pending"
        },
        "tags": [],
        "id": "25bff6e1"
      },
      "outputs": [],
      "source": []
    },
    {
      "cell_type": "markdown",
      "id": "cfe040cf",
      "metadata": {
        "papermill": {
          "duration": null,
          "end_time": null,
          "exception": null,
          "start_time": null,
          "status": "pending"
        },
        "tags": [],
        "id": "cfe040cf"
      },
      "source": [
        "## Feature Engineering"
      ]
    },
    {
      "cell_type": "markdown",
      "id": "7f5336da",
      "metadata": {
        "papermill": {
          "duration": null,
          "end_time": null,
          "exception": null,
          "start_time": null,
          "status": "pending"
        },
        "tags": [],
        "id": "7f5336da"
      },
      "source": [
        "'NYC Borough, Block and Lot (BBL) self-reported' is equal to 'BBL - 10 digits', where the first digit represents the 'Borough', next five digits 'Tax Block' and last four 'Tax Lot', plus we have already a 'Borough' column in the dataset. -- Since there are only two missing values at 'BBL - 10 digits', but more on the others, I'll check if I can use it to fill in the missing information."
      ]
    },
    {
      "cell_type": "code",
      "execution_count": 143,
      "id": "3be92c28",
      "metadata": {
        "execution": {
          "iopub.execute_input": "2023-03-06T14:08:01.590911Z",
          "iopub.status.busy": "2023-03-06T14:08:01.590428Z",
          "iopub.status.idle": "2023-03-06T14:08:01.664024Z",
          "shell.execute_reply": "2023-03-06T14:08:01.661252Z",
          "shell.execute_reply.started": "2023-03-06T14:08:01.590869Z"
        },
        "papermill": {
          "duration": null,
          "end_time": null,
          "exception": null,
          "start_time": null,
          "status": "pending"
        },
        "tags": [],
        "id": "3be92c28"
      },
      "outputs": [],
      "source": [
        "data_df['Largest Property Use Rate'] = data_df['Largest Property Use Type - Gross Floor Area (ft²)']/data_df['Property GFA - Self-Reported (ft²)']\n",
        "data_df['2nd Property Use Rate'] = data_df['2nd Largest Property Use - Gross Floor Area (ft²)']/data_df['Property GFA - Self-Reported (ft²)']\n",
        "data_df['3rd Property Use Rate'] = data_df['3rd Largest Property Use Type - Gross Floor Area (ft²)']/data_df['Property GFA - Self-Reported (ft²)']\n",
        "data_df['Direct GHG Emissions Rate'] = data_df['Direct GHG Emissions (Metric Tons CO2e)']/data_df['Total GHG Emissions (Metric Tons CO2e)']\n",
        "data_df['BBL - 10 digits'] = data_df['BBL - 10 digits'].str.extract('(\\d+)', expand=False)\n",
        "data_df['Borough'] = data_df['BBL - 10 digits'].str[0]\n",
        "data_df['Tax Block'] = data_df['BBL - 10 digits'].str[1:6]\n",
        "data_df['Tax Lot'] = data_df['BBL - 10 digits'].str[6:10]\n",
        "data_df['Postal Code'] = data_df['Postal Code'].astype(str)\n",
        "data_df['Year Built'] = data_df['Year Built'].astype(str)\n",
        "data_df['Borough'] = data_df['Borough'].astype(str)\n",
        "data_df['Tax Block'] = data_df['Tax Block'].astype(str)\n",
        "data_df['Tax Lot'] = data_df['Tax Lot'].astype(str)\n",
        "data_df['Property Id'] = data_df['Property Id'].astype(str)"
      ]
    },
    {
      "cell_type": "code",
      "execution_count": 143,
      "id": "d01c74b3",
      "metadata": {
        "papermill": {
          "duration": null,
          "end_time": null,
          "exception": null,
          "start_time": null,
          "status": "pending"
        },
        "tags": [],
        "id": "d01c74b3"
      },
      "outputs": [],
      "source": []
    },
    {
      "cell_type": "markdown",
      "id": "852ebc26",
      "metadata": {
        "papermill": {
          "duration": null,
          "end_time": null,
          "exception": null,
          "start_time": null,
          "status": "pending"
        },
        "tags": [],
        "id": "852ebc26"
      },
      "source": [
        "The Property Type colums has a lot of values, some that appears more often and others less. I have put them all together, and split into categories that I believed made a bit of sense, while also looking at their frequency."
      ]
    },
    {
      "cell_type": "code",
      "execution_count": 144,
      "id": "c2286cef",
      "metadata": {
        "execution": {
          "iopub.execute_input": "2023-03-06T14:08:01.666561Z",
          "iopub.status.busy": "2023-03-06T14:08:01.666036Z",
          "iopub.status.idle": "2023-03-06T14:08:01.682710Z",
          "shell.execute_reply": "2023-03-06T14:08:01.680374Z",
          "shell.execute_reply.started": "2023-03-06T14:08:01.666516Z"
        },
        "papermill": {
          "duration": null,
          "end_time": null,
          "exception": null,
          "start_time": null,
          "status": "pending"
        },
        "tags": [],
        "id": "c2286cef"
      },
      "outputs": [],
      "source": [
        "property_type = {'Multifamily Housing':'Multifamily Housing',  \n",
        "            'Residence Hall/Dormitory':'Residence Hall/Dormitory',\n",
        "            'Other - Lodging/Residential':'Residence Hall/Dormitory',\n",
        "            'Hotel':'Hotel',\n",
        "            'Adult Education':'College/University',\n",
        "            'College/University':'College/University',\n",
        "            'K-12 School':'College/University',\n",
        "            'Library':'College/University',\n",
        "            'Vocational School':'College/University',\n",
        "            'Other - Education':'College/University',\n",
        "            'Office':'Office',\n",
        "            'Medical Office':'Office',\n",
        "            'Financial Office':'Office',\n",
        "            'Bank Branch':'Office',\n",
        "            'Distribution Center':'Distribution Center',\n",
        "            'Self-Storage Facility':'Distribution Center',\n",
        "            'Wholesale Club/Supercenter':'Distribution Center',\n",
        "            'Non-Refrigerated Warehouse':'Distribution Center',\n",
        "            'Fast Food Restaurant':'Food Service',\n",
        "            'Food Sales':'Food Service',\n",
        "            'Food Service':'Food Service',\n",
        "            'Restaurant':'Food Service',\n",
        "            'Supermarket/Grocery Store':'Food Service',\n",
        "            'Convenience Store without Gas Station':'Food Service',\n",
        "            'Other - Restaurant/Bar':'Food Service',\n",
        "            'Hospital (General Medical & Surgical)':'Senior Care Community',\n",
        "            'Urgent Care/Clinic/Other Outpatient':'Senior Care Community',\n",
        "            'Ambulatory Surgical Center':'Senior Care Community',\n",
        "            'Laboratory':'Senior Care Community',\n",
        "            'Pre-school/Daycare':'Senior Care Community',\n",
        "            'Senior Care Community':'Senior Care Community',\n",
        "            'Outpatient Rehabilitation/Physical Therapy':'Senior Care Community',\n",
        "            'Retail Store':'Retail Store',\n",
        "            'Repair Services (Vehicle, Shoe, Locksmith, etc.)':'Retail Store',\n",
        "            'Mailing Center/Post Office':'Retail Store',\n",
        "            'Automobile Dealership':'Retail Store',\n",
        "            'Mailing Center/Post Office':'Retail Store',\n",
        "            'Personal Services (Health/Beauty, Dry Cleaning...':'Retail Store',\n",
        "            'Enclosed Mall':'Retail Store',\n",
        "            'Other - Mall':'Retail Store',\n",
        "            'Other - Services':'Retail Store',\n",
        "            'Other - Utility':'Retail Store',\n",
        "            'Bar/Nightclub':'Recreation',\n",
        "            'Bowling Alley':'Recreation',\n",
        "            'Fitness Center/Health Club/Gym':'Recreation',\n",
        "            'Other - Recreation':'Recreation',\n",
        "            'Other - Entertainment/Public Assembly':'Recreation',\n",
        "            'Performing Arts':'Recreation',\n",
        "            'Social/Meeting Hall':'Recreation',\n",
        "            'Museum':'Recreation',\n",
        "            'Worship Facility':'Recreation',\n",
        "            'Other':'Other',\n",
        "            'Courthouse':'Other',\n",
        "            'Other - Public Services':'Other',\n",
        "            'Swimming Pool':'Other',\n",
        "            'Parking':'Other',\n",
        "            'Refrigerated Warehouse':'Other',\n",
        "            'Data Center':'Other',\n",
        "            'none':'none'\n",
        "              }"
      ]
    },
    {
      "cell_type": "code",
      "execution_count": 145,
      "id": "47ec0ebd",
      "metadata": {
        "execution": {
          "iopub.execute_input": "2023-03-06T14:08:01.685511Z",
          "iopub.status.busy": "2023-03-06T14:08:01.685015Z",
          "iopub.status.idle": "2023-03-06T14:08:01.721717Z",
          "shell.execute_reply": "2023-03-06T14:08:01.720121Z",
          "shell.execute_reply.started": "2023-03-06T14:08:01.685468Z"
        },
        "papermill": {
          "duration": null,
          "end_time": null,
          "exception": null,
          "start_time": null,
          "status": "pending"
        },
        "tags": [],
        "id": "47ec0ebd"
      },
      "outputs": [],
      "source": [
        "data_df['Largest Property Use Type'] = data_df['Largest Property Use Type'].map(property_type).astype(str)\n",
        "data_df['2nd Largest Property Use Type'] = data_df['2nd Largest Property Use Type'].map(property_type).astype(str)\n",
        "data_df['3rd Largest Property Use Type'] = data_df['3rd Largest Property Use Type'].map(property_type).astype(str)"
      ]
    },
    {
      "cell_type": "code",
      "execution_count": 146,
      "id": "7d4484ec",
      "metadata": {
        "execution": {
          "iopub.execute_input": "2023-03-06T14:08:01.725296Z",
          "iopub.status.busy": "2023-03-06T14:08:01.724140Z",
          "iopub.status.idle": "2023-03-06T14:08:01.832651Z",
          "shell.execute_reply": "2023-03-06T14:08:01.831280Z",
          "shell.execute_reply.started": "2023-03-06T14:08:01.725230Z"
        },
        "papermill": {
          "duration": null,
          "end_time": null,
          "exception": null,
          "start_time": null,
          "status": "pending"
        },
        "tags": [],
        "id": "7d4484ec"
      },
      "outputs": [],
      "source": [
        "from sklearn.preprocessing import LabelEncoder,OrdinalEncoder\n",
        "\n",
        "le = LabelEncoder()\n",
        "data_df['n_Postal Code'] = le.fit_transform(data_df['Postal Code'])\n",
        "data_df['n_Parent Property Id'] = le.fit_transform(data_df['Parent Property Id'])\n",
        "data_df['n_Property Id'] = le.fit_transform(data_df['Property Id'])\n",
        "data_df['n_Tax Lot'] = le.fit_transform(data_df['Tax Lot'])\n",
        "data_df['n_Tax Block'] = le.fit_transform(data_df['Tax Block'])\n",
        "data_df['n_3rd Largest Property Use Type'] = le.fit_transform(data_df['3rd Largest Property Use Type'])\n",
        "data_df['n_2nd Largest Property Use Type'] = le.fit_transform(data_df['2nd Largest Property Use Type'])\n",
        "data_df['n_Primary Property Type - Self Selected'] = le.fit_transform(data_df['Primary Property Type - Self Selected'])\n",
        "\n",
        "#oe = OrdinalEncoder() -- discretize!!\n",
        "data_df['n_Year Built'] = le.fit_transform(data_df['Year Built'])"
      ]
    },
    {
      "cell_type": "code",
      "execution_count": 147,
      "id": "d498d9fa",
      "metadata": {
        "execution": {
          "iopub.execute_input": "2023-03-06T14:08:01.842800Z",
          "iopub.status.busy": "2023-03-06T14:08:01.841977Z",
          "iopub.status.idle": "2023-03-06T14:08:01.848656Z",
          "shell.execute_reply": "2023-03-06T14:08:01.847129Z",
          "shell.execute_reply.started": "2023-03-06T14:08:01.842745Z"
        },
        "papermill": {
          "duration": null,
          "end_time": null,
          "exception": null,
          "start_time": null,
          "status": "pending"
        },
        "tags": [],
        "id": "d498d9fa"
      },
      "outputs": [],
      "source": [
        "# selection = ['Postal Code','Parent Property Id','Property Id','Tax Lot','Tax Block',\n",
        "#         '3rd Largest Property Use Type','2nd Largest Property Use Type',\n",
        "#         'Primary Property Type - Self Selected','Year Built']\n",
        "\n",
        "# data_df = data_df.drop(selection, axis = 1)"
      ]
    },
    {
      "cell_type": "code",
      "execution_count": 148,
      "id": "fcc01b23",
      "metadata": {
        "execution": {
          "iopub.execute_input": "2023-03-06T14:08:01.850699Z",
          "iopub.status.busy": "2023-03-06T14:08:01.850217Z",
          "iopub.status.idle": "2023-03-06T14:08:01.866370Z",
          "shell.execute_reply": "2023-03-06T14:08:01.864442Z",
          "shell.execute_reply.started": "2023-03-06T14:08:01.850655Z"
        },
        "papermill": {
          "duration": null,
          "end_time": null,
          "exception": null,
          "start_time": null,
          "status": "pending"
        },
        "tags": [],
        "id": "fcc01b23",
        "colab": {
          "base_uri": "https://localhost:8080/"
        },
        "outputId": "fa0d9b99-09af-4f05-ccc2-4927caf1c960"
      },
      "outputs": [
        {
          "output_type": "execute_result",
          "data": {
            "text/plain": [
              "(11746, 75)"
            ]
          },
          "metadata": {},
          "execution_count": 148
        }
      ],
      "source": [
        "data_df.shape"
      ]
    },
    {
      "cell_type": "code",
      "execution_count": 149,
      "id": "a9c3d59e",
      "metadata": {
        "execution": {
          "iopub.execute_input": "2023-03-06T14:08:01.869512Z",
          "iopub.status.busy": "2023-03-06T14:08:01.869023Z",
          "iopub.status.idle": "2023-03-06T14:08:01.901760Z",
          "shell.execute_reply": "2023-03-06T14:08:01.899595Z",
          "shell.execute_reply.started": "2023-03-06T14:08:01.869467Z"
        },
        "papermill": {
          "duration": null,
          "end_time": null,
          "exception": null,
          "start_time": null,
          "status": "pending"
        },
        "tags": [],
        "id": "a9c3d59e"
      },
      "outputs": [],
      "source": [
        "# List of Variables to find correlation coefficients\n",
        "features = ['Primary Property Type - Self Selected',\n",
        "            'Weather Normalized Site EUI (kBtu/ft²)',\n",
        "            'Weather Normalized Site Electricity Intensity (kWh/ft²)',\n",
        "             'Largest Property Use Type - Gross Floor Area (ft²)',\n",
        "            'Natural Gas Use (kBtu)',\n",
        "            'ENERGY STAR Score']\n",
        "\n",
        "subset = data_df[features].dropna()\n",
        "subset = subset[subset['Primary Property Type - Self Selected'].isin(types)]\n",
        "\n",
        "# Rename the columns\n",
        "subset.columns = ['Property Type', 'Site EUI', \n",
        "                  'Electricity Intensity', 'Floor Area',\n",
        "                  'Natural Gas', 'Energy Star Score']\n",
        "\n",
        "# Remove outliers\n",
        "subset = subset[subset['Site EUI'] < 300]"
      ]
    },
    {
      "cell_type": "code",
      "execution_count": 150,
      "id": "096784d3",
      "metadata": {
        "execution": {
          "iopub.execute_input": "2023-03-06T14:08:01.903803Z",
          "iopub.status.busy": "2023-03-06T14:08:01.903368Z",
          "iopub.status.idle": "2023-03-06T14:08:01.942209Z",
          "shell.execute_reply": "2023-03-06T14:08:01.940020Z",
          "shell.execute_reply.started": "2023-03-06T14:08:01.903765Z"
        },
        "papermill": {
          "duration": null,
          "end_time": null,
          "exception": null,
          "start_time": null,
          "status": "pending"
        },
        "tags": [],
        "id": "096784d3",
        "colab": {
          "base_uri": "https://localhost:8080/",
          "height": 802
        },
        "outputId": "b350af0c-8431-4ade-f3b3-882aed956f0b"
      },
      "outputs": [
        {
          "output_type": "execute_result",
          "data": {
            "text/plain": [
              "                 Property Type               Variable  Correlation with Score\n",
              "0                        Hotel               Site EUI               -0.598284\n",
              "1                        Hotel  Electricity Intensity               -0.553256\n",
              "2                        Hotel             Floor Area                0.042204\n",
              "3                        Hotel            Natural Gas               -0.097727\n",
              "5          Multifamily Housing               Site EUI               -0.743034\n",
              "6          Multifamily Housing  Electricity Intensity               -0.602274\n",
              "7          Multifamily Housing             Floor Area               -0.007159\n",
              "8          Multifamily Housing            Natural Gas               -0.168528\n",
              "10  Non-Refrigerated Warehouse               Site EUI               -0.726648\n",
              "11  Non-Refrigerated Warehouse  Electricity Intensity               -0.719545\n",
              "12  Non-Refrigerated Warehouse             Floor Area                0.125143\n",
              "13  Non-Refrigerated Warehouse            Natural Gas               -0.221939\n",
              "15                      Office               Site EUI               -0.784825\n",
              "16                      Office  Electricity Intensity               -0.705143\n",
              "17                      Office             Floor Area                0.041398\n",
              "18                      Office            Natural Gas               -0.141701\n",
              "20    Residence Hall/Dormitory               Site EUI               -0.876173\n",
              "21    Residence Hall/Dormitory  Electricity Intensity               -0.727305\n",
              "22    Residence Hall/Dormitory             Floor Area               -0.071806\n",
              "23    Residence Hall/Dormitory            Natural Gas               -0.391847\n",
              "25       Senior Care Community               Site EUI               -0.566617\n",
              "26       Senior Care Community  Electricity Intensity               -0.572131\n",
              "27       Senior Care Community             Floor Area                0.105373\n",
              "28       Senior Care Community            Natural Gas               -0.283634"
            ],
            "text/html": [
              "\n",
              "  <div id=\"df-ff5fa426-3cb9-48b9-a0f6-593cc9c372a4\">\n",
              "    <div class=\"colab-df-container\">\n",
              "      <div>\n",
              "<style scoped>\n",
              "    .dataframe tbody tr th:only-of-type {\n",
              "        vertical-align: middle;\n",
              "    }\n",
              "\n",
              "    .dataframe tbody tr th {\n",
              "        vertical-align: top;\n",
              "    }\n",
              "\n",
              "    .dataframe thead th {\n",
              "        text-align: right;\n",
              "    }\n",
              "</style>\n",
              "<table border=\"1\" class=\"dataframe\">\n",
              "  <thead>\n",
              "    <tr style=\"text-align: right;\">\n",
              "      <th></th>\n",
              "      <th>Property Type</th>\n",
              "      <th>Variable</th>\n",
              "      <th>Correlation with Score</th>\n",
              "    </tr>\n",
              "  </thead>\n",
              "  <tbody>\n",
              "    <tr>\n",
              "      <th>0</th>\n",
              "      <td>Hotel</td>\n",
              "      <td>Site EUI</td>\n",
              "      <td>-0.598284</td>\n",
              "    </tr>\n",
              "    <tr>\n",
              "      <th>1</th>\n",
              "      <td>Hotel</td>\n",
              "      <td>Electricity Intensity</td>\n",
              "      <td>-0.553256</td>\n",
              "    </tr>\n",
              "    <tr>\n",
              "      <th>2</th>\n",
              "      <td>Hotel</td>\n",
              "      <td>Floor Area</td>\n",
              "      <td>0.042204</td>\n",
              "    </tr>\n",
              "    <tr>\n",
              "      <th>3</th>\n",
              "      <td>Hotel</td>\n",
              "      <td>Natural Gas</td>\n",
              "      <td>-0.097727</td>\n",
              "    </tr>\n",
              "    <tr>\n",
              "      <th>5</th>\n",
              "      <td>Multifamily Housing</td>\n",
              "      <td>Site EUI</td>\n",
              "      <td>-0.743034</td>\n",
              "    </tr>\n",
              "    <tr>\n",
              "      <th>6</th>\n",
              "      <td>Multifamily Housing</td>\n",
              "      <td>Electricity Intensity</td>\n",
              "      <td>-0.602274</td>\n",
              "    </tr>\n",
              "    <tr>\n",
              "      <th>7</th>\n",
              "      <td>Multifamily Housing</td>\n",
              "      <td>Floor Area</td>\n",
              "      <td>-0.007159</td>\n",
              "    </tr>\n",
              "    <tr>\n",
              "      <th>8</th>\n",
              "      <td>Multifamily Housing</td>\n",
              "      <td>Natural Gas</td>\n",
              "      <td>-0.168528</td>\n",
              "    </tr>\n",
              "    <tr>\n",
              "      <th>10</th>\n",
              "      <td>Non-Refrigerated Warehouse</td>\n",
              "      <td>Site EUI</td>\n",
              "      <td>-0.726648</td>\n",
              "    </tr>\n",
              "    <tr>\n",
              "      <th>11</th>\n",
              "      <td>Non-Refrigerated Warehouse</td>\n",
              "      <td>Electricity Intensity</td>\n",
              "      <td>-0.719545</td>\n",
              "    </tr>\n",
              "    <tr>\n",
              "      <th>12</th>\n",
              "      <td>Non-Refrigerated Warehouse</td>\n",
              "      <td>Floor Area</td>\n",
              "      <td>0.125143</td>\n",
              "    </tr>\n",
              "    <tr>\n",
              "      <th>13</th>\n",
              "      <td>Non-Refrigerated Warehouse</td>\n",
              "      <td>Natural Gas</td>\n",
              "      <td>-0.221939</td>\n",
              "    </tr>\n",
              "    <tr>\n",
              "      <th>15</th>\n",
              "      <td>Office</td>\n",
              "      <td>Site EUI</td>\n",
              "      <td>-0.784825</td>\n",
              "    </tr>\n",
              "    <tr>\n",
              "      <th>16</th>\n",
              "      <td>Office</td>\n",
              "      <td>Electricity Intensity</td>\n",
              "      <td>-0.705143</td>\n",
              "    </tr>\n",
              "    <tr>\n",
              "      <th>17</th>\n",
              "      <td>Office</td>\n",
              "      <td>Floor Area</td>\n",
              "      <td>0.041398</td>\n",
              "    </tr>\n",
              "    <tr>\n",
              "      <th>18</th>\n",
              "      <td>Office</td>\n",
              "      <td>Natural Gas</td>\n",
              "      <td>-0.141701</td>\n",
              "    </tr>\n",
              "    <tr>\n",
              "      <th>20</th>\n",
              "      <td>Residence Hall/Dormitory</td>\n",
              "      <td>Site EUI</td>\n",
              "      <td>-0.876173</td>\n",
              "    </tr>\n",
              "    <tr>\n",
              "      <th>21</th>\n",
              "      <td>Residence Hall/Dormitory</td>\n",
              "      <td>Electricity Intensity</td>\n",
              "      <td>-0.727305</td>\n",
              "    </tr>\n",
              "    <tr>\n",
              "      <th>22</th>\n",
              "      <td>Residence Hall/Dormitory</td>\n",
              "      <td>Floor Area</td>\n",
              "      <td>-0.071806</td>\n",
              "    </tr>\n",
              "    <tr>\n",
              "      <th>23</th>\n",
              "      <td>Residence Hall/Dormitory</td>\n",
              "      <td>Natural Gas</td>\n",
              "      <td>-0.391847</td>\n",
              "    </tr>\n",
              "    <tr>\n",
              "      <th>25</th>\n",
              "      <td>Senior Care Community</td>\n",
              "      <td>Site EUI</td>\n",
              "      <td>-0.566617</td>\n",
              "    </tr>\n",
              "    <tr>\n",
              "      <th>26</th>\n",
              "      <td>Senior Care Community</td>\n",
              "      <td>Electricity Intensity</td>\n",
              "      <td>-0.572131</td>\n",
              "    </tr>\n",
              "    <tr>\n",
              "      <th>27</th>\n",
              "      <td>Senior Care Community</td>\n",
              "      <td>Floor Area</td>\n",
              "      <td>0.105373</td>\n",
              "    </tr>\n",
              "    <tr>\n",
              "      <th>28</th>\n",
              "      <td>Senior Care Community</td>\n",
              "      <td>Natural Gas</td>\n",
              "      <td>-0.283634</td>\n",
              "    </tr>\n",
              "  </tbody>\n",
              "</table>\n",
              "</div>\n",
              "      <button class=\"colab-df-convert\" onclick=\"convertToInteractive('df-ff5fa426-3cb9-48b9-a0f6-593cc9c372a4')\"\n",
              "              title=\"Convert this dataframe to an interactive table.\"\n",
              "              style=\"display:none;\">\n",
              "        \n",
              "  <svg xmlns=\"http://www.w3.org/2000/svg\" height=\"24px\"viewBox=\"0 0 24 24\"\n",
              "       width=\"24px\">\n",
              "    <path d=\"M0 0h24v24H0V0z\" fill=\"none\"/>\n",
              "    <path d=\"M18.56 5.44l.94 2.06.94-2.06 2.06-.94-2.06-.94-.94-2.06-.94 2.06-2.06.94zm-11 1L8.5 8.5l.94-2.06 2.06-.94-2.06-.94L8.5 2.5l-.94 2.06-2.06.94zm10 10l.94 2.06.94-2.06 2.06-.94-2.06-.94-.94-2.06-.94 2.06-2.06.94z\"/><path d=\"M17.41 7.96l-1.37-1.37c-.4-.4-.92-.59-1.43-.59-.52 0-1.04.2-1.43.59L10.3 9.45l-7.72 7.72c-.78.78-.78 2.05 0 2.83L4 21.41c.39.39.9.59 1.41.59.51 0 1.02-.2 1.41-.59l7.78-7.78 2.81-2.81c.8-.78.8-2.07 0-2.86zM5.41 20L4 18.59l7.72-7.72 1.47 1.35L5.41 20z\"/>\n",
              "  </svg>\n",
              "      </button>\n",
              "      \n",
              "  <style>\n",
              "    .colab-df-container {\n",
              "      display:flex;\n",
              "      flex-wrap:wrap;\n",
              "      gap: 12px;\n",
              "    }\n",
              "\n",
              "    .colab-df-convert {\n",
              "      background-color: #E8F0FE;\n",
              "      border: none;\n",
              "      border-radius: 50%;\n",
              "      cursor: pointer;\n",
              "      display: none;\n",
              "      fill: #1967D2;\n",
              "      height: 32px;\n",
              "      padding: 0 0 0 0;\n",
              "      width: 32px;\n",
              "    }\n",
              "\n",
              "    .colab-df-convert:hover {\n",
              "      background-color: #E2EBFA;\n",
              "      box-shadow: 0px 1px 2px rgba(60, 64, 67, 0.3), 0px 1px 3px 1px rgba(60, 64, 67, 0.15);\n",
              "      fill: #174EA6;\n",
              "    }\n",
              "\n",
              "    [theme=dark] .colab-df-convert {\n",
              "      background-color: #3B4455;\n",
              "      fill: #D2E3FC;\n",
              "    }\n",
              "\n",
              "    [theme=dark] .colab-df-convert:hover {\n",
              "      background-color: #434B5C;\n",
              "      box-shadow: 0px 1px 3px 1px rgba(0, 0, 0, 0.15);\n",
              "      filter: drop-shadow(0px 1px 2px rgba(0, 0, 0, 0.3));\n",
              "      fill: #FFFFFF;\n",
              "    }\n",
              "  </style>\n",
              "\n",
              "      <script>\n",
              "        const buttonEl =\n",
              "          document.querySelector('#df-ff5fa426-3cb9-48b9-a0f6-593cc9c372a4 button.colab-df-convert');\n",
              "        buttonEl.style.display =\n",
              "          google.colab.kernel.accessAllowed ? 'block' : 'none';\n",
              "\n",
              "        async function convertToInteractive(key) {\n",
              "          const element = document.querySelector('#df-ff5fa426-3cb9-48b9-a0f6-593cc9c372a4');\n",
              "          const dataTable =\n",
              "            await google.colab.kernel.invokeFunction('convertToInteractive',\n",
              "                                                     [key], {});\n",
              "          if (!dataTable) return;\n",
              "\n",
              "          const docLinkHtml = 'Like what you see? Visit the ' +\n",
              "            '<a target=\"_blank\" href=https://colab.research.google.com/notebooks/data_table.ipynb>data table notebook</a>'\n",
              "            + ' to learn more about interactive tables.';\n",
              "          element.innerHTML = '';\n",
              "          dataTable['output_type'] = 'display_data';\n",
              "          await google.colab.output.renderOutput(dataTable, element);\n",
              "          const docLink = document.createElement('div');\n",
              "          docLink.innerHTML = docLinkHtml;\n",
              "          element.appendChild(docLink);\n",
              "        }\n",
              "      </script>\n",
              "    </div>\n",
              "  </div>\n",
              "  "
            ]
          },
          "metadata": {},
          "execution_count": 150
        }
      ],
      "source": [
        "# Group by the building type and calculate correlations\n",
        "corrs = pd.DataFrame(subset.groupby('Property Type').corr())\n",
        "corrs = pd.DataFrame(corrs['Energy Star Score'])\n",
        "\n",
        "# Format the dataframe for display\n",
        "corrs = corrs.reset_index()\n",
        "corrs.columns = ['Property Type', 'Variable', 'Correlation with Score']\n",
        "corrs = corrs[corrs['Variable'] != 'Energy Star Score']\n",
        "corrs"
      ]
    },
    {
      "cell_type": "markdown",
      "id": "8e8e914c",
      "metadata": {
        "papermill": {
          "duration": null,
          "end_time": null,
          "exception": null,
          "start_time": null,
          "status": "pending"
        },
        "tags": [],
        "id": "8e8e914c"
      },
      "source": [
        "This shows the correlation between Energy Star Score and three different measures by building type. For all buildings we see the following relationships: Energy Star Score is strongly negatively correlated with the Electricity Intensity and the Site EUI. The strength of the natural gas correlation depends on the dataset, but natural gas usage tends to be negatively correlated with the Energy Star Score as well. The relationship between floor area and the Energy Star score is weak for all building types."
      ]
    },
    {
      "cell_type": "markdown",
      "id": "f71c1c26",
      "metadata": {
        "papermill": {
          "duration": null,
          "end_time": null,
          "exception": null,
          "start_time": null,
          "status": "pending"
        },
        "tags": [],
        "id": "f71c1c26"
      },
      "source": [
        "## Remove Linearly dependent Variables"
      ]
    },
    {
      "cell_type": "markdown",
      "id": "be92ffd1",
      "metadata": {
        "papermill": {
          "duration": null,
          "end_time": null,
          "exception": null,
          "start_time": null,
          "status": "pending"
        },
        "tags": [],
        "id": "be92ffd1"
      },
      "source": [
        "In order to find independent variables which can be used to predict the Energy Star Score, we will want to remove varialbes that are highly collinear. For example, the Site EUI and Source EUI are collinear because they both measure a very similar metric, and including both in the model will not give us independent predictors. One quick way to remove collinear variables is by calculating the correlation coefficient between every column and remove those columns with a correlation greater than a certain threshold."
      ]
    },
    {
      "cell_type": "code",
      "execution_count": 151,
      "id": "98c99dfb",
      "metadata": {
        "execution": {
          "iopub.execute_input": "2023-03-06T14:08:01.945753Z",
          "iopub.status.busy": "2023-03-06T14:08:01.945188Z",
          "iopub.status.idle": "2023-03-06T14:08:01.959633Z",
          "shell.execute_reply": "2023-03-06T14:08:01.957927Z",
          "shell.execute_reply.started": "2023-03-06T14:08:01.945699Z"
        },
        "papermill": {
          "duration": null,
          "end_time": null,
          "exception": null,
          "start_time": null,
          "status": "pending"
        },
        "tags": [],
        "id": "98c99dfb"
      },
      "outputs": [],
      "source": [
        "def corr_df(x, corr_val):\n",
        "    '''\n",
        "    Obj: Drops features that are strongly correlated to other features.\n",
        "          This lowers model complexity, and aids in generalizing the model.\n",
        "    Inputs:\n",
        "          df: features df (x)\n",
        "          corr_val: Columns are dropped relative to the corr_val input (e.g. 0.8)\n",
        "    Output: df that only includes uncorrelated features\n",
        "    '''\n",
        "    # Dont want to remove correlations between Energy Star Score\n",
        "    y = x['ENERGY STAR Score']\n",
        "    x = x.drop(columns = ['ENERGY STAR Score'])\n",
        "    \n",
        "    # Creates Correlation Matrix and Instantiates\n",
        "    corr_matrix = x.corr()\n",
        "    iters = range(len(corr_matrix.columns) - 1)\n",
        "    drop_cols = []\n",
        "\n",
        "    # Iterates through Correlation Matrix Table to find correlated columns\n",
        "    for i in iters:\n",
        "        for j in range(i):\n",
        "            item = corr_matrix.iloc[j:(j+1), (i+1):(i+2)]\n",
        "            col = item.columns\n",
        "            row = item.index\n",
        "            val = abs(item.values)\n",
        "            if val >= corr_val:\n",
        "                # Prints the correlated feature set and the corr val\n",
        "                print(col.values[0], \"|\", row.values[0], \"|\", round(val[0][0], 2))\n",
        "                drop_cols.append(col.values[0])\n",
        "\n",
        "    drops = set(drop_cols)\n",
        "    x = x.drop(columns = drops)\n",
        "    x = x.drop(columns = ['Site EUI (kBtu/ft²)'])\n",
        "    x['ENERGY STAR Score'] = y\n",
        "               \n",
        "    return x"
      ]
    },
    {
      "cell_type": "code",
      "execution_count": 152,
      "id": "e1e39025",
      "metadata": {
        "execution": {
          "iopub.execute_input": "2023-03-06T14:08:01.962388Z",
          "iopub.status.busy": "2023-03-06T14:08:01.961269Z",
          "iopub.status.idle": "2023-03-06T14:08:01.977668Z",
          "shell.execute_reply": "2023-03-06T14:08:01.976492Z",
          "shell.execute_reply.started": "2023-03-06T14:08:01.962304Z"
        },
        "papermill": {
          "duration": null,
          "end_time": null,
          "exception": null,
          "start_time": null,
          "status": "pending"
        },
        "tags": [],
        "id": "e1e39025",
        "colab": {
          "base_uri": "https://localhost:8080/"
        },
        "outputId": "6681129f-ddc3-4788-c7c1-54e926c9fcf2"
      },
      "outputs": [
        {
          "output_type": "execute_result",
          "data": {
            "text/plain": [
              "(11746, 75)"
            ]
          },
          "metadata": {},
          "execution_count": 152
        }
      ],
      "source": [
        "data_df.shape"
      ]
    },
    {
      "cell_type": "code",
      "execution_count": 153,
      "id": "0e37abf0",
      "metadata": {
        "execution": {
          "iopub.execute_input": "2023-03-06T14:08:01.979994Z",
          "iopub.status.busy": "2023-03-06T14:08:01.979272Z",
          "iopub.status.idle": "2023-03-06T14:08:02.193109Z",
          "shell.execute_reply": "2023-03-06T14:08:02.191005Z",
          "shell.execute_reply.started": "2023-03-06T14:08:01.979947Z"
        },
        "papermill": {
          "duration": null,
          "end_time": null,
          "exception": null,
          "start_time": null,
          "status": "pending"
        },
        "tags": [],
        "id": "0e37abf0",
        "colab": {
          "base_uri": "https://localhost:8080/"
        },
        "outputId": "1979cb7e-76cc-490f-f89e-a3764f7de19a"
      },
      "outputs": [
        {
          "output_type": "stream",
          "name": "stdout",
          "text": [
            "Weather Normalized Source EUI (kBtu/ft²) | Site EUI (kBtu/ft²) | 1.0\n",
            "Weather Normalized Source EUI (kBtu/ft²) | Weather Normalized Site EUI (kBtu/ft²) | 1.0\n",
            "Fuel Oil #1 Use (kBtu) | 2nd Largest Property Use - Gross Floor Area (ft²) | 1.0\n",
            "Diesel #2 Use (kBtu) | Fuel Oil #2 Use (kBtu) | 1.0\n",
            "Total GHG Emissions (Metric Tons CO2e) | District Steam Use (kBtu) | 1.0\n",
            "Direct GHG Emissions (Metric Tons CO2e) | Natural Gas Use (kBtu) | 1.0\n",
            "Direct GHG Emissions (Metric Tons CO2e) | Weather Normalized Site Natural Gas Use (therms) | 1.0\n",
            "Indirect GHG Emissions (Metric Tons CO2e) | District Steam Use (kBtu) | 1.0\n",
            "Source EUI (kBtu/ft²) | Site EUI (kBtu/ft²) | 0.99\n",
            "Source EUI (kBtu/ft²) | Weather Normalized Site EUI (kBtu/ft²) | 0.99\n",
            "Source EUI (kBtu/ft²) | Weather Normalized Source EUI (kBtu/ft²) | 1.0\n",
            "2nd Property Use Rate | Fuel Oil #1 Use (kBtu) | 1.0\n"
          ]
        }
      ],
      "source": [
        "new_data = corr_df(data_df, corr_val = 0.99)\n"
      ]
    },
    {
      "cell_type": "code",
      "execution_count": 154,
      "id": "61af4391",
      "metadata": {
        "execution": {
          "iopub.execute_input": "2023-03-06T14:08:02.196354Z",
          "iopub.status.busy": "2023-03-06T14:08:02.195794Z",
          "iopub.status.idle": "2023-03-06T14:08:02.207288Z",
          "shell.execute_reply": "2023-03-06T14:08:02.204321Z",
          "shell.execute_reply.started": "2023-03-06T14:08:02.196303Z"
        },
        "papermill": {
          "duration": null,
          "end_time": null,
          "exception": null,
          "start_time": null,
          "status": "pending"
        },
        "tags": [],
        "id": "61af4391",
        "colab": {
          "base_uri": "https://localhost:8080/"
        },
        "outputId": "b2b3fb26-891e-4bae-f477-f7c707b968cd"
      },
      "outputs": [
        {
          "output_type": "execute_result",
          "data": {
            "text/plain": [
              "(11746, 66)"
            ]
          },
          "metadata": {},
          "execution_count": 154
        }
      ],
      "source": [
        "new_data.shape"
      ]
    },
    {
      "cell_type": "code",
      "execution_count": 155,
      "id": "0103704b",
      "metadata": {
        "execution": {
          "iopub.execute_input": "2023-03-06T14:08:02.210188Z",
          "iopub.status.busy": "2023-03-06T14:08:02.209544Z",
          "iopub.status.idle": "2023-03-06T14:08:02.223519Z",
          "shell.execute_reply": "2023-03-06T14:08:02.221568Z",
          "shell.execute_reply.started": "2023-03-06T14:08:02.210131Z"
        },
        "papermill": {
          "duration": null,
          "end_time": null,
          "exception": null,
          "start_time": null,
          "status": "pending"
        },
        "tags": [],
        "id": "0103704b",
        "colab": {
          "base_uri": "https://localhost:8080/"
        },
        "outputId": "52419853-71f7-4f37-f8ad-0d091795fb19"
      },
      "outputs": [
        {
          "output_type": "execute_result",
          "data": {
            "text/plain": [
              "(11746, 75)"
            ]
          },
          "metadata": {},
          "execution_count": 155
        }
      ],
      "source": [
        "data_df.shape"
      ]
    },
    {
      "cell_type": "code",
      "execution_count": 156,
      "id": "478b450a",
      "metadata": {
        "execution": {
          "iopub.execute_input": "2023-03-06T14:08:02.226683Z",
          "iopub.status.busy": "2023-03-06T14:08:02.225674Z",
          "iopub.status.idle": "2023-03-06T14:08:02.249497Z",
          "shell.execute_reply": "2023-03-06T14:08:02.247670Z",
          "shell.execute_reply.started": "2023-03-06T14:08:02.226616Z"
        },
        "papermill": {
          "duration": null,
          "end_time": null,
          "exception": null,
          "start_time": null,
          "status": "pending"
        },
        "tags": [],
        "id": "478b450a"
      },
      "outputs": [],
      "source": [
        "new_data= data_df.copy()"
      ]
    },
    {
      "cell_type": "markdown",
      "id": "e18e9f32",
      "metadata": {
        "papermill": {
          "duration": null,
          "end_time": null,
          "exception": null,
          "start_time": null,
          "status": "pending"
        },
        "tags": [],
        "id": "e18e9f32"
      },
      "source": [
        "## Add in Log Transformations of Variables"
      ]
    },
    {
      "cell_type": "code",
      "execution_count": 157,
      "id": "1bbac981",
      "metadata": {
        "execution": {
          "iopub.execute_input": "2023-03-06T14:08:02.252070Z",
          "iopub.status.busy": "2023-03-06T14:08:02.251611Z",
          "iopub.status.idle": "2023-03-06T14:08:02.379894Z",
          "shell.execute_reply": "2023-03-06T14:08:02.378392Z",
          "shell.execute_reply.started": "2023-03-06T14:08:02.252028Z"
        },
        "papermill": {
          "duration": null,
          "end_time": null,
          "exception": null,
          "start_time": null,
          "status": "pending"
        },
        "tags": [],
        "id": "1bbac981",
        "colab": {
          "base_uri": "https://localhost:8080/"
        },
        "outputId": "4c63b015-f519-4585-8773-6ec92897bd95"
      },
      "outputs": [
        {
          "output_type": "stream",
          "name": "stderr",
          "text": [
            "/usr/local/lib/python3.8/dist-packages/pandas/core/arraylike.py:364: RuntimeWarning: divide by zero encountered in log10\n",
            "  result = getattr(ufunc, method)(*inputs, **kwargs)\n",
            "/usr/local/lib/python3.8/dist-packages/pandas/core/arraylike.py:364: RuntimeWarning: invalid value encountered in log10\n",
            "  result = getattr(ufunc, method)(*inputs, **kwargs)\n"
          ]
        }
      ],
      "source": [
        "log_data = new_data.copy()\n",
        "\n",
        "for col in new_data.select_dtypes('number').columns:\n",
        "    log_data['log_%s' % col] = np.log10(new_data[col])\n",
        "    \n",
        "log_data = log_data.replace({-np.inf: np.nan})"
      ]
    },
    {
      "cell_type": "code",
      "execution_count": 158,
      "id": "83cd1e7b",
      "metadata": {
        "execution": {
          "iopub.execute_input": "2023-03-06T14:08:02.382079Z",
          "iopub.status.busy": "2023-03-06T14:08:02.381673Z",
          "iopub.status.idle": "2023-03-06T14:08:02.429225Z",
          "shell.execute_reply": "2023-03-06T14:08:02.427041Z",
          "shell.execute_reply.started": "2023-03-06T14:08:02.382041Z"
        },
        "papermill": {
          "duration": null,
          "end_time": null,
          "exception": null,
          "start_time": null,
          "status": "pending"
        },
        "tags": [],
        "id": "83cd1e7b",
        "colab": {
          "base_uri": "https://localhost:8080/"
        },
        "outputId": "232a90cd-dbf6-46ca-b7ec-e7e630d76373"
      },
      "outputs": [
        {
          "output_type": "stream",
          "name": "stdout",
          "text": [
            "Largest Property Use Rate\n",
            "log_Largest Property Use Rate\n"
          ]
        }
      ],
      "source": [
        "for col in log_data.select_dtypes('number').columns:\n",
        "    if np.any(np.isinf(log_data[col])):\n",
        "        print(col)"
      ]
    },
    {
      "cell_type": "code",
      "execution_count": 159,
      "id": "3274d43e",
      "metadata": {
        "execution": {
          "iopub.execute_input": "2023-03-06T14:08:02.431464Z",
          "iopub.status.busy": "2023-03-06T14:08:02.431049Z",
          "iopub.status.idle": "2023-03-06T14:08:02.714616Z",
          "shell.execute_reply": "2023-03-06T14:08:02.713140Z",
          "shell.execute_reply.started": "2023-03-06T14:08:02.431429Z"
        },
        "papermill": {
          "duration": null,
          "end_time": null,
          "exception": null,
          "start_time": null,
          "status": "pending"
        },
        "tags": [],
        "id": "3274d43e",
        "colab": {
          "base_uri": "https://localhost:8080/"
        },
        "outputId": "df126b15-913c-4fb9-d039-aa9d0d6c9a63"
      },
      "outputs": [
        {
          "output_type": "execute_result",
          "data": {
            "text/plain": [
              "log_Fuel Oil #1 Use (kBtu)                                       -0.853418\n",
              "Fuel Oil #1 Use (kBtu)                                           -0.793589\n",
              "log_Source EUI (kBtu/ft²)                                        -0.607204\n",
              "log_Site EUI (kBtu/ft²)                                          -0.604309\n",
              "log_Weather Normalized Source EUI (kBtu/ft²)                     -0.601330\n",
              "log_Weather Normalized Site EUI (kBtu/ft²)                       -0.592217\n",
              "log_Weather Normalized Site Electricity Intensity (kWh/ft²)      -0.439732\n",
              "log_Diesel #2 Use (kBtu)                                         -0.392011\n",
              "log_Total GHG Emissions (Metric Tons CO2e)                       -0.376263\n",
              "log_Direct GHG Emissions (Metric Tons CO2e)                      -0.292434\n",
              "log_Indirect GHG Emissions (Metric Tons CO2e)                    -0.274698\n",
              "log_Weather Normalized Site Natural Gas Intensity (therms/ft²)   -0.271061\n",
              "log_Electricity Use - Grid Purchase (kBtu)                       -0.270065\n",
              "log_Weather Normalized Site Electricity (kWh)                    -0.267880\n",
              "log_Fuel Oil #5 & 6 Use (kBtu)                                   -0.264992\n",
              "log_District Steam Use (kBtu)                                    -0.257183\n",
              "log_Natural Gas Use (kBtu)                                       -0.238199\n",
              "log_Fuel Oil #4 Use (kBtu)                                       -0.234198\n",
              "log_Weather Normalized Site Natural Gas Use (therms)             -0.230870\n",
              "Fuel Oil #4 Use (kBtu)                                           -0.217676\n",
              "Fuel Oil #5 & 6 Use (kBtu)                                       -0.192863\n",
              "Diesel #2 Use (kBtu)                                             -0.171081\n",
              "log_Water Intensity (All Water Sources) (gal/ft²)                -0.163406\n",
              "Fuel Oil #2 Use (kBtu)                                           -0.144715\n",
              "n_Tax Lot                                                        -0.134748\n",
              "log_3rd Property Use Rate                                        -0.132702\n",
              "log_Water Use (All Water Sources) (kgal)                         -0.128922\n",
              "n_Year Built                                                     -0.120350\n",
              "log_Fuel Oil #2 Use (kBtu)                                       -0.119845\n",
              "District Steam Use (kBtu)                                        -0.116806\n",
              "log_n_Tax Lot                                                    -0.099450\n",
              "log_2nd Property Use Rate                                        -0.097722\n",
              "log_n_Year Built                                                 -0.094590\n",
              "3rd Property Use Rate                                            -0.068082\n",
              "Weather Normalized Site Electricity Intensity (kWh/ft²)          -0.067762\n",
              "Electricity Use - Grid Purchase (kBtu)                           -0.066330\n",
              "Weather Normalized Site Electricity (kWh)                        -0.065789\n",
              "log_n_Property Id                                                -0.060003\n",
              "n_Property Id                                                    -0.049812\n",
              "2nd Property Use Rate                                            -0.048777\n",
              "Total GHG Emissions (Metric Tons CO2e)                           -0.047934\n",
              "log_Latitude                                                     -0.044315\n",
              "Latitude                                                         -0.044262\n",
              "Source EUI (kBtu/ft²)                                            -0.042873\n",
              "n_Parent Property Id                                             -0.041852\n",
              "log_n_Parent Property Id                                         -0.041377\n",
              "Weather Normalized Source EUI (kBtu/ft²)                         -0.040913\n",
              "Indirect GHG Emissions (Metric Tons CO2e)                        -0.040326\n",
              "log_2nd Largest Property Use - Gross Floor Area (ft²)            -0.038338\n",
              "Site EUI (kBtu/ft²)                                              -0.036123\n",
              "Weather Normalized Site EUI (kBtu/ft²)                           -0.035227\n",
              "Direct GHG Emissions Rate                                        -0.031912\n",
              "Occupancy                                                        -0.031116\n",
              "Longitude                                                        -0.029670\n",
              "Direct GHG Emissions (Metric Tons CO2e)                          -0.026355\n",
              "Weather Normalized Site Natural Gas Use (therms)                 -0.026215\n",
              "Natural Gas Use (kBtu)                                           -0.026170\n",
              "log_Occupancy                                                    -0.024807\n",
              "Water Use (All Water Sources) (kgal)                             -0.024555\n",
              "Weather Normalized Site Natural Gas Intensity (therms/ft²)       -0.023008\n",
              "log_3rd Largest Property Use Type - Gross Floor Area (ft²)       -0.022995\n",
              "Water Intensity (All Water Sources) (gal/ft²)                    -0.022396\n",
              "Number of Buildings - Self-reported                              -0.020564\n",
              "log_Number of Buildings - Self-reported                          -0.019025\n",
              "log_DOF Gross Floor Area                                         -0.011653\n",
              "Census Tract                                                     -0.001607\n",
              "Largest Property Use Rate                                         0.002764\n",
              "log_Census Tract                                                  0.006072\n",
              "3rd Largest Property Use Type - Gross Floor Area (ft²)            0.006367\n",
              "DOF Gross Floor Area                                              0.006877\n",
              "2nd Largest Property Use - Gross Floor Area (ft²)                 0.011300\n",
              "log_Direct GHG Emissions Rate                                     0.014480\n",
              "Property GFA - Self-Reported (ft²)                                0.016800\n",
              "Largest Property Use Type - Gross Floor Area (ft²)                0.017734\n",
              "log_Order                                                         0.018742\n",
              "log_Property GFA - Self-Reported (ft²)                            0.024727\n",
              "log_n_Postal Code                                                 0.025328\n",
              "log_n_3rd Largest Property Use Type                               0.026862\n",
              "n_Tax Block                                                       0.028112\n",
              "log_n_Tax Block                                                   0.029399\n",
              "log_Largest Property Use Type - Gross Floor Area (ft²)            0.030102\n",
              "n_3rd Largest Property Use Type                                   0.032453\n",
              "log_Largest Property Use Rate                                     0.032499\n",
              "n_2nd Largest Property Use Type                                   0.035419\n",
              "Order                                                             0.039524\n",
              "log_n_2nd Largest Property Use Type                               0.041322\n",
              "n_Postal Code                                                     0.043510\n",
              "n_Primary Property Type - Self Selected                           0.060175\n",
              "Council District                                                  0.063185\n",
              "log_Community Board                                               0.063430\n",
              "Community Board                                                   0.064054\n",
              "log_Council District                                              0.065313\n",
              "log_n_Primary Property Type - Self Selected                       0.083631\n",
              "log_ENERGY STAR Score                                             0.873968\n",
              "ENERGY STAR Score                                                 1.000000\n",
              "log_Longitude                                                          NaN\n",
              "Name: ENERGY STAR Score, dtype: float64"
            ]
          },
          "metadata": {},
          "execution_count": 159
        }
      ],
      "source": [
        "log_data.corr()['ENERGY STAR Score'].sort_values()\n"
      ]
    },
    {
      "cell_type": "markdown",
      "id": "57968f51",
      "metadata": {
        "papermill": {
          "duration": null,
          "end_time": null,
          "exception": null,
          "start_time": null,
          "status": "pending"
        },
        "tags": [],
        "id": "57968f51"
      },
      "source": [
        "The log transformed variables have a greater absolute magnitude correlation with the target. This means they might be of use in a linear regression model. We can compare performance with and without these variables."
      ]
    },
    {
      "cell_type": "code",
      "execution_count": 160,
      "id": "c48d32b8",
      "metadata": {
        "papermill": {
          "duration": null,
          "end_time": null,
          "exception": null,
          "start_time": null,
          "status": "pending"
        },
        "tags": [],
        "id": "c48d32b8"
      },
      "outputs": [],
      "source": [
        "drop_cols= ['Order']"
      ]
    },
    {
      "cell_type": "code",
      "execution_count": 161,
      "id": "9a4201a1",
      "metadata": {
        "execution": {
          "iopub.execute_input": "2023-03-06T14:08:02.717313Z",
          "iopub.status.busy": "2023-03-06T14:08:02.716717Z",
          "iopub.status.idle": "2023-03-06T14:08:02.730285Z",
          "shell.execute_reply": "2023-03-06T14:08:02.728457Z",
          "shell.execute_reply.started": "2023-03-06T14:08:02.717269Z"
        },
        "papermill": {
          "duration": null,
          "end_time": null,
          "exception": null,
          "start_time": null,
          "status": "pending"
        },
        "tags": [],
        "id": "9a4201a1"
      },
      "outputs": [],
      "source": [
        "def train_test_reg(df):\n",
        "\n",
        "    \n",
        "    X = df.select_dtypes('number')\n",
        "    \n",
        "    X['Largest Property Use Type'] = df['Largest Property Use Type']\n",
        "    X['Metered Areas (Energy)'] = df['Metered Areas (Energy)']\n",
        "    X['DOF Benchmarking Submission Status'] = df['DOF Benchmarking Submission Status']\n",
        "    X['Borough']= df['Borough']\n",
        "    X['Largest Property Use Type']= df['Largest Property Use Type']\n",
        "    \n",
        "    X = pd.get_dummies(X)\n",
        "    \n",
        "    missing_scores = X[X['ENERGY STAR Score'].isnull()]\n",
        "    \n",
        "    X = X.dropna(subset = ['ENERGY STAR Score'])\n",
        "    \n",
        "    y = X['ENERGY STAR Score']\n",
        "    if 'log_ENERGY STAR Score' in list(X.columns):\n",
        "#         X = X.drop(columns=['log_Longitude', 'log_ENERGY STAR Score', 'log_Property Id'])\n",
        "#         missing_scores = missing_scores.drop(columns = ['log_Longitude', 'log_ENERGY STAR Score', 'log_Property Id'])\n",
        "        X = X.drop(columns=['log_Longitude', 'log_ENERGY STAR Score'])\n",
        "        missing_scores = missing_scores.drop(columns = ['log_Longitude', 'log_ENERGY STAR Score'])\n",
        "        \n",
        "#     X = X.drop(columns = ['Property Id', 'ENERGY STAR Score', 'Longitude'])\n",
        "    X = X.drop(columns = [ 'ENERGY STAR Score', 'Longitude'])\n",
        "#     missing_scores = missing_scores.drop(columns = ['Property Id', 'ENERGY STAR Score', 'Longitude'])\n",
        "    missing_scores = missing_scores.drop(columns = ['ENERGY STAR Score', 'Longitude'])\n",
        "    \n",
        "    X= X.drop(columns=drop_cols )\n",
        "    feature_names = list(X.columns)\n",
        "\n",
        "    X_train, X_test, y_train, y_test = train_test_split(X, y, test_size = 0.25)\n",
        "    \n",
        "    imputer = SimpleImputer(missing_values=np.nan, strategy = 'median')\n",
        "    X_train = imputer.fit_transform(X_train)\n",
        "    X_test = imputer.transform(X_test)\n",
        "#     missing_scores = imputer.transform(missing_scores)\n",
        "    \n",
        "    return X_train, X_test, y_train, y_test, missing_scores, feature_names"
      ]
    },
    {
      "cell_type": "code",
      "execution_count": 162,
      "id": "d17bf523",
      "metadata": {
        "execution": {
          "iopub.execute_input": "2023-03-06T14:08:02.732422Z",
          "iopub.status.busy": "2023-03-06T14:08:02.731871Z",
          "iopub.status.idle": "2023-03-06T14:08:02.859155Z",
          "shell.execute_reply": "2023-03-06T14:08:02.857447Z",
          "shell.execute_reply.started": "2023-03-06T14:08:02.732360Z"
        },
        "papermill": {
          "duration": null,
          "end_time": null,
          "exception": null,
          "start_time": null,
          "status": "pending"
        },
        "tags": [],
        "id": "d17bf523"
      },
      "outputs": [],
      "source": [
        "X_train, X_test, y_train, y_test, missing_scores, feature_names = train_test_reg(new_data)\n"
      ]
    },
    {
      "cell_type": "markdown",
      "id": "fb80da1d",
      "metadata": {
        "papermill": {
          "duration": null,
          "end_time": null,
          "exception": null,
          "start_time": null,
          "status": "pending"
        },
        "tags": [],
        "id": "fb80da1d"
      },
      "source": [
        "## Regression on Energy Star Scores"
      ]
    },
    {
      "cell_type": "markdown",
      "id": "f58d8fb5",
      "metadata": {
        "papermill": {
          "duration": null,
          "end_time": null,
          "exception": null,
          "start_time": null,
          "status": "pending"
        },
        "tags": [],
        "id": "f58d8fb5"
      },
      "source": [
        "We will evalute our regression predictions using mean absolute error. This is simply the average error in absolute value of our predictions from the actual value and has the advantage of being easily explainable.\n",
        "\n",
        "First we should establish a baseline measure to beat. We can use the average Energy Star Score as a baseline by predicting the mean absolute error if we simply guess the average Energy Star Score in the training date for every observation in the testing data."
      ]
    },
    {
      "cell_type": "code",
      "execution_count": 163,
      "id": "45c1c814",
      "metadata": {
        "execution": {
          "iopub.execute_input": "2023-03-06T14:08:02.861246Z",
          "iopub.status.busy": "2023-03-06T14:08:02.860841Z",
          "iopub.status.idle": "2023-03-06T14:08:02.871585Z",
          "shell.execute_reply": "2023-03-06T14:08:02.869666Z",
          "shell.execute_reply.started": "2023-03-06T14:08:02.861204Z"
        },
        "papermill": {
          "duration": null,
          "end_time": null,
          "exception": null,
          "start_time": null,
          "status": "pending"
        },
        "tags": [],
        "id": "45c1c814",
        "colab": {
          "base_uri": "https://localhost:8080/"
        },
        "outputId": "9e26db22-1a86-4aca-c043-a1089e17f4c6"
      },
      "outputs": [
        {
          "output_type": "stream",
          "name": "stdout",
          "text": [
            "Baseline Mean Absolute Error: 25.6325.\n"
          ]
        }
      ],
      "source": [
        "reg_baseline = np.mean(y_train)\n",
        "reg_mae = np.mean(abs(reg_baseline - y_test))\n",
        "\n",
        "print('Baseline Mean Absolute Error: {:0.4f}.'.format(reg_mae))"
      ]
    },
    {
      "cell_type": "markdown",
      "id": "d715f076",
      "metadata": {
        "papermill": {
          "duration": null,
          "end_time": null,
          "exception": null,
          "start_time": null,
          "status": "pending"
        },
        "tags": [],
        "id": "d715f076"
      },
      "source": [
        "If our model cannot achieve lower than this score, then perhaps a regression approach will not work for this problem. First, let's see if a simple linear regression will work for this problem."
      ]
    },
    {
      "cell_type": "markdown",
      "id": "6988995b",
      "metadata": {
        "papermill": {
          "duration": null,
          "end_time": null,
          "exception": null,
          "start_time": null,
          "status": "pending"
        },
        "tags": [],
        "id": "6988995b"
      },
      "source": [
        "### Linear Regression without Log Transformed Variables\n"
      ]
    },
    {
      "cell_type": "code",
      "execution_count": 164,
      "id": "19a446e9",
      "metadata": {
        "execution": {
          "iopub.execute_input": "2023-03-06T14:10:50.955834Z",
          "iopub.status.busy": "2023-03-06T14:10:50.955343Z",
          "iopub.status.idle": "2023-03-06T14:10:50.996907Z",
          "shell.execute_reply": "2023-03-06T14:10:50.994987Z",
          "shell.execute_reply.started": "2023-03-06T14:10:50.955795Z"
        },
        "papermill": {
          "duration": null,
          "end_time": null,
          "exception": null,
          "start_time": null,
          "status": "pending"
        },
        "tags": [],
        "id": "19a446e9",
        "colab": {
          "base_uri": "https://localhost:8080/"
        },
        "outputId": "d5b4b036-0965-4285-a3b5-c765b154798b"
      },
      "outputs": [
        {
          "output_type": "stream",
          "name": "stdout",
          "text": [
            "Linear Regression Mean Absolute Error: 23.6547.\n"
          ]
        }
      ],
      "source": [
        "lin_reg = LinearRegression()\n",
        "\n",
        "lin_reg.fit(X_train, y_train)\n",
        "\n",
        "lin_reg_pred = lin_reg.predict(X_test)\n",
        "lin_reg_mse = np.mean(abs(lin_reg_pred - y_test))\n",
        "print('Linear Regression Mean Absolute Error: {:0.4f}.'.format(lin_reg_mse))"
      ]
    },
    {
      "cell_type": "markdown",
      "id": "490a1909",
      "metadata": {
        "papermill": {
          "duration": null,
          "end_time": null,
          "exception": null,
          "start_time": null,
          "status": "pending"
        },
        "tags": [],
        "id": "490a1909"
      },
      "source": [
        "### Linear Regression with Log Transformed Variables\n"
      ]
    },
    {
      "cell_type": "code",
      "execution_count": 165,
      "id": "7725f9b8",
      "metadata": {
        "execution": {
          "iopub.execute_input": "2023-03-06T14:08:02.928270Z",
          "iopub.status.busy": "2023-03-06T14:08:02.926677Z",
          "iopub.status.idle": "2023-03-06T14:08:03.246554Z",
          "shell.execute_reply": "2023-03-06T14:08:03.245071Z",
          "shell.execute_reply.started": "2023-03-06T14:08:02.928175Z"
        },
        "papermill": {
          "duration": null,
          "end_time": null,
          "exception": null,
          "start_time": null,
          "status": "pending"
        },
        "tags": [],
        "id": "7725f9b8",
        "colab": {
          "base_uri": "https://localhost:8080/"
        },
        "outputId": "c5f54b99-57b7-4421-d653-ce62ac470a57"
      },
      "outputs": [
        {
          "output_type": "stream",
          "name": "stdout",
          "text": [
            "Linear Regression Mean Absolute Error: 18.0441.\n"
          ]
        }
      ],
      "source": [
        "X_train, X_test, y_train, y_test, missing_scores, feature_names = train_test_reg(log_data)\n",
        "\n",
        "lin_reg.fit(X_train, y_train)\n",
        "\n",
        "lin_reg_pred = lin_reg.predict(X_test)\n",
        "lin_reg_mse = np.mean(abs(lin_reg_pred - y_test))\n",
        "print('Linear Regression Mean Absolute Error: {:0.4f}.'.format(lin_reg_mse))"
      ]
    },
    {
      "cell_type": "markdown",
      "id": "cd698653",
      "metadata": {
        "papermill": {
          "duration": null,
          "end_time": null,
          "exception": null,
          "start_time": null,
          "status": "pending"
        },
        "tags": [],
        "id": "cd698653"
      },
      "source": [
        "The linear regression does not perform much better than the baseline although the log transformed features do reduce the error. Even though this is better than the baseline, let's implement a random forest regression and check the error."
      ]
    },
    {
      "cell_type": "markdown",
      "id": "b1777dd5",
      "metadata": {
        "papermill": {
          "duration": null,
          "end_time": null,
          "exception": null,
          "start_time": null,
          "status": "pending"
        },
        "tags": [],
        "id": "b1777dd5"
      },
      "source": [
        "### Random Forest with Log Transformed Variables\n"
      ]
    },
    {
      "cell_type": "code",
      "execution_count": 166,
      "id": "ae2e6c59",
      "metadata": {
        "execution": {
          "iopub.execute_input": "2023-03-06T14:08:03.249661Z",
          "iopub.status.busy": "2023-03-06T14:08:03.248722Z",
          "iopub.status.idle": "2023-03-06T14:09:14.757525Z",
          "shell.execute_reply": "2023-03-06T14:09:14.755244Z",
          "shell.execute_reply.started": "2023-03-06T14:08:03.249550Z"
        },
        "papermill": {
          "duration": null,
          "end_time": null,
          "exception": null,
          "start_time": null,
          "status": "pending"
        },
        "tags": [],
        "id": "ae2e6c59",
        "colab": {
          "base_uri": "https://localhost:8080/"
        },
        "outputId": "21b4c133-a855-45cb-98cd-c12706ae1ead"
      },
      "outputs": [
        {
          "output_type": "stream",
          "name": "stdout",
          "text": [
            "Random Forest Regresion Mean Absolute Error: 8.8248.\n"
          ]
        }
      ],
      "source": [
        "rf_reg = RandomForestRegressor(n_estimators=200)\n",
        "rf_reg.fit(X_train, y_train)\n",
        "\n",
        "rf_reg_pred = rf_reg.predict(X_test)\n",
        "\n",
        "rf_reg_mse = np.mean(abs(rf_reg_pred - y_test))\n",
        "print('Random Forest Regresion Mean Absolute Error: {:0.4f}.'.format(rf_reg_mse))"
      ]
    },
    {
      "cell_type": "markdown",
      "id": "1026741b",
      "metadata": {
        "papermill": {
          "duration": null,
          "end_time": null,
          "exception": null,
          "start_time": null,
          "status": "pending"
        },
        "tags": [],
        "id": "1026741b"
      },
      "source": [
        "### Random Forest without Log Transformed Variables\n"
      ]
    },
    {
      "cell_type": "code",
      "execution_count": 167,
      "id": "03fce9fd",
      "metadata": {
        "execution": {
          "iopub.execute_input": "2023-03-06T14:09:14.759881Z",
          "iopub.status.busy": "2023-03-06T14:09:14.759476Z",
          "iopub.status.idle": "2023-03-06T14:09:14.896158Z",
          "shell.execute_reply": "2023-03-06T14:09:14.894189Z",
          "shell.execute_reply.started": "2023-03-06T14:09:14.759847Z"
        },
        "papermill": {
          "duration": null,
          "end_time": null,
          "exception": null,
          "start_time": null,
          "status": "pending"
        },
        "tags": [],
        "id": "03fce9fd"
      },
      "outputs": [],
      "source": [
        "X_train, X_test, y_train, y_test, missing_scores, feature_names = train_test_reg(new_data)\n"
      ]
    },
    {
      "cell_type": "code",
      "execution_count": 168,
      "id": "37d8ca80",
      "metadata": {
        "execution": {
          "iopub.execute_input": "2023-03-06T14:09:14.901891Z",
          "iopub.status.busy": "2023-03-06T14:09:14.898392Z",
          "iopub.status.idle": "2023-03-06T14:09:52.025527Z",
          "shell.execute_reply": "2023-03-06T14:09:52.023554Z",
          "shell.execute_reply.started": "2023-03-06T14:09:14.901820Z"
        },
        "papermill": {
          "duration": null,
          "end_time": null,
          "exception": null,
          "start_time": null,
          "status": "pending"
        },
        "tags": [],
        "id": "37d8ca80",
        "colab": {
          "base_uri": "https://localhost:8080/"
        },
        "outputId": "672c8724-57aa-4a47-84dc-6ef05aabb805"
      },
      "outputs": [
        {
          "output_type": "stream",
          "name": "stdout",
          "text": [
            "Random Forest Regresion Mean Absolute Error: 8.8944.\n"
          ]
        }
      ],
      "source": [
        "rf_reg = RandomForestRegressor(n_estimators=200)\n",
        "rf_reg.fit(X_train, y_train)\n",
        "\n",
        "rf_reg_pred = rf_reg.predict(X_test)\n",
        "\n",
        "rf_reg_mse = np.mean(abs(rf_reg_pred - y_test))\n",
        "print('Random Forest Regresion Mean Absolute Error: {:0.4f}.'.format(rf_reg_mse))"
      ]
    },
    {
      "cell_type": "markdown",
      "id": "b5425ac6",
      "metadata": {
        "papermill": {
          "duration": null,
          "end_time": null,
          "exception": null,
          "start_time": null,
          "status": "pending"
        },
        "tags": [],
        "id": "b5425ac6"
      },
      "source": [
        "These scores are much better and indicate that machine learning may indeed be appropriate for this problem. However, what we gain in accuracy with a more complex model, we lose in interpretability. The random forest predictions are much harder to explain than those from a linear regression. We will use the non-log transformed variables to reduce the number of features in our model."
      ]
    },
    {
      "cell_type": "code",
      "execution_count": 169,
      "id": "ed7dbaa7",
      "metadata": {
        "execution": {
          "iopub.execute_input": "2023-03-06T14:09:52.027482Z",
          "iopub.status.busy": "2023-03-06T14:09:52.027079Z",
          "iopub.status.idle": "2023-03-06T14:09:52.040207Z",
          "shell.execute_reply": "2023-03-06T14:09:52.038274Z",
          "shell.execute_reply.started": "2023-03-06T14:09:52.027447Z"
        },
        "papermill": {
          "duration": null,
          "end_time": null,
          "exception": null,
          "start_time": null,
          "status": "pending"
        },
        "tags": [],
        "id": "ed7dbaa7",
        "colab": {
          "base_uri": "https://localhost:8080/"
        },
        "outputId": "7ccf6250-99d4-4515-cf1c-9e8cc1ef1f59"
      },
      "outputs": [
        {
          "output_type": "execute_result",
          "data": {
            "text/plain": [
              "71"
            ]
          },
          "metadata": {},
          "execution_count": 169
        }
      ],
      "source": [
        "len(feature_names)"
      ]
    },
    {
      "cell_type": "markdown",
      "id": "ad669bc6",
      "metadata": {
        "papermill": {
          "duration": null,
          "end_time": null,
          "exception": null,
          "start_time": null,
          "status": "pending"
        },
        "tags": [],
        "id": "ad669bc6"
      },
      "source": [
        "### Boosting model without Log Transformed Variables\n"
      ]
    },
    {
      "cell_type": "code",
      "execution_count": 170,
      "id": "5118b2e9",
      "metadata": {
        "execution": {
          "iopub.execute_input": "2023-03-06T14:09:52.044825Z",
          "iopub.status.busy": "2023-03-06T14:09:52.044007Z",
          "iopub.status.idle": "2023-03-06T14:10:50.341712Z",
          "shell.execute_reply": "2023-03-06T14:10:50.339517Z",
          "shell.execute_reply.started": "2023-03-06T14:09:52.044712Z"
        },
        "papermill": {
          "duration": null,
          "end_time": null,
          "exception": null,
          "start_time": null,
          "status": "pending"
        },
        "tags": [],
        "id": "5118b2e9",
        "colab": {
          "base_uri": "https://localhost:8080/"
        },
        "outputId": "4d1b66b3-021f-41b9-d1f6-6013fa19de0e"
      },
      "outputs": [
        {
          "output_type": "stream",
          "name": "stdout",
          "text": [
            "Gradient Boosted Performance on the test set: MAE = 8.6072\n"
          ]
        }
      ],
      "source": [
        "from sklearn.ensemble import GradientBoostingRegressor\n",
        "from sklearn.metrics import mean_absolute_error\n",
        "\n",
        "\n",
        "gradient_boosted=GradientBoostingRegressor(loss='absolute_error', max_depth=5,  \n",
        "                          max_features=None,\n",
        "                          min_samples_leaf=6,\n",
        "                          min_samples_split=6,\n",
        "                          n_estimators=500)\n",
        "\n",
        "gradient_boosted.fit(X_train, y_train)\n",
        "predictions = gradient_boosted.predict(X_test)\n",
        "mae = mean_absolute_error(y_test, predictions)\n",
        "\n",
        "print('Gradient Boosted Performance on the test set: MAE = %0.4f' % mae)"
      ]
    },
    {
      "cell_type": "code",
      "execution_count": 173,
      "id": "9047c48b",
      "metadata": {
        "execution": {
          "iopub.execute_input": "2023-03-06T14:15:36.563573Z",
          "iopub.status.busy": "2023-03-06T14:15:36.563091Z",
          "iopub.status.idle": "2023-03-06T14:15:36.573509Z",
          "shell.execute_reply": "2023-03-06T14:15:36.571591Z",
          "shell.execute_reply.started": "2023-03-06T14:15:36.563534Z"
        },
        "papermill": {
          "duration": null,
          "end_time": null,
          "exception": null,
          "start_time": null,
          "status": "pending"
        },
        "tags": [],
        "id": "9047c48b"
      },
      "outputs": [],
      "source": [
        "def interpret_features(feature_list, importances):\n",
        "    feature_df = pd.DataFrame({'feature': feature_list, 'importance': importances}).sort_values('importance', ascending = False)\n",
        "    figsize(8, 8)\n",
        "    plt.bar(feature_df[feature_df['importance'] > 0.005]['feature'], feature_df[feature_df['importance'] > 0.005]['importance'])\n",
        "    plt.xticks(rotation = 90)\n",
        "    plt.xlabel('feature'); plt.ylabel('importance'); plt.title('Top Feature Importances')\n",
        "    plt.show();\n",
        "    \n",
        "    return feature_df"
      ]
    },
    {
      "cell_type": "code",
      "execution_count": 177,
      "id": "a3e59da2",
      "metadata": {
        "execution": {
          "iopub.execute_input": "2023-03-06T14:15:40.053256Z",
          "iopub.status.busy": "2023-03-06T14:15:40.052821Z",
          "iopub.status.idle": "2023-03-06T14:15:40.920529Z",
          "shell.execute_reply": "2023-03-06T14:15:40.919365Z",
          "shell.execute_reply.started": "2023-03-06T14:15:40.053221Z"
        },
        "papermill": {
          "duration": null,
          "end_time": null,
          "exception": null,
          "start_time": null,
          "status": "pending"
        },
        "tags": [],
        "id": "a3e59da2",
        "colab": {
          "base_uri": "https://localhost:8080/",
          "height": 774
        },
        "outputId": "25eca228-222e-4c0f-cb83-cebfb489c500"
      },
      "outputs": [
        {
          "output_type": "display_data",
          "data": {
            "text/plain": [
              "<Figure size 576x576 with 1 Axes>"
            ],
            "image/png": "[encoded data removed]"
          },
          "metadata": {
            "needs_background": "light"
          }
        }
      ],
      "source": [
        "feature_df = interpret_features(feature_names, rf_reg.feature_importances_)\n"
      ]
    },
    {
      "cell_type": "code",
      "source": [
        "feature_df.head(10)"
      ],
      "metadata": {
        "colab": {
          "base_uri": "https://localhost:8080/",
          "height": 363
        },
        "id": "nGoIx8Ny4Q1s",
        "outputId": "f1f3ee45-9657-45a3-9e4e-dfb40040cf1e"
      },
      "id": "nGoIx8Ny4Q1s",
      "execution_count": 178,
      "outputs": [
        {
          "output_type": "execute_result",
          "data": {
            "text/plain": [
              "                                          feature  importance\n",
              "27                          Source EUI (kBtu/ft²)    0.597842\n",
              "6                             Site EUI (kBtu/ft²)    0.107608\n",
              "50               Largest Property Use Type_Office    0.051927\n",
              "43        n_Primary Property Type - Self Selected    0.041177\n",
              "49  Largest Property Use Type_Multifamily Housing    0.015377\n",
              "38                                  n_Property Id    0.013374\n",
              "10       Weather Normalized Source EUI (kBtu/ft²)    0.011034\n",
              "26  Water Intensity (All Water Sources) (gal/ft²)    0.009753\n",
              "46  Largest Property Use Type_Distribution Center    0.008877\n",
              "44                                   n_Year Built    0.008714"
            ],
            "text/html": [
              "\n",
              "  <div id=\"df-cfa0d444-bc73-4b8e-b60a-07bb0c22ab73\">\n",
              "    <div class=\"colab-df-container\">\n",
              "      <div>\n",
              "<style scoped>\n",
              "    .dataframe tbody tr th:only-of-type {\n",
              "        vertical-align: middle;\n",
              "    }\n",
              "\n",
              "    .dataframe tbody tr th {\n",
              "        vertical-align: top;\n",
              "    }\n",
              "\n",
              "    .dataframe thead th {\n",
              "        text-align: right;\n",
              "    }\n",
              "</style>\n",
              "<table border=\"1\" class=\"dataframe\">\n",
              "  <thead>\n",
              "    <tr style=\"text-align: right;\">\n",
              "      <th></th>\n",
              "      <th>feature</th>\n",
              "      <th>importance</th>\n",
              "    </tr>\n",
              "  </thead>\n",
              "  <tbody>\n",
              "    <tr>\n",
              "      <th>27</th>\n",
              "      <td>Source EUI (kBtu/ft²)</td>\n",
              "      <td>0.597842</td>\n",
              "    </tr>\n",
              "    <tr>\n",
              "      <th>6</th>\n",
              "      <td>Site EUI (kBtu/ft²)</td>\n",
              "      <td>0.107608</td>\n",
              "    </tr>\n",
              "    <tr>\n",
              "      <th>50</th>\n",
              "      <td>Largest Property Use Type_Office</td>\n",
              "      <td>0.051927</td>\n",
              "    </tr>\n",
              "    <tr>\n",
              "      <th>43</th>\n",
              "      <td>n_Primary Property Type - Self Selected</td>\n",
              "      <td>0.041177</td>\n",
              "    </tr>\n",
              "    <tr>\n",
              "      <th>49</th>\n",
              "      <td>Largest Property Use Type_Multifamily Housing</td>\n",
              "      <td>0.015377</td>\n",
              "    </tr>\n",
              "    <tr>\n",
              "      <th>38</th>\n",
              "      <td>n_Property Id</td>\n",
              "      <td>0.013374</td>\n",
              "    </tr>\n",
              "    <tr>\n",
              "      <th>10</th>\n",
              "      <td>Weather Normalized Source EUI (kBtu/ft²)</td>\n",
              "      <td>0.011034</td>\n",
              "    </tr>\n",
              "    <tr>\n",
              "      <th>26</th>\n",
              "      <td>Water Intensity (All Water Sources) (gal/ft²)</td>\n",
              "      <td>0.009753</td>\n",
              "    </tr>\n",
              "    <tr>\n",
              "      <th>46</th>\n",
              "      <td>Largest Property Use Type_Distribution Center</td>\n",
              "      <td>0.008877</td>\n",
              "    </tr>\n",
              "    <tr>\n",
              "      <th>44</th>\n",
              "      <td>n_Year Built</td>\n",
              "      <td>0.008714</td>\n",
              "    </tr>\n",
              "  </tbody>\n",
              "</table>\n",
              "</div>\n",
              "      <button class=\"colab-df-convert\" onclick=\"convertToInteractive('df-cfa0d444-bc73-4b8e-b60a-07bb0c22ab73')\"\n",
              "              title=\"Convert this dataframe to an interactive table.\"\n",
              "              style=\"display:none;\">\n",
              "        \n",
              "  <svg xmlns=\"http://www.w3.org/2000/svg\" height=\"24px\"viewBox=\"0 0 24 24\"\n",
              "       width=\"24px\">\n",
              "    <path d=\"M0 0h24v24H0V0z\" fill=\"none\"/>\n",
              "    <path d=\"M18.56 5.44l.94 2.06.94-2.06 2.06-.94-2.06-.94-.94-2.06-.94 2.06-2.06.94zm-11 1L8.5 8.5l.94-2.06 2.06-.94-2.06-.94L8.5 2.5l-.94 2.06-2.06.94zm10 10l.94 2.06.94-2.06 2.06-.94-2.06-.94-.94-2.06-.94 2.06-2.06.94z\"/><path d=\"M17.41 7.96l-1.37-1.37c-.4-.4-.92-.59-1.43-.59-.52 0-1.04.2-1.43.59L10.3 9.45l-7.72 7.72c-.78.78-.78 2.05 0 2.83L4 21.41c.39.39.9.59 1.41.59.51 0 1.02-.2 1.41-.59l7.78-7.78 2.81-2.81c.8-.78.8-2.07 0-2.86zM5.41 20L4 18.59l7.72-7.72 1.47 1.35L5.41 20z\"/>\n",
              "  </svg>\n",
              "      </button>\n",
              "      \n",
              "  <style>\n",
              "    .colab-df-container {\n",
              "      display:flex;\n",
              "      flex-wrap:wrap;\n",
              "      gap: 12px;\n",
              "    }\n",
              "\n",
              "    .colab-df-convert {\n",
              "      background-color: #E8F0FE;\n",
              "      border: none;\n",
              "      border-radius: 50%;\n",
              "      cursor: pointer;\n",
              "      display: none;\n",
              "      fill: #1967D2;\n",
              "      height: 32px;\n",
              "      padding: 0 0 0 0;\n",
              "      width: 32px;\n",
              "    }\n",
              "\n",
              "    .colab-df-convert:hover {\n",
              "      background-color: #E2EBFA;\n",
              "      box-shadow: 0px 1px 2px rgba(60, 64, 67, 0.3), 0px 1px 3px 1px rgba(60, 64, 67, 0.15);\n",
              "      fill: #174EA6;\n",
              "    }\n",
              "\n",
              "    [theme=dark] .colab-df-convert {\n",
              "      background-color: #3B4455;\n",
              "      fill: #D2E3FC;\n",
              "    }\n",
              "\n",
              "    [theme=dark] .colab-df-convert:hover {\n",
              "      background-color: #434B5C;\n",
              "      box-shadow: 0px 1px 3px 1px rgba(0, 0, 0, 0.15);\n",
              "      filter: drop-shadow(0px 1px 2px rgba(0, 0, 0, 0.3));\n",
              "      fill: #FFFFFF;\n",
              "    }\n",
              "  </style>\n",
              "\n",
              "      <script>\n",
              "        const buttonEl =\n",
              "          document.querySelector('#df-cfa0d444-bc73-4b8e-b60a-07bb0c22ab73 button.colab-df-convert');\n",
              "        buttonEl.style.display =\n",
              "          google.colab.kernel.accessAllowed ? 'block' : 'none';\n",
              "\n",
              "        async function convertToInteractive(key) {\n",
              "          const element = document.querySelector('#df-cfa0d444-bc73-4b8e-b60a-07bb0c22ab73');\n",
              "          const dataTable =\n",
              "            await google.colab.kernel.invokeFunction('convertToInteractive',\n",
              "                                                     [key], {});\n",
              "          if (!dataTable) return;\n",
              "\n",
              "          const docLinkHtml = 'Like what you see? Visit the ' +\n",
              "            '<a target=\"_blank\" href=https://colab.research.google.com/notebooks/data_table.ipynb>data table notebook</a>'\n",
              "            + ' to learn more about interactive tables.';\n",
              "          element.innerHTML = '';\n",
              "          dataTable['output_type'] = 'display_data';\n",
              "          await google.colab.output.renderOutput(dataTable, element);\n",
              "          const docLink = document.createElement('div');\n",
              "          docLink.innerHTML = docLinkHtml;\n",
              "          element.appendChild(docLink);\n",
              "        }\n",
              "      </script>\n",
              "    </div>\n",
              "  </div>\n",
              "  "
            ]
          },
          "metadata": {},
          "execution_count": 178
        }
      ]
    },
    {
      "cell_type": "code",
      "execution_count": 175,
      "id": "ef6fb43b",
      "metadata": {
        "execution": {
          "iopub.execute_input": "2023-03-06T14:15:59.590132Z",
          "iopub.status.busy": "2023-03-06T14:15:59.589717Z",
          "iopub.status.idle": "2023-03-06T14:16:00.415598Z",
          "shell.execute_reply": "2023-03-06T14:16:00.414516Z",
          "shell.execute_reply.started": "2023-03-06T14:15:59.590096Z"
        },
        "papermill": {
          "duration": null,
          "end_time": null,
          "exception": null,
          "start_time": null,
          "status": "pending"
        },
        "tags": [],
        "id": "ef6fb43b",
        "colab": {
          "base_uri": "https://localhost:8080/",
          "height": 774
        },
        "outputId": "416ac87e-bd2e-41a5-fa59-b2e8cb85c0d5"
      },
      "outputs": [
        {
          "output_type": "display_data",
          "data": {
            "text/plain": [
              "<Figure size 576x576 with 1 Axes>"
            ],
            "image/png": "[encoded data removed]"
          },
          "metadata": {
            "needs_background": "light"
          }
        }
      ],
      "source": [
        "feature_df = interpret_features(feature_names, gradient_boosted.feature_importances_)\n"
      ]
    },
    {
      "cell_type": "code",
      "execution_count": 176,
      "id": "1b1aae85",
      "metadata": {
        "execution": {
          "iopub.execute_input": "2023-03-06T14:10:50.931493Z",
          "iopub.status.busy": "2023-03-06T14:10:50.930989Z",
          "iopub.status.idle": "2023-03-06T14:10:50.948688Z",
          "shell.execute_reply": "2023-03-06T14:10:50.947110Z",
          "shell.execute_reply.started": "2023-03-06T14:10:50.931452Z"
        },
        "papermill": {
          "duration": null,
          "end_time": null,
          "exception": null,
          "start_time": null,
          "status": "pending"
        },
        "tags": [],
        "id": "1b1aae85",
        "colab": {
          "base_uri": "https://localhost:8080/",
          "height": 363
        },
        "outputId": "b0942965-65a4-4269-b63b-52044db09275"
      },
      "outputs": [
        {
          "output_type": "execute_result",
          "data": {
            "text/plain": [
              "                                              feature  importance\n",
              "27                              Source EUI (kBtu/ft²)    0.541499\n",
              "49      Largest Property Use Type_Multifamily Housing    0.141989\n",
              "6                                 Site EUI (kBtu/ft²)    0.042823\n",
              "44                                       n_Year Built    0.030939\n",
              "50                   Largest Property Use Type_Office    0.022796\n",
              "46      Largest Property Use Type_Distribution Center    0.021227\n",
              "38                                      n_Property Id    0.015556\n",
              "0                                DOF Gross Floor Area    0.009566\n",
              "8   Weather Normalized Site Electricity Intensity ...    0.008818\n",
              "43            n_Primary Property Type - Self Selected    0.008779"
            ],
            "text/html": [
              "\n",
              "  <div id=\"df-8fc4cca5-892a-40a1-9f30-23b5111d5ab9\">\n",
              "    <div class=\"colab-df-container\">\n",
              "      <div>\n",
              "<style scoped>\n",
              "    .dataframe tbody tr th:only-of-type {\n",
              "        vertical-align: middle;\n",
              "    }\n",
              "\n",
              "    .dataframe tbody tr th {\n",
              "        vertical-align: top;\n",
              "    }\n",
              "\n",
              "    .dataframe thead th {\n",
              "        text-align: right;\n",
              "    }\n",
              "</style>\n",
              "<table border=\"1\" class=\"dataframe\">\n",
              "  <thead>\n",
              "    <tr style=\"text-align: right;\">\n",
              "      <th></th>\n",
              "      <th>feature</th>\n",
              "      <th>importance</th>\n",
              "    </tr>\n",
              "  </thead>\n",
              "  <tbody>\n",
              "    <tr>\n",
              "      <th>27</th>\n",
              "      <td>Source EUI (kBtu/ft²)</td>\n",
              "      <td>0.541499</td>\n",
              "    </tr>\n",
              "    <tr>\n",
              "      <th>49</th>\n",
              "      <td>Largest Property Use Type_Multifamily Housing</td>\n",
              "      <td>0.141989</td>\n",
              "    </tr>\n",
              "    <tr>\n",
              "      <th>6</th>\n",
              "      <td>Site EUI (kBtu/ft²)</td>\n",
              "      <td>0.042823</td>\n",
              "    </tr>\n",
              "    <tr>\n",
              "      <th>44</th>\n",
              "      <td>n_Year Built</td>\n",
              "      <td>0.030939</td>\n",
              "    </tr>\n",
              "    <tr>\n",
              "      <th>50</th>\n",
              "      <td>Largest Property Use Type_Office</td>\n",
              "      <td>0.022796</td>\n",
              "    </tr>\n",
              "    <tr>\n",
              "      <th>46</th>\n",
              "      <td>Largest Property Use Type_Distribution Center</td>\n",
              "      <td>0.021227</td>\n",
              "    </tr>\n",
              "    <tr>\n",
              "      <th>38</th>\n",
              "      <td>n_Property Id</td>\n",
              "      <td>0.015556</td>\n",
              "    </tr>\n",
              "    <tr>\n",
              "      <th>0</th>\n",
              "      <td>DOF Gross Floor Area</td>\n",
              "      <td>0.009566</td>\n",
              "    </tr>\n",
              "    <tr>\n",
              "      <th>8</th>\n",
              "      <td>Weather Normalized Site Electricity Intensity ...</td>\n",
              "      <td>0.008818</td>\n",
              "    </tr>\n",
              "    <tr>\n",
              "      <th>43</th>\n",
              "      <td>n_Primary Property Type - Self Selected</td>\n",
              "      <td>0.008779</td>\n",
              "    </tr>\n",
              "  </tbody>\n",
              "</table>\n",
              "</div>\n",
              "      <button class=\"colab-df-convert\" onclick=\"convertToInteractive('df-8fc4cca5-892a-40a1-9f30-23b5111d5ab9')\"\n",
              "              title=\"Convert this dataframe to an interactive table.\"\n",
              "              style=\"display:none;\">\n",
              "        \n",
              "  <svg xmlns=\"http://www.w3.org/2000/svg\" height=\"24px\"viewBox=\"0 0 24 24\"\n",
              "       width=\"24px\">\n",
              "    <path d=\"M0 0h24v24H0V0z\" fill=\"none\"/>\n",
              "    <path d=\"M18.56 5.44l.94 2.06.94-2.06 2.06-.94-2.06-.94-.94-2.06-.94 2.06-2.06.94zm-11 1L8.5 8.5l.94-2.06 2.06-.94-2.06-.94L8.5 2.5l-.94 2.06-2.06.94zm10 10l.94 2.06.94-2.06 2.06-.94-2.06-.94-.94-2.06-.94 2.06-2.06.94z\"/><path d=\"M17.41 7.96l-1.37-1.37c-.4-.4-.92-.59-1.43-.59-.52 0-1.04.2-1.43.59L10.3 9.45l-7.72 7.72c-.78.78-.78 2.05 0 2.83L4 21.41c.39.39.9.59 1.41.59.51 0 1.02-.2 1.41-.59l7.78-7.78 2.81-2.81c.8-.78.8-2.07 0-2.86zM5.41 20L4 18.59l7.72-7.72 1.47 1.35L5.41 20z\"/>\n",
              "  </svg>\n",
              "      </button>\n",
              "      \n",
              "  <style>\n",
              "    .colab-df-container {\n",
              "      display:flex;\n",
              "      flex-wrap:wrap;\n",
              "      gap: 12px;\n",
              "    }\n",
              "\n",
              "    .colab-df-convert {\n",
              "      background-color: #E8F0FE;\n",
              "      border: none;\n",
              "      border-radius: 50%;\n",
              "      cursor: pointer;\n",
              "      display: none;\n",
              "      fill: #1967D2;\n",
              "      height: 32px;\n",
              "      padding: 0 0 0 0;\n",
              "      width: 32px;\n",
              "    }\n",
              "\n",
              "    .colab-df-convert:hover {\n",
              "      background-color: #E2EBFA;\n",
              "      box-shadow: 0px 1px 2px rgba(60, 64, 67, 0.3), 0px 1px 3px 1px rgba(60, 64, 67, 0.15);\n",
              "      fill: #174EA6;\n",
              "    }\n",
              "\n",
              "    [theme=dark] .colab-df-convert {\n",
              "      background-color: #3B4455;\n",
              "      fill: #D2E3FC;\n",
              "    }\n",
              "\n",
              "    [theme=dark] .colab-df-convert:hover {\n",
              "      background-color: #434B5C;\n",
              "      box-shadow: 0px 1px 3px 1px rgba(0, 0, 0, 0.15);\n",
              "      filter: drop-shadow(0px 1px 2px rgba(0, 0, 0, 0.3));\n",
              "      fill: #FFFFFF;\n",
              "    }\n",
              "  </style>\n",
              "\n",
              "      <script>\n",
              "        const buttonEl =\n",
              "          document.querySelector('#df-8fc4cca5-892a-40a1-9f30-23b5111d5ab9 button.colab-df-convert');\n",
              "        buttonEl.style.display =\n",
              "          google.colab.kernel.accessAllowed ? 'block' : 'none';\n",
              "\n",
              "        async function convertToInteractive(key) {\n",
              "          const element = document.querySelector('#df-8fc4cca5-892a-40a1-9f30-23b5111d5ab9');\n",
              "          const dataTable =\n",
              "            await google.colab.kernel.invokeFunction('convertToInteractive',\n",
              "                                                     [key], {});\n",
              "          if (!dataTable) return;\n",
              "\n",
              "          const docLinkHtml = 'Like what you see? Visit the ' +\n",
              "            '<a target=\"_blank\" href=https://colab.research.google.com/notebooks/data_table.ipynb>data table notebook</a>'\n",
              "            + ' to learn more about interactive tables.';\n",
              "          element.innerHTML = '';\n",
              "          dataTable['output_type'] = 'display_data';\n",
              "          await google.colab.output.renderOutput(dataTable, element);\n",
              "          const docLink = document.createElement('div');\n",
              "          docLink.innerHTML = docLinkHtml;\n",
              "          element.appendChild(docLink);\n",
              "        }\n",
              "      </script>\n",
              "    </div>\n",
              "  </div>\n",
              "  "
            ]
          },
          "metadata": {},
          "execution_count": 176
        }
      ],
      "source": [
        "feature_df.head(10)\n"
      ]
    },
    {
      "cell_type": "markdown",
      "id": "e12d2a5a",
      "metadata": {
        "papermill": {
          "duration": null,
          "end_time": null,
          "exception": null,
          "start_time": null,
          "status": "pending"
        },
        "tags": [],
        "id": "e12d2a5a"
      },
      "source": [
        "According to the random forest and boosting model, the most importance features for predicting the Energy Star Score of a building are the Site EUI/Source EUI , the Water Intensity, Largest Property Use Type_Office, DOF Gross Floor Area. These are in line with the variables that we saw are the most correlated with the Energy Star Score."
      ]
    },
    {
      "cell_type": "markdown",
      "id": "a24af545",
      "metadata": {
        "papermill": {
          "duration": null,
          "end_time": null,
          "exception": null,
          "start_time": null,
          "status": "pending"
        },
        "tags": [],
        "id": "a24af545"
      },
      "source": [
        "## Conclusions"
      ]
    },
    {
      "cell_type": "markdown",
      "id": "0cd8ab87",
      "metadata": {
        "papermill": {
          "duration": null,
          "end_time": null,
          "exception": null,
          "start_time": null,
          "status": "pending"
        },
        "tags": [],
        "id": "0cd8ab87"
      },
      "source": [
        "* The Site Energy Use Intensity, the Water/Electricity Intensity, the Water Use/natural gas use,DOF Gross Floor Area and the Building Type are the most useful measures for determining the energy star score.\n",
        "* Energy Star Scores are skewed high with a disproportionate global maximum at 100 and a secondary maximum at 1.\n",
        "* Offices, residence halls, and non-refrigerated warehouses have higher energy star scores than senior care communities and hotels with scores of multi-family housing falling in between.\n",
        "* The Site Energy Use Intensity, the Electricity Intensity, and the natural gas usage are all negatively correlated with the Energy Star Score.\n",
        "* Random forest and Gradient Boosted regressors trained on the training data was able to achieve best average absolute error of between 8 to 9 percent on test set, which is significantly better than the baseline measure.\n",
        "* 'Site EUI (kBtu/ft²)'=('Fuel Oil #1 Use (kBtu)'+'Fuel Oil #2 Use (kBtu)'+'Fuel Oil #4 Use (kBtu)'+ 'Fuel Oil #5 & 6 Use (kBtu)'+'Diesel #2 Use (kBtu)'+'Natural Gas Use (kBtu)'+ 'District Steam Use (kBtu)'+'Electricity Use - Grid Purchase (kBtu)')/ GFA"
      ]
    },
    {
      "cell_type": "code",
      "execution_count": null,
      "id": "0de95c15",
      "metadata": {
        "papermill": {
          "duration": null,
          "end_time": null,
          "exception": null,
          "start_time": null,
          "status": "pending"
        },
        "tags": [],
        "id": "0de95c15"
      },
      "outputs": [],
      "source": []
    },
    {
      "cell_type": "code",
      "execution_count": null,
      "id": "92b3b37d",
      "metadata": {
        "papermill": {
          "duration": null,
          "end_time": null,
          "exception": null,
          "start_time": null,
          "status": "pending"
        },
        "tags": [],
        "id": "92b3b37d"
      },
      "outputs": [],
      "source": [
        "## Hyper parameter fine-tuning"
      ]
    },
    {
      "cell_type": "code",
      "execution_count": 59,
      "id": "b085478d",
      "metadata": {
        "execution": {
          "iopub.execute_input": "2023-03-06T13:41:52.798385Z",
          "iopub.status.busy": "2023-03-06T13:41:52.797948Z",
          "iopub.status.idle": "2023-03-06T13:43:06.257165Z",
          "shell.execute_reply": "2023-03-06T13:43:06.255532Z",
          "shell.execute_reply.started": "2023-03-06T13:41:52.798346Z"
        },
        "papermill": {
          "duration": null,
          "end_time": null,
          "exception": null,
          "start_time": null,
          "status": "pending"
        },
        "tags": [],
        "id": "b085478d",
        "colab": {
          "base_uri": "https://localhost:8080/",
          "height": 1000
        },
        "outputId": "f0ffeb9f-84b5-49e1-dd46-a3d8f870b995"
      },
      "outputs": [
        {
          "output_type": "stream",
          "name": "stdout",
          "text": [
            "Fitting 2 folds for each of 10 candidates, totalling 20 fits\n"
          ]
        },
        {
          "output_type": "stream",
          "name": "stderr",
          "text": [
            "/usr/local/lib/python3.8/dist-packages/sklearn/tree/_classes.py:277: FutureWarning: `max_features='auto'` has been deprecated in 1.1 and will be removed in 1.3. To keep the past behaviour, explicitly set `max_features=1.0'`.\n",
            "  warnings.warn(\n",
            "/usr/local/lib/python3.8/dist-packages/sklearn/tree/_classes.py:277: FutureWarning: `max_features='auto'` has been deprecated in 1.1 and will be removed in 1.3. To keep the past behaviour, explicitly set `max_features=1.0'`.\n",
            "  warnings.warn(\n",
            "/usr/local/lib/python3.8/dist-packages/sklearn/tree/_classes.py:277: FutureWarning: `max_features='auto'` has been deprecated in 1.1 and will be removed in 1.3. To keep the past behaviour, explicitly set `max_features=1.0'`.\n",
            "  warnings.warn(\n",
            "/usr/local/lib/python3.8/dist-packages/sklearn/tree/_classes.py:277: FutureWarning: `max_features='auto'` has been deprecated in 1.1 and will be removed in 1.3. To keep the past behaviour, explicitly set `max_features=1.0'`.\n",
            "  warnings.warn(\n",
            "/usr/local/lib/python3.8/dist-packages/sklearn/tree/_classes.py:277: FutureWarning: `max_features='auto'` has been deprecated in 1.1 and will be removed in 1.3. To keep the past behaviour, explicitly set `max_features=1.0'`.\n",
            "  warnings.warn(\n",
            "/usr/local/lib/python3.8/dist-packages/sklearn/tree/_classes.py:277: FutureWarning: `max_features='auto'` has been deprecated in 1.1 and will be removed in 1.3. To keep the past behaviour, explicitly set `max_features=1.0'`.\n",
            "  warnings.warn(\n",
            "/usr/local/lib/python3.8/dist-packages/sklearn/tree/_classes.py:277: FutureWarning: `max_features='auto'` has been deprecated in 1.1 and will be removed in 1.3. To keep the past behaviour, explicitly set `max_features=1.0'`.\n",
            "  warnings.warn(\n",
            "/usr/local/lib/python3.8/dist-packages/sklearn/tree/_classes.py:277: FutureWarning: `max_features='auto'` has been deprecated in 1.1 and will be removed in 1.3. To keep the past behaviour, explicitly set `max_features=1.0'`.\n",
            "  warnings.warn(\n",
            "/usr/local/lib/python3.8/dist-packages/sklearn/tree/_classes.py:277: FutureWarning: `max_features='auto'` has been deprecated in 1.1 and will be removed in 1.3. To keep the past behaviour, explicitly set `max_features=1.0'`.\n",
            "  warnings.warn(\n",
            "/usr/local/lib/python3.8/dist-packages/sklearn/tree/_classes.py:277: FutureWarning: `max_features='auto'` has been deprecated in 1.1 and will be removed in 1.3. To keep the past behaviour, explicitly set `max_features=1.0'`.\n",
            "  warnings.warn(\n",
            "/usr/local/lib/python3.8/dist-packages/sklearn/tree/_classes.py:277: FutureWarning: `max_features='auto'` has been deprecated in 1.1 and will be removed in 1.3. To keep the past behaviour, explicitly set `max_features=1.0'`.\n",
            "  warnings.warn(\n",
            "/usr/local/lib/python3.8/dist-packages/sklearn/tree/_classes.py:277: FutureWarning: `max_features='auto'` has been deprecated in 1.1 and will be removed in 1.3. To keep the past behaviour, explicitly set `max_features=1.0'`.\n",
            "  warnings.warn(\n",
            "/usr/local/lib/python3.8/dist-packages/sklearn/tree/_classes.py:277: FutureWarning: `max_features='auto'` has been deprecated in 1.1 and will be removed in 1.3. To keep the past behaviour, explicitly set `max_features=1.0'`.\n",
            "  warnings.warn(\n",
            "/usr/local/lib/python3.8/dist-packages/sklearn/tree/_classes.py:277: FutureWarning: `max_features='auto'` has been deprecated in 1.1 and will be removed in 1.3. To keep the past behaviour, explicitly set `max_features=1.0'`.\n",
            "  warnings.warn(\n",
            "/usr/local/lib/python3.8/dist-packages/sklearn/tree/_classes.py:277: FutureWarning: `max_features='auto'` has been deprecated in 1.1 and will be removed in 1.3. To keep the past behaviour, explicitly set `max_features=1.0'`.\n",
            "  warnings.warn(\n",
            "/usr/local/lib/python3.8/dist-packages/sklearn/tree/_classes.py:277: FutureWarning: `max_features='auto'` has been deprecated in 1.1 and will be removed in 1.3. To keep the past behaviour, explicitly set `max_features=1.0'`.\n",
            "  warnings.warn(\n",
            "/usr/local/lib/python3.8/dist-packages/sklearn/tree/_classes.py:277: FutureWarning: `max_features='auto'` has been deprecated in 1.1 and will be removed in 1.3. To keep the past behaviour, explicitly set `max_features=1.0'`.\n",
            "  warnings.warn(\n",
            "/usr/local/lib/python3.8/dist-packages/sklearn/tree/_classes.py:277: FutureWarning: `max_features='auto'` has been deprecated in 1.1 and will be removed in 1.3. To keep the past behaviour, explicitly set `max_features=1.0'`.\n",
            "  warnings.warn(\n",
            "/usr/local/lib/python3.8/dist-packages/sklearn/tree/_classes.py:277: FutureWarning: `max_features='auto'` has been deprecated in 1.1 and will be removed in 1.3. To keep the past behaviour, explicitly set `max_features=1.0'`.\n",
            "  warnings.warn(\n",
            "/usr/local/lib/python3.8/dist-packages/sklearn/tree/_classes.py:277: FutureWarning: `max_features='auto'` has been deprecated in 1.1 and will be removed in 1.3. To keep the past behaviour, explicitly set `max_features=1.0'`.\n",
            "  warnings.warn(\n",
            "/usr/local/lib/python3.8/dist-packages/sklearn/tree/_classes.py:277: FutureWarning: `max_features='auto'` has been deprecated in 1.1 and will be removed in 1.3. To keep the past behaviour, explicitly set `max_features=1.0'`.\n",
            "  warnings.warn(\n",
            "/usr/local/lib/python3.8/dist-packages/sklearn/tree/_classes.py:277: FutureWarning: `max_features='auto'` has been deprecated in 1.1 and will be removed in 1.3. To keep the past behaviour, explicitly set `max_features=1.0'`.\n",
            "  warnings.warn(\n",
            "/usr/local/lib/python3.8/dist-packages/sklearn/tree/_classes.py:277: FutureWarning: `max_features='auto'` has been deprecated in 1.1 and will be removed in 1.3. To keep the past behaviour, explicitly set `max_features=1.0'`.\n",
            "  warnings.warn(\n",
            "/usr/local/lib/python3.8/dist-packages/sklearn/tree/_classes.py:277: FutureWarning: `max_features='auto'` has been deprecated in 1.1 and will be removed in 1.3. To keep the past behaviour, explicitly set `max_features=1.0'`.\n",
            "  warnings.warn(\n",
            "/usr/local/lib/python3.8/dist-packages/sklearn/tree/_classes.py:277: FutureWarning: `max_features='auto'` has been deprecated in 1.1 and will be removed in 1.3. To keep the past behaviour, explicitly set `max_features=1.0'`.\n",
            "  warnings.warn(\n",
            "/usr/local/lib/python3.8/dist-packages/sklearn/tree/_classes.py:277: FutureWarning: `max_features='auto'` has been deprecated in 1.1 and will be removed in 1.3. To keep the past behaviour, explicitly set `max_features=1.0'`.\n",
            "  warnings.warn(\n",
            "/usr/local/lib/python3.8/dist-packages/sklearn/tree/_classes.py:277: FutureWarning: `max_features='auto'` has been deprecated in 1.1 and will be removed in 1.3. To keep the past behaviour, explicitly set `max_features=1.0'`.\n",
            "  warnings.warn(\n",
            "/usr/local/lib/python3.8/dist-packages/sklearn/tree/_classes.py:277: FutureWarning: `max_features='auto'` has been deprecated in 1.1 and will be removed in 1.3. To keep the past behaviour, explicitly set `max_features=1.0'`.\n",
            "  warnings.warn(\n",
            "/usr/local/lib/python3.8/dist-packages/sklearn/tree/_classes.py:277: FutureWarning: `max_features='auto'` has been deprecated in 1.1 and will be removed in 1.3. To keep the past behaviour, explicitly set `max_features=1.0'`.\n",
            "  warnings.warn(\n",
            "/usr/local/lib/python3.8/dist-packages/sklearn/tree/_classes.py:277: FutureWarning: `max_features='auto'` has been deprecated in 1.1 and will be removed in 1.3. To keep the past behaviour, explicitly set `max_features=1.0'`.\n",
            "  warnings.warn(\n",
            "/usr/local/lib/python3.8/dist-packages/sklearn/tree/_classes.py:277: FutureWarning: `max_features='auto'` has been deprecated in 1.1 and will be removed in 1.3. To keep the past behaviour, explicitly set `max_features=1.0'`.\n",
            "  warnings.warn(\n",
            "/usr/local/lib/python3.8/dist-packages/sklearn/tree/_classes.py:277: FutureWarning: `max_features='auto'` has been deprecated in 1.1 and will be removed in 1.3. To keep the past behaviour, explicitly set `max_features=1.0'`.\n",
            "  warnings.warn(\n",
            "/usr/local/lib/python3.8/dist-packages/sklearn/tree/_classes.py:277: FutureWarning: `max_features='auto'` has been deprecated in 1.1 and will be removed in 1.3. To keep the past behaviour, explicitly set `max_features=1.0'`.\n",
            "  warnings.warn(\n",
            "/usr/local/lib/python3.8/dist-packages/sklearn/tree/_classes.py:277: FutureWarning: `max_features='auto'` has been deprecated in 1.1 and will be removed in 1.3. To keep the past behaviour, explicitly set `max_features=1.0'`.\n",
            "  warnings.warn(\n",
            "/usr/local/lib/python3.8/dist-packages/sklearn/tree/_classes.py:277: FutureWarning: `max_features='auto'` has been deprecated in 1.1 and will be removed in 1.3. To keep the past behaviour, explicitly set `max_features=1.0'`.\n",
            "  warnings.warn(\n",
            "/usr/local/lib/python3.8/dist-packages/sklearn/tree/_classes.py:277: FutureWarning: `max_features='auto'` has been deprecated in 1.1 and will be removed in 1.3. To keep the past behaviour, explicitly set `max_features=1.0'`.\n",
            "  warnings.warn(\n",
            "/usr/local/lib/python3.8/dist-packages/sklearn/tree/_classes.py:277: FutureWarning: `max_features='auto'` has been deprecated in 1.1 and will be removed in 1.3. To keep the past behaviour, explicitly set `max_features=1.0'`.\n",
            "  warnings.warn(\n",
            "/usr/local/lib/python3.8/dist-packages/sklearn/tree/_classes.py:277: FutureWarning: `max_features='auto'` has been deprecated in 1.1 and will be removed in 1.3. To keep the past behaviour, explicitly set `max_features=1.0'`.\n",
            "  warnings.warn(\n",
            "/usr/local/lib/python3.8/dist-packages/sklearn/tree/_classes.py:277: FutureWarning: `max_features='auto'` has been deprecated in 1.1 and will be removed in 1.3. To keep the past behaviour, explicitly set `max_features=1.0'`.\n",
            "  warnings.warn(\n",
            "/usr/local/lib/python3.8/dist-packages/sklearn/tree/_classes.py:277: FutureWarning: `max_features='auto'` has been deprecated in 1.1 and will be removed in 1.3. To keep the past behaviour, explicitly set `max_features=1.0'`.\n",
            "  warnings.warn(\n",
            "/usr/local/lib/python3.8/dist-packages/sklearn/tree/_classes.py:277: FutureWarning: `max_features='auto'` has been deprecated in 1.1 and will be removed in 1.3. To keep the past behaviour, explicitly set `max_features=1.0'`.\n",
            "  warnings.warn(\n",
            "/usr/local/lib/python3.8/dist-packages/sklearn/tree/_classes.py:277: FutureWarning: `max_features='auto'` has been deprecated in 1.1 and will be removed in 1.3. To keep the past behaviour, explicitly set `max_features=1.0'`.\n",
            "  warnings.warn(\n",
            "/usr/local/lib/python3.8/dist-packages/sklearn/tree/_classes.py:277: FutureWarning: `max_features='auto'` has been deprecated in 1.1 and will be removed in 1.3. To keep the past behaviour, explicitly set `max_features=1.0'`.\n",
            "  warnings.warn(\n",
            "/usr/local/lib/python3.8/dist-packages/sklearn/tree/_classes.py:277: FutureWarning: `max_features='auto'` has been deprecated in 1.1 and will be removed in 1.3. To keep the past behaviour, explicitly set `max_features=1.0'`.\n",
            "  warnings.warn(\n",
            "/usr/local/lib/python3.8/dist-packages/sklearn/tree/_classes.py:277: FutureWarning: `max_features='auto'` has been deprecated in 1.1 and will be removed in 1.3. To keep the past behaviour, explicitly set `max_features=1.0'`.\n",
            "  warnings.warn(\n",
            "/usr/local/lib/python3.8/dist-packages/sklearn/tree/_classes.py:277: FutureWarning: `max_features='auto'` has been deprecated in 1.1 and will be removed in 1.3. To keep the past behaviour, explicitly set `max_features=1.0'`.\n",
            "  warnings.warn(\n",
            "/usr/local/lib/python3.8/dist-packages/sklearn/tree/_classes.py:277: FutureWarning: `max_features='auto'` has been deprecated in 1.1 and will be removed in 1.3. To keep the past behaviour, explicitly set `max_features=1.0'`.\n",
            "  warnings.warn(\n",
            "/usr/local/lib/python3.8/dist-packages/sklearn/tree/_classes.py:277: FutureWarning: `max_features='auto'` has been deprecated in 1.1 and will be removed in 1.3. To keep the past behaviour, explicitly set `max_features=1.0'`.\n",
            "  warnings.warn(\n",
            "/usr/local/lib/python3.8/dist-packages/sklearn/tree/_classes.py:277: FutureWarning: `max_features='auto'` has been deprecated in 1.1 and will be removed in 1.3. To keep the past behaviour, explicitly set `max_features=1.0'`.\n",
            "  warnings.warn(\n",
            "/usr/local/lib/python3.8/dist-packages/sklearn/tree/_classes.py:277: FutureWarning: `max_features='auto'` has been deprecated in 1.1 and will be removed in 1.3. To keep the past behaviour, explicitly set `max_features=1.0'`.\n",
            "  warnings.warn(\n",
            "/usr/local/lib/python3.8/dist-packages/sklearn/tree/_classes.py:277: FutureWarning: `max_features='auto'` has been deprecated in 1.1 and will be removed in 1.3. To keep the past behaviour, explicitly set `max_features=1.0'`.\n",
            "  warnings.warn(\n",
            "/usr/local/lib/python3.8/dist-packages/sklearn/tree/_classes.py:277: FutureWarning: `max_features='auto'` has been deprecated in 1.1 and will be removed in 1.3. To keep the past behaviour, explicitly set `max_features=1.0'`.\n",
            "  warnings.warn(\n",
            "/usr/local/lib/python3.8/dist-packages/sklearn/tree/_classes.py:277: FutureWarning: `max_features='auto'` has been deprecated in 1.1 and will be removed in 1.3. To keep the past behaviour, explicitly set `max_features=1.0'`.\n",
            "  warnings.warn(\n",
            "/usr/local/lib/python3.8/dist-packages/sklearn/tree/_classes.py:277: FutureWarning: `max_features='auto'` has been deprecated in 1.1 and will be removed in 1.3. To keep the past behaviour, explicitly set `max_features=1.0'`.\n",
            "  warnings.warn(\n",
            "/usr/local/lib/python3.8/dist-packages/sklearn/tree/_classes.py:277: FutureWarning: `max_features='auto'` has been deprecated in 1.1 and will be removed in 1.3. To keep the past behaviour, explicitly set `max_features=1.0'`.\n",
            "  warnings.warn(\n",
            "/usr/local/lib/python3.8/dist-packages/sklearn/tree/_classes.py:277: FutureWarning: `max_features='auto'` has been deprecated in 1.1 and will be removed in 1.3. To keep the past behaviour, explicitly set `max_features=1.0'`.\n",
            "  warnings.warn(\n",
            "/usr/local/lib/python3.8/dist-packages/sklearn/tree/_classes.py:277: FutureWarning: `max_features='auto'` has been deprecated in 1.1 and will be removed in 1.3. To keep the past behaviour, explicitly set `max_features=1.0'`.\n",
            "  warnings.warn(\n",
            "/usr/local/lib/python3.8/dist-packages/sklearn/tree/_classes.py:277: FutureWarning: `max_features='auto'` has been deprecated in 1.1 and will be removed in 1.3. To keep the past behaviour, explicitly set `max_features=1.0'`.\n",
            "  warnings.warn(\n",
            "/usr/local/lib/python3.8/dist-packages/sklearn/tree/_classes.py:277: FutureWarning: `max_features='auto'` has been deprecated in 1.1 and will be removed in 1.3. To keep the past behaviour, explicitly set `max_features=1.0'`.\n",
            "  warnings.warn(\n",
            "/usr/local/lib/python3.8/dist-packages/sklearn/tree/_classes.py:277: FutureWarning: `max_features='auto'` has been deprecated in 1.1 and will be removed in 1.3. To keep the past behaviour, explicitly set `max_features=1.0'`.\n",
            "  warnings.warn(\n",
            "/usr/local/lib/python3.8/dist-packages/sklearn/tree/_classes.py:277: FutureWarning: `max_features='auto'` has been deprecated in 1.1 and will be removed in 1.3. To keep the past behaviour, explicitly set `max_features=1.0'`.\n",
            "  warnings.warn(\n",
            "/usr/local/lib/python3.8/dist-packages/sklearn/tree/_classes.py:277: FutureWarning: `max_features='auto'` has been deprecated in 1.1 and will be removed in 1.3. To keep the past behaviour, explicitly set `max_features=1.0'`.\n",
            "  warnings.warn(\n",
            "/usr/local/lib/python3.8/dist-packages/sklearn/tree/_classes.py:277: FutureWarning: `max_features='auto'` has been deprecated in 1.1 and will be removed in 1.3. To keep the past behaviour, explicitly set `max_features=1.0'`.\n",
            "  warnings.warn(\n",
            "/usr/local/lib/python3.8/dist-packages/sklearn/tree/_classes.py:277: FutureWarning: `max_features='auto'` has been deprecated in 1.1 and will be removed in 1.3. To keep the past behaviour, explicitly set `max_features=1.0'`.\n",
            "  warnings.warn(\n",
            "/usr/local/lib/python3.8/dist-packages/sklearn/tree/_classes.py:277: FutureWarning: `max_features='auto'` has been deprecated in 1.1 and will be removed in 1.3. To keep the past behaviour, explicitly set `max_features=1.0'`.\n",
            "  warnings.warn(\n",
            "/usr/local/lib/python3.8/dist-packages/sklearn/tree/_classes.py:277: FutureWarning: `max_features='auto'` has been deprecated in 1.1 and will be removed in 1.3. To keep the past behaviour, explicitly set `max_features=1.0'`.\n",
            "  warnings.warn(\n",
            "/usr/local/lib/python3.8/dist-packages/sklearn/tree/_classes.py:277: FutureWarning: `max_features='auto'` has been deprecated in 1.1 and will be removed in 1.3. To keep the past behaviour, explicitly set `max_features=1.0'`.\n",
            "  warnings.warn(\n",
            "/usr/local/lib/python3.8/dist-packages/sklearn/tree/_classes.py:277: FutureWarning: `max_features='auto'` has been deprecated in 1.1 and will be removed in 1.3. To keep the past behaviour, explicitly set `max_features=1.0'`.\n",
            "  warnings.warn(\n",
            "/usr/local/lib/python3.8/dist-packages/sklearn/tree/_classes.py:277: FutureWarning: `max_features='auto'` has been deprecated in 1.1 and will be removed in 1.3. To keep the past behaviour, explicitly set `max_features=1.0'`.\n",
            "  warnings.warn(\n",
            "/usr/local/lib/python3.8/dist-packages/sklearn/tree/_classes.py:277: FutureWarning: `max_features='auto'` has been deprecated in 1.1 and will be removed in 1.3. To keep the past behaviour, explicitly set `max_features=1.0'`.\n",
            "  warnings.warn(\n",
            "/usr/local/lib/python3.8/dist-packages/sklearn/tree/_classes.py:277: FutureWarning: `max_features='auto'` has been deprecated in 1.1 and will be removed in 1.3. To keep the past behaviour, explicitly set `max_features=1.0'`.\n",
            "  warnings.warn(\n",
            "/usr/local/lib/python3.8/dist-packages/sklearn/tree/_classes.py:277: FutureWarning: `max_features='auto'` has been deprecated in 1.1 and will be removed in 1.3. To keep the past behaviour, explicitly set `max_features=1.0'`.\n",
            "  warnings.warn(\n",
            "/usr/local/lib/python3.8/dist-packages/sklearn/tree/_classes.py:277: FutureWarning: `max_features='auto'` has been deprecated in 1.1 and will be removed in 1.3. To keep the past behaviour, explicitly set `max_features=1.0'`.\n",
            "  warnings.warn(\n",
            "/usr/local/lib/python3.8/dist-packages/sklearn/tree/_classes.py:277: FutureWarning: `max_features='auto'` has been deprecated in 1.1 and will be removed in 1.3. To keep the past behaviour, explicitly set `max_features=1.0'`.\n",
            "  warnings.warn(\n",
            "/usr/local/lib/python3.8/dist-packages/sklearn/tree/_classes.py:277: FutureWarning: `max_features='auto'` has been deprecated in 1.1 and will be removed in 1.3. To keep the past behaviour, explicitly set `max_features=1.0'`.\n",
            "  warnings.warn(\n",
            "/usr/local/lib/python3.8/dist-packages/sklearn/tree/_classes.py:277: FutureWarning: `max_features='auto'` has been deprecated in 1.1 and will be removed in 1.3. To keep the past behaviour, explicitly set `max_features=1.0'`.\n",
            "  warnings.warn(\n",
            "/usr/local/lib/python3.8/dist-packages/sklearn/tree/_classes.py:277: FutureWarning: `max_features='auto'` has been deprecated in 1.1 and will be removed in 1.3. To keep the past behaviour, explicitly set `max_features=1.0'`.\n",
            "  warnings.warn(\n",
            "/usr/local/lib/python3.8/dist-packages/sklearn/tree/_classes.py:277: FutureWarning: `max_features='auto'` has been deprecated in 1.1 and will be removed in 1.3. To keep the past behaviour, explicitly set `max_features=1.0'`.\n",
            "  warnings.warn(\n",
            "/usr/local/lib/python3.8/dist-packages/sklearn/tree/_classes.py:277: FutureWarning: `max_features='auto'` has been deprecated in 1.1 and will be removed in 1.3. To keep the past behaviour, explicitly set `max_features=1.0'`.\n",
            "  warnings.warn(\n",
            "/usr/local/lib/python3.8/dist-packages/sklearn/tree/_classes.py:277: FutureWarning: `max_features='auto'` has been deprecated in 1.1 and will be removed in 1.3. To keep the past behaviour, explicitly set `max_features=1.0'`.\n",
            "  warnings.warn(\n",
            "/usr/local/lib/python3.8/dist-packages/sklearn/tree/_classes.py:277: FutureWarning: `max_features='auto'` has been deprecated in 1.1 and will be removed in 1.3. To keep the past behaviour, explicitly set `max_features=1.0'`.\n",
            "  warnings.warn(\n",
            "/usr/local/lib/python3.8/dist-packages/sklearn/tree/_classes.py:277: FutureWarning: `max_features='auto'` has been deprecated in 1.1 and will be removed in 1.3. To keep the past behaviour, explicitly set `max_features=1.0'`.\n",
            "  warnings.warn(\n",
            "/usr/local/lib/python3.8/dist-packages/sklearn/tree/_classes.py:277: FutureWarning: `max_features='auto'` has been deprecated in 1.1 and will be removed in 1.3. To keep the past behaviour, explicitly set `max_features=1.0'`.\n",
            "  warnings.warn(\n",
            "/usr/local/lib/python3.8/dist-packages/sklearn/tree/_classes.py:277: FutureWarning: `max_features='auto'` has been deprecated in 1.1 and will be removed in 1.3. To keep the past behaviour, explicitly set `max_features=1.0'`.\n",
            "  warnings.warn(\n",
            "/usr/local/lib/python3.8/dist-packages/sklearn/tree/_classes.py:277: FutureWarning: `max_features='auto'` has been deprecated in 1.1 and will be removed in 1.3. To keep the past behaviour, explicitly set `max_features=1.0'`.\n",
            "  warnings.warn(\n",
            "/usr/local/lib/python3.8/dist-packages/sklearn/tree/_classes.py:277: FutureWarning: `max_features='auto'` has been deprecated in 1.1 and will be removed in 1.3. To keep the past behaviour, explicitly set `max_features=1.0'`.\n",
            "  warnings.warn(\n",
            "/usr/local/lib/python3.8/dist-packages/sklearn/tree/_classes.py:277: FutureWarning: `max_features='auto'` has been deprecated in 1.1 and will be removed in 1.3. To keep the past behaviour, explicitly set `max_features=1.0'`.\n",
            "  warnings.warn(\n",
            "/usr/local/lib/python3.8/dist-packages/sklearn/tree/_classes.py:277: FutureWarning: `max_features='auto'` has been deprecated in 1.1 and will be removed in 1.3. To keep the past behaviour, explicitly set `max_features=1.0'`.\n",
            "  warnings.warn(\n",
            "/usr/local/lib/python3.8/dist-packages/sklearn/tree/_classes.py:277: FutureWarning: `max_features='auto'` has been deprecated in 1.1 and will be removed in 1.3. To keep the past behaviour, explicitly set `max_features=1.0'`.\n",
            "  warnings.warn(\n",
            "/usr/local/lib/python3.8/dist-packages/sklearn/tree/_classes.py:277: FutureWarning: `max_features='auto'` has been deprecated in 1.1 and will be removed in 1.3. To keep the past behaviour, explicitly set `max_features=1.0'`.\n",
            "  warnings.warn(\n",
            "/usr/local/lib/python3.8/dist-packages/sklearn/tree/_classes.py:277: FutureWarning: `max_features='auto'` has been deprecated in 1.1 and will be removed in 1.3. To keep the past behaviour, explicitly set `max_features=1.0'`.\n",
            "  warnings.warn(\n",
            "/usr/local/lib/python3.8/dist-packages/sklearn/tree/_classes.py:277: FutureWarning: `max_features='auto'` has been deprecated in 1.1 and will be removed in 1.3. To keep the past behaviour, explicitly set `max_features=1.0'`.\n",
            "  warnings.warn(\n",
            "/usr/local/lib/python3.8/dist-packages/sklearn/tree/_classes.py:277: FutureWarning: `max_features='auto'` has been deprecated in 1.1 and will be removed in 1.3. To keep the past behaviour, explicitly set `max_features=1.0'`.\n",
            "  warnings.warn(\n",
            "/usr/local/lib/python3.8/dist-packages/sklearn/tree/_classes.py:277: FutureWarning: `max_features='auto'` has been deprecated in 1.1 and will be removed in 1.3. To keep the past behaviour, explicitly set `max_features=1.0'`.\n",
            "  warnings.warn(\n",
            "/usr/local/lib/python3.8/dist-packages/sklearn/tree/_classes.py:277: FutureWarning: `max_features='auto'` has been deprecated in 1.1 and will be removed in 1.3. To keep the past behaviour, explicitly set `max_features=1.0'`.\n",
            "  warnings.warn(\n",
            "/usr/local/lib/python3.8/dist-packages/sklearn/tree/_classes.py:277: FutureWarning: `max_features='auto'` has been deprecated in 1.1 and will be removed in 1.3. To keep the past behaviour, explicitly set `max_features=1.0'`.\n",
            "  warnings.warn(\n",
            "/usr/local/lib/python3.8/dist-packages/sklearn/tree/_classes.py:277: FutureWarning: `max_features='auto'` has been deprecated in 1.1 and will be removed in 1.3. To keep the past behaviour, explicitly set `max_features=1.0'`.\n",
            "  warnings.warn(\n",
            "/usr/local/lib/python3.8/dist-packages/sklearn/tree/_classes.py:277: FutureWarning: `max_features='auto'` has been deprecated in 1.1 and will be removed in 1.3. To keep the past behaviour, explicitly set `max_features=1.0'`.\n",
            "  warnings.warn(\n",
            "/usr/local/lib/python3.8/dist-packages/sklearn/tree/_classes.py:277: FutureWarning: `max_features='auto'` has been deprecated in 1.1 and will be removed in 1.3. To keep the past behaviour, explicitly set `max_features=1.0'`.\n",
            "  warnings.warn(\n",
            "/usr/local/lib/python3.8/dist-packages/sklearn/tree/_classes.py:277: FutureWarning: `max_features='auto'` has been deprecated in 1.1 and will be removed in 1.3. To keep the past behaviour, explicitly set `max_features=1.0'`.\n",
            "  warnings.warn(\n"
          ]
        },
        {
          "output_type": "execute_result",
          "data": {
            "text/plain": [
              "RandomizedSearchCV(cv=2, estimator=GradientBoostingRegressor(random_state=42),\n",
              "                   n_jobs=-1,\n",
              "                   param_distributions={'max_depth': [2, 4, 5, 8],\n",
              "                                        'max_features': ['auto', 'sqrt', 'log2',\n",
              "                                                         None],\n",
              "                                        'min_samples_leaf': [1, 2, 4, 6, 8],\n",
              "                                        'min_samples_split': [2, 4, 6, 8, 10],\n",
              "                                        'n_estimators': [100, 200, 400]},\n",
              "                   random_state=42, return_train_score=True,\n",
              "                   scoring='neg_mean_absolute_error', verbose=1)"
            ],
            "text/html": [
              "<style>#sk-container-id-1 {color: black;background-color: white;}#sk-container-id-1 pre{padding: 0;}#sk-container-id-1 div.sk-toggleable {background-color: white;}#sk-container-id-1 label.sk-toggleable__label {cursor: pointer;display: block;width: 100%;margin-bottom: 0;padding: 0.3em;box-sizing: border-box;text-align: center;}#sk-container-id-1 label.sk-toggleable__label-arrow:before {content: \"▸\";float: left;margin-right: 0.25em;color: #696969;}#sk-container-id-1 label.sk-toggleable__label-arrow:hover:before {color: black;}#sk-container-id-1 div.sk-estimator:hover label.sk-toggleable__label-arrow:before {color: black;}#sk-container-id-1 div.sk-toggleable__content {max-height: 0;max-width: 0;overflow: hidden;text-align: left;background-color: #f0f8ff;}#sk-container-id-1 div.sk-toggleable__content pre {margin: 0.2em;color: black;border-radius: 0.25em;background-color: #f0f8ff;}#sk-container-id-1 input.sk-toggleable__control:checked~div.sk-toggleable__content {max-height: 200px;max-width: 100%;overflow: auto;}#sk-container-id-1 input.sk-toggleable__control:checked~label.sk-toggleable__label-arrow:before {content: \"▾\";}#sk-container-id-1 div.sk-estimator input.sk-toggleable__control:checked~label.sk-toggleable__label {background-color: #d4ebff;}#sk-container-id-1 div.sk-label input.sk-toggleable__control:checked~label.sk-toggleable__label {background-color: #d4ebff;}#sk-container-id-1 input.sk-hidden--visually {border: 0;clip: rect(1px 1px 1px 1px);clip: rect(1px, 1px, 1px, 1px);height: 1px;margin: -1px;overflow: hidden;padding: 0;position: absolute;width: 1px;}#sk-container-id-1 div.sk-estimator {font-family: monospace;background-color: #f0f8ff;border: 1px dotted black;border-radius: 0.25em;box-sizing: border-box;margin-bottom: 0.5em;}#sk-container-id-1 div.sk-estimator:hover {background-color: #d4ebff;}#sk-container-id-1 div.sk-parallel-item::after {content: \"\";width: 100%;border-bottom: 1px solid gray;flex-grow: 1;}#sk-container-id-1 div.sk-label:hover label.sk-toggleable__label {background-color: #d4ebff;}#sk-container-id-1 div.sk-serial::before {content: \"\";position: absolute;border-left: 1px solid gray;box-sizing: border-box;top: 0;bottom: 0;left: 50%;z-index: 0;}#sk-container-id-1 div.sk-serial {display: flex;flex-direction: column;align-items: center;background-color: white;padding-right: 0.2em;padding-left: 0.2em;position: relative;}#sk-container-id-1 div.sk-item {position: relative;z-index: 1;}#sk-container-id-1 div.sk-parallel {display: flex;align-items: stretch;justify-content: center;background-color: white;position: relative;}#sk-container-id-1 div.sk-item::before, #sk-container-id-1 div.sk-parallel-item::before {content: \"\";position: absolute;border-left: 1px solid gray;box-sizing: border-box;top: 0;bottom: 0;left: 50%;z-index: -1;}#sk-container-id-1 div.sk-parallel-item {display: flex;flex-direction: column;z-index: 1;position: relative;background-color: white;}#sk-container-id-1 div.sk-parallel-item:first-child::after {align-self: flex-end;width: 50%;}#sk-container-id-1 div.sk-parallel-item:last-child::after {align-self: flex-start;width: 50%;}#sk-container-id-1 div.sk-parallel-item:only-child::after {width: 0;}#sk-container-id-1 div.sk-dashed-wrapped {border: 1px dashed gray;margin: 0 0.4em 0.5em 0.4em;box-sizing: border-box;padding-bottom: 0.4em;background-color: white;}#sk-container-id-1 div.sk-label label {font-family: monospace;font-weight: bold;display: inline-block;line-height: 1.2em;}#sk-container-id-1 div.sk-label-container {text-align: center;}#sk-container-id-1 div.sk-container {/* jupyter's `normalize.less` sets `[hidden] { display: none; }` but bootstrap.min.css set `[hidden] { display: none !important; }` so we also need the `!important` here to be able to override the default hidden behavior on the sphinx rendered scikit-learn.org. See: https://github.com/scikit-learn/scikit-learn/issues/21755 */display: inline-block !important;position: relative;}#sk-container-id-1 div.sk-text-repr-fallback {display: none;}</style><div id=\"sk-container-id-1\" class=\"sk-top-container\"><div class=\"sk-text-repr-fallback\"><pre>RandomizedSearchCV(cv=2, estimator=GradientBoostingRegressor(random_state=42),\n",
              "                   n_jobs=-1,\n",
              "                   param_distributions={&#x27;max_depth&#x27;: [2, 4, 5, 8],\n",
              "                                        &#x27;max_features&#x27;: [&#x27;auto&#x27;, &#x27;sqrt&#x27;, &#x27;log2&#x27;,\n",
              "                                                         None],\n",
              "                                        &#x27;min_samples_leaf&#x27;: [1, 2, 4, 6, 8],\n",
              "                                        &#x27;min_samples_split&#x27;: [2, 4, 6, 8, 10],\n",
              "                                        &#x27;n_estimators&#x27;: [100, 200, 400]},\n",
              "                   random_state=42, return_train_score=True,\n",
              "                   scoring=&#x27;neg_mean_absolute_error&#x27;, verbose=1)</pre><b>In a Jupyter environment, please rerun this cell to show the HTML representation or trust the notebook. <br />On GitHub, the HTML representation is unable to render, please try loading this page with nbviewer.org.</b></div><div class=\"sk-container\" hidden><div class=\"sk-item sk-dashed-wrapped\"><div class=\"sk-label-container\"><div class=\"sk-label sk-toggleable\"><input class=\"sk-toggleable__control sk-hidden--visually\" id=\"sk-estimator-id-1\" type=\"checkbox\" ><label for=\"sk-estimator-id-1\" class=\"sk-toggleable__label sk-toggleable__label-arrow\">RandomizedSearchCV</label><div class=\"sk-toggleable__content\"><pre>RandomizedSearchCV(cv=2, estimator=GradientBoostingRegressor(random_state=42),\n",
              "                   n_jobs=-1,\n",
              "                   param_distributions={&#x27;max_depth&#x27;: [2, 4, 5, 8],\n",
              "                                        &#x27;max_features&#x27;: [&#x27;auto&#x27;, &#x27;sqrt&#x27;, &#x27;log2&#x27;,\n",
              "                                                         None],\n",
              "                                        &#x27;min_samples_leaf&#x27;: [1, 2, 4, 6, 8],\n",
              "                                        &#x27;min_samples_split&#x27;: [2, 4, 6, 8, 10],\n",
              "                                        &#x27;n_estimators&#x27;: [100, 200, 400]},\n",
              "                   random_state=42, return_train_score=True,\n",
              "                   scoring=&#x27;neg_mean_absolute_error&#x27;, verbose=1)</pre></div></div></div><div class=\"sk-parallel\"><div class=\"sk-parallel-item\"><div class=\"sk-item\"><div class=\"sk-label-container\"><div class=\"sk-label sk-toggleable\"><input class=\"sk-toggleable__control sk-hidden--visually\" id=\"sk-estimator-id-2\" type=\"checkbox\" ><label for=\"sk-estimator-id-2\" class=\"sk-toggleable__label sk-toggleable__label-arrow\">estimator: GradientBoostingRegressor</label><div class=\"sk-toggleable__content\"><pre>GradientBoostingRegressor(random_state=42)</pre></div></div></div><div class=\"sk-serial\"><div class=\"sk-item\"><div class=\"sk-estimator sk-toggleable\"><input class=\"sk-toggleable__control sk-hidden--visually\" id=\"sk-estimator-id-3\" type=\"checkbox\" ><label for=\"sk-estimator-id-3\" class=\"sk-toggleable__label sk-toggleable__label-arrow\">GradientBoostingRegressor</label><div class=\"sk-toggleable__content\"><pre>GradientBoostingRegressor(random_state=42)</pre></div></div></div></div></div></div></div></div></div></div>"
            ]
          },
          "metadata": {},
          "execution_count": 59
        }
      ],
      "source": [
        "# hyperparameters\n",
        "# Number of trees used in the boosting process\n",
        "from sklearn.model_selection import RandomizedSearchCV\n",
        "n_estimators = [100, 200, 400 ]\n",
        "# Maximum depth of each tree\n",
        "max_depth = [2, 4, 5, 8]\n",
        "# Minimum number of samples per leaf\n",
        "min_samples_leaf = [1, 2, 4, 6, 8]\n",
        "# Minimum number of samples to split a node\n",
        "min_samples_split = [2, 4, 6, 8, 10]\n",
        "# Maximum number of features to consider for making splits\n",
        "max_features = ['auto', 'sqrt', 'log2', None]\n",
        "# Define the grid of hyperparameters to search\n",
        "hyperparameter_grid = {'n_estimators': n_estimators,\n",
        "                       'max_depth': max_depth,\n",
        "                       'min_samples_leaf': min_samples_leaf,\n",
        "                       'min_samples_split': min_samples_split,\n",
        "                       'max_features': max_features}\n",
        "# Create the model to use for hyperparameter tuning\n",
        "model = GradientBoostingRegressor(random_state = 42)\n",
        "# Set up the random search with 2-fold cross validation\n",
        "random_cv = RandomizedSearchCV(estimator=model,\n",
        "                               param_distributions=hyperparameter_grid,\n",
        "                               cv=2, n_iter=10,\n",
        "                               scoring = 'neg_mean_absolute_error',\n",
        "                               n_jobs = -1, verbose = 1,\n",
        "                               return_train_score = True,\n",
        "                               random_state=42)\n",
        "# Fit on the training data\n",
        "random_cv.fit(X_train, y_train)"
      ]
    },
    {
      "cell_type": "code",
      "execution_count": 60,
      "id": "1ac41dbc",
      "metadata": {
        "execution": {
          "iopub.execute_input": "2023-03-06T13:45:58.110986Z",
          "iopub.status.busy": "2023-03-06T13:45:58.110124Z",
          "iopub.status.idle": "2023-03-06T13:45:58.120461Z",
          "shell.execute_reply": "2023-03-06T13:45:58.118728Z",
          "shell.execute_reply.started": "2023-03-06T13:45:58.110942Z"
        },
        "papermill": {
          "duration": null,
          "end_time": null,
          "exception": null,
          "start_time": null,
          "status": "pending"
        },
        "tags": [],
        "id": "1ac41dbc",
        "colab": {
          "base_uri": "https://localhost:8080/"
        },
        "outputId": "a697be29-a569-42e8-e7ff-e48a271faaf3"
      },
      "outputs": [
        {
          "output_type": "execute_result",
          "data": {
            "text/plain": [
              "{'n_estimators': 100,\n",
              " 'min_samples_split': 2,\n",
              " 'min_samples_leaf': 4,\n",
              " 'max_features': 'auto',\n",
              " 'max_depth': 4}"
            ]
          },
          "metadata": {},
          "execution_count": 60
        }
      ],
      "source": [
        "random_cv.best_params_"
      ]
    },
    {
      "cell_type": "code",
      "execution_count": null,
      "id": "eec63e4c",
      "metadata": {
        "execution": {
          "iopub.execute_input": "2023-03-06T13:46:51.332470Z",
          "iopub.status.busy": "2023-03-06T13:46:51.331978Z",
          "iopub.status.idle": "2023-03-06T13:46:51.342474Z",
          "shell.execute_reply": "2023-03-06T13:46:51.340661Z",
          "shell.execute_reply.started": "2023-03-06T13:46:51.332426Z"
        },
        "papermill": {
          "duration": null,
          "end_time": null,
          "exception": null,
          "start_time": null,
          "status": "pending"
        },
        "tags": [],
        "id": "eec63e4c"
      },
      "outputs": [],
      "source": []
    },
    {
      "cell_type": "code",
      "execution_count": null,
      "id": "8781a4c3",
      "metadata": {
        "papermill": {
          "duration": null,
          "end_time": null,
          "exception": null,
          "start_time": null,
          "status": "pending"
        },
        "tags": [],
        "id": "8781a4c3"
      },
      "outputs": [],
      "source": []
    },
    {
      "cell_type": "code",
      "execution_count": 179,
      "id": "8b97bb55",
      "metadata": {
        "execution": {
          "iopub.execute_input": "2023-03-06T11:34:45.807545Z",
          "iopub.status.busy": "2023-03-06T11:34:45.807098Z",
          "iopub.status.idle": "2023-03-06T11:34:45.816704Z",
          "shell.execute_reply": "2023-03-06T11:34:45.815326Z",
          "shell.execute_reply.started": "2023-03-06T11:34:45.807506Z"
        },
        "papermill": {
          "duration": null,
          "end_time": null,
          "exception": null,
          "start_time": null,
          "status": "pending"
        },
        "tags": [],
        "id": "8b97bb55",
        "colab": {
          "base_uri": "https://localhost:8080/"
        },
        "outputId": "2070a865-0410-4984-f48f-6c6f383aa219"
      },
      "outputs": [
        {
          "output_type": "execute_result",
          "data": {
            "text/plain": [
              "['DOF Gross Floor Area',\n",
              " 'Largest Property Use Type - Gross Floor Area (ft²)',\n",
              " '2nd Largest Property Use - Gross Floor Area (ft²)',\n",
              " '3rd Largest Property Use Type - Gross Floor Area (ft²)',\n",
              " 'Number of Buildings - Self-reported',\n",
              " 'Occupancy',\n",
              " 'Site EUI (kBtu/ft²)',\n",
              " 'Weather Normalized Site EUI (kBtu/ft²)',\n",
              " 'Weather Normalized Site Electricity Intensity (kWh/ft²)',\n",
              " 'Weather Normalized Site Natural Gas Intensity (therms/ft²)',\n",
              " 'Weather Normalized Source EUI (kBtu/ft²)',\n",
              " 'Fuel Oil #1 Use (kBtu)',\n",
              " 'Fuel Oil #2 Use (kBtu)',\n",
              " 'Fuel Oil #4 Use (kBtu)',\n",
              " 'Fuel Oil #5 & 6 Use (kBtu)',\n",
              " 'Diesel #2 Use (kBtu)',\n",
              " 'District Steam Use (kBtu)',\n",
              " 'Natural Gas Use (kBtu)',\n",
              " 'Weather Normalized Site Natural Gas Use (therms)',\n",
              " 'Electricity Use - Grid Purchase (kBtu)',\n",
              " 'Weather Normalized Site Electricity (kWh)',\n",
              " 'Total GHG Emissions (Metric Tons CO2e)',\n",
              " 'Direct GHG Emissions (Metric Tons CO2e)',\n",
              " 'Indirect GHG Emissions (Metric Tons CO2e)',\n",
              " 'Property GFA - Self-Reported (ft²)',\n",
              " 'Water Use (All Water Sources) (kgal)',\n",
              " 'Water Intensity (All Water Sources) (gal/ft²)',\n",
              " 'Source EUI (kBtu/ft²)',\n",
              " 'Latitude',\n",
              " 'Community Board',\n",
              " 'Council District',\n",
              " 'Census Tract',\n",
              " 'Largest Property Use Rate',\n",
              " '2nd Property Use Rate',\n",
              " '3rd Property Use Rate',\n",
              " 'Direct GHG Emissions Rate',\n",
              " 'n_Postal Code',\n",
              " 'n_Parent Property Id',\n",
              " 'n_Property Id',\n",
              " 'n_Tax Lot',\n",
              " 'n_Tax Block',\n",
              " 'n_3rd Largest Property Use Type',\n",
              " 'n_2nd Largest Property Use Type',\n",
              " 'n_Primary Property Type - Self Selected',\n",
              " 'n_Year Built',\n",
              " 'Largest Property Use Type_College/University',\n",
              " 'Largest Property Use Type_Distribution Center',\n",
              " 'Largest Property Use Type_Food Service',\n",
              " 'Largest Property Use Type_Hotel',\n",
              " 'Largest Property Use Type_Multifamily Housing',\n",
              " 'Largest Property Use Type_Office',\n",
              " 'Largest Property Use Type_Other',\n",
              " 'Largest Property Use Type_Recreation',\n",
              " 'Largest Property Use Type_Residence Hall/Dormitory',\n",
              " 'Largest Property Use Type_Retail Store',\n",
              " 'Largest Property Use Type_Senior Care Community',\n",
              " 'Largest Property Use Type_nan',\n",
              " 'Metered Areas (Energy)_Another configuration',\n",
              " 'Metered Areas (Energy)_Common Area Cooling, Tenant Plug Load/Electricity, Tenant Cooling, Common Area Plug Load/Electricity',\n",
              " 'Metered Areas (Energy)_Common areas only',\n",
              " 'Metered Areas (Energy)_Tenant Cooling, Common Area Hot Water, Common Area Heating, Common Area Plug Load/Electricity',\n",
              " 'Metered Areas (Energy)_Tenant Plug Load/Electricity, Common Area Cooling, Tenant Cooling, Common Area Plug Load/Electricity',\n",
              " 'Metered Areas (Energy)_Tenant areas only',\n",
              " 'Metered Areas (Energy)_Whole Building',\n",
              " 'DOF Benchmarking Submission Status_In Compliance',\n",
              " 'Borough_1',\n",
              " 'Borough_2',\n",
              " 'Borough_3',\n",
              " 'Borough_4',\n",
              " 'Borough_5',\n",
              " 'Borough_nan']"
            ]
          },
          "metadata": {},
          "execution_count": 179
        }
      ],
      "source": [
        "feature_names"
      ]
    },
    {
      "cell_type": "code",
      "execution_count": null,
      "id": "777ae397",
      "metadata": {
        "papermill": {
          "duration": null,
          "end_time": null,
          "exception": null,
          "start_time": null,
          "status": "pending"
        },
        "tags": [],
        "id": "777ae397"
      },
      "outputs": [],
      "source": []
    },
    {
      "cell_type": "code",
      "execution_count": null,
      "id": "fede049a",
      "metadata": {
        "papermill": {
          "duration": null,
          "end_time": null,
          "exception": null,
          "start_time": null,
          "status": "pending"
        },
        "tags": [],
        "id": "fede049a"
      },
      "outputs": [],
      "source": []
    },
    {
      "cell_type": "code",
      "execution_count": null,
      "id": "0e1bd63e",
      "metadata": {
        "papermill": {
          "duration": null,
          "end_time": null,
          "exception": null,
          "start_time": null,
          "status": "pending"
        },
        "tags": [],
        "id": "0e1bd63e"
      },
      "outputs": [],
      "source": []
    },
    {
      "cell_type": "code",
      "execution_count": null,
      "id": "6afad139",
      "metadata": {
        "papermill": {
          "duration": null,
          "end_time": null,
          "exception": null,
          "start_time": null,
          "status": "pending"
        },
        "tags": [],
        "id": "6afad139"
      },
      "outputs": [],
      "source": []
    },
    {
      "cell_type": "code",
      "execution_count": null,
      "id": "a7233f69",
      "metadata": {
        "papermill": {
          "duration": null,
          "end_time": null,
          "exception": null,
          "start_time": null,
          "status": "pending"
        },
        "tags": [],
        "id": "a7233f69"
      },
      "outputs": [],
      "source": []
    }
  ],
  "metadata": {
    "kernelspec": {
      "display_name": "Python 3",
      "language": "python",
      "name": "python3"
    },
    "language_info": {
      "codemirror_mode": {
        "name": "ipython",
        "version": 3
      },
      "file_extension": ".py",
      "mimetype": "text/x-python",
      "name": "python",
      "nbconvert_exporter": "python",
      "pygments_lexer": "ipython3",
      "version": "3.7.12"
    },
    "papermill": {
      "default_parameters": {},
      "duration": 11.968788,
      "end_time": "2023-03-06T14:36:03.503492",
      "environment_variables": {},
      "exception": true,
      "input_path": "__notebook__.ipynb",
      "output_path": "__notebook__.ipynb",
      "parameters": {},
      "start_time": "2023-03-06T14:35:51.534704",
      "version": "2.4.0"
    },
    "colab": {
      "provenance": []
    }
  },
  "nbformat": 4,
  "nbformat_minor": 5
}