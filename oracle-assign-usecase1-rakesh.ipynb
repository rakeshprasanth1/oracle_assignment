{
 "cells": [
  {
   "cell_type": "code",
   "execution_count": null,
   "id": "773bde08",
   "metadata": {
    "papermill": {
     "duration": 0.021121,
     "end_time": "2023-03-06T14:36:00.617909",
     "exception": false,
     "start_time": "2023-03-06T14:36:00.596788",
     "status": "completed"
    },
    "tags": []
   },
   "outputs": [],
   "source": []
  },
  {
   "cell_type": "code",
   "execution_count": null,
   "id": "8516be09",
   "metadata": {
    "_cell_guid": "b1076dfc-b9ad-4769-8c92-a6c4dae69d19",
    "_uuid": "8f2839f25d086af736a60e9eeb907d3b93b6e0e5",
    "papermill": {
     "duration": 0.025079,
     "end_time": "2023-03-06T14:36:00.667146",
     "exception": false,
     "start_time": "2023-03-06T14:36:00.642067",
     "status": "completed"
    },
    "tags": []
   },
   "outputs": [],
   "source": []
  },
  {
   "cell_type": "code",
   "execution_count": 1,
   "id": "68f91409",
   "metadata": {
    "execution": {
     "iopub.execute_input": "2023-03-06T14:36:00.709745Z",
     "iopub.status.busy": "2023-03-06T14:36:00.709076Z",
     "iopub.status.idle": "2023-03-06T14:36:02.567611Z",
     "shell.execute_reply": "2023-03-06T14:36:02.566423Z"
    },
    "papermill": {
     "duration": 1.88359,
     "end_time": "2023-03-06T14:36:02.570798",
     "exception": false,
     "start_time": "2023-03-06T14:36:00.687208",
     "status": "completed"
    },
    "tags": []
   },
   "outputs": [],
   "source": [
    "# Pandas and numpy for data manipulation\n",
    "import pandas as pd\n",
    "import numpy as np\n",
    "\n",
    "# No warnings about setting value on copy of slice\n",
    "pd.options.mode.chained_assignment = None\n",
    "\n",
    "# Matplotlib and seaborn for visualization\n",
    "import matplotlib.pyplot as plt\n",
    "%matplotlib inline\n",
    "\n",
    "from IPython.core.pylabtools import figsize\n",
    "\n",
    "import seaborn as sns\n",
    "\n",
    "pd.set_option('display.max_columns', 60)\n",
    "\n",
    "# Imputing missing values\n",
    "from sklearn.impute import SimpleImputer\n",
    "\n",
    "# Machine Learning Models\n",
    "from sklearn.linear_model import LinearRegression\n",
    "from sklearn.ensemble import RandomForestRegressor\n",
    "from sklearn.ensemble import RandomForestClassifier\n",
    "\n",
    "# Evaluating Models\n",
    "from sklearn.model_selection import train_test_split\n",
    "from sklearn.metrics import f1_score, confusion_matrix, mean_absolute_error\n",
    "\n",
    "import itertools"
   ]
  },
  {
   "cell_type": "code",
   "execution_count": 2,
   "id": "72903eaa",
   "metadata": {
    "execution": {
     "iopub.execute_input": "2023-03-06T14:36:02.612571Z",
     "iopub.status.busy": "2023-03-06T14:36:02.612157Z",
     "iopub.status.idle": "2023-03-06T14:36:02.616964Z",
     "shell.execute_reply": "2023-03-06T14:36:02.616019Z"
    },
    "papermill": {
     "duration": 0.029031,
     "end_time": "2023-03-06T14:36:02.619475",
     "exception": false,
     "start_time": "2023-03-06T14:36:02.590444",
     "status": "completed"
    },
    "tags": []
   },
   "outputs": [],
   "source": [
    "pd.set_option('display.max_rows', 500)\n",
    "pd.set_option('display.max_columns', 500)"
   ]
  },
  {
   "cell_type": "code",
   "execution_count": 3,
   "id": "e81151fe",
   "metadata": {
    "execution": {
     "iopub.execute_input": "2023-03-06T14:36:02.662213Z",
     "iopub.status.busy": "2023-03-06T14:36:02.661564Z",
     "iopub.status.idle": "2023-03-06T14:36:02.759014Z",
     "shell.execute_reply": "2023-03-06T14:36:02.757712Z"
    },
    "papermill": {
     "duration": 0.121524,
     "end_time": "2023-03-06T14:36:02.761238",
     "exception": true,
     "start_time": "2023-03-06T14:36:02.639714",
     "status": "failed"
    },
    "tags": []
   },
   "outputs": [
    {
     "ename": "FileNotFoundError",
     "evalue": "[Errno 2] No such file or directory: '/input/energy-star-oracle/Usecase1_Energy_Star_Score_Dataset.csv'",
     "output_type": "error",
     "traceback": [
      "\u001b[0;31m---------------------------------------------------------------------------\u001b[0m",
      "\u001b[0;31mFileNotFoundError\u001b[0m                         Traceback (most recent call last)",
      "\u001b[0;32m/tmp/ipykernel_19/1450384377.py\u001b[0m in \u001b[0;36m<module>\u001b[0;34m\u001b[0m\n\u001b[0;32m----> 1\u001b[0;31m \u001b[0mdata_df\u001b[0m\u001b[0;34m=\u001b[0m \u001b[0mpd\u001b[0m\u001b[0;34m.\u001b[0m\u001b[0mread_csv\u001b[0m\u001b[0;34m(\u001b[0m\u001b[0;34m'/input/energy-star-oracle/Usecase1_Energy_Star_Score_Dataset.csv'\u001b[0m\u001b[0;34m)\u001b[0m\u001b[0;34m\u001b[0m\u001b[0;34m\u001b[0m\u001b[0m\n\u001b[0m",
      "\u001b[0;32m/opt/conda/lib/python3.7/site-packages/pandas/util/_decorators.py\u001b[0m in \u001b[0;36mwrapper\u001b[0;34m(*args, **kwargs)\u001b[0m\n\u001b[1;32m    309\u001b[0m                     \u001b[0mstacklevel\u001b[0m\u001b[0;34m=\u001b[0m\u001b[0mstacklevel\u001b[0m\u001b[0;34m,\u001b[0m\u001b[0;34m\u001b[0m\u001b[0;34m\u001b[0m\u001b[0m\n\u001b[1;32m    310\u001b[0m                 )\n\u001b[0;32m--> 311\u001b[0;31m             \u001b[0;32mreturn\u001b[0m \u001b[0mfunc\u001b[0m\u001b[0;34m(\u001b[0m\u001b[0;34m*\u001b[0m\u001b[0margs\u001b[0m\u001b[0;34m,\u001b[0m \u001b[0;34m**\u001b[0m\u001b[0mkwargs\u001b[0m\u001b[0;34m)\u001b[0m\u001b[0;34m\u001b[0m\u001b[0;34m\u001b[0m\u001b[0m\n\u001b[0m\u001b[1;32m    312\u001b[0m \u001b[0;34m\u001b[0m\u001b[0m\n\u001b[1;32m    313\u001b[0m         \u001b[0;32mreturn\u001b[0m \u001b[0mwrapper\u001b[0m\u001b[0;34m\u001b[0m\u001b[0;34m\u001b[0m\u001b[0m\n",
      "\u001b[0;32m/opt/conda/lib/python3.7/site-packages/pandas/io/parsers/readers.py\u001b[0m in \u001b[0;36mread_csv\u001b[0;34m(filepath_or_buffer, sep, delimiter, header, names, index_col, usecols, squeeze, prefix, mangle_dupe_cols, dtype, engine, converters, true_values, false_values, skipinitialspace, skiprows, skipfooter, nrows, na_values, keep_default_na, na_filter, verbose, skip_blank_lines, parse_dates, infer_datetime_format, keep_date_col, date_parser, dayfirst, cache_dates, iterator, chunksize, compression, thousands, decimal, lineterminator, quotechar, quoting, doublequote, escapechar, comment, encoding, encoding_errors, dialect, error_bad_lines, warn_bad_lines, on_bad_lines, delim_whitespace, low_memory, memory_map, float_precision, storage_options)\u001b[0m\n\u001b[1;32m    584\u001b[0m     \u001b[0mkwds\u001b[0m\u001b[0;34m.\u001b[0m\u001b[0mupdate\u001b[0m\u001b[0;34m(\u001b[0m\u001b[0mkwds_defaults\u001b[0m\u001b[0;34m)\u001b[0m\u001b[0;34m\u001b[0m\u001b[0;34m\u001b[0m\u001b[0m\n\u001b[1;32m    585\u001b[0m \u001b[0;34m\u001b[0m\u001b[0m\n\u001b[0;32m--> 586\u001b[0;31m     \u001b[0;32mreturn\u001b[0m \u001b[0m_read\u001b[0m\u001b[0;34m(\u001b[0m\u001b[0mfilepath_or_buffer\u001b[0m\u001b[0;34m,\u001b[0m \u001b[0mkwds\u001b[0m\u001b[0;34m)\u001b[0m\u001b[0;34m\u001b[0m\u001b[0;34m\u001b[0m\u001b[0m\n\u001b[0m\u001b[1;32m    587\u001b[0m \u001b[0;34m\u001b[0m\u001b[0m\n\u001b[1;32m    588\u001b[0m \u001b[0;34m\u001b[0m\u001b[0m\n",
      "\u001b[0;32m/opt/conda/lib/python3.7/site-packages/pandas/io/parsers/readers.py\u001b[0m in \u001b[0;36m_read\u001b[0;34m(filepath_or_buffer, kwds)\u001b[0m\n\u001b[1;32m    480\u001b[0m \u001b[0;34m\u001b[0m\u001b[0m\n\u001b[1;32m    481\u001b[0m     \u001b[0;31m# Create the parser.\u001b[0m\u001b[0;34m\u001b[0m\u001b[0;34m\u001b[0m\u001b[0;34m\u001b[0m\u001b[0m\n\u001b[0;32m--> 482\u001b[0;31m     \u001b[0mparser\u001b[0m \u001b[0;34m=\u001b[0m \u001b[0mTextFileReader\u001b[0m\u001b[0;34m(\u001b[0m\u001b[0mfilepath_or_buffer\u001b[0m\u001b[0;34m,\u001b[0m \u001b[0;34m**\u001b[0m\u001b[0mkwds\u001b[0m\u001b[0;34m)\u001b[0m\u001b[0;34m\u001b[0m\u001b[0;34m\u001b[0m\u001b[0m\n\u001b[0m\u001b[1;32m    483\u001b[0m \u001b[0;34m\u001b[0m\u001b[0m\n\u001b[1;32m    484\u001b[0m     \u001b[0;32mif\u001b[0m \u001b[0mchunksize\u001b[0m \u001b[0;32mor\u001b[0m \u001b[0miterator\u001b[0m\u001b[0;34m:\u001b[0m\u001b[0;34m\u001b[0m\u001b[0;34m\u001b[0m\u001b[0m\n",
      "\u001b[0;32m/opt/conda/lib/python3.7/site-packages/pandas/io/parsers/readers.py\u001b[0m in \u001b[0;36m__init__\u001b[0;34m(self, f, engine, **kwds)\u001b[0m\n\u001b[1;32m    809\u001b[0m             \u001b[0mself\u001b[0m\u001b[0;34m.\u001b[0m\u001b[0moptions\u001b[0m\u001b[0;34m[\u001b[0m\u001b[0;34m\"has_index_names\"\u001b[0m\u001b[0;34m]\u001b[0m \u001b[0;34m=\u001b[0m \u001b[0mkwds\u001b[0m\u001b[0;34m[\u001b[0m\u001b[0;34m\"has_index_names\"\u001b[0m\u001b[0;34m]\u001b[0m\u001b[0;34m\u001b[0m\u001b[0;34m\u001b[0m\u001b[0m\n\u001b[1;32m    810\u001b[0m \u001b[0;34m\u001b[0m\u001b[0m\n\u001b[0;32m--> 811\u001b[0;31m         \u001b[0mself\u001b[0m\u001b[0;34m.\u001b[0m\u001b[0m_engine\u001b[0m \u001b[0;34m=\u001b[0m \u001b[0mself\u001b[0m\u001b[0;34m.\u001b[0m\u001b[0m_make_engine\u001b[0m\u001b[0;34m(\u001b[0m\u001b[0mself\u001b[0m\u001b[0;34m.\u001b[0m\u001b[0mengine\u001b[0m\u001b[0;34m)\u001b[0m\u001b[0;34m\u001b[0m\u001b[0;34m\u001b[0m\u001b[0m\n\u001b[0m\u001b[1;32m    812\u001b[0m \u001b[0;34m\u001b[0m\u001b[0m\n\u001b[1;32m    813\u001b[0m     \u001b[0;32mdef\u001b[0m \u001b[0mclose\u001b[0m\u001b[0;34m(\u001b[0m\u001b[0mself\u001b[0m\u001b[0;34m)\u001b[0m\u001b[0;34m:\u001b[0m\u001b[0;34m\u001b[0m\u001b[0;34m\u001b[0m\u001b[0m\n",
      "\u001b[0;32m/opt/conda/lib/python3.7/site-packages/pandas/io/parsers/readers.py\u001b[0m in \u001b[0;36m_make_engine\u001b[0;34m(self, engine)\u001b[0m\n\u001b[1;32m   1038\u001b[0m             )\n\u001b[1;32m   1039\u001b[0m         \u001b[0;31m# error: Too many arguments for \"ParserBase\"\u001b[0m\u001b[0;34m\u001b[0m\u001b[0;34m\u001b[0m\u001b[0;34m\u001b[0m\u001b[0m\n\u001b[0;32m-> 1040\u001b[0;31m         \u001b[0;32mreturn\u001b[0m \u001b[0mmapping\u001b[0m\u001b[0;34m[\u001b[0m\u001b[0mengine\u001b[0m\u001b[0;34m]\u001b[0m\u001b[0;34m(\u001b[0m\u001b[0mself\u001b[0m\u001b[0;34m.\u001b[0m\u001b[0mf\u001b[0m\u001b[0;34m,\u001b[0m \u001b[0;34m**\u001b[0m\u001b[0mself\u001b[0m\u001b[0;34m.\u001b[0m\u001b[0moptions\u001b[0m\u001b[0;34m)\u001b[0m  \u001b[0;31m# type: ignore[call-arg]\u001b[0m\u001b[0;34m\u001b[0m\u001b[0;34m\u001b[0m\u001b[0m\n\u001b[0m\u001b[1;32m   1041\u001b[0m \u001b[0;34m\u001b[0m\u001b[0m\n\u001b[1;32m   1042\u001b[0m     \u001b[0;32mdef\u001b[0m \u001b[0m_failover_to_python\u001b[0m\u001b[0;34m(\u001b[0m\u001b[0mself\u001b[0m\u001b[0;34m)\u001b[0m\u001b[0;34m:\u001b[0m\u001b[0;34m\u001b[0m\u001b[0;34m\u001b[0m\u001b[0m\n",
      "\u001b[0;32m/opt/conda/lib/python3.7/site-packages/pandas/io/parsers/c_parser_wrapper.py\u001b[0m in \u001b[0;36m__init__\u001b[0;34m(self, src, **kwds)\u001b[0m\n\u001b[1;32m     49\u001b[0m \u001b[0;34m\u001b[0m\u001b[0m\n\u001b[1;32m     50\u001b[0m         \u001b[0;31m# open handles\u001b[0m\u001b[0;34m\u001b[0m\u001b[0;34m\u001b[0m\u001b[0;34m\u001b[0m\u001b[0m\n\u001b[0;32m---> 51\u001b[0;31m         \u001b[0mself\u001b[0m\u001b[0;34m.\u001b[0m\u001b[0m_open_handles\u001b[0m\u001b[0;34m(\u001b[0m\u001b[0msrc\u001b[0m\u001b[0;34m,\u001b[0m \u001b[0mkwds\u001b[0m\u001b[0;34m)\u001b[0m\u001b[0;34m\u001b[0m\u001b[0;34m\u001b[0m\u001b[0m\n\u001b[0m\u001b[1;32m     52\u001b[0m         \u001b[0;32massert\u001b[0m \u001b[0mself\u001b[0m\u001b[0;34m.\u001b[0m\u001b[0mhandles\u001b[0m \u001b[0;32mis\u001b[0m \u001b[0;32mnot\u001b[0m \u001b[0;32mNone\u001b[0m\u001b[0;34m\u001b[0m\u001b[0;34m\u001b[0m\u001b[0m\n\u001b[1;32m     53\u001b[0m \u001b[0;34m\u001b[0m\u001b[0m\n",
      "\u001b[0;32m/opt/conda/lib/python3.7/site-packages/pandas/io/parsers/base_parser.py\u001b[0m in \u001b[0;36m_open_handles\u001b[0;34m(self, src, kwds)\u001b[0m\n\u001b[1;32m    227\u001b[0m             \u001b[0mmemory_map\u001b[0m\u001b[0;34m=\u001b[0m\u001b[0mkwds\u001b[0m\u001b[0;34m.\u001b[0m\u001b[0mget\u001b[0m\u001b[0;34m(\u001b[0m\u001b[0;34m\"memory_map\"\u001b[0m\u001b[0;34m,\u001b[0m \u001b[0;32mFalse\u001b[0m\u001b[0;34m)\u001b[0m\u001b[0;34m,\u001b[0m\u001b[0;34m\u001b[0m\u001b[0;34m\u001b[0m\u001b[0m\n\u001b[1;32m    228\u001b[0m             \u001b[0mstorage_options\u001b[0m\u001b[0;34m=\u001b[0m\u001b[0mkwds\u001b[0m\u001b[0;34m.\u001b[0m\u001b[0mget\u001b[0m\u001b[0;34m(\u001b[0m\u001b[0;34m\"storage_options\"\u001b[0m\u001b[0;34m,\u001b[0m \u001b[0;32mNone\u001b[0m\u001b[0;34m)\u001b[0m\u001b[0;34m,\u001b[0m\u001b[0;34m\u001b[0m\u001b[0;34m\u001b[0m\u001b[0m\n\u001b[0;32m--> 229\u001b[0;31m             \u001b[0merrors\u001b[0m\u001b[0;34m=\u001b[0m\u001b[0mkwds\u001b[0m\u001b[0;34m.\u001b[0m\u001b[0mget\u001b[0m\u001b[0;34m(\u001b[0m\u001b[0;34m\"encoding_errors\"\u001b[0m\u001b[0;34m,\u001b[0m \u001b[0;34m\"strict\"\u001b[0m\u001b[0;34m)\u001b[0m\u001b[0;34m,\u001b[0m\u001b[0;34m\u001b[0m\u001b[0;34m\u001b[0m\u001b[0m\n\u001b[0m\u001b[1;32m    230\u001b[0m         )\n\u001b[1;32m    231\u001b[0m \u001b[0;34m\u001b[0m\u001b[0m\n",
      "\u001b[0;32m/opt/conda/lib/python3.7/site-packages/pandas/io/common.py\u001b[0m in \u001b[0;36mget_handle\u001b[0;34m(path_or_buf, mode, encoding, compression, memory_map, is_text, errors, storage_options)\u001b[0m\n\u001b[1;32m    705\u001b[0m                 \u001b[0mencoding\u001b[0m\u001b[0;34m=\u001b[0m\u001b[0mioargs\u001b[0m\u001b[0;34m.\u001b[0m\u001b[0mencoding\u001b[0m\u001b[0;34m,\u001b[0m\u001b[0;34m\u001b[0m\u001b[0;34m\u001b[0m\u001b[0m\n\u001b[1;32m    706\u001b[0m                 \u001b[0merrors\u001b[0m\u001b[0;34m=\u001b[0m\u001b[0merrors\u001b[0m\u001b[0;34m,\u001b[0m\u001b[0;34m\u001b[0m\u001b[0;34m\u001b[0m\u001b[0m\n\u001b[0;32m--> 707\u001b[0;31m                 \u001b[0mnewline\u001b[0m\u001b[0;34m=\u001b[0m\u001b[0;34m\"\"\u001b[0m\u001b[0;34m,\u001b[0m\u001b[0;34m\u001b[0m\u001b[0;34m\u001b[0m\u001b[0m\n\u001b[0m\u001b[1;32m    708\u001b[0m             )\n\u001b[1;32m    709\u001b[0m         \u001b[0;32melse\u001b[0m\u001b[0;34m:\u001b[0m\u001b[0;34m\u001b[0m\u001b[0;34m\u001b[0m\u001b[0m\n",
      "\u001b[0;31mFileNotFoundError\u001b[0m: [Errno 2] No such file or directory: '/input/energy-star-oracle/Usecase1_Energy_Star_Score_Dataset.csv'"
     ]
    }
   ],
   "source": [
    "data_df= pd.read_csv('/input/energy-star-oracle/Usecase1_Energy_Star_Score_Dataset.csv')"
   ]
  },
  {
   "cell_type": "code",
   "execution_count": null,
   "id": "2dd5c973",
   "metadata": {
    "execution": {
     "iopub.execute_input": "2023-03-06T14:07:56.745644Z",
     "iopub.status.busy": "2023-03-06T14:07:56.744918Z",
     "iopub.status.idle": "2023-03-06T14:07:56.758165Z",
     "shell.execute_reply": "2023-03-06T14:07:56.756536Z",
     "shell.execute_reply.started": "2023-03-06T14:07:56.745579Z"
    },
    "papermill": {
     "duration": null,
     "end_time": null,
     "exception": null,
     "start_time": null,
     "status": "pending"
    },
    "tags": []
   },
   "outputs": [],
   "source": [
    "data_df.shape"
   ]
  },
  {
   "cell_type": "code",
   "execution_count": null,
   "id": "0b23e19d",
   "metadata": {
    "papermill": {
     "duration": null,
     "end_time": null,
     "exception": null,
     "start_time": null,
     "status": "pending"
    },
    "tags": []
   },
   "outputs": [],
   "source": []
  },
  {
   "cell_type": "code",
   "execution_count": null,
   "id": "a0887544",
   "metadata": {
    "execution": {
     "iopub.execute_input": "2023-03-06T14:07:56.760449Z",
     "iopub.status.busy": "2023-03-06T14:07:56.759692Z",
     "iopub.status.idle": "2023-03-06T14:07:56.826810Z",
     "shell.execute_reply": "2023-03-06T14:07:56.824864Z",
     "shell.execute_reply.started": "2023-03-06T14:07:56.760329Z"
    },
    "papermill": {
     "duration": null,
     "end_time": null,
     "exception": null,
     "start_time": null,
     "status": "pending"
    },
    "tags": []
   },
   "outputs": [],
   "source": [
    "data_df.head(5)"
   ]
  },
  {
   "cell_type": "code",
   "execution_count": null,
   "id": "ef28e58a",
   "metadata": {
    "execution": {
     "iopub.execute_input": "2023-03-06T14:07:56.830767Z",
     "iopub.status.busy": "2023-03-06T14:07:56.830170Z",
     "iopub.status.idle": "2023-03-06T14:07:56.900982Z",
     "shell.execute_reply": "2023-03-06T14:07:56.898939Z",
     "shell.execute_reply.started": "2023-03-06T14:07:56.830726Z"
    },
    "papermill": {
     "duration": null,
     "end_time": null,
     "exception": null,
     "start_time": null,
     "status": "pending"
    },
    "tags": []
   },
   "outputs": [],
   "source": [
    "data_df.describe()"
   ]
  },
  {
   "cell_type": "code",
   "execution_count": null,
   "id": "f867e382",
   "metadata": {
    "execution": {
     "iopub.execute_input": "2023-03-06T14:07:56.903903Z",
     "iopub.status.busy": "2023-03-06T14:07:56.903248Z",
     "iopub.status.idle": "2023-03-06T14:07:56.961772Z",
     "shell.execute_reply": "2023-03-06T14:07:56.959542Z",
     "shell.execute_reply.started": "2023-03-06T14:07:56.903851Z"
    },
    "papermill": {
     "duration": null,
     "end_time": null,
     "exception": null,
     "start_time": null,
     "status": "pending"
    },
    "tags": []
   },
   "outputs": [],
   "source": [
    "data_df.info()"
   ]
  },
  {
   "cell_type": "code",
   "execution_count": null,
   "id": "3227b723",
   "metadata": {
    "execution": {
     "iopub.execute_input": "2023-03-06T14:07:56.963994Z",
     "iopub.status.busy": "2023-03-06T14:07:56.963568Z",
     "iopub.status.idle": "2023-03-06T14:07:56.978142Z",
     "shell.execute_reply": "2023-03-06T14:07:56.976541Z",
     "shell.execute_reply.started": "2023-03-06T14:07:56.963955Z"
    },
    "papermill": {
     "duration": null,
     "end_time": null,
     "exception": null,
     "start_time": null,
     "status": "pending"
    },
    "tags": []
   },
   "outputs": [],
   "source": [
    "data_df['ENERGY STAR Score'].value_counts()"
   ]
  },
  {
   "cell_type": "code",
   "execution_count": null,
   "id": "8e9862be",
   "metadata": {
    "papermill": {
     "duration": null,
     "end_time": null,
     "exception": null,
     "start_time": null,
     "status": "pending"
    },
    "tags": []
   },
   "outputs": [],
   "source": []
  },
  {
   "cell_type": "markdown",
   "id": "1732cfe5",
   "metadata": {
    "papermill": {
     "duration": null,
     "end_time": null,
     "exception": null,
     "start_time": null,
     "status": "pending"
    },
    "tags": []
   },
   "source": [
    "## Looks like missing data is filled as 'Not Available', replace them with nan."
   ]
  },
  {
   "cell_type": "code",
   "execution_count": null,
   "id": "7cd6da68",
   "metadata": {
    "execution": {
     "iopub.execute_input": "2023-03-06T14:07:56.980991Z",
     "iopub.status.busy": "2023-03-06T14:07:56.980046Z",
     "iopub.status.idle": "2023-03-06T14:07:57.075130Z",
     "shell.execute_reply": "2023-03-06T14:07:57.073365Z",
     "shell.execute_reply.started": "2023-03-06T14:07:56.980942Z"
    },
    "papermill": {
     "duration": null,
     "end_time": null,
     "exception": null,
     "start_time": null,
     "status": "pending"
    },
    "tags": []
   },
   "outputs": [],
   "source": [
    "data_df = data_df.replace({'Not Available': np.nan})\n"
   ]
  },
  {
   "cell_type": "code",
   "execution_count": null,
   "id": "14a039e6",
   "metadata": {
    "execution": {
     "iopub.execute_input": "2023-03-06T14:07:57.077739Z",
     "iopub.status.busy": "2023-03-06T14:07:57.077276Z",
     "iopub.status.idle": "2023-03-06T14:07:57.266537Z",
     "shell.execute_reply": "2023-03-06T14:07:57.264493Z",
     "shell.execute_reply.started": "2023-03-06T14:07:57.077697Z"
    },
    "papermill": {
     "duration": null,
     "end_time": null,
     "exception": null,
     "start_time": null,
     "status": "pending"
    },
    "tags": []
   },
   "outputs": [],
   "source": [
    "# Iterate through the columns\n",
    "for col in list(data_df.columns):\n",
    "    # Select columns that should be numeric\n",
    "    if ('ft²' in col or 'kBtu' in col or 'Metric Tons CO2e' in col or 'kWh' in \n",
    "        col or 'therms' in col or 'gal' in col or 'Score' in col):\n",
    "        # Convert the data type to float\n",
    "        data_df[col] = data_df[col].astype(float)"
   ]
  },
  {
   "cell_type": "code",
   "execution_count": null,
   "id": "35748f84",
   "metadata": {
    "execution": {
     "iopub.execute_input": "2023-03-06T14:07:57.268107Z",
     "iopub.status.busy": "2023-03-06T14:07:57.267737Z",
     "iopub.status.idle": "2023-03-06T14:07:57.282873Z",
     "shell.execute_reply": "2023-03-06T14:07:57.280570Z",
     "shell.execute_reply.started": "2023-03-06T14:07:57.268072Z"
    },
    "papermill": {
     "duration": null,
     "end_time": null,
     "exception": null,
     "start_time": null,
     "status": "pending"
    },
    "tags": []
   },
   "outputs": [],
   "source": [
    "# Look at converted data types\n",
    "data_df.dtypes"
   ]
  },
  {
   "cell_type": "code",
   "execution_count": null,
   "id": "761bf7dc",
   "metadata": {
    "papermill": {
     "duration": null,
     "end_time": null,
     "exception": null,
     "start_time": null,
     "status": "pending"
    },
    "tags": []
   },
   "outputs": [],
   "source": []
  },
  {
   "cell_type": "markdown",
   "id": "5576d966",
   "metadata": {
    "papermill": {
     "duration": null,
     "end_time": null,
     "exception": null,
     "start_time": null,
     "status": "pending"
    },
    "tags": []
   },
   "source": [
    "## Look at Percentage of Missing Values in Each Column"
   ]
  },
  {
   "cell_type": "code",
   "execution_count": null,
   "id": "f25e85e1",
   "metadata": {
    "execution": {
     "iopub.execute_input": "2023-03-06T14:07:57.289926Z",
     "iopub.status.busy": "2023-03-06T14:07:57.289294Z",
     "iopub.status.idle": "2023-03-06T14:07:57.301798Z",
     "shell.execute_reply": "2023-03-06T14:07:57.300106Z",
     "shell.execute_reply.started": "2023-03-06T14:07:57.289877Z"
    },
    "papermill": {
     "duration": null,
     "end_time": null,
     "exception": null,
     "start_time": null,
     "status": "pending"
    },
    "tags": []
   },
   "outputs": [],
   "source": [
    "def missing_values_table(df):\n",
    "        mis_val = df.isnull().sum()\n",
    "        mis_val_percent = 100 * df.isnull().sum() / len(df)\n",
    "        mis_val_table = pd.concat([mis_val, mis_val_percent], axis=1)\n",
    "        mis_val_table_ren_columns = mis_val_table.rename(\n",
    "        columns = {0 : 'Missing Values', 1 : '% of Total Values'})\n",
    "        mis_val_table_ren_columns = mis_val_table_ren_columns[\n",
    "            mis_val_table_ren_columns.iloc[:,1] != 0].sort_values(\n",
    "        '% of Total Values', ascending=False).round(1)\n",
    "        print (\"Your selected dataframe has \" + str(df.shape[1]) + \" columns.\\n\"      \n",
    "            \"There are \" + str(mis_val_table_ren_columns.shape[0]) +\n",
    "              \" columns that have missing values.\")\n",
    "        return mis_val_table_ren_columns"
   ]
  },
  {
   "cell_type": "code",
   "execution_count": null,
   "id": "d2ffdef0",
   "metadata": {
    "execution": {
     "iopub.execute_input": "2023-03-06T14:07:57.305240Z",
     "iopub.status.busy": "2023-03-06T14:07:57.304499Z",
     "iopub.status.idle": "2023-03-06T14:07:57.379530Z",
     "shell.execute_reply": "2023-03-06T14:07:57.377475Z",
     "shell.execute_reply.started": "2023-03-06T14:07:57.305175Z"
    },
    "papermill": {
     "duration": null,
     "end_time": null,
     "exception": null,
     "start_time": null,
     "status": "pending"
    },
    "tags": []
   },
   "outputs": [],
   "source": [
    "missing_values_table(data_df)\n"
   ]
  },
  {
   "cell_type": "code",
   "execution_count": null,
   "id": "977bd105",
   "metadata": {
    "papermill": {
     "duration": null,
     "end_time": null,
     "exception": null,
     "start_time": null,
     "status": "pending"
    },
    "tags": []
   },
   "outputs": [],
   "source": []
  },
  {
   "cell_type": "markdown",
   "id": "c2f022e9",
   "metadata": {
    "papermill": {
     "duration": null,
     "end_time": null,
     "exception": null,
     "start_time": null,
     "status": "pending"
    },
    "tags": []
   },
   "source": [
    "## EDA"
   ]
  },
  {
   "cell_type": "code",
   "execution_count": null,
   "id": "056460f7",
   "metadata": {
    "execution": {
     "iopub.execute_input": "2023-03-06T14:07:57.382303Z",
     "iopub.status.busy": "2023-03-06T14:07:57.381329Z",
     "iopub.status.idle": "2023-03-06T14:07:57.867912Z",
     "shell.execute_reply": "2023-03-06T14:07:57.866516Z",
     "shell.execute_reply.started": "2023-03-06T14:07:57.382252Z"
    },
    "papermill": {
     "duration": null,
     "end_time": null,
     "exception": null,
     "start_time": null,
     "status": "pending"
    },
    "tags": []
   },
   "outputs": [],
   "source": [
    "figsize(8, 8)\n",
    "plt.hist(data_df['ENERGY STAR Score'].dropna(), bins = 100);\n",
    "plt.xlabel('Score'); plt.ylabel('Count'); plt.title('ENERGY Star Score Distribution');"
   ]
  },
  {
   "cell_type": "code",
   "execution_count": null,
   "id": "1fb60a13",
   "metadata": {
    "execution": {
     "iopub.execute_input": "2023-03-06T14:07:57.870871Z",
     "iopub.status.busy": "2023-03-06T14:07:57.869696Z",
     "iopub.status.idle": "2023-03-06T14:07:57.889695Z",
     "shell.execute_reply": "2023-03-06T14:07:57.888045Z",
     "shell.execute_reply.started": "2023-03-06T14:07:57.870810Z"
    },
    "papermill": {
     "duration": null,
     "end_time": null,
     "exception": null,
     "start_time": null,
     "status": "pending"
    },
    "tags": []
   },
   "outputs": [],
   "source": [
    "data_df['ENERGY STAR Score'].value_counts().sort_values(ascending=False)\n"
   ]
  },
  {
   "cell_type": "markdown",
   "id": "15719bfa",
   "metadata": {
    "papermill": {
     "duration": null,
     "end_time": null,
     "exception": null,
     "start_time": null,
     "status": "pending"
    },
    "tags": []
   },
   "source": [
    "There are two modes in the data, one at 1 and another at 100. This seems like something to follow up on. Is there some shared characteristic among buildings that have a 1 or 100? The ENERGY STAR Score is a percentile score, so it seems unreasonable that so many buildings are clustered at the two extremes. Given that Energy Star Score is based on self-reported energy usage, it might not be that good of a measure. Let's take a look at another value often used for characterizing the efficiency of a building, the Energy Use Intensity which attempts to normalize the energy usage of a building by the size of a building."
   ]
  },
  {
   "cell_type": "code",
   "execution_count": null,
   "id": "84a5f32e",
   "metadata": {
    "execution": {
     "iopub.execute_input": "2023-03-06T14:07:57.891850Z",
     "iopub.status.busy": "2023-03-06T14:07:57.891420Z",
     "iopub.status.idle": "2023-03-06T14:07:58.531353Z",
     "shell.execute_reply": "2023-03-06T14:07:58.529949Z",
     "shell.execute_reply.started": "2023-03-06T14:07:57.891811Z"
    },
    "papermill": {
     "duration": null,
     "end_time": null,
     "exception": null,
     "start_time": null,
     "status": "pending"
    },
    "tags": []
   },
   "outputs": [],
   "source": [
    "plt.hist(data_df['Site EUI (kBtu/ft²)'].dropna(), range = (0, 400), bins = 20);\n",
    "plt.xlabel('Site EUI'); plt.ylabel('Count'); plt.title('Site EUI Distribution');"
   ]
  },
  {
   "cell_type": "markdown",
   "id": "fb00f73a",
   "metadata": {
    "papermill": {
     "duration": null,
     "end_time": null,
     "exception": null,
     "start_time": null,
     "status": "pending"
    },
    "tags": []
   },
   "source": [
    "This plot is more normally distributed with no obvious skew. The Site EUI is probably a better measure of individual building energy performance than the Energy Star Score."
   ]
  },
  {
   "cell_type": "markdown",
   "id": "55b18634",
   "metadata": {
    "papermill": {
     "duration": null,
     "end_time": null,
     "exception": null,
     "start_time": null,
     "status": "pending"
    },
    "tags": []
   },
   "source": [
    "## Correlations with Energy Star Score\n"
   ]
  },
  {
   "cell_type": "code",
   "execution_count": null,
   "id": "851d5b08",
   "metadata": {
    "execution": {
     "iopub.execute_input": "2023-03-06T14:07:58.533742Z",
     "iopub.status.busy": "2023-03-06T14:07:58.532854Z",
     "iopub.status.idle": "2023-03-06T14:07:58.595561Z",
     "shell.execute_reply": "2023-03-06T14:07:58.594050Z",
     "shell.execute_reply.started": "2023-03-06T14:07:58.533670Z"
    },
    "papermill": {
     "duration": null,
     "end_time": null,
     "exception": null,
     "start_time": null,
     "status": "pending"
    },
    "tags": []
   },
   "outputs": [],
   "source": [
    "data_df.corr()['ENERGY STAR Score'].sort_values()"
   ]
  },
  {
   "cell_type": "markdown",
   "id": "45d4a810",
   "metadata": {
    "papermill": {
     "duration": null,
     "end_time": null,
     "exception": null,
     "start_time": null,
     "status": "pending"
    },
    "tags": []
   },
   "source": [
    "The most significant correlations (in absolute magnitude) are between Fuel Oil Use and Energy Star Score. This makes sense: the more fuel oil a building uses, the lower the Energy Star Score. There are no significant positive linear correlations.\n",
    "\n",
    "The issue with using Fuel Oil Use is that this column contains 99.9% missing values. Therefore, it will not be very useful in training a model because of the limited information."
   ]
  },
  {
   "cell_type": "markdown",
   "id": "716963e4",
   "metadata": {
    "papermill": {
     "duration": null,
     "end_time": null,
     "exception": null,
     "start_time": null,
     "status": "pending"
    },
    "tags": []
   },
   "source": [
    "## Correlations with Site EUI\n"
   ]
  },
  {
   "cell_type": "code",
   "execution_count": null,
   "id": "faaf24a8",
   "metadata": {
    "execution": {
     "iopub.execute_input": "2023-03-06T14:07:58.598432Z",
     "iopub.status.busy": "2023-03-06T14:07:58.597429Z",
     "iopub.status.idle": "2023-03-06T14:07:58.658769Z",
     "shell.execute_reply": "2023-03-06T14:07:58.657301Z",
     "shell.execute_reply.started": "2023-03-06T14:07:58.598350Z"
    },
    "papermill": {
     "duration": null,
     "end_time": null,
     "exception": null,
     "start_time": null,
     "status": "pending"
    },
    "tags": []
   },
   "outputs": [],
   "source": [
    "data_df.corr()['Weather Normalized Site EUI (kBtu/ft²)'].sort_values()\n"
   ]
  },
  {
   "cell_type": "markdown",
   "id": "f7491ffe",
   "metadata": {
    "papermill": {
     "duration": null,
     "end_time": null,
     "exception": null,
     "start_time": null,
     "status": "pending"
    },
    "tags": []
   },
   "source": [
    "The highest correlations here are pretty obvious: Site EUI is kBtu/ft^2, so we would expect any measure of electricity usage to be linearly positively correlated with Site EUI. We could use Gas Use or Fuel Oil use to predict EUI, but by definition these should be correlated."
   ]
  },
  {
   "cell_type": "markdown",
   "id": "ba4b45c8",
   "metadata": {
    "papermill": {
     "duration": null,
     "end_time": null,
     "exception": null,
     "start_time": null,
     "status": "pending"
    },
    "tags": []
   },
   "source": [
    "## Analyzing what Buildings with 1 or 100 Energy Star Score have in common\n"
   ]
  },
  {
   "cell_type": "code",
   "execution_count": null,
   "id": "0f39d1c5",
   "metadata": {
    "execution": {
     "iopub.execute_input": "2023-03-06T14:07:58.661858Z",
     "iopub.status.busy": "2023-03-06T14:07:58.660894Z",
     "iopub.status.idle": "2023-03-06T14:07:58.677672Z",
     "shell.execute_reply": "2023-03-06T14:07:58.676027Z",
     "shell.execute_reply.started": "2023-03-06T14:07:58.661688Z"
    },
    "papermill": {
     "duration": null,
     "end_time": null,
     "exception": null,
     "start_time": null,
     "status": "pending"
    },
    "tags": []
   },
   "outputs": [],
   "source": [
    "suspect = data_df[(data_df['ENERGY STAR Score'] == 1.0) | (data_df['ENERGY STAR Score'] == 100.0)]\n"
   ]
  },
  {
   "cell_type": "code",
   "execution_count": null,
   "id": "759d8970",
   "metadata": {
    "execution": {
     "iopub.execute_input": "2023-03-06T14:07:58.679453Z",
     "iopub.status.busy": "2023-03-06T14:07:58.679057Z",
     "iopub.status.idle": "2023-03-06T14:07:58.750370Z",
     "shell.execute_reply": "2023-03-06T14:07:58.748519Z",
     "shell.execute_reply.started": "2023-03-06T14:07:58.679417Z"
    },
    "papermill": {
     "duration": null,
     "end_time": null,
     "exception": null,
     "start_time": null,
     "status": "pending"
    },
    "tags": []
   },
   "outputs": [],
   "source": [
    "suspect.head(5)\n"
   ]
  },
  {
   "cell_type": "code",
   "execution_count": null,
   "id": "018032fa",
   "metadata": {
    "execution": {
     "iopub.execute_input": "2023-03-06T14:07:58.753261Z",
     "iopub.status.busy": "2023-03-06T14:07:58.752729Z",
     "iopub.status.idle": "2023-03-06T14:07:59.052051Z",
     "shell.execute_reply": "2023-03-06T14:07:59.049619Z",
     "shell.execute_reply.started": "2023-03-06T14:07:58.753202Z"
    },
    "papermill": {
     "duration": null,
     "end_time": null,
     "exception": null,
     "start_time": null,
     "status": "pending"
    },
    "tags": []
   },
   "outputs": [],
   "source": [
    "plt.hist(suspect[suspect['ENERGY STAR Score'] == 1.0]['Weather Normalized Site EUI (kBtu/ft²)'].dropna(), range = (0, 400));\n"
   ]
  },
  {
   "cell_type": "code",
   "execution_count": null,
   "id": "7270313d",
   "metadata": {
    "execution": {
     "iopub.execute_input": "2023-03-06T14:07:59.056023Z",
     "iopub.status.busy": "2023-03-06T14:07:59.055371Z",
     "iopub.status.idle": "2023-03-06T14:07:59.377184Z",
     "shell.execute_reply": "2023-03-06T14:07:59.375114Z",
     "shell.execute_reply.started": "2023-03-06T14:07:59.055962Z"
    },
    "papermill": {
     "duration": null,
     "end_time": null,
     "exception": null,
     "start_time": null,
     "status": "pending"
    },
    "tags": []
   },
   "outputs": [],
   "source": [
    "plt.hist(suspect[suspect['ENERGY STAR Score'] == 100.0]['Weather Normalized Site EUI (kBtu/ft²)'].dropna(), range = (0, 400));\n"
   ]
  },
  {
   "cell_type": "markdown",
   "id": "0cbab2d0",
   "metadata": {
    "papermill": {
     "duration": null,
     "end_time": null,
     "exception": null,
     "start_time": null,
     "status": "pending"
    },
    "tags": []
   },
   "source": [
    "It does look like buildings with Energy Star Scores of 100 have lower Site EUI than buildings with Energy Star Scores of 1.\n",
    "\n"
   ]
  },
  {
   "cell_type": "markdown",
   "id": "a4476c15",
   "metadata": {
    "papermill": {
     "duration": null,
     "end_time": null,
     "exception": null,
     "start_time": null,
     "status": "pending"
    },
    "tags": []
   },
   "source": [
    "## Energy Star by Building Type\n"
   ]
  },
  {
   "cell_type": "code",
   "execution_count": null,
   "id": "6eb74ece",
   "metadata": {
    "execution": {
     "iopub.execute_input": "2023-03-06T14:07:59.379807Z",
     "iopub.status.busy": "2023-03-06T14:07:59.379320Z",
     "iopub.status.idle": "2023-03-06T14:07:59.907784Z",
     "shell.execute_reply": "2023-03-06T14:07:59.905883Z",
     "shell.execute_reply.started": "2023-03-06T14:07:59.379767Z"
    },
    "papermill": {
     "duration": null,
     "end_time": null,
     "exception": null,
     "start_time": null,
     "status": "pending"
    },
    "tags": []
   },
   "outputs": [],
   "source": [
    "# Create a list of buildings with more than 80 measurements\n",
    "types = data_df.dropna(subset=['ENERGY STAR Score'])\n",
    "types = types['Primary Property Type - Self Selected'].value_counts()\n",
    "types = list(types[types.values > 80].index)\n",
    "\n",
    "figsize(14, 10)\n",
    "\n",
    "# Plot each building\n",
    "for b_type in types:\n",
    "    # Select the building type\n",
    "    subset = data_df[data_df['Primary Property Type - Self Selected'] == b_type]\n",
    "    \n",
    "    # Density plot of Energy Star scores\n",
    "    sns.kdeplot(subset['ENERGY STAR Score'].dropna(),\n",
    "               label = b_type);\n",
    "    \n",
    "plt.xlabel('Energy Star Score'); plt.ylabel('Density'); \n",
    "plt.title('Density Plot of Energy Star Scores');\n",
    "plt.legend(loc=\"upper right\")"
   ]
  },
  {
   "cell_type": "markdown",
   "id": "8772ce81",
   "metadata": {
    "papermill": {
     "duration": null,
     "end_time": null,
     "exception": null,
     "start_time": null,
     "status": "pending"
    },
    "tags": []
   },
   "source": [
    "Office buildings tend to have much higher Energy Star Scores than hotels and senior care communities. Residence halls and non-refrigerated warehouses also have higher scores while multifamily housing has a bi-modal distribution of scores similar to the overall distribution. It would be useful to see if this holds across a larger sample size, and to get more data to figure out why some building types tend to do better."
   ]
  },
  {
   "cell_type": "markdown",
   "id": "bb085503",
   "metadata": {
    "papermill": {
     "duration": null,
     "end_time": null,
     "exception": null,
     "start_time": null,
     "status": "pending"
    },
    "tags": []
   },
   "source": [
    "## Site EUI by Building Type"
   ]
  },
  {
   "cell_type": "markdown",
   "id": "69fabda0",
   "metadata": {
    "papermill": {
     "duration": null,
     "end_time": null,
     "exception": null,
     "start_time": null,
     "status": "pending"
    },
    "tags": []
   },
   "source": [
    "I identified that there was a negative correlation between the Site EUI and the Energy Star Score. We can plot the Site EUI by building type to see if there is also a difference in Site EUI between building types."
   ]
  },
  {
   "cell_type": "code",
   "execution_count": null,
   "id": "112bdc62",
   "metadata": {
    "execution": {
     "iopub.execute_input": "2023-03-06T14:07:59.910070Z",
     "iopub.status.busy": "2023-03-06T14:07:59.909691Z",
     "iopub.status.idle": "2023-03-06T14:08:00.459391Z",
     "shell.execute_reply": "2023-03-06T14:08:00.457360Z",
     "shell.execute_reply.started": "2023-03-06T14:07:59.910035Z"
    },
    "papermill": {
     "duration": null,
     "end_time": null,
     "exception": null,
     "start_time": null,
     "status": "pending"
    },
    "tags": []
   },
   "outputs": [],
   "source": [
    "figsize(14, 10)\n",
    "\n",
    "# Plot the site EUI density plot for each building type\n",
    "for b_type in types:\n",
    "    # Remove outliers before plotting\n",
    "    subset = data_df[(data_df['Weather Normalized Site EUI (kBtu/ft²)'] < 300) & \n",
    "                     (data_df['Primary Property Type - Self Selected'] == b_type)]\n",
    "    \n",
    "    # Plot the site EUI on a density plot\n",
    "    sns.kdeplot(subset['Weather Normalized Site EUI (kBtu/ft²)'].dropna(), \n",
    "                label = b_type);\n",
    "    \n",
    "plt.xlabel('Site EUI (kBtu/ft^2)'); plt.ylabel('Density'); \n",
    "plt.title('Density Plot of Site EUI');\n",
    "plt.legend(loc=\"upper right\")"
   ]
  },
  {
   "cell_type": "markdown",
   "id": "a4d8496a",
   "metadata": {
    "papermill": {
     "duration": null,
     "end_time": null,
     "exception": null,
     "start_time": null,
     "status": "pending"
    },
    "tags": []
   },
   "source": [
    "This plot provides us with another conclusion: there appears to be a negative correlation between the Site EUI and the Energy Star Score based on comparing the two distributions between building types. Building types with lower Site EUI's tend to have higher Energy Star Scores. The higher the energy use intensity (which is energy use / area), the \"worse\" the building's energy efficiency performance. We can visualize the relationship between the Energy Star Score and the Site EUI in a scatterplot."
   ]
  },
  {
   "cell_type": "markdown",
   "id": "06065010",
   "metadata": {
    "papermill": {
     "duration": null,
     "end_time": null,
     "exception": null,
     "start_time": null,
     "status": "pending"
    },
    "tags": []
   },
   "source": [
    "## Energy Star Score vs Site EUI"
   ]
  },
  {
   "cell_type": "code",
   "execution_count": null,
   "id": "c6fe0a2d",
   "metadata": {
    "execution": {
     "iopub.execute_input": "2023-03-06T14:08:00.464003Z",
     "iopub.status.busy": "2023-03-06T14:08:00.462318Z",
     "iopub.status.idle": "2023-03-06T14:08:01.588183Z",
     "shell.execute_reply": "2023-03-06T14:08:01.586517Z",
     "shell.execute_reply.started": "2023-03-06T14:08:00.463937Z"
    },
    "papermill": {
     "duration": null,
     "end_time": null,
     "exception": null,
     "start_time": null,
     "status": "pending"
    },
    "tags": []
   },
   "outputs": [],
   "source": [
    "figsize(14, 10)\n",
    "\n",
    "# Subset to the buildings with most measurements and remove outliers\n",
    "subset = data_df[(data_df['Weather Normalized Site EUI (kBtu/ft²)'] < 300) & \n",
    "             (data_df['Primary Property Type - Self Selected'].isin(types))]\n",
    "\n",
    "# Drop the buildings without a value\n",
    "subset = subset.dropna(subset=['ENERGY STAR Score', \n",
    "                               'Weather Normalized Site EUI (kBtu/ft²)'])\n",
    "\n",
    "subset = subset.rename(columns={'Primary Property Type - Self Selected': 'Property Type'})\n",
    "\n",
    "\n",
    "# Linear Plot of Energy Star Score vs EUI\n",
    "sns.lmplot(x='Weather Normalized Site EUI (kBtu/ft²)', y='ENERGY STAR Score', \n",
    "           data = subset, hue = 'Property Type', \n",
    "           scatter_kws={'alpha': 0.8, 's': 32}, fit_reg=False,height= 10, \n",
    "            aspect = 1.2);\n",
    "\n",
    "plt.title('Energy Star Score vs Site EUI', size = 24);"
   ]
  },
  {
   "cell_type": "markdown",
   "id": "d7342816",
   "metadata": {
    "papermill": {
     "duration": null,
     "end_time": null,
     "exception": null,
     "start_time": null,
     "status": "pending"
    },
    "tags": []
   },
   "source": [
    "The plot shows the expected negative relationship between Energy Star Score and Site EUI. This relationship looks like it holds across building types. To quantify the relationship, we can calculate the Pearson Correlation Coeffiecient between the two variables. This is a measure of linear correlation which shows both the strength and the direction of the relationship. We will look at the correlation coefficient between Energy Star Scores and several measures."
   ]
  },
  {
   "cell_type": "code",
   "execution_count": null,
   "id": "25bff6e1",
   "metadata": {
    "papermill": {
     "duration": null,
     "end_time": null,
     "exception": null,
     "start_time": null,
     "status": "pending"
    },
    "tags": []
   },
   "outputs": [],
   "source": []
  },
  {
   "cell_type": "markdown",
   "id": "cfe040cf",
   "metadata": {
    "papermill": {
     "duration": null,
     "end_time": null,
     "exception": null,
     "start_time": null,
     "status": "pending"
    },
    "tags": []
   },
   "source": [
    "## Feature Engineering"
   ]
  },
  {
   "cell_type": "markdown",
   "id": "7f5336da",
   "metadata": {
    "papermill": {
     "duration": null,
     "end_time": null,
     "exception": null,
     "start_time": null,
     "status": "pending"
    },
    "tags": []
   },
   "source": [
    "'NYC Borough, Block and Lot (BBL) self-reported' is equal to 'BBL - 10 digits', where the first digit represents the 'Borough', next five digits 'Tax Block' and last four 'Tax Lot', plus we have already a 'Borough' column in the dataset. -- Since there are only two missing values at 'BBL - 10 digits', but more on the others, I'll check if I can use it to fill in the missing information."
   ]
  },
  {
   "cell_type": "code",
   "execution_count": null,
   "id": "3be92c28",
   "metadata": {
    "execution": {
     "iopub.execute_input": "2023-03-06T14:08:01.590911Z",
     "iopub.status.busy": "2023-03-06T14:08:01.590428Z",
     "iopub.status.idle": "2023-03-06T14:08:01.664024Z",
     "shell.execute_reply": "2023-03-06T14:08:01.661252Z",
     "shell.execute_reply.started": "2023-03-06T14:08:01.590869Z"
    },
    "papermill": {
     "duration": null,
     "end_time": null,
     "exception": null,
     "start_time": null,
     "status": "pending"
    },
    "tags": []
   },
   "outputs": [],
   "source": [
    "data_df['Largest Property Use Rate'] = data_df['Largest Property Use Type - Gross Floor Area (ft²)']/data_df['Property GFA - Self-Reported (ft²)']\n",
    "data_df['2nd Property Use Rate'] = data_df['2nd Largest Property Use - Gross Floor Area (ft²)']/data_df['Property GFA - Self-Reported (ft²)']\n",
    "data_df['3rd Property Use Rate'] = data_df['3rd Largest Property Use Type - Gross Floor Area (ft²)']/data_df['Property GFA - Self-Reported (ft²)']\n",
    "data_df['Direct GHG Emissions Rate'] = data_df['Direct GHG Emissions (Metric Tons CO2e)']/data_df['Total GHG Emissions (Metric Tons CO2e)']\n",
    "data_df['BBL - 10 digits'] = data_df['BBL - 10 digits'].str.extract('(\\d+)', expand=False)\n",
    "data_df['Borough'] = data_df['BBL - 10 digits'].str[0]\n",
    "data_df['Tax Block'] = data_df['BBL - 10 digits'].str[1:6]\n",
    "data_df['Tax Lot'] = data_df['BBL - 10 digits'].str[6:10]\n",
    "data_df['Postal Code'] = data_df['Postal Code'].astype(str)\n",
    "data_df['Year Built'] = data_df['Year Built'].astype(str)\n",
    "data_df['Borough'] = data_df['Borough'].astype(str)\n",
    "data_df['Tax Block'] = data_df['Tax Block'].astype(str)\n",
    "data_df['Tax Lot'] = data_df['Tax Lot'].astype(str)\n",
    "data_df['Property Id'] = data_df['Property Id'].astype(str)"
   ]
  },
  {
   "cell_type": "code",
   "execution_count": null,
   "id": "d01c74b3",
   "metadata": {
    "papermill": {
     "duration": null,
     "end_time": null,
     "exception": null,
     "start_time": null,
     "status": "pending"
    },
    "tags": []
   },
   "outputs": [],
   "source": []
  },
  {
   "cell_type": "markdown",
   "id": "852ebc26",
   "metadata": {
    "papermill": {
     "duration": null,
     "end_time": null,
     "exception": null,
     "start_time": null,
     "status": "pending"
    },
    "tags": []
   },
   "source": [
    "The Property Type colums has a lot of values, some that appears more often and others less. I have put them all together, and split into categories that I believed made a bit of sense, while also looking at their frequency."
   ]
  },
  {
   "cell_type": "code",
   "execution_count": null,
   "id": "c2286cef",
   "metadata": {
    "execution": {
     "iopub.execute_input": "2023-03-06T14:08:01.666561Z",
     "iopub.status.busy": "2023-03-06T14:08:01.666036Z",
     "iopub.status.idle": "2023-03-06T14:08:01.682710Z",
     "shell.execute_reply": "2023-03-06T14:08:01.680374Z",
     "shell.execute_reply.started": "2023-03-06T14:08:01.666516Z"
    },
    "papermill": {
     "duration": null,
     "end_time": null,
     "exception": null,
     "start_time": null,
     "status": "pending"
    },
    "tags": []
   },
   "outputs": [],
   "source": [
    "property_type = {'Multifamily Housing':'Multifamily Housing',  \n",
    "            'Residence Hall/Dormitory':'Residence Hall/Dormitory',\n",
    "            'Other - Lodging/Residential':'Residence Hall/Dormitory',\n",
    "            'Hotel':'Hotel',\n",
    "            'Adult Education':'College/University',\n",
    "            'College/University':'College/University',\n",
    "            'K-12 School':'College/University',\n",
    "            'Library':'College/University',\n",
    "            'Vocational School':'College/University',\n",
    "            'Other - Education':'College/University',\n",
    "            'Office':'Office',\n",
    "            'Medical Office':'Office',\n",
    "            'Financial Office':'Office',\n",
    "            'Bank Branch':'Office',\n",
    "            'Distribution Center':'Distribution Center',\n",
    "            'Self-Storage Facility':'Distribution Center',\n",
    "            'Wholesale Club/Supercenter':'Distribution Center',\n",
    "            'Non-Refrigerated Warehouse':'Distribution Center',\n",
    "            'Fast Food Restaurant':'Food Service',\n",
    "            'Food Sales':'Food Service',\n",
    "            'Food Service':'Food Service',\n",
    "            'Restaurant':'Food Service',\n",
    "            'Supermarket/Grocery Store':'Food Service',\n",
    "            'Convenience Store without Gas Station':'Food Service',\n",
    "            'Other - Restaurant/Bar':'Food Service',\n",
    "            'Hospital (General Medical & Surgical)':'Senior Care Community',\n",
    "            'Urgent Care/Clinic/Other Outpatient':'Senior Care Community',\n",
    "            'Ambulatory Surgical Center':'Senior Care Community',\n",
    "            'Laboratory':'Senior Care Community',\n",
    "            'Pre-school/Daycare':'Senior Care Community',\n",
    "            'Senior Care Community':'Senior Care Community',\n",
    "            'Outpatient Rehabilitation/Physical Therapy':'Senior Care Community',\n",
    "            'Retail Store':'Retail Store',\n",
    "            'Repair Services (Vehicle, Shoe, Locksmith, etc.)':'Retail Store',\n",
    "            'Mailing Center/Post Office':'Retail Store',\n",
    "            'Automobile Dealership':'Retail Store',\n",
    "            'Mailing Center/Post Office':'Retail Store',\n",
    "            'Personal Services (Health/Beauty, Dry Cleaning...':'Retail Store',\n",
    "            'Enclosed Mall':'Retail Store',\n",
    "            'Other - Mall':'Retail Store',\n",
    "            'Other - Services':'Retail Store',\n",
    "            'Other - Utility':'Retail Store',\n",
    "            'Bar/Nightclub':'Recreation',\n",
    "            'Bowling Alley':'Recreation',\n",
    "            'Fitness Center/Health Club/Gym':'Recreation',\n",
    "            'Other - Recreation':'Recreation',\n",
    "            'Other - Entertainment/Public Assembly':'Recreation',\n",
    "            'Performing Arts':'Recreation',\n",
    "            'Social/Meeting Hall':'Recreation',\n",
    "            'Museum':'Recreation',\n",
    "            'Worship Facility':'Recreation',\n",
    "            'Other':'Other',\n",
    "            'Courthouse':'Other',\n",
    "            'Other - Public Services':'Other',\n",
    "            'Swimming Pool':'Other',\n",
    "            'Parking':'Other',\n",
    "            'Refrigerated Warehouse':'Other',\n",
    "            'Data Center':'Other',\n",
    "            'none':'none'\n",
    "              }"
   ]
  },
  {
   "cell_type": "code",
   "execution_count": null,
   "id": "47ec0ebd",
   "metadata": {
    "execution": {
     "iopub.execute_input": "2023-03-06T14:08:01.685511Z",
     "iopub.status.busy": "2023-03-06T14:08:01.685015Z",
     "iopub.status.idle": "2023-03-06T14:08:01.721717Z",
     "shell.execute_reply": "2023-03-06T14:08:01.720121Z",
     "shell.execute_reply.started": "2023-03-06T14:08:01.685468Z"
    },
    "papermill": {
     "duration": null,
     "end_time": null,
     "exception": null,
     "start_time": null,
     "status": "pending"
    },
    "tags": []
   },
   "outputs": [],
   "source": [
    "data_df['Largest Property Use Type'] = data_df['Largest Property Use Type'].map(property_type).astype(str)\n",
    "data_df['2nd Largest Property Use Type'] = data_df['2nd Largest Property Use Type'].map(property_type).astype(str)\n",
    "data_df['3rd Largest Property Use Type'] = data_df['3rd Largest Property Use Type'].map(property_type).astype(str)"
   ]
  },
  {
   "cell_type": "code",
   "execution_count": null,
   "id": "7d4484ec",
   "metadata": {
    "execution": {
     "iopub.execute_input": "2023-03-06T14:08:01.725296Z",
     "iopub.status.busy": "2023-03-06T14:08:01.724140Z",
     "iopub.status.idle": "2023-03-06T14:08:01.832651Z",
     "shell.execute_reply": "2023-03-06T14:08:01.831280Z",
     "shell.execute_reply.started": "2023-03-06T14:08:01.725230Z"
    },
    "papermill": {
     "duration": null,
     "end_time": null,
     "exception": null,
     "start_time": null,
     "status": "pending"
    },
    "tags": []
   },
   "outputs": [],
   "source": [
    "from sklearn.preprocessing import LabelEncoder,OrdinalEncoder\n",
    "\n",
    "le = LabelEncoder()\n",
    "data_df['n_Postal Code'] = le.fit_transform(data_df['Postal Code'])\n",
    "data_df['n_Parent Property Id'] = le.fit_transform(data_df['Parent Property Id'])\n",
    "data_df['n_Property Id'] = le.fit_transform(data_df['Property Id'])\n",
    "data_df['n_Tax Lot'] = le.fit_transform(data_df['Tax Lot'])\n",
    "data_df['n_Tax Block'] = le.fit_transform(data_df['Tax Block'])\n",
    "data_df['n_3rd Largest Property Use Type'] = le.fit_transform(data_df['3rd Largest Property Use Type'])\n",
    "data_df['n_2nd Largest Property Use Type'] = le.fit_transform(data_df['2nd Largest Property Use Type'])\n",
    "data_df['n_Primary Property Type - Self Selected'] = le.fit_transform(data_df['Primary Property Type - Self Selected'])\n",
    "\n",
    "#oe = OrdinalEncoder() -- discretize!!\n",
    "data_df['n_Year Built'] = le.fit_transform(data_df['Year Built'])"
   ]
  },
  {
   "cell_type": "code",
   "execution_count": null,
   "id": "d498d9fa",
   "metadata": {
    "execution": {
     "iopub.execute_input": "2023-03-06T14:08:01.842800Z",
     "iopub.status.busy": "2023-03-06T14:08:01.841977Z",
     "iopub.status.idle": "2023-03-06T14:08:01.848656Z",
     "shell.execute_reply": "2023-03-06T14:08:01.847129Z",
     "shell.execute_reply.started": "2023-03-06T14:08:01.842745Z"
    },
    "papermill": {
     "duration": null,
     "end_time": null,
     "exception": null,
     "start_time": null,
     "status": "pending"
    },
    "tags": []
   },
   "outputs": [],
   "source": [
    "# selection = ['Postal Code','Parent Property Id','Property Id','Tax Lot','Tax Block',\n",
    "#         '3rd Largest Property Use Type','2nd Largest Property Use Type',\n",
    "#         'Primary Property Type - Self Selected','Year Built']\n",
    "\n",
    "# data_df = data_df.drop(selection, axis = 1)"
   ]
  },
  {
   "cell_type": "code",
   "execution_count": null,
   "id": "fcc01b23",
   "metadata": {
    "execution": {
     "iopub.execute_input": "2023-03-06T14:08:01.850699Z",
     "iopub.status.busy": "2023-03-06T14:08:01.850217Z",
     "iopub.status.idle": "2023-03-06T14:08:01.866370Z",
     "shell.execute_reply": "2023-03-06T14:08:01.864442Z",
     "shell.execute_reply.started": "2023-03-06T14:08:01.850655Z"
    },
    "papermill": {
     "duration": null,
     "end_time": null,
     "exception": null,
     "start_time": null,
     "status": "pending"
    },
    "tags": []
   },
   "outputs": [],
   "source": [
    "data_df.shape"
   ]
  },
  {
   "cell_type": "code",
   "execution_count": null,
   "id": "a9c3d59e",
   "metadata": {
    "execution": {
     "iopub.execute_input": "2023-03-06T14:08:01.869512Z",
     "iopub.status.busy": "2023-03-06T14:08:01.869023Z",
     "iopub.status.idle": "2023-03-06T14:08:01.901760Z",
     "shell.execute_reply": "2023-03-06T14:08:01.899595Z",
     "shell.execute_reply.started": "2023-03-06T14:08:01.869467Z"
    },
    "papermill": {
     "duration": null,
     "end_time": null,
     "exception": null,
     "start_time": null,
     "status": "pending"
    },
    "tags": []
   },
   "outputs": [],
   "source": [
    "# List of Variables to find correlation coefficients\n",
    "features = ['Primary Property Type - Self Selected',\n",
    "            'Weather Normalized Site EUI (kBtu/ft²)',\n",
    "            'Weather Normalized Site Electricity Intensity (kWh/ft²)',\n",
    "             'Largest Property Use Type - Gross Floor Area (ft²)',\n",
    "            'Natural Gas Use (kBtu)',\n",
    "            'ENERGY STAR Score']\n",
    "\n",
    "subset = data_df[features].dropna()\n",
    "subset = subset[subset['Primary Property Type - Self Selected'].isin(types)]\n",
    "\n",
    "# Rename the columns\n",
    "subset.columns = ['Property Type', 'Site EUI', \n",
    "                  'Electricity Intensity', 'Floor Area',\n",
    "                  'Natural Gas', 'Energy Star Score']\n",
    "\n",
    "# Remove outliers\n",
    "subset = subset[subset['Site EUI'] < 300]"
   ]
  },
  {
   "cell_type": "code",
   "execution_count": null,
   "id": "096784d3",
   "metadata": {
    "execution": {
     "iopub.execute_input": "2023-03-06T14:08:01.903803Z",
     "iopub.status.busy": "2023-03-06T14:08:01.903368Z",
     "iopub.status.idle": "2023-03-06T14:08:01.942209Z",
     "shell.execute_reply": "2023-03-06T14:08:01.940020Z",
     "shell.execute_reply.started": "2023-03-06T14:08:01.903765Z"
    },
    "papermill": {
     "duration": null,
     "end_time": null,
     "exception": null,
     "start_time": null,
     "status": "pending"
    },
    "tags": []
   },
   "outputs": [],
   "source": [
    "# Group by the building type and calculate correlations\n",
    "corrs = pd.DataFrame(subset.groupby('Property Type').corr())\n",
    "corrs = pd.DataFrame(corrs['Energy Star Score'])\n",
    "\n",
    "# Format the dataframe for display\n",
    "corrs = corrs.reset_index()\n",
    "corrs.columns = ['Property Type', 'Variable', 'Correlation with Score']\n",
    "corrs = corrs[corrs['Variable'] != 'Energy Star Score']\n",
    "corrs"
   ]
  },
  {
   "cell_type": "markdown",
   "id": "8e8e914c",
   "metadata": {
    "papermill": {
     "duration": null,
     "end_time": null,
     "exception": null,
     "start_time": null,
     "status": "pending"
    },
    "tags": []
   },
   "source": [
    "This shows the correlation between Energy Star Score and three different measures by building type. For all buildings we see the following relationships: Energy Star Score is strongly negatively correlated with the Electricity Intensity and the Site EUI. The strength of the natural gas correlation depends on the dataset, but natural gas usage tends to be negatively correlated with the Energy Star Score as well. The relationship between floor area and the Energy Star score is weak for all building types."
   ]
  },
  {
   "cell_type": "markdown",
   "id": "f71c1c26",
   "metadata": {
    "papermill": {
     "duration": null,
     "end_time": null,
     "exception": null,
     "start_time": null,
     "status": "pending"
    },
    "tags": []
   },
   "source": [
    "## Remove Linearly dependent Variables"
   ]
  },
  {
   "cell_type": "markdown",
   "id": "be92ffd1",
   "metadata": {
    "papermill": {
     "duration": null,
     "end_time": null,
     "exception": null,
     "start_time": null,
     "status": "pending"
    },
    "tags": []
   },
   "source": [
    "In order to find independent variables which can be used to predict the Energy Star Score, we will want to remove varialbes that are highly collinear. For example, the Site EUI and Source EUI are collinear because they both measure a very similar metric, and including both in the model will not give us independent predictors. One quick way to remove collinear variables is by calculating the correlation coefficient between every column and remove those columns with a correlation greater than a certain threshold."
   ]
  },
  {
   "cell_type": "code",
   "execution_count": null,
   "id": "98c99dfb",
   "metadata": {
    "execution": {
     "iopub.execute_input": "2023-03-06T14:08:01.945753Z",
     "iopub.status.busy": "2023-03-06T14:08:01.945188Z",
     "iopub.status.idle": "2023-03-06T14:08:01.959633Z",
     "shell.execute_reply": "2023-03-06T14:08:01.957927Z",
     "shell.execute_reply.started": "2023-03-06T14:08:01.945699Z"
    },
    "papermill": {
     "duration": null,
     "end_time": null,
     "exception": null,
     "start_time": null,
     "status": "pending"
    },
    "tags": []
   },
   "outputs": [],
   "source": [
    "def corr_df(x, corr_val):\n",
    "    '''\n",
    "    Obj: Drops features that are strongly correlated to other features.\n",
    "          This lowers model complexity, and aids in generalizing the model.\n",
    "    Inputs:\n",
    "          df: features df (x)\n",
    "          corr_val: Columns are dropped relative to the corr_val input (e.g. 0.8)\n",
    "    Output: df that only includes uncorrelated features\n",
    "    '''\n",
    "    # Dont want to remove correlations between Energy Star Score\n",
    "    y = x['ENERGY STAR Score']\n",
    "    x = x.drop(columns = ['ENERGY STAR Score'])\n",
    "    \n",
    "    # Creates Correlation Matrix and Instantiates\n",
    "    corr_matrix = x.corr()\n",
    "    iters = range(len(corr_matrix.columns) - 1)\n",
    "    drop_cols = []\n",
    "\n",
    "    # Iterates through Correlation Matrix Table to find correlated columns\n",
    "    for i in iters:\n",
    "        for j in range(i):\n",
    "            item = corr_matrix.iloc[j:(j+1), (i+1):(i+2)]\n",
    "            col = item.columns\n",
    "            row = item.index\n",
    "            val = abs(item.values)\n",
    "            if val >= corr_val:\n",
    "                # Prints the correlated feature set and the corr val\n",
    "                print(col.values[0], \"|\", row.values[0], \"|\", round(val[0][0], 2))\n",
    "                drop_cols.append(col.values[0])\n",
    "\n",
    "    drops = set(drop_cols)\n",
    "    x = x.drop(columns = drops)\n",
    "    x = x.drop(columns = ['Site EUI (kBtu/ft²)'])\n",
    "    x['ENERGY STAR Score'] = y\n",
    "               \n",
    "    return x"
   ]
  },
  {
   "cell_type": "code",
   "execution_count": null,
   "id": "e1e39025",
   "metadata": {
    "execution": {
     "iopub.execute_input": "2023-03-06T14:08:01.962388Z",
     "iopub.status.busy": "2023-03-06T14:08:01.961269Z",
     "iopub.status.idle": "2023-03-06T14:08:01.977668Z",
     "shell.execute_reply": "2023-03-06T14:08:01.976492Z",
     "shell.execute_reply.started": "2023-03-06T14:08:01.962304Z"
    },
    "papermill": {
     "duration": null,
     "end_time": null,
     "exception": null,
     "start_time": null,
     "status": "pending"
    },
    "tags": []
   },
   "outputs": [],
   "source": [
    "data_df.shape"
   ]
  },
  {
   "cell_type": "code",
   "execution_count": null,
   "id": "0e37abf0",
   "metadata": {
    "execution": {
     "iopub.execute_input": "2023-03-06T14:08:01.979994Z",
     "iopub.status.busy": "2023-03-06T14:08:01.979272Z",
     "iopub.status.idle": "2023-03-06T14:08:02.193109Z",
     "shell.execute_reply": "2023-03-06T14:08:02.191005Z",
     "shell.execute_reply.started": "2023-03-06T14:08:01.979947Z"
    },
    "papermill": {
     "duration": null,
     "end_time": null,
     "exception": null,
     "start_time": null,
     "status": "pending"
    },
    "tags": []
   },
   "outputs": [],
   "source": [
    "new_data = corr_df(data_df, corr_val = 0.99)\n"
   ]
  },
  {
   "cell_type": "code",
   "execution_count": null,
   "id": "61af4391",
   "metadata": {
    "execution": {
     "iopub.execute_input": "2023-03-06T14:08:02.196354Z",
     "iopub.status.busy": "2023-03-06T14:08:02.195794Z",
     "iopub.status.idle": "2023-03-06T14:08:02.207288Z",
     "shell.execute_reply": "2023-03-06T14:08:02.204321Z",
     "shell.execute_reply.started": "2023-03-06T14:08:02.196303Z"
    },
    "papermill": {
     "duration": null,
     "end_time": null,
     "exception": null,
     "start_time": null,
     "status": "pending"
    },
    "tags": []
   },
   "outputs": [],
   "source": [
    "new_data.shape"
   ]
  },
  {
   "cell_type": "code",
   "execution_count": null,
   "id": "0103704b",
   "metadata": {
    "execution": {
     "iopub.execute_input": "2023-03-06T14:08:02.210188Z",
     "iopub.status.busy": "2023-03-06T14:08:02.209544Z",
     "iopub.status.idle": "2023-03-06T14:08:02.223519Z",
     "shell.execute_reply": "2023-03-06T14:08:02.221568Z",
     "shell.execute_reply.started": "2023-03-06T14:08:02.210131Z"
    },
    "papermill": {
     "duration": null,
     "end_time": null,
     "exception": null,
     "start_time": null,
     "status": "pending"
    },
    "tags": []
   },
   "outputs": [],
   "source": [
    "data_df.shape"
   ]
  },
  {
   "cell_type": "code",
   "execution_count": null,
   "id": "478b450a",
   "metadata": {
    "execution": {
     "iopub.execute_input": "2023-03-06T14:08:02.226683Z",
     "iopub.status.busy": "2023-03-06T14:08:02.225674Z",
     "iopub.status.idle": "2023-03-06T14:08:02.249497Z",
     "shell.execute_reply": "2023-03-06T14:08:02.247670Z",
     "shell.execute_reply.started": "2023-03-06T14:08:02.226616Z"
    },
    "papermill": {
     "duration": null,
     "end_time": null,
     "exception": null,
     "start_time": null,
     "status": "pending"
    },
    "tags": []
   },
   "outputs": [],
   "source": [
    "new_data= data_df.copy()"
   ]
  },
  {
   "cell_type": "markdown",
   "id": "e18e9f32",
   "metadata": {
    "papermill": {
     "duration": null,
     "end_time": null,
     "exception": null,
     "start_time": null,
     "status": "pending"
    },
    "tags": []
   },
   "source": [
    "## Add in Log Transformations of Variables"
   ]
  },
  {
   "cell_type": "code",
   "execution_count": null,
   "id": "1bbac981",
   "metadata": {
    "execution": {
     "iopub.execute_input": "2023-03-06T14:08:02.252070Z",
     "iopub.status.busy": "2023-03-06T14:08:02.251611Z",
     "iopub.status.idle": "2023-03-06T14:08:02.379894Z",
     "shell.execute_reply": "2023-03-06T14:08:02.378392Z",
     "shell.execute_reply.started": "2023-03-06T14:08:02.252028Z"
    },
    "papermill": {
     "duration": null,
     "end_time": null,
     "exception": null,
     "start_time": null,
     "status": "pending"
    },
    "tags": []
   },
   "outputs": [],
   "source": [
    "log_data = new_data.copy()\n",
    "\n",
    "for col in new_data.select_dtypes('number').columns:\n",
    "    log_data['log_%s' % col] = np.log10(new_data[col])\n",
    "    \n",
    "log_data = log_data.replace({-np.inf: np.nan})"
   ]
  },
  {
   "cell_type": "code",
   "execution_count": null,
   "id": "83cd1e7b",
   "metadata": {
    "execution": {
     "iopub.execute_input": "2023-03-06T14:08:02.382079Z",
     "iopub.status.busy": "2023-03-06T14:08:02.381673Z",
     "iopub.status.idle": "2023-03-06T14:08:02.429225Z",
     "shell.execute_reply": "2023-03-06T14:08:02.427041Z",
     "shell.execute_reply.started": "2023-03-06T14:08:02.382041Z"
    },
    "papermill": {
     "duration": null,
     "end_time": null,
     "exception": null,
     "start_time": null,
     "status": "pending"
    },
    "tags": []
   },
   "outputs": [],
   "source": [
    "for col in log_data.select_dtypes('number').columns:\n",
    "    if np.any(np.isinf(log_data[col])):\n",
    "        print(col)"
   ]
  },
  {
   "cell_type": "code",
   "execution_count": null,
   "id": "3274d43e",
   "metadata": {
    "execution": {
     "iopub.execute_input": "2023-03-06T14:08:02.431464Z",
     "iopub.status.busy": "2023-03-06T14:08:02.431049Z",
     "iopub.status.idle": "2023-03-06T14:08:02.714616Z",
     "shell.execute_reply": "2023-03-06T14:08:02.713140Z",
     "shell.execute_reply.started": "2023-03-06T14:08:02.431429Z"
    },
    "papermill": {
     "duration": null,
     "end_time": null,
     "exception": null,
     "start_time": null,
     "status": "pending"
    },
    "tags": []
   },
   "outputs": [],
   "source": [
    "log_data.corr()['ENERGY STAR Score'].sort_values()\n"
   ]
  },
  {
   "cell_type": "markdown",
   "id": "57968f51",
   "metadata": {
    "papermill": {
     "duration": null,
     "end_time": null,
     "exception": null,
     "start_time": null,
     "status": "pending"
    },
    "tags": []
   },
   "source": [
    "The log transformed variables have a greater absolute magnitude correlation with the target. This means they might be of use in a linear regression model. We can compare performance with and without these variables."
   ]
  },
  {
   "cell_type": "code",
   "execution_count": null,
   "id": "c48d32b8",
   "metadata": {
    "papermill": {
     "duration": null,
     "end_time": null,
     "exception": null,
     "start_time": null,
     "status": "pending"
    },
    "tags": []
   },
   "outputs": [],
   "source": []
  },
  {
   "cell_type": "code",
   "execution_count": null,
   "id": "9a4201a1",
   "metadata": {
    "execution": {
     "iopub.execute_input": "2023-03-06T14:08:02.717313Z",
     "iopub.status.busy": "2023-03-06T14:08:02.716717Z",
     "iopub.status.idle": "2023-03-06T14:08:02.730285Z",
     "shell.execute_reply": "2023-03-06T14:08:02.728457Z",
     "shell.execute_reply.started": "2023-03-06T14:08:02.717269Z"
    },
    "papermill": {
     "duration": null,
     "end_time": null,
     "exception": null,
     "start_time": null,
     "status": "pending"
    },
    "tags": []
   },
   "outputs": [],
   "source": [
    "def train_test_reg(df):\n",
    "\n",
    "    \n",
    "    X = df.select_dtypes('number')\n",
    "    \n",
    "    X['Largest Property Use Type'] = df['Largest Property Use Type']\n",
    "    X['Metered Areas (Energy)'] = df['Metered Areas (Energy)']\n",
    "    X['DOF Benchmarking Submission Status'] = df['DOF Benchmarking Submission Status']\n",
    "    X['Borough']= df['Borough']\n",
    "    X['Largest Property Use Type']= df['Largest Property Use Type']\n",
    "    \n",
    "    X = pd.get_dummies(X)\n",
    "    \n",
    "    missing_scores = X[X['ENERGY STAR Score'].isnull()]\n",
    "    \n",
    "    X = X.dropna(subset = ['ENERGY STAR Score'])\n",
    "    \n",
    "    y = X['ENERGY STAR Score']\n",
    "    if 'log_ENERGY STAR Score' in list(X.columns):\n",
    "#         X = X.drop(columns=['log_Longitude', 'log_ENERGY STAR Score', 'log_Property Id'])\n",
    "#         missing_scores = missing_scores.drop(columns = ['log_Longitude', 'log_ENERGY STAR Score', 'log_Property Id'])\n",
    "        X = X.drop(columns=['log_Longitude', 'log_ENERGY STAR Score'])\n",
    "        missing_scores = missing_scores.drop(columns = ['log_Longitude', 'log_ENERGY STAR Score'])\n",
    "        \n",
    "#     X = X.drop(columns = ['Property Id', 'ENERGY STAR Score', 'Longitude'])\n",
    "    X = X.drop(columns = [ 'ENERGY STAR Score', 'Longitude'])\n",
    "#     missing_scores = missing_scores.drop(columns = ['Property Id', 'ENERGY STAR Score', 'Longitude'])\n",
    "    missing_scores = missing_scores.drop(columns = ['ENERGY STAR Score', 'Longitude'])\n",
    "    feature_names = list(X.columns)\n",
    "\n",
    "    X_train, X_test, y_train, y_test = train_test_split(X, y, test_size = 0.25)\n",
    "    \n",
    "    imputer = SimpleImputer(missing_values=np.nan, strategy = 'median')\n",
    "    X_train = imputer.fit_transform(X_train)\n",
    "    X_test = imputer.transform(X_test)\n",
    "#     missing_scores = imputer.transform(missing_scores)\n",
    "    \n",
    "    return X_train, X_test, y_train, y_test, missing_scores, feature_names"
   ]
  },
  {
   "cell_type": "code",
   "execution_count": null,
   "id": "d17bf523",
   "metadata": {
    "execution": {
     "iopub.execute_input": "2023-03-06T14:08:02.732422Z",
     "iopub.status.busy": "2023-03-06T14:08:02.731871Z",
     "iopub.status.idle": "2023-03-06T14:08:02.859155Z",
     "shell.execute_reply": "2023-03-06T14:08:02.857447Z",
     "shell.execute_reply.started": "2023-03-06T14:08:02.732360Z"
    },
    "papermill": {
     "duration": null,
     "end_time": null,
     "exception": null,
     "start_time": null,
     "status": "pending"
    },
    "tags": []
   },
   "outputs": [],
   "source": [
    "X_train, X_test, y_train, y_test, missing_scores, feature_names = train_test_reg(new_data)\n"
   ]
  },
  {
   "cell_type": "markdown",
   "id": "fb80da1d",
   "metadata": {
    "papermill": {
     "duration": null,
     "end_time": null,
     "exception": null,
     "start_time": null,
     "status": "pending"
    },
    "tags": []
   },
   "source": [
    "## Regression on Energy Star Scores"
   ]
  },
  {
   "cell_type": "markdown",
   "id": "f58d8fb5",
   "metadata": {
    "papermill": {
     "duration": null,
     "end_time": null,
     "exception": null,
     "start_time": null,
     "status": "pending"
    },
    "tags": []
   },
   "source": [
    "We will evalute our regression predictions using mean absolute error. This is simply the average error in absolute value of our predictions from the actual value and has the advantage of being easily explainable.\n",
    "\n",
    "First we should establish a baseline measure to beat. We can use the average Energy Star Score as a baseline by predicting the mean absolute error if we simply guess the average Energy Star Score in the training date for every observation in the testing data."
   ]
  },
  {
   "cell_type": "code",
   "execution_count": null,
   "id": "45c1c814",
   "metadata": {
    "execution": {
     "iopub.execute_input": "2023-03-06T14:08:02.861246Z",
     "iopub.status.busy": "2023-03-06T14:08:02.860841Z",
     "iopub.status.idle": "2023-03-06T14:08:02.871585Z",
     "shell.execute_reply": "2023-03-06T14:08:02.869666Z",
     "shell.execute_reply.started": "2023-03-06T14:08:02.861204Z"
    },
    "papermill": {
     "duration": null,
     "end_time": null,
     "exception": null,
     "start_time": null,
     "status": "pending"
    },
    "tags": []
   },
   "outputs": [],
   "source": [
    "reg_baseline = np.mean(y_train)\n",
    "reg_mae = np.mean(abs(reg_baseline - y_test))\n",
    "\n",
    "print('Baseline Mean Absolute Error: {:0.4f}.'.format(reg_mae))"
   ]
  },
  {
   "cell_type": "markdown",
   "id": "d715f076",
   "metadata": {
    "papermill": {
     "duration": null,
     "end_time": null,
     "exception": null,
     "start_time": null,
     "status": "pending"
    },
    "tags": []
   },
   "source": [
    "If our model cannot achieve lower than this score, then perhaps a regression approach will not work for this problem. First, let's see if a simple linear regression will work for this problem."
   ]
  },
  {
   "cell_type": "markdown",
   "id": "6988995b",
   "metadata": {
    "papermill": {
     "duration": null,
     "end_time": null,
     "exception": null,
     "start_time": null,
     "status": "pending"
    },
    "tags": []
   },
   "source": [
    "### Linear Regression without Log Transformed Variables\n"
   ]
  },
  {
   "cell_type": "code",
   "execution_count": null,
   "id": "19a446e9",
   "metadata": {
    "execution": {
     "iopub.execute_input": "2023-03-06T14:10:50.955834Z",
     "iopub.status.busy": "2023-03-06T14:10:50.955343Z",
     "iopub.status.idle": "2023-03-06T14:10:50.996907Z",
     "shell.execute_reply": "2023-03-06T14:10:50.994987Z",
     "shell.execute_reply.started": "2023-03-06T14:10:50.955795Z"
    },
    "papermill": {
     "duration": null,
     "end_time": null,
     "exception": null,
     "start_time": null,
     "status": "pending"
    },
    "tags": []
   },
   "outputs": [],
   "source": [
    "lin_reg = LinearRegression()\n",
    "\n",
    "lin_reg.fit(X_train, y_train)\n",
    "\n",
    "lin_reg_pred = lin_reg.predict(X_test)\n",
    "lin_reg_mse = np.mean(abs(lin_reg_pred - y_test))\n",
    "print('Linear Regression Mean Absolute Error: {:0.4f}.'.format(lin_reg_mse))"
   ]
  },
  {
   "cell_type": "markdown",
   "id": "490a1909",
   "metadata": {
    "papermill": {
     "duration": null,
     "end_time": null,
     "exception": null,
     "start_time": null,
     "status": "pending"
    },
    "tags": []
   },
   "source": [
    "### Linear Regression with Log Transformed Variables\n"
   ]
  },
  {
   "cell_type": "code",
   "execution_count": null,
   "id": "7725f9b8",
   "metadata": {
    "execution": {
     "iopub.execute_input": "2023-03-06T14:08:02.928270Z",
     "iopub.status.busy": "2023-03-06T14:08:02.926677Z",
     "iopub.status.idle": "2023-03-06T14:08:03.246554Z",
     "shell.execute_reply": "2023-03-06T14:08:03.245071Z",
     "shell.execute_reply.started": "2023-03-06T14:08:02.928175Z"
    },
    "papermill": {
     "duration": null,
     "end_time": null,
     "exception": null,
     "start_time": null,
     "status": "pending"
    },
    "tags": []
   },
   "outputs": [],
   "source": [
    "X_train, X_test, y_train, y_test, missing_scores, feature_names = train_test_reg(log_data)\n",
    "\n",
    "lin_reg.fit(X_train, y_train)\n",
    "\n",
    "lin_reg_pred = lin_reg.predict(X_test)\n",
    "lin_reg_mse = np.mean(abs(lin_reg_pred - y_test))\n",
    "print('Linear Regression Mean Absolute Error: {:0.4f}.'.format(lin_reg_mse))"
   ]
  },
  {
   "cell_type": "markdown",
   "id": "cd698653",
   "metadata": {
    "papermill": {
     "duration": null,
     "end_time": null,
     "exception": null,
     "start_time": null,
     "status": "pending"
    },
    "tags": []
   },
   "source": [
    "The linear regression does not perform much better than the baseline although the log transformed features do reduce the error. Even though this is better than the baseline, let's implement a random forest regression and check the error."
   ]
  },
  {
   "cell_type": "markdown",
   "id": "b1777dd5",
   "metadata": {
    "papermill": {
     "duration": null,
     "end_time": null,
     "exception": null,
     "start_time": null,
     "status": "pending"
    },
    "tags": []
   },
   "source": [
    "### Random Forest with Log Transformed Variables\n"
   ]
  },
  {
   "cell_type": "code",
   "execution_count": null,
   "id": "ae2e6c59",
   "metadata": {
    "execution": {
     "iopub.execute_input": "2023-03-06T14:08:03.249661Z",
     "iopub.status.busy": "2023-03-06T14:08:03.248722Z",
     "iopub.status.idle": "2023-03-06T14:09:14.757525Z",
     "shell.execute_reply": "2023-03-06T14:09:14.755244Z",
     "shell.execute_reply.started": "2023-03-06T14:08:03.249550Z"
    },
    "papermill": {
     "duration": null,
     "end_time": null,
     "exception": null,
     "start_time": null,
     "status": "pending"
    },
    "tags": []
   },
   "outputs": [],
   "source": [
    "rf_reg = RandomForestRegressor(n_estimators=200)\n",
    "rf_reg.fit(X_train, y_train)\n",
    "\n",
    "rf_reg_pred = rf_reg.predict(X_test)\n",
    "\n",
    "rf_reg_mse = np.mean(abs(rf_reg_pred - y_test))\n",
    "print('Random Forest Regresion Mean Absolute Error: {:0.4f}.'.format(rf_reg_mse))"
   ]
  },
  {
   "cell_type": "markdown",
   "id": "1026741b",
   "metadata": {
    "papermill": {
     "duration": null,
     "end_time": null,
     "exception": null,
     "start_time": null,
     "status": "pending"
    },
    "tags": []
   },
   "source": [
    "### Random Forest without Log Transformed Variables\n"
   ]
  },
  {
   "cell_type": "code",
   "execution_count": null,
   "id": "03fce9fd",
   "metadata": {
    "execution": {
     "iopub.execute_input": "2023-03-06T14:09:14.759881Z",
     "iopub.status.busy": "2023-03-06T14:09:14.759476Z",
     "iopub.status.idle": "2023-03-06T14:09:14.896158Z",
     "shell.execute_reply": "2023-03-06T14:09:14.894189Z",
     "shell.execute_reply.started": "2023-03-06T14:09:14.759847Z"
    },
    "papermill": {
     "duration": null,
     "end_time": null,
     "exception": null,
     "start_time": null,
     "status": "pending"
    },
    "tags": []
   },
   "outputs": [],
   "source": [
    "X_train, X_test, y_train, y_test, missing_scores, feature_names = train_test_reg(new_data)\n"
   ]
  },
  {
   "cell_type": "code",
   "execution_count": null,
   "id": "37d8ca80",
   "metadata": {
    "execution": {
     "iopub.execute_input": "2023-03-06T14:09:14.901891Z",
     "iopub.status.busy": "2023-03-06T14:09:14.898392Z",
     "iopub.status.idle": "2023-03-06T14:09:52.025527Z",
     "shell.execute_reply": "2023-03-06T14:09:52.023554Z",
     "shell.execute_reply.started": "2023-03-06T14:09:14.901820Z"
    },
    "papermill": {
     "duration": null,
     "end_time": null,
     "exception": null,
     "start_time": null,
     "status": "pending"
    },
    "tags": []
   },
   "outputs": [],
   "source": [
    "rf_reg = RandomForestRegressor(n_estimators=200)\n",
    "rf_reg.fit(X_train, y_train)\n",
    "\n",
    "rf_reg_pred = rf_reg.predict(X_test)\n",
    "\n",
    "rf_reg_mse = np.mean(abs(rf_reg_pred - y_test))\n",
    "print('Random Forest Regresion Mean Absolute Error: {:0.4f}.'.format(rf_reg_mse))"
   ]
  },
  {
   "cell_type": "markdown",
   "id": "b5425ac6",
   "metadata": {
    "papermill": {
     "duration": null,
     "end_time": null,
     "exception": null,
     "start_time": null,
     "status": "pending"
    },
    "tags": []
   },
   "source": [
    "These scores are much better and indicate that machine learning may indeed be appropriate for this problem. However, what we gain in accuracy with a more complex model, we lose in interpretability. The random forest predictions are much harder to explain than those from a linear regression. We will use the non-log transformed variables to reduce the number of features in our model."
   ]
  },
  {
   "cell_type": "code",
   "execution_count": null,
   "id": "ed7dbaa7",
   "metadata": {
    "execution": {
     "iopub.execute_input": "2023-03-06T14:09:52.027482Z",
     "iopub.status.busy": "2023-03-06T14:09:52.027079Z",
     "iopub.status.idle": "2023-03-06T14:09:52.040207Z",
     "shell.execute_reply": "2023-03-06T14:09:52.038274Z",
     "shell.execute_reply.started": "2023-03-06T14:09:52.027447Z"
    },
    "papermill": {
     "duration": null,
     "end_time": null,
     "exception": null,
     "start_time": null,
     "status": "pending"
    },
    "tags": []
   },
   "outputs": [],
   "source": [
    "len(feature_names)"
   ]
  },
  {
   "cell_type": "markdown",
   "id": "ad669bc6",
   "metadata": {
    "papermill": {
     "duration": null,
     "end_time": null,
     "exception": null,
     "start_time": null,
     "status": "pending"
    },
    "tags": []
   },
   "source": [
    "### Boosting model without Log Transformed Variables\n"
   ]
  },
  {
   "cell_type": "code",
   "execution_count": null,
   "id": "5118b2e9",
   "metadata": {
    "execution": {
     "iopub.execute_input": "2023-03-06T14:09:52.044825Z",
     "iopub.status.busy": "2023-03-06T14:09:52.044007Z",
     "iopub.status.idle": "2023-03-06T14:10:50.341712Z",
     "shell.execute_reply": "2023-03-06T14:10:50.339517Z",
     "shell.execute_reply.started": "2023-03-06T14:09:52.044712Z"
    },
    "papermill": {
     "duration": null,
     "end_time": null,
     "exception": null,
     "start_time": null,
     "status": "pending"
    },
    "tags": []
   },
   "outputs": [],
   "source": [
    "from sklearn.ensemble import GradientBoostingRegressor\n",
    "from sklearn.metrics import mean_absolute_error\n",
    "\n",
    "\n",
    "gradient_boosted=GradientBoostingRegressor(loss='absolute_error', max_depth=5,  \n",
    "                          max_features=None,\n",
    "                          min_samples_leaf=6,\n",
    "                          min_samples_split=6,\n",
    "                          n_estimators=500)\n",
    "\n",
    "gradient_boosted.fit(X_train, y_train)\n",
    "predictions = gradient_boosted.predict(X_test)\n",
    "mae = mean_absolute_error(y_test, predictions)\n",
    "\n",
    "print('Gradient Boosted Performance on the test set: MAE = %0.4f' % mae)"
   ]
  },
  {
   "cell_type": "code",
   "execution_count": null,
   "id": "9047c48b",
   "metadata": {
    "execution": {
     "iopub.execute_input": "2023-03-06T14:15:36.563573Z",
     "iopub.status.busy": "2023-03-06T14:15:36.563091Z",
     "iopub.status.idle": "2023-03-06T14:15:36.573509Z",
     "shell.execute_reply": "2023-03-06T14:15:36.571591Z",
     "shell.execute_reply.started": "2023-03-06T14:15:36.563534Z"
    },
    "papermill": {
     "duration": null,
     "end_time": null,
     "exception": null,
     "start_time": null,
     "status": "pending"
    },
    "tags": []
   },
   "outputs": [],
   "source": [
    "def interpret_features(feature_list, importances):\n",
    "    feature_df = pd.DataFrame({'feature': feature_list, 'importance': importances}).sort_values('importance', ascending = False)\n",
    "    figsize(8, 8)\n",
    "    plt.bar(feature_df[feature_df['importance'] > 0.001]['feature'], feature_df[feature_df['importance'] > 0.001]['importance'])\n",
    "    plt.xticks(rotation = 90)\n",
    "    plt.xlabel('feature'); plt.ylabel('importance'); plt.title('Top Feature Importances')\n",
    "    plt.show();\n",
    "    \n",
    "    return feature_df"
   ]
  },
  {
   "cell_type": "code",
   "execution_count": null,
   "id": "a3e59da2",
   "metadata": {
    "execution": {
     "iopub.execute_input": "2023-03-06T14:15:40.053256Z",
     "iopub.status.busy": "2023-03-06T14:15:40.052821Z",
     "iopub.status.idle": "2023-03-06T14:15:40.920529Z",
     "shell.execute_reply": "2023-03-06T14:15:40.919365Z",
     "shell.execute_reply.started": "2023-03-06T14:15:40.053221Z"
    },
    "papermill": {
     "duration": null,
     "end_time": null,
     "exception": null,
     "start_time": null,
     "status": "pending"
    },
    "tags": []
   },
   "outputs": [],
   "source": [
    "feature_df = interpret_features(feature_names, rf_reg.feature_importances_)\n"
   ]
  },
  {
   "cell_type": "code",
   "execution_count": null,
   "id": "ef6fb43b",
   "metadata": {
    "execution": {
     "iopub.execute_input": "2023-03-06T14:15:59.590132Z",
     "iopub.status.busy": "2023-03-06T14:15:59.589717Z",
     "iopub.status.idle": "2023-03-06T14:16:00.415598Z",
     "shell.execute_reply": "2023-03-06T14:16:00.414516Z",
     "shell.execute_reply.started": "2023-03-06T14:15:59.590096Z"
    },
    "papermill": {
     "duration": null,
     "end_time": null,
     "exception": null,
     "start_time": null,
     "status": "pending"
    },
    "tags": []
   },
   "outputs": [],
   "source": [
    "feature_df = interpret_features(feature_names, gradient_boosted.feature_importances_)\n"
   ]
  },
  {
   "cell_type": "code",
   "execution_count": null,
   "id": "1b1aae85",
   "metadata": {
    "execution": {
     "iopub.execute_input": "2023-03-06T14:10:50.931493Z",
     "iopub.status.busy": "2023-03-06T14:10:50.930989Z",
     "iopub.status.idle": "2023-03-06T14:10:50.948688Z",
     "shell.execute_reply": "2023-03-06T14:10:50.947110Z",
     "shell.execute_reply.started": "2023-03-06T14:10:50.931452Z"
    },
    "papermill": {
     "duration": null,
     "end_time": null,
     "exception": null,
     "start_time": null,
     "status": "pending"
    },
    "tags": []
   },
   "outputs": [],
   "source": [
    "feature_df.head(10)\n"
   ]
  },
  {
   "cell_type": "markdown",
   "id": "e12d2a5a",
   "metadata": {
    "papermill": {
     "duration": null,
     "end_time": null,
     "exception": null,
     "start_time": null,
     "status": "pending"
    },
    "tags": []
   },
   "source": [
    "According to the random forest and boosting model, the most importance features for predicting the Energy Star Score of a building are the Site EUI, the Water Intensity, Largest Property Use Type_Office, the Water Use Use. These are in line with the variables that we saw are the most correlated with the Energy Star Score."
   ]
  },
  {
   "cell_type": "markdown",
   "id": "a24af545",
   "metadata": {
    "papermill": {
     "duration": null,
     "end_time": null,
     "exception": null,
     "start_time": null,
     "status": "pending"
    },
    "tags": []
   },
   "source": [
    "## Conclusions"
   ]
  },
  {
   "cell_type": "markdown",
   "id": "0cd8ab87",
   "metadata": {
    "papermill": {
     "duration": null,
     "end_time": null,
     "exception": null,
     "start_time": null,
     "status": "pending"
    },
    "tags": []
   },
   "source": [
    "* The Site Energy Use Intensity, the Water/Electricity Intensity, the Water Use/natural gas use, and the Building Type are the most useful measures for determining the energy star score.\n",
    "* Energy Star Scores are skewed high with a disproportionate global maximum at 100 and a secondary maximum at 1.\n",
    "* Offices, residence halls, and non-refrigerated warehouses have higher energy star scores than senior care communities and hotels with scores of multi-family housing falling in between.\n",
    "* The Site Energy Use Intensity, the Electricity Intensity, and the natural gas usage are all negatively correlated with the Energy Star Score.\n",
    "* Random forest and Gradient Boosted regressors trained on the training data was able to achieve best average absolute error of between 8 to 9 percent on test set, which is significantly better than the baseline measure.\n",
    "* 'Site EUI (kBtu/ft²)'=('Fuel Oil #1 Use (kBtu)'+'Fuel Oil #2 Use (kBtu)'+'Fuel Oil #4 Use (kBtu)'+ 'Fuel Oil #5 & 6 Use (kBtu)'+'Diesel #2 Use (kBtu)'+'Natural Gas Use (kBtu)'+ 'District Steam Use (kBtu)'+'Electricity Use - Grid Purchase (kBtu)')/ GFA"
   ]
  },
  {
   "cell_type": "code",
   "execution_count": null,
   "id": "0de95c15",
   "metadata": {
    "papermill": {
     "duration": null,
     "end_time": null,
     "exception": null,
     "start_time": null,
     "status": "pending"
    },
    "tags": []
   },
   "outputs": [],
   "source": []
  },
  {
   "cell_type": "code",
   "execution_count": null,
   "id": "92b3b37d",
   "metadata": {
    "papermill": {
     "duration": null,
     "end_time": null,
     "exception": null,
     "start_time": null,
     "status": "pending"
    },
    "tags": []
   },
   "outputs": [],
   "source": [
    "## Hyper parameter fine-tuning"
   ]
  },
  {
   "cell_type": "code",
   "execution_count": null,
   "id": "b085478d",
   "metadata": {
    "execution": {
     "iopub.execute_input": "2023-03-06T13:41:52.798385Z",
     "iopub.status.busy": "2023-03-06T13:41:52.797948Z",
     "iopub.status.idle": "2023-03-06T13:43:06.257165Z",
     "shell.execute_reply": "2023-03-06T13:43:06.255532Z",
     "shell.execute_reply.started": "2023-03-06T13:41:52.798346Z"
    },
    "papermill": {
     "duration": null,
     "end_time": null,
     "exception": null,
     "start_time": null,
     "status": "pending"
    },
    "tags": []
   },
   "outputs": [],
   "source": [
    "# hyperparameters\n",
    "# Number of trees used in the boosting process\n",
    "from sklearn.model_selection import RandomizedSearchCV\n",
    "n_estimators = [100, 200, 400 ]\n",
    "# Maximum depth of each tree\n",
    "max_depth = [2, 4, 5, 8]\n",
    "# Minimum number of samples per leaf\n",
    "min_samples_leaf = [1, 2, 4, 6, 8]\n",
    "# Minimum number of samples to split a node\n",
    "min_samples_split = [2, 4, 6, 8, 10]\n",
    "# Maximum number of features to consider for making splits\n",
    "max_features = ['auto', 'sqrt', 'log2', None]\n",
    "# Define the grid of hyperparameters to search\n",
    "hyperparameter_grid = {'n_estimators': n_estimators,\n",
    "                       'max_depth': max_depth,\n",
    "                       'min_samples_leaf': min_samples_leaf,\n",
    "                       'min_samples_split': min_samples_split,\n",
    "                       'max_features': max_features}\n",
    "# Create the model to use for hyperparameter tuning\n",
    "model = GradientBoostingRegressor(random_state = 42)\n",
    "# Set up the random search with 2-fold cross validation\n",
    "random_cv = RandomizedSearchCV(estimator=model,\n",
    "                               param_distributions=hyperparameter_grid,\n",
    "                               cv=2, n_iter=10,\n",
    "                               scoring = 'neg_mean_absolute_error',\n",
    "                               n_jobs = -1, verbose = 1,\n",
    "                               return_train_score = True,\n",
    "                               random_state=42)\n",
    "# Fit on the training data\n",
    "random_cv.fit(X_train, y_train)"
   ]
  },
  {
   "cell_type": "code",
   "execution_count": null,
   "id": "1ac41dbc",
   "metadata": {
    "execution": {
     "iopub.execute_input": "2023-03-06T13:45:58.110986Z",
     "iopub.status.busy": "2023-03-06T13:45:58.110124Z",
     "iopub.status.idle": "2023-03-06T13:45:58.120461Z",
     "shell.execute_reply": "2023-03-06T13:45:58.118728Z",
     "shell.execute_reply.started": "2023-03-06T13:45:58.110942Z"
    },
    "papermill": {
     "duration": null,
     "end_time": null,
     "exception": null,
     "start_time": null,
     "status": "pending"
    },
    "tags": []
   },
   "outputs": [],
   "source": [
    "random_cv.best_params_"
   ]
  },
  {
   "cell_type": "code",
   "execution_count": null,
   "id": "eec63e4c",
   "metadata": {
    "execution": {
     "iopub.execute_input": "2023-03-06T13:46:51.332470Z",
     "iopub.status.busy": "2023-03-06T13:46:51.331978Z",
     "iopub.status.idle": "2023-03-06T13:46:51.342474Z",
     "shell.execute_reply": "2023-03-06T13:46:51.340661Z",
     "shell.execute_reply.started": "2023-03-06T13:46:51.332426Z"
    },
    "papermill": {
     "duration": null,
     "end_time": null,
     "exception": null,
     "start_time": null,
     "status": "pending"
    },
    "tags": []
   },
   "outputs": [],
   "source": []
  },
  {
   "cell_type": "code",
   "execution_count": null,
   "id": "8781a4c3",
   "metadata": {
    "papermill": {
     "duration": null,
     "end_time": null,
     "exception": null,
     "start_time": null,
     "status": "pending"
    },
    "tags": []
   },
   "outputs": [],
   "source": []
  },
  {
   "cell_type": "code",
   "execution_count": null,
   "id": "8b97bb55",
   "metadata": {
    "execution": {
     "iopub.execute_input": "2023-03-06T11:34:45.807545Z",
     "iopub.status.busy": "2023-03-06T11:34:45.807098Z",
     "iopub.status.idle": "2023-03-06T11:34:45.816704Z",
     "shell.execute_reply": "2023-03-06T11:34:45.815326Z",
     "shell.execute_reply.started": "2023-03-06T11:34:45.807506Z"
    },
    "papermill": {
     "duration": null,
     "end_time": null,
     "exception": null,
     "start_time": null,
     "status": "pending"
    },
    "tags": []
   },
   "outputs": [],
   "source": [
    "feature_names"
   ]
  },
  {
   "cell_type": "code",
   "execution_count": null,
   "id": "777ae397",
   "metadata": {
    "papermill": {
     "duration": null,
     "end_time": null,
     "exception": null,
     "start_time": null,
     "status": "pending"
    },
    "tags": []
   },
   "outputs": [],
   "source": []
  },
  {
   "cell_type": "code",
   "execution_count": null,
   "id": "fede049a",
   "metadata": {
    "papermill": {
     "duration": null,
     "end_time": null,
     "exception": null,
     "start_time": null,
     "status": "pending"
    },
    "tags": []
   },
   "outputs": [],
   "source": []
  },
  {
   "cell_type": "code",
   "execution_count": null,
   "id": "0e1bd63e",
   "metadata": {
    "papermill": {
     "duration": null,
     "end_time": null,
     "exception": null,
     "start_time": null,
     "status": "pending"
    },
    "tags": []
   },
   "outputs": [],
   "source": []
  },
  {
   "cell_type": "code",
   "execution_count": null,
   "id": "6afad139",
   "metadata": {
    "papermill": {
     "duration": null,
     "end_time": null,
     "exception": null,
     "start_time": null,
     "status": "pending"
    },
    "tags": []
   },
   "outputs": [],
   "source": []
  },
  {
   "cell_type": "code",
   "execution_count": null,
   "id": "a7233f69",
   "metadata": {
    "papermill": {
     "duration": null,
     "end_time": null,
     "exception": null,
     "start_time": null,
     "status": "pending"
    },
    "tags": []
   },
   "outputs": [],
   "source": []
  }
 ],
 "metadata": {
  "kernelspec": {
   "display_name": "Python 3",
   "language": "python",
   "name": "python3"
  },
  "language_info": {
   "codemirror_mode": {
    "name": "ipython",
    "version": 3
   },
   "file_extension": ".py",
   "mimetype": "text/x-python",
   "name": "python",
   "nbconvert_exporter": "python",
   "pygments_lexer": "ipython3",
   "version": "3.7.12"
  },
  "papermill": {
   "default_parameters": {},
   "duration": 11.968788,
   "end_time": "2023-03-06T14:36:03.503492",
   "environment_variables": {},
   "exception": true,
   "input_path": "__notebook__.ipynb",
   "output_path": "__notebook__.ipynb",
   "parameters": {},
   "start_time": "2023-03-06T14:35:51.534704",
   "version": "2.4.0"
  }
 },
 "nbformat": 4,
 "nbformat_minor": 5
}
